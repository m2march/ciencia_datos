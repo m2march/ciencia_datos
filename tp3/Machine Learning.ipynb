{
 "cells": [
  {
   "cell_type": "markdown",
   "metadata": {},
   "source": [
    "# TP3: Machine Learning"
   ]
  },
  {
   "cell_type": "code",
   "execution_count": 2,
   "metadata": {},
   "outputs": [
    {
     "name": "stdout",
     "output_type": "stream",
     "text": [
      "Using matplotlib backend: Qt5Agg\n",
      "Populating the interactive namespace from numpy and matplotlib\n"
     ]
    }
   ],
   "source": [
    "%pylab\n",
    "%matplotlib inline"
   ]
  },
  {
   "cell_type": "code",
   "execution_count": 7,
   "metadata": {
    "collapsed": true
   },
   "outputs": [],
   "source": [
    "import pickle"
   ]
  },
  {
   "cell_type": "markdown",
   "metadata": {},
   "source": [
    "## Análisis Univariado"
   ]
  },
  {
   "cell_type": "code",
   "execution_count": 102,
   "metadata": {},
   "outputs": [],
   "source": [
    "def roc_univariado(valores, etiquetas, etiqueta_true):\n",
    "    \"\"\"\n",
    "    Args:\n",
    "        valores valores del feature de interes\n",
    "        etiquetas etiquetas para cada valor\n",
    "        etiqueta_true etiqueta a la que corresponde cuando el valore es mayor al umbral\n",
    "        \n",
    "    Returns:\n",
    "        umbrales\n",
    "        tprs\n",
    "        fprs\n",
    "    \"\"\"\n",
    "    m = min(valores)\n",
    "    M = max(valores)\n",
    "    n = 100\n",
    "    xs = np.linspace(m, M, n)\n",
    "    tprs = []\n",
    "    fprs = []\n",
    "    for idx in range(n):\n",
    "        ts = np.array((valores > xs[idx]).values)\n",
    "        \n",
    "        tp = np.sum(etiquetas[ts] == etiqueta_true)\n",
    "        fp = np.sum(etiquetas[ts] != etiqueta_true)\n",
    "        tn = np.sum(etiquetas[np.invert(ts)] != etiqueta_true)\n",
    "        fn = np.sum(etiquetas[np.invert(ts)] == etiqueta_true)\n",
    "        \n",
    "        tpr = tp / (tp + fn)\n",
    "        fpr = fp / (fp + tn)\n",
    "        \n",
    "        tprs.append(tpr)\n",
    "        fprs.append(fpr)\n",
    "        \n",
    "    tprs = np.array(tprs)\n",
    "    fprs = np.array(fprs)\n",
    "\n",
    "    bases = (tprs[1:] - tprs[:-1])\n",
    "    print(tprs[1:], tprs[:-1])\n",
    "    aroc = np.sum(fprs[:-1] * bases)\n",
    "        \n",
    "    return (xs, tprs, fprs, aroc)"
   ]
  },
  {
   "cell_type": "markdown",
   "metadata": {},
   "source": [
    "### Alpha"
   ]
  },
  {
   "cell_type": "code",
   "execution_count": 19,
   "metadata": {},
   "outputs": [],
   "source": [
    "with open('pickles/band_power_mean.pkl', 'rb') as f:\n",
    "    band_means = pickle.load(f)"
   ]
  },
  {
   "cell_type": "code",
   "execution_count": 30,
   "metadata": {},
   "outputs": [],
   "source": [
    "etiquetas = np.array(['P'] * 10 + ['S'] * 10)"
   ]
  },
  {
   "cell_type": "code",
   "execution_count": 103,
   "metadata": {},
   "outputs": [
    {
     "name": "stdout",
     "output_type": "stream",
     "text": [
      "[ 1.   1.   1.   1.   1.   1.   1.   1.   1.   1.   1.   1.   0.9  0.9  0.8\n",
      "  0.8  0.8  0.8  0.8  0.8  0.8  0.8  0.8  0.8  0.7  0.7  0.7  0.7  0.7  0.7\n",
      "  0.7  0.7  0.7  0.7  0.7  0.7  0.7  0.7  0.6  0.6  0.5  0.5  0.5  0.5  0.5\n",
      "  0.5  0.5  0.5  0.5  0.5  0.5  0.5  0.5  0.5  0.5  0.5  0.4  0.3  0.3  0.3\n",
      "  0.3  0.3  0.3  0.3  0.3  0.3  0.3  0.3  0.3  0.3  0.3  0.3  0.3  0.3  0.3\n",
      "  0.3  0.3  0.3  0.3  0.3  0.3  0.3  0.3  0.3  0.3  0.3  0.3  0.3  0.3  0.3\n",
      "  0.3  0.3  0.2  0.2  0.2  0.2  0.2  0.2  0. ] [ 1.   1.   1.   1.   1.   1.   1.   1.   1.   1.   1.   1.   1.   0.9  0.9\n",
      "  0.8  0.8  0.8  0.8  0.8  0.8  0.8  0.8  0.8  0.8  0.7  0.7  0.7  0.7  0.7\n",
      "  0.7  0.7  0.7  0.7  0.7  0.7  0.7  0.7  0.7  0.6  0.6  0.5  0.5  0.5  0.5\n",
      "  0.5  0.5  0.5  0.5  0.5  0.5  0.5  0.5  0.5  0.5  0.5  0.5  0.4  0.3  0.3\n",
      "  0.3  0.3  0.3  0.3  0.3  0.3  0.3  0.3  0.3  0.3  0.3  0.3  0.3  0.3  0.3\n",
      "  0.3  0.3  0.3  0.3  0.3  0.3  0.3  0.3  0.3  0.3  0.3  0.3  0.3  0.3  0.3\n",
      "  0.3  0.3  0.3  0.2  0.2  0.2  0.2  0.2  0.2]\n"
     ]
    }
   ],
   "source": [
    "xs, tprs, fprs, aroc = roc_univariado(band_means['alpha'], etiquetas, 'S')"
   ]
  },
  {
   "cell_type": "code",
   "execution_count": 99,
   "metadata": {},
   "outputs": [
    {
     "data": {
      "text/plain": [
       "<matplotlib.text.Text at 0x7fa6145432b0>"
      ]
     },
     "execution_count": 99,
     "metadata": {},
     "output_type": "execute_result"
    },
    {
     "data": {
      "image/png": "[encoded data removed]",
      "text/plain": [
       "<matplotlib.figure.Figure at 0x7fa6142abf60>"
      ]
     },
     "metadata": {},
     "output_type": "display_data"
    }
   ],
   "source": [
    "plot(fprs, tprs)\n",
    "xlabel('True Positive Rate')\n",
    "ylabel('False Positive Rate')\n",
    "title('Curva ROC (area = {:.2f})'.format(aroc))"
   ]
  },
  {
   "cell_type": "code",
   "execution_count": null,
   "metadata": {
    "collapsed": true
   },
   "outputs": [],
   "source": []
  }
 ],
 "metadata": {
  "anaconda-cloud": {},
  "kernelspec": {
   "display_name": "Python [conda env:py3]",
   "language": "python",
   "name": "conda-env-py3-py"
  },
  "language_info": {
   "codemirror_mode": {
    "name": "ipython",
    "version": 3
   },
   "file_extension": ".py",
   "mimetype": "text/x-python",
   "name": "python",
   "nbconvert_exporter": "python",
   "pygments_lexer": "ipython3",
   "version": "3.5.2"
  }
 },
 "nbformat": 4,
 "nbformat_minor": 2
}

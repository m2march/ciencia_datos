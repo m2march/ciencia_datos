{
 "cells": [
  {
   "cell_type": "markdown",
   "metadata": {},
   "source": [
    "# Trabajo Práctico 6: Procesamiento de Lenguaje Natural"
   ]
  },
  {
   "cell_type": "markdown",
   "metadata": {},
   "source": [
    "<p style=\"text-align: justify;\">\n",
    "En el marco de la materia optativa *Ciencia de Datos* estudiamos las técnicas de *Natural Language Processing*. En la [página web de la materia](http://www.dc.uba.ar/materias/cienciadatos) se encuentran disponibles las [referencias teóricas](http://www.dc.uba.ar/materias/cienciadatos/teoricas/Intro%20a%20NLP.pdf/view) y la [guía](http://www.dc.uba.ar/materias/cienciadatos/tps/tp6/tp-texto.pdf/view) para el desarrollo de los análisis correspondientes. Como bibliografía adicional para todo el trabajo se utilizó el [libro de Jurafsky & Martin](https://web.stanford.edu/~jurafsky/slp3/).\n",
    "</p> "
   ]
  },
  {
   "cell_type": "markdown",
   "metadata": {},
   "source": [
    "## Tabla de Contenidos \n",
    "\n",
    "<!-- MarkdownTOC autolink=true autoanchor=true bracket=round -->\n",
    "\n",
    "- [1. Asociación de palabras](#asociacion)\n",
    "    - [1.1. Corpus](#1.1)\n",
    "    - [1.2. Vocabulario](#1.2)\n",
    "    - [1.3. Métricas](#1.3)\n",
    "- [2. Información léxica](#lexica)\n",
    "    - [2.1. Tokenización](#2.1)\n",
    "    - [2.2. Autocorrelación](#2.2)\n",
    "    - [2.3. Entropía](#2.3)\n",
    "    - [2.4. Randomización](#2.4)\n",
    "- [3. Word embeddings, distancia semántica y Word-Net](#embeddings)\n",
    "<!-- /MarkdownTOC -->"
   ]
  },
  {
   "cell_type": "markdown",
   "metadata": {},
   "source": [
    "<a name=\"asociacion\"></a>\n",
    "## 1. Asociación de palabras"
   ]
  },
  {
   "cell_type": "markdown",
   "metadata": {},
   "source": [
    "Para el análisis de asociación de palabras se utilizaron [datos](http://www.dc.uba.ar/materias/cienciadatos/tps/tp6/ap.tgz/view) de corpus de noticias de la agencia Associated Press de Estados Unidos, a los cuales se aplicaron métricas descriptas en [Church & Hanks 1990](https://dl.acm.org/citation.cfm?id=89095)."
   ]
  },
  {
   "cell_type": "code",
   "execution_count": 1,
   "metadata": {},
   "outputs": [
    {
     "name": "stdout",
     "output_type": "stream",
     "text": [
      "Using matplotlib backend: Qt5Agg\n",
      "Populating the interactive namespace from numpy and matplotlib\n"
     ]
    }
   ],
   "source": [
    "%pylab\n",
    "%matplotlib inline"
   ]
  },
  {
   "cell_type": "code",
   "execution_count": 2,
   "metadata": {},
   "outputs": [
    {
     "name": "stderr",
     "output_type": "stream",
     "text": [
      "C:\\ProgramData\\Anaconda3\\lib\\site-packages\\gensim\\utils.py:860: UserWarning: detected Windows; aliasing chunkize to chunkize_serial\n",
      "  warnings.warn(\"detected Windows; aliasing chunkize to chunkize_serial\")\n"
     ]
    }
   ],
   "source": [
    "import numpy as np\n",
    "import scipy as sp\n",
    "import nltk\n",
    "import string\n",
    "import itertools\n",
    "import os\n",
    "import pickle\n",
    "import itertools\n",
    "import gensim\n",
    "from collections import Counter, OrderedDict, defaultdict"
   ]
  },
  {
   "cell_type": "code",
   "execution_count": 3,
   "metadata": {},
   "outputs": [
    {
     "name": "stdout",
     "output_type": "stream",
     "text": [
      "[nltk_data] Downloading package wordnet to\n",
      "[nltk_data]     C:\\Users\\HB\\AppData\\Roaming\\nltk_data...\n",
      "[nltk_data]   Package wordnet is already up-to-date!\n",
      "[nltk_data] Downloading package punkt to\n",
      "[nltk_data]     C:\\Users\\HB\\AppData\\Roaming\\nltk_data...\n",
      "[nltk_data]   Package punkt is already up-to-date!\n"
     ]
    },
    {
     "data": {
      "text/plain": [
       "True"
      ]
     },
     "execution_count": 3,
     "metadata": {},
     "output_type": "execute_result"
    }
   ],
   "source": [
    "nltk.download('wordnet')\n",
    "nltk.download('punkt')"
   ]
  },
  {
   "cell_type": "markdown",
   "metadata": {},
   "source": [
    "<a name=\"1.1\"></a>\n",
    "### 1.1. Corpus"
   ]
  },
  {
   "cell_type": "markdown",
   "metadata": {},
   "source": [
    "Comenzamos exportando los datos del archivo .tgz"
   ]
  },
  {
   "cell_type": "code",
   "execution_count": 4,
   "metadata": {
    "collapsed": true
   },
   "outputs": [],
   "source": [
    "if not os.path.isdir('ap'):\n",
    "    import tarfile\n",
    "    tar = tarfile.open('ap.tgz')\n",
    "    tar.extractall()"
   ]
  },
  {
   "cell_type": "markdown",
   "metadata": {},
   "source": [
    "Sobre el archivo .txt que contiene los datos de AP en xml aplicamos un parser manual para separar los documentos"
   ]
  },
  {
   "cell_type": "code",
   "execution_count": 5,
   "metadata": {
    "collapsed": true,
    "scrolled": true
   },
   "outputs": [],
   "source": [
    "docno = []\n",
    "corpus = []\n",
    "toggle = 0\n",
    "with open('ap/ap.txt','r') as f:\n",
    "    for line in f:\n",
    "        if line.startswith('<DOCNO>'):\n",
    "            line_new = line.replace('<DOCNO> ','')\n",
    "            line_new = line_new.replace(' </DOCNO>\\n','')\n",
    "            docno.append(line_new)\n",
    "        if toggle:\n",
    "            corpus.append(line)\n",
    "            toggle = 0\n",
    "        if line.startswith('<TEXT>'):\n",
    "            toggle = 1        \n",
    "docs = dict(zip(docno, corpus))        "
   ]
  },
  {
   "cell_type": "markdown",
   "metadata": {},
   "source": [
    "Otra forma sería usar el parser del ElementTree, pero para usarlo correctamente resulta necesario reemplazar todos los caracteres '&' por '&amp;' y agregar un tag que delimite el comienzo y final del archivo"
   ]
  },
  {
   "cell_type": "code",
   "execution_count": 6,
   "metadata": {
    "collapsed": true
   },
   "outputs": [],
   "source": [
    "with open('ap/ap.txt','r') as f, open('ap/ap_cleaned.txt','w') as f_new:\n",
    "    f_new.write('<ROOT>\\n')\n",
    "    for line in f:\n",
    "        new_line = line.replace('&','&amp;')\n",
    "        f_new.write(new_line)\n",
    "    f_new.write('</ROOT>\\n')\n",
    "f_new.close()"
   ]
  },
  {
   "cell_type": "markdown",
   "metadata": {},
   "source": [
    "Ahora aplicamos el ElementTree"
   ]
  },
  {
   "cell_type": "code",
   "execution_count": 7,
   "metadata": {
    "collapsed": true
   },
   "outputs": [],
   "source": [
    "import xml.etree.ElementTree as ET"
   ]
  },
  {
   "cell_type": "code",
   "execution_count": 8,
   "metadata": {},
   "outputs": [
    {
     "data": {
      "text/plain": [
       "<xml.etree.ElementTree.ElementTree at 0x1b9f30fc588>"
      ]
     },
     "execution_count": 8,
     "metadata": {},
     "output_type": "execute_result"
    }
   ],
   "source": [
    "ap = ET.parse('ap/ap_cleaned.txt')\n",
    "ap"
   ]
  },
  {
   "cell_type": "code",
   "execution_count": 9,
   "metadata": {
    "collapsed": true
   },
   "outputs": [],
   "source": [
    "ap_root = ap.getroot()"
   ]
  },
  {
   "cell_type": "code",
   "execution_count": 10,
   "metadata": {
    "collapsed": true
   },
   "outputs": [],
   "source": [
    "ap_dict = dict([\n",
    "        (doc[0].text.strip(), doc[1].text)\n",
    "        for doc in ap_root\n",
    "    ])"
   ]
  },
  {
   "cell_type": "markdown",
   "metadata": {},
   "source": [
    "Y observamos que de las 2 maneras separamos el xml en la misma cantidad de documentos"
   ]
  },
  {
   "cell_type": "code",
   "execution_count": 11,
   "metadata": {},
   "outputs": [
    {
     "data": {
      "text/plain": [
       "2250"
      ]
     },
     "execution_count": 11,
     "metadata": {},
     "output_type": "execute_result"
    }
   ],
   "source": [
    "len(ap_dict)"
   ]
  },
  {
   "cell_type": "code",
   "execution_count": 12,
   "metadata": {},
   "outputs": [
    {
     "data": {
      "text/plain": [
       "2250"
      ]
     },
     "execution_count": 12,
     "metadata": {},
     "output_type": "execute_result"
    }
   ],
   "source": [
    "len(docs)"
   ]
  },
  {
   "cell_type": "markdown",
   "metadata": {},
   "source": [
    "De estas 2 maneras podemos levantar el corpus, separando cada noticia como un elemento distinto\n",
    "en un diccionario $(<DOCNO> : <TEXT>)$."
   ]
  },
  {
   "cell_type": "markdown",
   "metadata": {},
   "source": [
    "<a name=\"1.2\"></a>\n",
    "### 1.2. Vocabulario"
   ]
  },
  {
   "cell_type": "markdown",
   "metadata": {},
   "source": [
    "Tokenizamos y pasamos a minúscula todos los textos."
   ]
  },
  {
   "cell_type": "code",
   "execution_count": 25,
   "metadata": {
    "collapsed": true
   },
   "outputs": [],
   "source": [
    "def tokenize(string):\n",
    "    'Returns list of tokens'\n",
    "    words = string.split(' ')  # [Palabra]\n",
    "    wnl = nltk.WordNetLemmatizer() \n",
    "    lemma_words = [wnl.lemmatize(word) for word in words]  # [Palabra]\n",
    "    retoken = [w.lower() \n",
    "               for lw in lemma_words\n",
    "               for w in nltk.word_tokenize(lw) ]\n",
    "    return retoken"
   ]
  },
  {
   "cell_type": "code",
   "execution_count": 26,
   "metadata": {
    "collapsed": true
   },
   "outputs": [],
   "source": [
    "textos_tokenizados = [\n",
    "    token\n",
    "    for text in ap_dict.values()\n",
    "    for token in tokenize(text)\n",
    "]"
   ]
  },
  {
   "cell_type": "markdown",
   "metadata": {},
   "source": [
    "Calculamos el tamaño del vocabulario"
   ]
  },
  {
   "cell_type": "code",
   "execution_count": 27,
   "metadata": {},
   "outputs": [
    {
     "name": "stdout",
     "output_type": "stream",
     "text": [
      "Tamaño vocabulario: 41824\n"
     ]
    }
   ],
   "source": [
    "print('Tamaño vocabulario: {}'.format(len(set(textos_tokenizados))))"
   ]
  },
  {
   "cell_type": "markdown",
   "metadata": {},
   "source": [
    "Y buscamos los 500 tokens con mas apariciones"
   ]
  },
  {
   "cell_type": "code",
   "execution_count": 28,
   "metadata": {
    "collapsed": true
   },
   "outputs": [],
   "source": [
    "tokens_ordenados = sorted(textos_tokenizados)"
   ]
  },
  {
   "cell_type": "code",
   "execution_count": 29,
   "metadata": {
    "collapsed": true
   },
   "outputs": [],
   "source": [
    "c = Counter(tokens_ordenados)"
   ]
  },
  {
   "cell_type": "code",
   "execution_count": 30,
   "metadata": {},
   "outputs": [
    {
     "data": {
      "text/plain": [
       "[('the', 59843),\n",
       " (',', 51220),\n",
       " ('.', 49818),\n",
       " ('a', 25554),\n",
       " ('of', 25536),\n",
       " ('to', 24054),\n",
       " ('and', 20698),\n",
       " ('in', 20664),\n",
       " ('said', 12852),\n",
       " ('``', 11261),\n",
       " (\"''\", 11089),\n",
       " (\"'s\", 9091),\n",
       " ('that', 8858),\n",
       " ('for', 8824),\n",
       " ('wa', 7360),\n",
       " ('it', 7144),\n",
       " ('on', 7076),\n",
       " ('he', 6594),\n",
       " ('is', 5957),\n",
       " ('with', 5424),\n",
       " ('at', 5154),\n",
       " ('by', 5126),\n",
       " ('from', 4543),\n",
       " ('be', 3858),\n",
       " ('his', 3734),\n",
       " ('an', 3670),\n",
       " ('have', 3647),\n",
       " ('were', 3584),\n",
       " ('but', 3450),\n",
       " ('$', 3441),\n",
       " ('not', 3399),\n",
       " ('ha', 3292),\n",
       " ('are', 3250),\n",
       " ('they', 2978),\n",
       " ('who', 2813),\n",
       " ('had', 2635),\n",
       " ('would', 2634),\n",
       " ('will', 2620),\n",
       " ('i', 2492),\n",
       " ('we', 2455),\n",
       " ('year', 2374),\n",
       " ('about', 2360),\n",
       " ('this', 2185),\n",
       " ('been', 2182),\n",
       " ('their', 2068),\n",
       " ('new', 2009),\n",
       " ('percent', 1942),\n",
       " ('which', 1936),\n",
       " ('or', 1929),\n",
       " ('after', 1920),\n",
       " ('one', 1769),\n",
       " ('more', 1766),\n",
       " ('people', 1732),\n",
       " ('up', 1665),\n",
       " ('also', 1620),\n",
       " ('other', 1618),\n",
       " ('million', 1617),\n",
       " (\"n't\", 1599),\n",
       " ('when', 1583),\n",
       " ('two', 1568),\n",
       " ('president', 1553),\n",
       " ('government', 1538),\n",
       " ('u.s', 1529),\n",
       " ('there', 1511),\n",
       " ('no', 1503),\n",
       " ('than', 1451),\n",
       " ('last', 1431),\n",
       " ('_', 1382),\n",
       " ('all', 1337),\n",
       " ('if', 1319),\n",
       " ('she', 1317),\n",
       " ('state', 1312),\n",
       " ('official', 1296),\n",
       " ('out', 1238),\n",
       " ('some', 1233),\n",
       " ('do', 1184),\n",
       " (';', 1171),\n",
       " ('bush', 1112),\n",
       " ('could', 1112),\n",
       " ('time', 1094),\n",
       " ('first', 1090),\n",
       " ('police', 1085),\n",
       " ('over', 1064),\n",
       " ('because', 1048),\n",
       " ('into', 1035),\n",
       " ('her', 1029),\n",
       " ('say', 1026),\n",
       " ('united', 1005),\n",
       " (':', 1002),\n",
       " ('soviet', 1001),\n",
       " ('can', 979),\n",
       " ('day', 979),\n",
       " ('them', 979),\n",
       " ('you', 963),\n",
       " ('before', 947),\n",
       " ('today', 940),\n",
       " ('company', 924),\n",
       " (\"'\", 923),\n",
       " ('week', 918),\n",
       " ('billion', 886),\n",
       " ('only', 882),\n",
       " ('what', 882),\n",
       " ('three', 869),\n",
       " ('did', 864),\n",
       " ('since', 852),\n",
       " ('states', 842),\n",
       " ('most', 841),\n",
       " ('national', 829),\n",
       " ('against', 819),\n",
       " ('told', 818),\n",
       " ('during', 815),\n",
       " ('report', 805),\n",
       " ('thursday', 805),\n",
       " ('down', 803),\n",
       " ('american', 800),\n",
       " ('city', 791),\n",
       " ('group', 791),\n",
       " ('house', 791),\n",
       " ('any', 788),\n",
       " ('country', 782),\n",
       " ('him', 777),\n",
       " ('party', 768),\n",
       " ('court', 763),\n",
       " ('tuesday', 760),\n",
       " ('month', 742),\n",
       " ('federal', 730),\n",
       " ('under', 723),\n",
       " ('where', 714),\n",
       " ('monday', 709),\n",
       " ('friday', 704),\n",
       " ('may', 700),\n",
       " ('(', 699),\n",
       " (')', 697),\n",
       " ('wednesday', 697),\n",
       " ('market', 694),\n",
       " ('made', 692),\n",
       " ('so', 692),\n",
       " ('our', 689),\n",
       " ('many', 679),\n",
       " ('department', 678),\n",
       " ('news', 672),\n",
       " ('now', 672),\n",
       " ('member', 668),\n",
       " ('those', 666),\n",
       " ('price', 662),\n",
       " ('while', 651),\n",
       " ('union', 649),\n",
       " ('leader', 648),\n",
       " ('york', 645),\n",
       " ('home', 634),\n",
       " ('make', 628),\n",
       " ('just', 616),\n",
       " ('being', 615),\n",
       " ('plan', 614),\n",
       " ('force', 610),\n",
       " ('such', 603),\n",
       " ('world', 603),\n",
       " ('between', 602),\n",
       " ('military', 596),\n",
       " ('through', 593),\n",
       " ('south', 583),\n",
       " ('former', 576),\n",
       " ('get', 575),\n",
       " ('should', 575),\n",
       " ('office', 572),\n",
       " ('off', 570),\n",
       " ('work', 553),\n",
       " ('part', 547),\n",
       " ('program', 546),\n",
       " ('west', 543),\n",
       " ('political', 541),\n",
       " ('reported', 541),\n",
       " ('committee', 540),\n",
       " ('stock', 540),\n",
       " ('including', 538),\n",
       " ('take', 537),\n",
       " ('case', 536),\n",
       " ('spokesman', 531),\n",
       " ('nation', 530),\n",
       " ('going', 529),\n",
       " ('think', 527),\n",
       " ('way', 526),\n",
       " ('service', 524),\n",
       " ('right', 519),\n",
       " ('like', 517),\n",
       " ('business', 510),\n",
       " ('general', 508),\n",
       " ('then', 508),\n",
       " ('four', 504),\n",
       " ('law', 499),\n",
       " ('trade', 497),\n",
       " ('back', 495),\n",
       " ('still', 494),\n",
       " ('10', 491),\n",
       " ('want', 491),\n",
       " ('war', 491),\n",
       " ('meeting', 486),\n",
       " ('defense', 484),\n",
       " ('several', 482),\n",
       " ('congress', 481),\n",
       " ('administration', 479),\n",
       " ('next', 477),\n",
       " ('public', 477),\n",
       " ('foreign', 475),\n",
       " ('go', 475),\n",
       " ('rate', 475),\n",
       " ('bank', 472),\n",
       " ('campaign', 471),\n",
       " ('much', 471),\n",
       " ('support', 470),\n",
       " ('economic', 469),\n",
       " ('five', 469),\n",
       " ('good', 468),\n",
       " ('another', 467),\n",
       " ('later', 466),\n",
       " ('1', 464),\n",
       " ('according', 461),\n",
       " ('among', 461),\n",
       " ('bill', 460),\n",
       " ('security', 458),\n",
       " ('air', 456),\n",
       " ('both', 456),\n",
       " ('white', 455),\n",
       " ('money', 453),\n",
       " (\"'re\", 452),\n",
       " ('called', 451),\n",
       " ('family', 451),\n",
       " ('very', 450),\n",
       " ('dukakis', 449),\n",
       " ('found', 449),\n",
       " ('agency', 447),\n",
       " ('minister', 447),\n",
       " ('system', 447),\n",
       " ('reagan', 446),\n",
       " ('issue', 440),\n",
       " ('...', 437),\n",
       " ('asked', 434),\n",
       " ('chief', 433),\n",
       " ('north', 433),\n",
       " ('school', 432),\n",
       " ('help', 430),\n",
       " ('late', 430),\n",
       " ('years', 430),\n",
       " ('attorney', 429),\n",
       " ('even', 428),\n",
       " ('drug', 426),\n",
       " ('east', 425),\n",
       " ('end', 424),\n",
       " ('how', 423),\n",
       " ('earlier', 422),\n",
       " ('my', 422),\n",
       " ('area', 421),\n",
       " ('used', 421),\n",
       " ('agreement', 419),\n",
       " ('board', 419),\n",
       " ('dollar', 419),\n",
       " ('gorbachev', 409),\n",
       " ('ago', 407),\n",
       " ('early', 406),\n",
       " ('major', 405),\n",
       " ('oil', 405),\n",
       " ('washington', 405),\n",
       " ('number', 404),\n",
       " ('night', 403),\n",
       " ('killed', 402),\n",
       " ('expected', 401),\n",
       " ('mrs', 400),\n",
       " ('until', 400),\n",
       " ('john', 399),\n",
       " ('least', 398),\n",
       " ('began', 397),\n",
       " ('death', 397),\n",
       " ('life', 397),\n",
       " ('statement', 395),\n",
       " ('saying', 390),\n",
       " ('international', 388),\n",
       " ('sale', 387),\n",
       " ('these', 387),\n",
       " ('judge', 385),\n",
       " ('use', 385),\n",
       " ('cent', 384),\n",
       " ('came', 383),\n",
       " ('decision', 382),\n",
       " ('interest', 379),\n",
       " ('democratic', 378),\n",
       " ('sunday', 377),\n",
       " ('vote', 377),\n",
       " ('share', 376),\n",
       " ('high', 374),\n",
       " ('director', 372),\n",
       " ('problem', 372),\n",
       " ('worker', 372),\n",
       " ('know', 371),\n",
       " ('woman', 370),\n",
       " ('black', 369),\n",
       " ('charge', 368),\n",
       " ('control', 368),\n",
       " ('show', 367),\n",
       " ('mile', 366),\n",
       " ('come', 364),\n",
       " ('man', 364),\n",
       " ('here', 363),\n",
       " ('senate', 362),\n",
       " ('took', 361),\n",
       " ('talk', 359),\n",
       " ('set', 358),\n",
       " ('whether', 358),\n",
       " ('change', 356),\n",
       " ('without', 356),\n",
       " ('&', 355),\n",
       " ('chairman', 355),\n",
       " ('long', 355),\n",
       " ('same', 355),\n",
       " ('child', 351),\n",
       " ('increase', 351),\n",
       " ('order', 351),\n",
       " ('however', 350),\n",
       " ('20', 349),\n",
       " ('authority', 349),\n",
       " ('election', 349),\n",
       " ('point', 347),\n",
       " ('power', 347),\n",
       " ('tax', 346),\n",
       " ('left', 343),\n",
       " ('rose', 342),\n",
       " ('30', 340),\n",
       " ('?', 340),\n",
       " ('each', 340),\n",
       " ('give', 340),\n",
       " ('held', 340),\n",
       " ('higher', 339),\n",
       " ('1987', 338),\n",
       " ('see', 338),\n",
       " ('student', 337),\n",
       " ('center', 336),\n",
       " ('condition', 336),\n",
       " ('policy', 336),\n",
       " ('call', 335),\n",
       " ('job', 335),\n",
       " ('army', 334),\n",
       " ('six', 334),\n",
       " ('future', 333),\n",
       " ('own', 331),\n",
       " ('must', 330),\n",
       " ('put', 329),\n",
       " ('officer', 328),\n",
       " ('announced', 327),\n",
       " ('-', 326),\n",
       " ('past', 325),\n",
       " ('cost', 319),\n",
       " ('hospital', 319),\n",
       " ('record', 319),\n",
       " ('fire', 317),\n",
       " ('2', 315),\n",
       " ('march', 314),\n",
       " ('pay', 312),\n",
       " ('second', 312),\n",
       " ('trial', 312),\n",
       " ('university', 312),\n",
       " ('april', 311),\n",
       " ('economy', 311),\n",
       " ('saturday', 311),\n",
       " ('might', 308),\n",
       " ('well', 308),\n",
       " ('head', 306),\n",
       " ('industry', 306),\n",
       " ('budget', 303),\n",
       " ('secretary', 303),\n",
       " ('iraq', 302),\n",
       " ('vice', 302),\n",
       " ('around', 301),\n",
       " ('central', 300),\n",
       " ('few', 299),\n",
       " ('men', 298),\n",
       " ('republican', 298),\n",
       " ('too', 298),\n",
       " ('15', 297),\n",
       " ('prison', 297),\n",
       " ('died', 296),\n",
       " ('hour', 295),\n",
       " ('offer', 295),\n",
       " ('america', 294),\n",
       " ('germany', 294),\n",
       " ('district', 293),\n",
       " ('never', 293),\n",
       " ('attack', 292),\n",
       " ('exchange', 292),\n",
       " ('got', 291),\n",
       " ('health', 291),\n",
       " ('need', 291),\n",
       " ('1986', 290),\n",
       " ('cut', 289),\n",
       " ('me', 289),\n",
       " ('close', 287),\n",
       " ('trading', 287),\n",
       " ('conference', 285),\n",
       " ('street', 284),\n",
       " (\"'ve\", 281),\n",
       " ('1988', 281),\n",
       " ('newspaper', 281),\n",
       " ('effort', 280),\n",
       " ('recent', 279),\n",
       " ('troop', 278),\n",
       " ('aid', 277),\n",
       " ('june', 277),\n",
       " ('ms', 276),\n",
       " ('action', 275),\n",
       " ('building', 275),\n",
       " ('lower', 275),\n",
       " ('german', 274),\n",
       " ('little', 273),\n",
       " ('le', 271),\n",
       " ('japan', 270),\n",
       " ('county', 269),\n",
       " ('capital', 268),\n",
       " ('contract', 268),\n",
       " ('executive', 268),\n",
       " ('presidential', 268),\n",
       " ('near', 267),\n",
       " ('others', 267),\n",
       " ('released', 267),\n",
       " ('as', 264),\n",
       " ('california', 264),\n",
       " ('food', 264),\n",
       " ('information', 264),\n",
       " ('face', 263),\n",
       " ('thing', 263),\n",
       " ('top', 262),\n",
       " ('return', 261),\n",
       " ('taken', 261),\n",
       " (\"'m\", 260),\n",
       " ('1989', 260),\n",
       " ('away', 260),\n",
       " ('sen', 260),\n",
       " ('went', 259),\n",
       " ('move', 258),\n",
       " ('source', 258),\n",
       " ('far', 257),\n",
       " ('place', 257),\n",
       " ('labor', 256),\n",
       " ('car', 255),\n",
       " ('communist', 255),\n",
       " ('eastern', 255),\n",
       " ('jackson', 255),\n",
       " ('fell', 254),\n",
       " ('plant', 254),\n",
       " ('side', 254),\n",
       " ('community', 253),\n",
       " ('television', 252),\n",
       " ('3', 251),\n",
       " ('water', 251),\n",
       " ('hope', 250),\n",
       " ('added', 249),\n",
       " ('july', 249),\n",
       " ('peace', 249),\n",
       " ('average', 248),\n",
       " ('israel', 247),\n",
       " ('press', 247),\n",
       " ('question', 247),\n",
       " ('received', 247),\n",
       " ('wife', 247),\n",
       " ('whose', 246),\n",
       " ('12', 245),\n",
       " ('human', 245),\n",
       " ('investigation', 245),\n",
       " ('plane', 245),\n",
       " ('opposition', 244),\n",
       " ('europe', 243),\n",
       " ('financial', 243),\n",
       " ('organization', 243),\n",
       " ('agreed', 241),\n",
       " ('big', 239),\n",
       " ('george', 239),\n",
       " ('name', 239),\n",
       " ('shot', 239),\n",
       " ('proposal', 237),\n",
       " ('council', 235),\n",
       " ('given', 233),\n",
       " ('nearly', 233),\n",
       " ('reporter', 233),\n",
       " ('study', 232),\n",
       " ('interview', 231),\n",
       " ('total', 231),\n",
       " ('largest', 230),\n",
       " ('result', 230),\n",
       " ('5', 229),\n",
       " ('known', 229),\n",
       " ('outside', 229),\n",
       " ('fund', 228),\n",
       " ('private', 228),\n",
       " ('already', 227),\n",
       " ('association', 227),\n",
       " ('local', 227),\n",
       " ('deal', 226),\n",
       " ('san', 226),\n",
       " ('southern', 226),\n",
       " ('keep', 225),\n",
       " ('africa', 224),\n",
       " ('employee', 224),\n",
       " ('james', 224)]"
      ]
     },
     "execution_count": 30,
     "metadata": {},
     "output_type": "execute_result"
    }
   ],
   "source": [
    "c.most_common(500)"
   ]
  },
  {
   "cell_type": "markdown",
   "metadata": {},
   "source": [
    "Observamos que dentro los tokens aparecen los signos de puntuación, por lo que buscamos removerlos"
   ]
  },
  {
   "cell_type": "code",
   "execution_count": 31,
   "metadata": {
    "collapsed": true
   },
   "outputs": [],
   "source": [
    "import string\n",
    "textos_tokenizados_unpunct = []\n",
    "for texto in textos_tokenizados:\n",
    "    translator = texto.maketrans('','',string.punctuation)\n",
    "    if texto.translate(translator) !='':\n",
    "        textos_tokenizados_unpunct.append(texto.translate(translator))"
   ]
  },
  {
   "cell_type": "markdown",
   "metadata": {},
   "source": [
    "Calculamos el tamaño del vocabulario"
   ]
  },
  {
   "cell_type": "code",
   "execution_count": 32,
   "metadata": {},
   "outputs": [
    {
     "name": "stdout",
     "output_type": "stream",
     "text": [
      "Tamaño vocabulario: 40205\n"
     ]
    }
   ],
   "source": [
    "print('Tamaño vocabulario: {}'.format(len(set(textos_tokenizados_unpunct))))"
   ]
  },
  {
   "cell_type": "markdown",
   "metadata": {},
   "source": [
    "Y buscamos los 500 tokens con mas apariciones"
   ]
  },
  {
   "cell_type": "code",
   "execution_count": 33,
   "metadata": {
    "collapsed": true
   },
   "outputs": [],
   "source": [
    "textos_tokenizados_unpunct_ordenados = sorted(textos_tokenizados_unpunct)"
   ]
  },
  {
   "cell_type": "code",
   "execution_count": 34,
   "metadata": {
    "collapsed": true
   },
   "outputs": [],
   "source": [
    "tipos = Counter(textos_tokenizados_unpunct_ordenados)"
   ]
  },
  {
   "cell_type": "code",
   "execution_count": 35,
   "metadata": {},
   "outputs": [
    {
     "data": {
      "text/plain": [
       "[('the', 59877),\n",
       " ('a', 25566),\n",
       " ('of', 25536),\n",
       " ('to', 24060),\n",
       " ('and', 20701),\n",
       " ('in', 20671),\n",
       " ('said', 12856),\n",
       " ('s', 9256),\n",
       " ('that', 8859),\n",
       " ('for', 8825),\n",
       " ('wa', 7360),\n",
       " ('it', 7147),\n",
       " ('on', 7078),\n",
       " ('he', 6595),\n",
       " ('is', 5958),\n",
       " ('with', 5424),\n",
       " ('at', 5157),\n",
       " ('by', 5126),\n",
       " ('from', 4544),\n",
       " ('be', 3858),\n",
       " ('his', 3735),\n",
       " ('an', 3676),\n",
       " ('have', 3648),\n",
       " ('were', 3584),\n",
       " ('but', 3450),\n",
       " ('not', 3403),\n",
       " ('ha', 3292),\n",
       " ('are', 3251),\n",
       " ('they', 2980),\n",
       " ('who', 2814),\n",
       " ('had', 2635),\n",
       " ('would', 2635),\n",
       " ('will', 2621),\n",
       " ('i', 2508),\n",
       " ('we', 2459),\n",
       " ('year', 2381),\n",
       " ('about', 2360),\n",
       " ('this', 2185),\n",
       " ('been', 2182),\n",
       " ('their', 2068),\n",
       " ('new', 2014),\n",
       " ('percent', 1942),\n",
       " ('which', 1937),\n",
       " ('or', 1930),\n",
       " ('after', 1920),\n",
       " ('one', 1770),\n",
       " ('more', 1767),\n",
       " ('people', 1732),\n",
       " ('up', 1665),\n",
       " ('us', 1638),\n",
       " ('also', 1621),\n",
       " ('other', 1618),\n",
       " ('million', 1617),\n",
       " ('nt', 1599),\n",
       " ('when', 1584),\n",
       " ('two', 1570),\n",
       " ('president', 1553),\n",
       " ('government', 1538),\n",
       " ('there', 1512),\n",
       " ('no', 1509),\n",
       " ('than', 1451),\n",
       " ('last', 1431),\n",
       " ('all', 1341),\n",
       " ('if', 1323),\n",
       " ('she', 1317),\n",
       " ('state', 1312),\n",
       " ('official', 1296),\n",
       " ('out', 1238),\n",
       " ('some', 1233),\n",
       " ('do', 1185),\n",
       " ('could', 1113),\n",
       " ('bush', 1112),\n",
       " ('time', 1094),\n",
       " ('first', 1091),\n",
       " ('police', 1085),\n",
       " ('over', 1064),\n",
       " ('because', 1048),\n",
       " ('into', 1035),\n",
       " ('her', 1029),\n",
       " ('say', 1026),\n",
       " ('united', 1006),\n",
       " ('soviet', 1002),\n",
       " ('can', 981),\n",
       " ('day', 979),\n",
       " ('them', 979),\n",
       " ('you', 973),\n",
       " ('before', 947),\n",
       " ('today', 941),\n",
       " ('company', 924),\n",
       " ('week', 919),\n",
       " ('what', 887),\n",
       " ('billion', 886),\n",
       " ('only', 883),\n",
       " ('three', 871),\n",
       " ('did', 864),\n",
       " ('since', 852),\n",
       " ('most', 842),\n",
       " ('states', 842),\n",
       " ('national', 829),\n",
       " ('against', 819),\n",
       " ('told', 818),\n",
       " ('during', 815),\n",
       " ('report', 805),\n",
       " ('thursday', 805),\n",
       " ('down', 803),\n",
       " ('american', 800),\n",
       " ('city', 791),\n",
       " ('group', 791),\n",
       " ('house', 791),\n",
       " ('any', 788),\n",
       " ('country', 782),\n",
       " ('him', 777),\n",
       " ('party', 769),\n",
       " ('court', 763),\n",
       " ('tuesday', 760),\n",
       " ('month', 745),\n",
       " ('federal', 730),\n",
       " ('under', 723),\n",
       " ('where', 715),\n",
       " ('monday', 709),\n",
       " ('friday', 704),\n",
       " ('may', 701),\n",
       " ('wednesday', 698),\n",
       " ('market', 694),\n",
       " ('made', 692),\n",
       " ('so', 692),\n",
       " ('our', 690),\n",
       " ('many', 679),\n",
       " ('department', 678),\n",
       " ('now', 673),\n",
       " ('news', 672),\n",
       " ('member', 668),\n",
       " ('those', 666),\n",
       " ('price', 662),\n",
       " ('while', 651),\n",
       " ('union', 649),\n",
       " ('leader', 648),\n",
       " ('york', 645),\n",
       " ('home', 634),\n",
       " ('make', 629),\n",
       " ('just', 616),\n",
       " ('being', 615),\n",
       " ('plan', 614),\n",
       " ('force', 610),\n",
       " ('such', 603),\n",
       " ('world', 603),\n",
       " ('between', 602),\n",
       " ('military', 596),\n",
       " ('through', 593),\n",
       " ('south', 583),\n",
       " ('former', 577),\n",
       " ('get', 575),\n",
       " ('should', 575),\n",
       " ('office', 572),\n",
       " ('off', 570),\n",
       " ('work', 553),\n",
       " ('part', 547),\n",
       " ('program', 546),\n",
       " ('west', 545),\n",
       " ('political', 541),\n",
       " ('reported', 541),\n",
       " ('committee', 540),\n",
       " ('stock', 540),\n",
       " ('including', 539),\n",
       " ('take', 539),\n",
       " ('case', 537),\n",
       " ('spokesman', 531),\n",
       " ('nation', 530),\n",
       " ('going', 529),\n",
       " ('think', 527),\n",
       " ('way', 526),\n",
       " ('service', 524),\n",
       " ('right', 519),\n",
       " ('like', 517),\n",
       " ('business', 510),\n",
       " ('general', 510),\n",
       " ('then', 508),\n",
       " ('four', 504),\n",
       " ('10', 503),\n",
       " ('law', 499),\n",
       " ('trade', 497),\n",
       " ('back', 495),\n",
       " ('still', 494),\n",
       " ('want', 491),\n",
       " ('war', 491),\n",
       " ('meeting', 486),\n",
       " ('defense', 484),\n",
       " ('1', 483),\n",
       " ('several', 482),\n",
       " ('congress', 481),\n",
       " ('administration', 479),\n",
       " ('next', 477),\n",
       " ('public', 477),\n",
       " ('foreign', 476),\n",
       " ('go', 476),\n",
       " ('rate', 475),\n",
       " ('bank', 472),\n",
       " ('campaign', 471),\n",
       " ('much', 471),\n",
       " ('good', 470),\n",
       " ('support', 470),\n",
       " ('economic', 469),\n",
       " ('five', 469),\n",
       " ('another', 468),\n",
       " ('later', 466),\n",
       " ('according', 461),\n",
       " ('among', 461),\n",
       " ('air', 460),\n",
       " ('bill', 460),\n",
       " ('security', 458),\n",
       " ('both', 456),\n",
       " ('re', 455),\n",
       " ('white', 455),\n",
       " ('money', 453),\n",
       " ('called', 451),\n",
       " ('family', 451),\n",
       " ('very', 450),\n",
       " ('dukakis', 449),\n",
       " ('found', 449),\n",
       " ('agency', 447),\n",
       " ('minister', 447),\n",
       " ('system', 447),\n",
       " ('reagan', 446),\n",
       " ('issue', 440),\n",
       " ('north', 437),\n",
       " ('asked', 434),\n",
       " ('chief', 433),\n",
       " ('school', 432),\n",
       " ('help', 430),\n",
       " ('late', 430),\n",
       " ('years', 430),\n",
       " ('attorney', 429),\n",
       " ('even', 428),\n",
       " ('east', 427),\n",
       " ('drug', 426),\n",
       " ('how', 425),\n",
       " ('end', 424),\n",
       " ('my', 424),\n",
       " ('earlier', 423),\n",
       " ('area', 421),\n",
       " ('used', 421),\n",
       " ('agreement', 419),\n",
       " ('board', 419),\n",
       " ('dollar', 419),\n",
       " ('gorbachev', 409),\n",
       " ('ago', 407),\n",
       " ('early', 406),\n",
       " ('washington', 406),\n",
       " ('major', 405),\n",
       " ('oil', 405),\n",
       " ('number', 404),\n",
       " ('night', 403),\n",
       " ('john', 402),\n",
       " ('killed', 402),\n",
       " ('expected', 401),\n",
       " ('mrs', 400),\n",
       " ('until', 400),\n",
       " ('least', 398),\n",
       " ('life', 398),\n",
       " ('began', 397),\n",
       " ('death', 397),\n",
       " ('statement', 395),\n",
       " ('international', 390),\n",
       " ('saying', 390),\n",
       " ('sale', 387),\n",
       " ('these', 387),\n",
       " ('judge', 385),\n",
       " ('use', 385),\n",
       " ('cent', 384),\n",
       " ('came', 383),\n",
       " ('decision', 382),\n",
       " ('interest', 379),\n",
       " ('democratic', 378),\n",
       " ('sunday', 377),\n",
       " ('vote', 377),\n",
       " ('share', 376),\n",
       " ('high', 374),\n",
       " ('director', 372),\n",
       " ('problem', 372),\n",
       " ('worker', 372),\n",
       " ('know', 371),\n",
       " ('woman', 370),\n",
       " ('black', 369),\n",
       " ('charge', 368),\n",
       " ('control', 368),\n",
       " ('mile', 367),\n",
       " ('show', 367),\n",
       " ('man', 365),\n",
       " ('come', 364),\n",
       " ('here', 364),\n",
       " ('m', 364),\n",
       " ('senate', 362),\n",
       " ('took', 362),\n",
       " ('whether', 361),\n",
       " ('20', 360),\n",
       " ('talk', 359),\n",
       " ('15', 358),\n",
       " ('set', 358),\n",
       " ('change', 356),\n",
       " ('without', 356),\n",
       " ('chairman', 355),\n",
       " ('long', 355),\n",
       " ('same', 355),\n",
       " ('child', 351),\n",
       " ('increase', 351),\n",
       " ('order', 351),\n",
       " ('however', 350),\n",
       " ('authority', 349),\n",
       " ('election', 349),\n",
       " ('point', 347),\n",
       " ('power', 347),\n",
       " ('30', 346),\n",
       " ('tax', 346),\n",
       " ('left', 344),\n",
       " ('rose', 342),\n",
       " ('each', 340),\n",
       " ('give', 340),\n",
       " ('held', 340),\n",
       " ('1987', 339),\n",
       " ('higher', 339),\n",
       " ('see', 338),\n",
       " ('student', 337),\n",
       " ('center', 336),\n",
       " ('condition', 336),\n",
       " ('policy', 336),\n",
       " ('army', 335),\n",
       " ('call', 335),\n",
       " ('job', 335),\n",
       " ('six', 335),\n",
       " ('inc', 334),\n",
       " ('future', 333),\n",
       " ('own', 331),\n",
       " ('must', 330),\n",
       " ('put', 329),\n",
       " ('officer', 328),\n",
       " ('2', 327),\n",
       " ('announced', 327),\n",
       " ('past', 325),\n",
       " ('cost', 319),\n",
       " ('hospital', 319),\n",
       " ('record', 319),\n",
       " ('fire', 317),\n",
       " ('march', 316),\n",
       " ('corp', 314),\n",
       " ('second', 314),\n",
       " ('pay', 312),\n",
       " ('trial', 312),\n",
       " ('university', 312),\n",
       " ('april', 311),\n",
       " ('economy', 311),\n",
       " ('saturday', 311),\n",
       " ('well', 309),\n",
       " ('might', 308),\n",
       " ('head', 306),\n",
       " ('industry', 306),\n",
       " ('budget', 303),\n",
       " ('iraq', 303),\n",
       " ('secretary', 303),\n",
       " ('central', 302),\n",
       " ('vice', 302),\n",
       " ('around', 301),\n",
       " ('co', 300),\n",
       " ('hour', 300),\n",
       " ('few', 299),\n",
       " ('men', 298),\n",
       " ('republican', 298),\n",
       " ('too', 298),\n",
       " ('prison', 297),\n",
       " ('died', 296),\n",
       " ('offer', 295),\n",
       " ('america', 294),\n",
       " ('germany', 294),\n",
       " ('district', 293),\n",
       " ('never', 293),\n",
       " ('attack', 292),\n",
       " ('exchange', 292),\n",
       " ('got', 291),\n",
       " ('health', 291),\n",
       " ('need', 291),\n",
       " ('1986', 290),\n",
       " ('cut', 289),\n",
       " ('me', 289),\n",
       " ('close', 287),\n",
       " ('trading', 287),\n",
       " ('conference', 285),\n",
       " ('street', 285),\n",
       " ('12', 282),\n",
       " ('1988', 281),\n",
       " ('newspaper', 281),\n",
       " ('ve', 281),\n",
       " ('effort', 280),\n",
       " ('recent', 279),\n",
       " ('aid', 278),\n",
       " ('troop', 278),\n",
       " ('june', 277),\n",
       " ('ms', 276),\n",
       " ('action', 275),\n",
       " ('building', 275),\n",
       " ('lower', 275),\n",
       " ('german', 274),\n",
       " ('little', 274),\n",
       " ('le', 271),\n",
       " ('japan', 270),\n",
       " ('county', 269),\n",
       " ('capital', 268),\n",
       " ('contract', 268),\n",
       " ('executive', 268),\n",
       " ('presidential', 268),\n",
       " ('near', 267),\n",
       " ('others', 267),\n",
       " ('released', 267),\n",
       " ('as', 266),\n",
       " ('california', 266),\n",
       " ('food', 265),\n",
       " ('information', 264),\n",
       " ('face', 263),\n",
       " ('thing', 263),\n",
       " ('top', 262),\n",
       " ('return', 261),\n",
       " ('taken', 261),\n",
       " ('1989', 260),\n",
       " ('away', 260),\n",
       " ('sen', 260),\n",
       " ('went', 259),\n",
       " ('3', 258),\n",
       " ('move', 258),\n",
       " ('source', 258),\n",
       " ('far', 257),\n",
       " ('place', 257),\n",
       " ('labor', 256),\n",
       " ('car', 255),\n",
       " ('communist', 255),\n",
       " ('eastern', 255),\n",
       " ('jackson', 255),\n",
       " ('fell', 254),\n",
       " ('plant', 254),\n",
       " ('side', 254),\n",
       " ('community', 253),\n",
       " ('am', 252),\n",
       " ('television', 252),\n",
       " ('water', 251),\n",
       " ('hope', 250),\n",
       " ('added', 249),\n",
       " ('july', 249),\n",
       " ('peace', 249),\n",
       " ('average', 248),\n",
       " ('israel', 247),\n",
       " ('press', 247),\n",
       " ('question', 247),\n",
       " ('received', 247),\n",
       " ('wife', 247),\n",
       " ('25', 246),\n",
       " ('whose', 246),\n",
       " ('human', 245),\n",
       " ('investigation', 245),\n",
       " ('plane', 245),\n",
       " ('financial', 244),\n",
       " ('opposition', 244),\n",
       " ('europe', 243),\n",
       " ('organization', 243),\n",
       " ('agreed', 241),\n",
       " ('big', 239),\n",
       " ('george', 239),\n",
       " ('name', 239),\n",
       " ('shot', 239),\n",
       " ('11', 237),\n",
       " ('proposal', 237),\n",
       " ('5', 235),\n",
       " ('council', 235),\n",
       " ('given', 233),\n",
       " ('nearly', 233),\n",
       " ('reporter', 233),\n",
       " ('study', 232),\n",
       " ('total', 232),\n",
       " ('interview', 231),\n",
       " ('largest', 230),\n",
       " ('result', 230),\n",
       " ('known', 229),\n",
       " ('outside', 229),\n",
       " ('robert', 229),\n",
       " ('fund', 228),\n",
       " ('private', 228),\n",
       " ('already', 227),\n",
       " ('association', 227),\n",
       " ('james', 227),\n",
       " ('local', 227),\n",
       " ('deal', 226),\n",
       " ('san', 226),\n",
       " ('southern', 226),\n",
       " ('keep', 225),\n",
       " ('rep', 225),\n",
       " ('africa', 224),\n",
       " ('employee', 224),\n",
       " ('100', 223),\n",
       " ('although', 223),\n",
       " ('across', 222),\n",
       " ('lost', 221),\n",
       " ('enough', 220),\n",
       " ('justice', 220),\n",
       " ('comment', 219)]"
      ]
     },
     "execution_count": 35,
     "metadata": {},
     "output_type": "execute_result"
    }
   ],
   "source": [
    "tipos.most_common(500)"
   ]
  },
  {
   "cell_type": "markdown",
   "metadata": {},
   "source": [
    "Y redefinimos entonces la función para tokenizar eliminando signos de puntuación y pasando a minúsculas"
   ]
  },
  {
   "cell_type": "code",
   "execution_count": 36,
   "metadata": {
    "collapsed": true
   },
   "outputs": [],
   "source": [
    "punc_translator = str.maketrans(dict(zip(string.punctuation, [None] * len(string.punctuation))))\n",
    "def tokenize(string):\n",
    "    'Returns list of tokens'\n",
    "    words = string.split(' ')\n",
    "    retoken = [ t.lower()\n",
    "        for w in words\n",
    "        for t in nltk.word_tokenize(w)\n",
    "    ] \n",
    "    no_punt = [ t\n",
    "        for t in retoken\n",
    "        if t.translate(punc_translator) != ''\n",
    "    ]\n",
    "    return no_punt "
   ]
  },
  {
   "cell_type": "markdown",
   "metadata": {},
   "source": [
    "<a name=\"1.3\"></a>\n",
    "### 1.3. Métricas"
   ]
  },
  {
   "cell_type": "markdown",
   "metadata": {},
   "source": [
    "La frecuencia de una palabra es la cantidad de apariciones y normalizada me da la probabilidad de encontrar esa palabra en el texto."
   ]
  },
  {
   "cell_type": "code",
   "execution_count": 41,
   "metadata": {
    "collapsed": true
   },
   "outputs": [],
   "source": [
    "def freq_one(word, tokens):\n",
    "    'Frecuencia de una palabra en un texto (Church 1990)'\n",
    "    return sum((1 for t in tokens if t == word)) / float(len(tokens))"
   ]
  },
  {
   "cell_type": "markdown",
   "metadata": {},
   "source": [
    "Calculamos la probabilidad de encontrar el token 'the', que es el que mas apariciones tiene"
   ]
  },
  {
   "cell_type": "code",
   "execution_count": 42,
   "metadata": {},
   "outputs": [
    {
     "data": {
      "text/plain": [
       "0.06489655374230616"
      ]
     },
     "execution_count": 42,
     "metadata": {},
     "output_type": "execute_result"
    }
   ],
   "source": [
    "freq_one('the', textos_tokenizados_unpunct)"
   ]
  },
  {
   "cell_type": "code",
   "execution_count": 45,
   "metadata": {
    "scrolled": true
   },
   "outputs": [
    {
     "data": {
      "text/plain": [
       "59877.0"
      ]
     },
     "execution_count": 45,
     "metadata": {},
     "output_type": "execute_result"
    }
   ],
   "source": [
    "freq_one('the', textos_tokenizados_unpunct)*len(textos_tokenizados_unpunct)"
   ]
  },
  {
   "cell_type": "markdown",
   "metadata": {},
   "source": [
    "    TODO: revisar porque no da igual la cantidad de apariciones respecto al contador"
   ]
  },
  {
   "cell_type": "markdown",
   "metadata": {},
   "source": [
    "La frecuencia entre 2 palabras se estima contando el número de veces que x es seguido por y en una ventana de w palabras $f_{w}(x,y)$ y normalizando obtenemos la probabilidad conjunta $P(x,y)$. Por default definimos el tamaño de ventanas de w=5 palabras."
   ]
  },
  {
   "cell_type": "code",
   "execution_count": 46,
   "metadata": {
    "collapsed": true
   },
   "outputs": [],
   "source": [
    "def freq_two(first, second, tokens, win_size=5):\n",
    "    '''\n",
    "    Frecuencia de dos palabras en un texto (Church 1990)\n",
    "    \n",
    "    Aplica correccion de (w - 1) para compensar por múltiples conteos.\n",
    "    \n",
    "    O(|tokens| * win_size)\n",
    "    '''\n",
    "    count = 0\n",
    "    for idx in range(len(tokens)):\n",
    "        left = max(0, idx - win_size + 1)\n",
    "        if tokens[idx] == second:\n",
    "            for x in tokens[left:idx]:\n",
    "                if x == first:\n",
    "                    count += 1\n",
    "    return count / (win_size - 1) / float(len(tokens))"
   ]
  },
  {
   "cell_type": "markdown",
   "metadata": {},
   "source": [
    "Que también se puede calcular de manera más eficiente como"
   ]
  },
  {
   "cell_type": "code",
   "execution_count": 47,
   "metadata": {
    "collapsed": true
   },
   "outputs": [],
   "source": [
    "def freq_two_fast(first_token_pos, second_token_pos, token_count, win_size=5):\n",
    "    '''\n",
    "    Equivalente a freq_two pero más veloz.\n",
    "    \n",
    "    Args:\n",
    "        first_token_pos :: [int] lista de posiciones en el texto donde se encuentra el token a izq\n",
    "        second_token_pos :: [int] lista de posiciones en el texto donde se encuentra el token a der\n",
    "        token_count :: int cantidad te tokens en el texto\n",
    "        \n",
    "    O(#apariciones token 1 + #apariciones token 2)\n",
    "    '''\n",
    "    s_it = reversed(second_token_pos)\n",
    "    f_it = reversed(first_token_pos)\n",
    "    \n",
    "    count = 0\n",
    "    \n",
    "    try:\n",
    "        f_idx = next(f_it)\n",
    "        s_idx = next(s_it)\n",
    "        while True:\n",
    "            while (f_idx > s_idx):\n",
    "                f_idx = next(f_it)\n",
    "            local_f_it, f_it = itertools.tee(f_it)\n",
    "            local_f_idx = f_idx\n",
    "            while (s_idx - local_f_idx < win_size):\n",
    "                if (s_idx - local_f_idx > 0):\n",
    "                    count += 1\n",
    "                local_f_idx = next(local_f_it)\n",
    "            s_idx = next(s_it)\n",
    "    except StopIteration:\n",
    "        return count / (win_size - 1) / token_count"
   ]
  },
  {
   "cell_type": "markdown",
   "metadata": {},
   "source": [
    "La información mutua entre 2 palabras"
   ]
  },
  {
   "cell_type": "code",
   "execution_count": 48,
   "metadata": {
    "collapsed": true
   },
   "outputs": [],
   "source": [
    "def info(first, second, tokens, win_size=5):\n",
    "    'Mutual information of two tokens (Church 1990)'\n",
    "    f2 = freq_two(first, second, tokens, win_size)\n",
    "    if f2 < 6:\n",
    "        return None\n",
    "    fa = freq_one(first, tokens)\n",
    "    fb = freq_one(second, tokens)\n",
    "    q = f2 / (fa * fb)\n",
    "    return np.log2(q)"
   ]
  },
  {
   "cell_type": "markdown",
   "metadata": {},
   "source": [
    "Y la tasa de asociación"
   ]
  },
  {
   "cell_type": "code",
   "execution_count": 49,
   "metadata": {
    "collapsed": true
   },
   "outputs": [],
   "source": [
    "def q_fast(first_token_pos, second_token_pos, token_count, win_size=5):\n",
    "    f2 = freq_two_fast(first_token_pos, second_token_pos, token_count, win_size)\n",
    "    #if f2 < (6 / (win_size - 1) / token_count):\n",
    "    #    return None\n",
    "    if f2 < 1:\n",
    "        return None\n",
    "    fa = len(first_token_pos)\n",
    "    fb = len(second_token_pos)\n",
    "    q = f2 / (fa * fb)\n",
    "    return q "
   ]
  },
  {
   "cell_type": "markdown",
   "metadata": {},
   "source": [
    "Testeamos las métricas"
   ]
  },
  {
   "cell_type": "code",
   "execution_count": 50,
   "metadata": {
    "collapsed": true
   },
   "outputs": [],
   "source": [
    "a = next(iter(docs.values()))"
   ]
  },
  {
   "cell_type": "code",
   "execution_count": 51,
   "metadata": {
    "collapsed": true
   },
   "outputs": [],
   "source": [
    "a_tokens = tokenize(a)"
   ]
  },
  {
   "cell_type": "code",
   "execution_count": 52,
   "metadata": {
    "collapsed": true
   },
   "outputs": [],
   "source": [
    "a_commons = [x[0] for x in Counter(sorted(a_tokens)).most_common(10)]"
   ]
  },
  {
   "cell_type": "code",
   "execution_count": 53,
   "metadata": {
    "collapsed": true
   },
   "outputs": [],
   "source": [
    "a_commons_pos = {\n",
    "    token : [idx for idx, t in enumerate(a_tokens) if t == token]\n",
    "    for token in a_commons\n",
    "}"
   ]
  },
  {
   "cell_type": "code",
   "execution_count": 54,
   "metadata": {},
   "outputs": [
    {
     "name": "stdout",
     "output_type": "stream",
     "text": [
      "the the 8.0 8.0 True\n",
      "the a 3.0 3.0 True\n",
      "the and 3.0 3.0 True\n",
      "the said 4.0 4.0 True\n",
      "the was 5.000000000000001 5.000000000000001 True\n",
      "the of 7.0 7.0 True\n",
      "the 's 7.0 7.0 True\n",
      "the boy 9.0 9.0 True\n",
      "the he 0.0 0.0 True\n",
      "the school 6.0 6.0 True\n"
     ]
    }
   ],
   "source": [
    "first = a_commons[0]\n",
    "for j in range(10):\n",
    "    second = a_commons[j]\n",
    "    f = freq_two(first, second, a_tokens)\n",
    "    f2 = freq_two_fast(a_commons_pos[first], a_commons_pos[second], len(a_tokens))\n",
    "    print(first, second, f2 * len(a_tokens) * 4, f * len(a_tokens) * 4, f == f2)"
   ]
  },
  {
   "cell_type": "markdown",
   "metadata": {},
   "source": [
    "Aplicamos las métricas a las 500 palabras con más apariciones"
   ]
  },
  {
   "cell_type": "code",
   "execution_count": 55,
   "metadata": {
    "collapsed": true
   },
   "outputs": [],
   "source": [
    "PICKLE_DIR = 'pickles'\n",
    "EJ1_TOKENS_PATH = os.path.join(PICKLE_DIR, 'ej1_tokens.pkl')"
   ]
  },
  {
   "cell_type": "code",
   "execution_count": 56,
   "metadata": {
    "collapsed": true
   },
   "outputs": [],
   "source": [
    "if not os.path.isdir(PICKLE_DIR):\n",
    "    os.mkdir(PICKLE_DIR)"
   ]
  },
  {
   "cell_type": "code",
   "execution_count": 57,
   "metadata": {
    "collapsed": true
   },
   "outputs": [],
   "source": [
    "if not os.path.isfile(EJ1_TOKENS_PATH):\n",
    "    token_docs = {\n",
    "        docno : tokenize(text)\n",
    "        for docno, text in docs.items()\n",
    "    }\n",
    "    with open(EJ1_TOKENS_PATH, 'wb') as f:\n",
    "        pickle.dump(token_docs, f)\n",
    "else:\n",
    "    with open(EJ1_TOKENS_PATH, 'rb') as f:\n",
    "        token_docs = pickle.load(f)"
   ]
  },
  {
   "cell_type": "code",
   "execution_count": 58,
   "metadata": {
    "collapsed": true
   },
   "outputs": [],
   "source": [
    "all_tokens = [t for tokens in token_docs.values() for t in tokens]"
   ]
  },
  {
   "cell_type": "code",
   "execution_count": 59,
   "metadata": {
    "collapsed": true
   },
   "outputs": [],
   "source": [
    "top_tokens_counts = Counter(sorted(all_tokens)).most_common(500)"
   ]
  },
  {
   "cell_type": "code",
   "execution_count": 60,
   "metadata": {
    "collapsed": true
   },
   "outputs": [],
   "source": [
    "top_tokens = [x[0] for x in top_tokens_counts]"
   ]
  },
  {
   "cell_type": "code",
   "execution_count": 61,
   "metadata": {
    "collapsed": true
   },
   "outputs": [],
   "source": [
    "token_docs = {\n",
    "    docno : tokens\n",
    "    for docno, tokens in token_docs.items()\n",
    "    if len(tokens) > 0\n",
    "}"
   ]
  },
  {
   "cell_type": "code",
   "execution_count": 62,
   "metadata": {
    "collapsed": true
   },
   "outputs": [],
   "source": [
    "top_tokens_set = set(top_tokens)"
   ]
  },
  {
   "cell_type": "code",
   "execution_count": 63,
   "metadata": {},
   "outputs": [
    {
     "ename": "NameError",
     "evalue": "name 'dists' is not defined",
     "output_type": "error",
     "traceback": [
      "\u001b[1;31m---------------------------------------------------------------------------\u001b[0m",
      "\u001b[1;31mNameError\u001b[0m                                 Traceback (most recent call last)",
      "\u001b[1;32m<ipython-input-63-22873a93c859>\u001b[0m in \u001b[0;36m<module>\u001b[1;34m()\u001b[0m\n\u001b[0;32m     10\u001b[0m             \u001b[1;32mfor\u001b[0m \u001b[0mk\u001b[0m \u001b[1;32min\u001b[0m \u001b[0mrange\u001b[0m\u001b[1;33m(\u001b[0m\u001b[1;36m1\u001b[0m\u001b[1;33m,\u001b[0m \u001b[0mmin\u001b[0m\u001b[1;33m(\u001b[0m\u001b[0mlen\u001b[0m\u001b[1;33m(\u001b[0m\u001b[0mtokens\u001b[0m\u001b[1;33m)\u001b[0m \u001b[1;33m-\u001b[0m \u001b[0mi\u001b[0m\u001b[1;33m,\u001b[0m \u001b[0mwin_size\u001b[0m \u001b[1;33m-\u001b[0m \u001b[1;36m1\u001b[0m\u001b[1;33m)\u001b[0m\u001b[1;33m)\u001b[0m\u001b[1;33m:\u001b[0m\u001b[1;33m\u001b[0m\u001b[0m\n\u001b[0;32m     11\u001b[0m                 \u001b[1;32mif\u001b[0m \u001b[0mtokens\u001b[0m\u001b[1;33m[\u001b[0m\u001b[0mi\u001b[0m \u001b[1;33m+\u001b[0m \u001b[0mk\u001b[0m\u001b[1;33m]\u001b[0m \u001b[1;32min\u001b[0m \u001b[0mtop_tokens_set\u001b[0m\u001b[1;33m:\u001b[0m\u001b[1;33m\u001b[0m\u001b[0m\n\u001b[1;32m---> 12\u001b[1;33m                     \u001b[0mdists\u001b[0m\u001b[1;33m.\u001b[0m\u001b[0mappend\u001b[0m\u001b[1;33m(\u001b[0m\u001b[0mi\u001b[0m \u001b[1;33m-\u001b[0m \u001b[0mi\u001b[0m \u001b[1;33m+\u001b[0m \u001b[0mk\u001b[0m\u001b[1;33m)\u001b[0m\u001b[1;33m\u001b[0m\u001b[0m\n\u001b[0m\u001b[0;32m     13\u001b[0m                     \u001b[0mco_freq\u001b[0m\u001b[1;33m[\u001b[0m\u001b[0mtokens\u001b[0m\u001b[1;33m[\u001b[0m\u001b[0mi\u001b[0m\u001b[1;33m]\u001b[0m\u001b[1;33m]\u001b[0m\u001b[1;33m[\u001b[0m\u001b[0mtokens\u001b[0m\u001b[1;33m[\u001b[0m\u001b[0mi\u001b[0m\u001b[1;33m+\u001b[0m\u001b[0mk\u001b[0m\u001b[1;33m]\u001b[0m\u001b[1;33m]\u001b[0m \u001b[1;33m+=\u001b[0m \u001b[1;36m1\u001b[0m\u001b[1;33m\u001b[0m\u001b[0m\n",
      "\u001b[1;31mNameError\u001b[0m: name 'dists' is not defined"
     ]
    }
   ],
   "source": [
    "# Armamos la matriz de co-frecuencias\n",
    "win_size = 5\n",
    "co_freq = defaultdict(lambda : defaultdict(int))\n",
    "freq = defaultdict(int)\n",
    "\n",
    "for tokens in token_docs.values():\n",
    "    for i in range(len(tokens)):\n",
    "        if tokens[i] in top_tokens_set:\n",
    "            freq[tokens[i]] += 1\n",
    "            for k in range(1, min(len(tokens) - i, win_size - 1)):\n",
    "                if tokens[i + k] in top_tokens_set:\n",
    "                    dists.append(i - i + k)\n",
    "                    co_freq[tokens[i]][tokens[i+k]] += 1"
   ]
  },
  {
   "cell_type": "markdown",
   "metadata": {},
   "source": [
    "    TODO: no esta definida la variable dists"
   ]
  },
  {
   "cell_type": "markdown",
   "metadata": {},
   "source": [
    "    TODO: estaria buenisimo agregar algun plot. puede ser la matriz de cofrecuencias de las 500 palabras con mas apariciones, donde se puede mostrar que la matriz no es simetrica. Y tambien estaria bueno mostrar un plot que muestre que los valores de cofrecuencias definen asociacion entre palabras y que no solo se deben a que esas 2 palabras aparecen mucho en el texto. esto ultimo se podria ver con un plot 3d de cof en funcion de f(word1) y f(word2)? o pensar otra manera"
   ]
  },
  {
   "cell_type": "markdown",
   "metadata": {},
   "source": [
    "Ajustamos la métrica por (w-1)"
   ]
  },
  {
   "cell_type": "code",
   "execution_count": 64,
   "metadata": {
    "collapsed": true
   },
   "outputs": [],
   "source": [
    "# Ajustamos el valor por (win_size - 1)\n",
    "for t1 in co_freq:\n",
    "    for t2 in co_freq[t1]:\n",
    "        co_freq[t1][t2] /= (win_size - 1)"
   ]
  },
  {
   "cell_type": "code",
   "execution_count": 65,
   "metadata": {
    "collapsed": true
   },
   "outputs": [],
   "source": [
    "# Calculamos N\n",
    "N = sum([len(tokens) for tokens in token_docs.values()])"
   ]
  },
  {
   "cell_type": "code",
   "execution_count": 66,
   "metadata": {
    "collapsed": true
   },
   "outputs": [],
   "source": [
    "relations = {\n",
    "    (t1, t2) : np.log2((co_freq[t1][t2] / N) / (freq[t1] * freq[t2] / (N * N)))\n",
    "    for t1 in co_freq\n",
    "    for t2 in co_freq[t1]\n",
    "    if co_freq[t1][t2] * (win_size - 1) > 5\n",
    "}"
   ]
  },
  {
   "cell_type": "code",
   "execution_count": 67,
   "metadata": {
    "collapsed": true
   },
   "outputs": [],
   "source": [
    "top_relations = sorted([r for r in relations.items() if r[0] != 0.0], \n",
    "                       key=lambda kv: kv[1], reverse=True)"
   ]
  },
  {
   "cell_type": "code",
   "execution_count": 68,
   "metadata": {},
   "outputs": [
    {
     "data": {
      "text/plain": [
       "[]"
      ]
     },
     "execution_count": 68,
     "metadata": {},
     "output_type": "execute_result"
    }
   ],
   "source": [
    "top_relations[:15]"
   ]
  },
  {
   "cell_type": "markdown",
   "metadata": {},
   "source": [
    "<a name=\"lexica\"></a>\n",
    "## 2. Información léxica"
   ]
  },
  {
   "cell_type": "markdown",
   "metadata": {},
   "source": [
    "Bajamos de [Project Gutenberg](http://www.gutenberg.org/) el libro de Darwin *ON THE ORIGIN OF SPECIES* y aplicamos el análisis de información léxica descripto en [Montemurro & Zanette 2010](https://www.researchgate.net/publication/46510298_Towards_the_quantification_of_the_semantic_information_encoded_in_written_language)."
   ]
  },
  {
   "cell_type": "code",
   "execution_count": 69,
   "metadata": {
    "collapsed": true
   },
   "outputs": [],
   "source": [
    "f_darwin = open('gutenberg/On The Origin Of Species.txt')\n",
    "corpus_darwin = f_darwin.read()"
   ]
  },
  {
   "cell_type": "markdown",
   "metadata": {},
   "source": [
    "Separamos el cuerpo del libro"
   ]
  },
  {
   "cell_type": "code",
   "execution_count": 70,
   "metadata": {
    "collapsed": true
   },
   "outputs": [],
   "source": [
    "start = '*** START OF THIS PROJECT GUTENBERG EBOOK ON THE ORIGIN OF SPECIES ***'\n",
    "end = '*** END OF THIS PROJECT GUTENBERG EBOOK ON THE ORIGIN OF SPECIES ***'\n",
    "corpus_darwin = corpus_darwin[corpus_darwin.find(start)+len(start):corpus_darwin.find(end)]"
   ]
  },
  {
   "cell_type": "markdown",
   "metadata": {},
   "source": [
    "<a name=\"2.1\"></a>\n",
    "### 2.1. Tokenización"
   ]
  },
  {
   "cell_type": "markdown",
   "metadata": {},
   "source": [
    "Tokenizamos, eliminando los signos de puntuación"
   ]
  },
  {
   "cell_type": "code",
   "execution_count": 71,
   "metadata": {
    "collapsed": true
   },
   "outputs": [],
   "source": [
    "lines_darwin = corpus_darwin.lower().splitlines()"
   ]
  },
  {
   "cell_type": "code",
   "execution_count": 72,
   "metadata": {
    "collapsed": true
   },
   "outputs": [],
   "source": [
    "words_darwin = nltk.wordpunct_tokenize(' '.join(lines_darwin))"
   ]
  },
  {
   "cell_type": "code",
   "execution_count": 75,
   "metadata": {
    "collapsed": true
   },
   "outputs": [],
   "source": [
    "import string\n",
    "words_darwin_unpunct = []\n",
    "for word_darwin in words_darwin:\n",
    "    translator = word_darwin.maketrans('','',string.punctuation)\n",
    "    if word_darwin.translate(translator) !='':\n",
    "        words_darwin_unpunct.append(word_darwin.translate(translator))"
   ]
  },
  {
   "cell_type": "markdown",
   "metadata": {},
   "source": [
    "Calculamos la cantidad de apariciones de cada palabra"
   ]
  },
  {
   "cell_type": "code",
   "execution_count": 77,
   "metadata": {
    "collapsed": true
   },
   "outputs": [],
   "source": [
    "c_darwin_unpunct = Counter(words_darwin_unpunct)"
   ]
  },
  {
   "cell_type": "markdown",
   "metadata": {},
   "source": [
    "Calculamos el tamaño del vocabulario"
   ]
  },
  {
   "cell_type": "code",
   "execution_count": 78,
   "metadata": {},
   "outputs": [
    {
     "name": "stdout",
     "output_type": "stream",
     "text": [
      "Tamaño vocabulario: 7253\n"
     ]
    }
   ],
   "source": [
    "print('Tamaño vocabulario: {}'.format(len(set(words_darwin_unpunct))))"
   ]
  },
  {
   "cell_type": "markdown",
   "metadata": {},
   "source": [
    "<a name=\"2.2\"></a>\n",
    "### 2.2. Autocorrelación"
   ]
  },
  {
   "cell_type": "markdown",
   "metadata": {},
   "source": [
    "Para calcular la autocorrelación de cada palabra, primero tenemos que encontrar la tasa de ocurrencias de esa palabra. Para ello, buscamos reproducir los resultados del paper previamente citado. Por ejemplo, aplicamos el análisis para la palabra 'plants', la cual tiene 335 ocurrencias"
   ]
  },
  {
   "cell_type": "code",
   "execution_count": 79,
   "metadata": {
    "collapsed": true
   },
   "outputs": [],
   "source": [
    "test_word = 'plants'"
   ]
  },
  {
   "cell_type": "code",
   "execution_count": 80,
   "metadata": {},
   "outputs": [
    {
     "data": {
      "text/plain": [
       "335"
      ]
     },
     "execution_count": 80,
     "metadata": {},
     "output_type": "execute_result"
    }
   ],
   "source": [
    "c_darwin_unpunct[test_word]"
   ]
  },
  {
   "cell_type": "markdown",
   "metadata": {},
   "source": [
    "Obtenemos las posiciones de la palabra en el texto"
   ]
  },
  {
   "cell_type": "code",
   "execution_count": 81,
   "metadata": {
    "collapsed": true
   },
   "outputs": [],
   "source": [
    "from itertools import count\n",
    "word_darwin_index = [i for i, j in zip(count(), words_darwin_unpunct) if j == test_word]"
   ]
  },
  {
   "cell_type": "code",
   "execution_count": 82,
   "metadata": {},
   "outputs": [
    {
     "data": {
      "text/plain": [
       "335"
      ]
     },
     "execution_count": 82,
     "metadata": {},
     "output_type": "execute_result"
    }
   ],
   "source": [
    "len(word_darwin_index)"
   ]
  },
  {
   "cell_type": "code",
   "execution_count": 83,
   "metadata": {
    "collapsed": true
   },
   "outputs": [],
   "source": [
    "N = len(words_darwin_unpunct)"
   ]
  },
  {
   "cell_type": "code",
   "execution_count": 84,
   "metadata": {
    "collapsed": true
   },
   "outputs": [],
   "source": [
    "word_darwin_delta = [0] * len(words_darwin_unpunct)"
   ]
  },
  {
   "cell_type": "code",
   "execution_count": 85,
   "metadata": {},
   "outputs": [
    {
     "data": {
      "text/plain": [
       "156885"
      ]
     },
     "execution_count": 85,
     "metadata": {},
     "output_type": "execute_result"
    }
   ],
   "source": [
    "len(word_darwin_delta)"
   ]
  },
  {
   "cell_type": "markdown",
   "metadata": {},
   "source": [
    "Calculamos la densidad de ocurrencias de la palabra *w*\n",
    "\\begin{equation*}\n",
    "v_{w} (t) = \\sum_{j=1}^n \\delta(t-t_{j})\n",
    "\\end{equation*}"
   ]
  },
  {
   "cell_type": "code",
   "execution_count": 86,
   "metadata": {
    "collapsed": true
   },
   "outputs": [],
   "source": [
    "for index in word_darwin_index:\n",
    "    word_darwin_delta[index] = 1"
   ]
  },
  {
   "cell_type": "code",
   "execution_count": 99,
   "metadata": {},
   "outputs": [
    {
     "data": {
      "image/png": "[encoded data removed]",
      "text/plain": [
       "<matplotlib.figure.Figure at 0x1b991864748>"
      ]
     },
     "metadata": {},
     "output_type": "display_data"
    }
   ],
   "source": [
    "plt.figure(figsize(15, 1))\n",
    "plot(word_darwin_delta)\n",
    "ylabel('$v_{w}$', size=18)\n",
    "xlabel('t', size=18)\n",
    "plt.show()"
   ]
  },
  {
   "cell_type": "markdown",
   "metadata": {},
   "source": [
    "Obtenemos la tasa de ocurrencias de convolucionar la densidad de ocurrencias con un kernel gaussiano\n",
    "\\begin{equation*}\n",
    "\\rho_{w} (t) = \\int_{-\\infty}^\\infty G(t-t'_{w},\\sigma) v_{w}(t')dt'\n",
    "\\end{equation*}"
   ]
  },
  {
   "cell_type": "code",
   "execution_count": 88,
   "metadata": {
    "collapsed": true
   },
   "outputs": [],
   "source": [
    "from astropy.convolution import convolve, Gaussian1DKernel"
   ]
  },
  {
   "cell_type": "code",
   "execution_count": 89,
   "metadata": {
    "collapsed": true
   },
   "outputs": [],
   "source": [
    "gauss_kernel = Gaussian1DKernel(50)\n",
    "# smoothed_data_gauss[i] = p_w(i)\n",
    "smoothed_data_gauss = convolve(word_darwin_delta, gauss_kernel)"
   ]
  },
  {
   "cell_type": "code",
   "execution_count": 109,
   "metadata": {
    "scrolled": true
   },
   "outputs": [
    {
     "data": {
      "image/png": "[encoded data removed]",
      "text/plain": [
       "<matplotlib.figure.Figure at 0x1b993e70198>"
      ]
     },
     "metadata": {},
     "output_type": "display_data"
    }
   ],
   "source": [
    "plt.figure(figsize(15, 1))\n",
    "plot(smoothed_data_gauss)\n",
    "ylabel('$\\\\rho_{w}$', size=18)\n",
    "xlabel('t', size=18)\n",
    "plt.show()"
   ]
  },
  {
   "cell_type": "markdown",
   "metadata": {},
   "source": [
    "Donde obtuvimos resultados similares a los del paper"
   ]
  },
  {
   "cell_type": "code",
   "execution_count": 133,
   "metadata": {},
   "outputs": [
    {
     "data": {
      "image/png": "[encoded data removed]",
      "text/plain": [
       "<IPython.core.display.Image object>"
      ]
     },
     "execution_count": 133,
     "metadata": {
      "image/png": {
       "width": 800
      }
     },
     "output_type": "execute_result"
    }
   ],
   "source": [
    "from IPython.display import Image\n",
    "Image(\"ref/rate_plants.png\", width=800)"
   ]
  },
  {
   "cell_type": "markdown",
   "metadata": {},
   "source": [
    "Computamos la autocorrelación normalizada de la tasa de ocurrencia\n",
    "\\begin{equation*}\n",
    "c_{w} (t) = \\frac{\\langle \\rho_{w} (t) \\rho_{w} (t + \\tau) \\rangle_{t} - \\langle \\rho_{w} (t) \\rangle_{t} \\langle \\rho_{w} (t + \\tau) \\rangle_{t}}{\\langle \\rho_{w} (t)^{2} \\rangle_{t} - \\langle \\rho_{w} (t) \\rangle_{t}^{2}}\n",
    "\\end{equation*}"
   ]
  },
  {
   "cell_type": "code",
   "execution_count": 91,
   "metadata": {
    "collapsed": true
   },
   "outputs": [],
   "source": [
    "self_corr = np.correlate(smoothed_data_gauss, smoothed_data_gauss,'full')"
   ]
  },
  {
   "cell_type": "code",
   "execution_count": 92,
   "metadata": {
    "collapsed": true
   },
   "outputs": [],
   "source": [
    "paper_corr = ((self_corr / smoothed_data_gauss.shape[0]) - smoothed_data_gauss.mean() ** 2) / smoothed_data_gauss.var()"
   ]
  },
  {
   "cell_type": "code",
   "execution_count": 110,
   "metadata": {
    "scrolled": true
   },
   "outputs": [
    {
     "data": {
      "image/png": "[encoded data removed]",
      "text/plain": [
       "<matplotlib.figure.Figure at 0x1b994257da0>"
      ]
     },
     "metadata": {},
     "output_type": "display_data"
    }
   ],
   "source": [
    "plt.figure(figsize(10, 5))\n",
    "plot(paper_corr[len(smoothed_data_gauss)-1:len(smoothed_data_gauss)+10000])\n",
    "ylabel('Autocorrelación', size=18)\n",
    "xlabel('$\\\\tau$', size=18)\n",
    "plt.show()"
   ]
  },
  {
   "cell_type": "markdown",
   "metadata": {},
   "source": [
    "Donde obtuvimos resultados similares a los del paper"
   ]
  },
  {
   "cell_type": "code",
   "execution_count": 137,
   "metadata": {},
   "outputs": [
    {
     "data": {
      "image/png": "[encoded data removed]",
      "text/plain": [
       "<IPython.core.display.Image object>"
      ]
     },
     "execution_count": 137,
     "metadata": {
      "image/png": {
       "width": 650
      }
     },
     "output_type": "execute_result"
    }
   ],
   "source": [
    "from IPython.display import Image\n",
    "Image(\"ref/autocorr_plants.png\", width=650)"
   ]
  },
  {
   "cell_type": "markdown",
   "metadata": {},
   "source": [
    "Armamos la función que calcula el rate of occurrence y la testeamos en la palabra 'instinct' que es la 2da que usa en el paper"
   ]
  },
  {
   "cell_type": "code",
   "execution_count": 111,
   "metadata": {
    "collapsed": true
   },
   "outputs": [],
   "source": [
    "def rate_of_occurrence(words_list, test_word, sigma=50):\n",
    "    from itertools import count\n",
    "    word_index = [i for i, j in zip(count(), words_list) if j == test_word]\n",
    "    word_delta = [0] * len(words_list)\n",
    "    for index in word_index:\n",
    "        word_delta[index] = 1\n",
    "    from astropy.convolution import convolve, Gaussian1DKernel\n",
    "    gauss_kernel = Gaussian1DKernel(sigma)\n",
    "    word_gauss = convolve(word_delta, gauss_kernel)\n",
    "    return word_gauss"
   ]
  },
  {
   "cell_type": "code",
   "execution_count": 112,
   "metadata": {},
   "outputs": [
    {
     "data": {
      "image/png": "[encoded data removed]",
      "text/plain": [
       "<matplotlib.figure.Figure at 0x1b994738f98>"
      ]
     },
     "metadata": {},
     "output_type": "display_data"
    }
   ],
   "source": [
    "plt.figure(figsize(15, 1))\n",
    "plot(rate_of_occurrence(words_darwin_unpunct, 'instinct'))\n",
    "ylabel('$\\\\rho_{w}$', size=18)\n",
    "xlabel('t', size=18)\n",
    "plt.show()"
   ]
  },
  {
   "cell_type": "code",
   "execution_count": 138,
   "metadata": {},
   "outputs": [
    {
     "data": {
      "image/png": "[encoded data removed]",
      "text/plain": [
       "<IPython.core.display.Image object>"
      ]
     },
     "execution_count": 138,
     "metadata": {
      "image/png": {
       "width": 800
      }
     },
     "output_type": "execute_result"
    }
   ],
   "source": [
    "from IPython.display import Image\n",
    "Image(\"ref/rate_instinct.png\", width=800)"
   ]
  },
  {
   "cell_type": "markdown",
   "metadata": {},
   "source": [
    "Armo la función para calcular la autocorrelación y la pruebo en la palabra 'instinct' que es la 2da que usa en el paper."
   ]
  },
  {
   "cell_type": "code",
   "execution_count": 141,
   "metadata": {
    "collapsed": true
   },
   "outputs": [],
   "source": [
    "def self_correlation(words_list, test_word, sigma=50):\n",
    "    from itertools import count\n",
    "    word_index = [i for i, j in zip(count(), words_list) if j == test_word]\n",
    "    word_delta = [0] * len(words_list)\n",
    "    for index in word_index:\n",
    "        word_delta[index] = 1\n",
    "    from astropy.convolution import convolve, Gaussian1DKernel\n",
    "    gauss_kernel = Gaussian1DKernel(sigma)\n",
    "    word_gauss = convolve(word_delta, gauss_kernel)\n",
    "    import numpy as np\n",
    "    self_corr = np.correlate(word_gauss, word_gauss,'full')\n",
    "    paper_corr = ((self_corr / word_gauss.shape[0]) - word_gauss.mean() ** 2) / word_gauss.var()\n",
    "    return paper_corr[len(word_gauss)-1:]"
   ]
  },
  {
   "cell_type": "code",
   "execution_count": 142,
   "metadata": {},
   "outputs": [
    {
     "data": {
      "image/png": "[encoded data removed]",
      "text/plain": [
       "<matplotlib.figure.Figure at 0x1b995b68240>"
      ]
     },
     "metadata": {},
     "output_type": "display_data"
    }
   ],
   "source": [
    "plt.figure(figsize(15, 5))\n",
    "plot(self_correlation(words_darwin_unpunct, 'instinct')[:10000])\n",
    "ylabel('Autocorrelación', size=18)\n",
    "xlabel('$\\\\tau$', size=18)\n",
    "plt.show()"
   ]
  },
  {
   "cell_type": "code",
   "execution_count": 139,
   "metadata": {},
   "outputs": [
    {
     "data": {
      "image/png": "[encoded data removed]",
      "text/plain": [
       "<IPython.core.display.Image object>"
      ]
     },
     "execution_count": 139,
     "metadata": {
      "image/png": {
       "width": 650
      }
     },
     "output_type": "execute_result"
    }
   ],
   "source": [
    "from IPython.display import Image\n",
    "Image(\"ref/autocorr_instinct.png\", width=650)"
   ]
  },
  {
   "cell_type": "markdown",
   "metadata": {},
   "source": [
    "Observamos que se reproducen los resultados del paper, y que a partir de estas métricas podemos identificar que la distribución de algunas palabras en el texto no es uniforme, indicando patrones de dominio del uso de esas palabras lo reflejaría información semántica asociada."
   ]
  },
  {
   "cell_type": "markdown",
   "metadata": {},
   "source": [
    "<a name=\"2.3\"></a>\n",
    "### 2.3. Entropía"
   ]
  },
  {
   "cell_type": "markdown",
   "metadata": {},
   "source": [
    "Calculamos la entropía. Para eso, separamos el texto en segmentos de aproximadamente la misma cantidad de palabras y calculamos el número de ocurrencias de una palabra (por ejemplo 'plants') en cada una de los segmentos. Ese valor dividido el número total de ocurrencias de la palabra va a dar la probabilidad de que esa palabra aparezca en ese segmento."
   ]
  },
  {
   "cell_type": "code",
   "execution_count": 143,
   "metadata": {},
   "outputs": [
    {
     "data": {
      "text/plain": [
       "[15689, 15689, 15689, 15689, 15689, 15688, 15688, 15688, 15688, 15688]"
      ]
     },
     "execution_count": 143,
     "metadata": {},
     "output_type": "execute_result"
    }
   ],
   "source": [
    "parts= 10\n",
    "[len(segment) for segment in np.array_split(word_darwin_delta, parts)]"
   ]
  },
  {
   "cell_type": "markdown",
   "metadata": {},
   "source": [
    "Si separamos en 10 segmentos, vemos que los 10 segmentos tienen casi el mismo tamaño. La máxima diferencia de tamaños puede ser de 1 palabra, lo que ocurre cuando el total de palabras no es múltiplo del número de segmentos. Ahora calculamos el número de ocurrencias de la palabra en cada segmento."
   ]
  },
  {
   "cell_type": "code",
   "execution_count": 144,
   "metadata": {
    "collapsed": true
   },
   "outputs": [],
   "source": [
    "parts= 10\n",
    "nj = [sum(segment) for segment in np.array_split(word_darwin_delta, parts)]"
   ]
  },
  {
   "cell_type": "markdown",
   "metadata": {},
   "source": [
    "Chequeamos que el total de apariciones siga siendo el mismo"
   ]
  },
  {
   "cell_type": "code",
   "execution_count": 145,
   "metadata": {},
   "outputs": [
    {
     "data": {
      "text/plain": [
       "335"
      ]
     },
     "execution_count": 145,
     "metadata": {},
     "output_type": "execute_result"
    }
   ],
   "source": [
    "sum(nj)"
   ]
  },
  {
   "cell_type": "markdown",
   "metadata": {},
   "source": [
    "Y la probabilidad de encontrar la palabra en cada segmento sería"
   ]
  },
  {
   "cell_type": "code",
   "execution_count": 146,
   "metadata": {
    "collapsed": true
   },
   "outputs": [],
   "source": [
    "parts= 10\n",
    "pj = [sum(segment)/sum(word_darwin_delta) for segment in np.array_split(word_darwin_delta, parts)]"
   ]
  },
  {
   "cell_type": "code",
   "execution_count": 147,
   "metadata": {},
   "outputs": [
    {
     "data": {
      "text/plain": [
       "[0.13134328358208955,\n",
       " 0.17611940298507461,\n",
       " 0.1253731343283582,\n",
       " 0.026865671641791045,\n",
       " 0.026865671641791045,\n",
       " 0.080597014925373134,\n",
       " 0.0089552238805970154,\n",
       " 0.23582089552238805,\n",
       " 0.053731343283582089,\n",
       " 0.13432835820895522]"
      ]
     },
     "execution_count": 147,
     "metadata": {},
     "output_type": "execute_result"
    }
   ],
   "source": [
    "pj"
   ]
  },
  {
   "cell_type": "code",
   "execution_count": 148,
   "metadata": {},
   "outputs": [
    {
     "data": {
      "text/plain": [
       "1.0"
      ]
     },
     "execution_count": 148,
     "metadata": {},
     "output_type": "execute_result"
    }
   ],
   "source": [
    "sum(pj)"
   ]
  },
  {
   "cell_type": "markdown",
   "metadata": {},
   "source": [
    "Con ese valor de probabilidad calculamos la entropía de la palabra *w* para una partición en *P* segmentos.\n",
    "\\begin{equation*}\n",
    "H (J|w) = - \\sum_{j=1}^P p_{j}\\log_{2}[p_{j}]\n",
    "\\end{equation*}"
   ]
  },
  {
   "cell_type": "code",
   "execution_count": 151,
   "metadata": {},
   "outputs": [
    {
     "data": {
      "text/plain": [
       "[0.38465005771685029,\n",
       " 0.4412450146955651,\n",
       " 0.37558028127697823,\n",
       " 0.14018755389589671,\n",
       " 0.14018755389589671,\n",
       " 0.29281941536091044,\n",
       " 0.060922878668274436,\n",
       " 0.49150652667544636,\n",
       " 0.22664376450821136,\n",
       " 0.38903698061401698]"
      ]
     },
     "execution_count": 151,
     "metadata": {},
     "output_type": "execute_result"
    }
   ],
   "source": [
    "[-p*np.log2(p) for p in pj]"
   ]
  },
  {
   "cell_type": "code",
   "execution_count": 169,
   "metadata": {
    "collapsed": true
   },
   "outputs": [],
   "source": [
    "word_entropy = sum([-p*np.log2(p) for p in pj])"
   ]
  },
  {
   "cell_type": "code",
   "execution_count": 154,
   "metadata": {
    "collapsed": true
   },
   "outputs": [],
   "source": [
    "def get_word_entropy(words_list, test_word, parts=10):\n",
    "    from itertools import count\n",
    "    word_index = [i for i, j in zip(count(), words_list) if j == test_word]\n",
    "    word_delta = [0] * len(words_list)\n",
    "    for index in word_index:\n",
    "        word_delta[index] = 1\n",
    "    pj = [sum(segment)/sum(word_delta) for segment in np.array_split(word_delta, parts)]\n",
    "    word_entropy = sum([-p*np.log2(p) for p in pj if p!=0]) # correccion para que se pueda calcular el log, si p=0 entonces no suma nada a la entropia\n",
    "    return word_entropy"
   ]
  },
  {
   "cell_type": "code",
   "execution_count": 155,
   "metadata": {},
   "outputs": [
    {
     "data": {
      "text/plain": [
       "5.2085462341032711"
      ]
     },
     "execution_count": 155,
     "metadata": {},
     "output_type": "execute_result"
    }
   ],
   "source": [
    "get_word_entropy(words_darwin_unpunct, 'plants', parts=64)"
   ]
  },
  {
   "cell_type": "markdown",
   "metadata": {},
   "source": [
    "Y calculamos la entropía para 100 palabras seleccionadas tal que 50 son las más frecuentes y 50 las menos frecuentes."
   ]
  },
  {
   "cell_type": "code",
   "execution_count": 156,
   "metadata": {
    "collapsed": true
   },
   "outputs": [],
   "source": [
    "words_darwin_selected = c_darwin_unpunct.most_common()[0:50] + c_darwin_unpunct.most_common()[-50:]"
   ]
  },
  {
   "cell_type": "code",
   "execution_count": 157,
   "metadata": {
    "collapsed": true
   },
   "outputs": [],
   "source": [
    "words_darwin_selected_entropy = [get_word_entropy(words_darwin_unpunct, word_darwin_selected[0]) for word_darwin_selected in words_darwin_selected]"
   ]
  },
  {
   "cell_type": "code",
   "execution_count": 158,
   "metadata": {},
   "outputs": [
    {
     "data": {
      "image/png": "[encoded data removed]",
      "text/plain": [
       "<matplotlib.figure.Figure at 0x1b995c238d0>"
      ]
     },
     "metadata": {},
     "output_type": "display_data"
    }
   ],
   "source": [
    "plt.figure(figsize(15,5))\n",
    "plot(words_darwin_selected_entropy)\n",
    "plt.show()"
   ]
  },
  {
   "cell_type": "markdown",
   "metadata": {},
   "source": [
    "    Esta bueno porque se ve claramente la diferencia entre valores de entropía. Habría que ver si sería mejor trabajar sólo con palabras y limpiar de la lista seleccionada los números. También se puede ver de hacer un violinplot separando en grupos de: frecuencias altas, frecuencias bajas."
   ]
  },
  {
   "cell_type": "code",
   "execution_count": 279,
   "metadata": {},
   "outputs": [
    {
     "data": {
      "text/plain": [
       "[('275', 1),\n",
       " ('310', 1),\n",
       " ('323', 1),\n",
       " ('382', 1),\n",
       " ('fossilized', 1),\n",
       " ('226', 1),\n",
       " ('483', 1),\n",
       " ('monocanthus', 1),\n",
       " ('musical', 1),\n",
       " ('209', 1),\n",
       " ('453', 1),\n",
       " ('337', 1),\n",
       " ('186', 1),\n",
       " ('319', 1),\n",
       " ('435', 1),\n",
       " ('pheasant', 1),\n",
       " ('335', 1),\n",
       " ('reverting', 1),\n",
       " ('poisonous', 1),\n",
       " ('38', 1),\n",
       " ('french', 1),\n",
       " ('488', 1),\n",
       " ('16', 1),\n",
       " ('459', 1),\n",
       " ('reciprocity', 1),\n",
       " ('273', 1),\n",
       " ('sageret', 1),\n",
       " ('34', 1),\n",
       " ('437', 1),\n",
       " ('164', 1),\n",
       " ('snap', 1),\n",
       " ('54', 1),\n",
       " ('246', 1),\n",
       " ('263', 1),\n",
       " ('265', 1),\n",
       " ('196', 1),\n",
       " ('228', 1),\n",
       " ('446', 1),\n",
       " ('274', 1),\n",
       " ('75', 1),\n",
       " ('423', 1),\n",
       " ('355', 1),\n",
       " ('58', 1),\n",
       " ('367', 1),\n",
       " ('157', 1),\n",
       " ('hymenopterous', 1),\n",
       " ('isles', 1),\n",
       " ('52', 1),\n",
       " ('project', 1),\n",
       " ('gutenberg', 1)]"
      ]
     },
     "execution_count": 279,
     "metadata": {},
     "output_type": "execute_result"
    }
   ],
   "source": [
    "c_darwin_unpunct.most_common()[-50:]"
   ]
  },
  {
   "cell_type": "code",
   "execution_count": 294,
   "metadata": {
    "collapsed": true
   },
   "outputs": [],
   "source": [
    "words_darwin_selected_frequency = [word_darwin_selected[1] for word_darwin_selected in words_darwin_selected]"
   ]
  },
  {
   "cell_type": "code",
   "execution_count": 305,
   "metadata": {},
   "outputs": [
    {
     "data": {
      "image/png": "[encoded data removed]",
      "text/plain": [
       "<matplotlib.figure.Figure at 0x1f530d88fd0>"
      ]
     },
     "metadata": {},
     "output_type": "display_data"
    }
   ],
   "source": [
    "plt.figure(figsize(15,5))\n",
    "scatter(words_darwin_selected_frequency, words_darwin_selected_entropy)\n",
    "plt.xscale('log')\n",
    "plt.grid(True)\n",
    "plt.show()"
   ]
  },
  {
   "cell_type": "markdown",
   "metadata": {},
   "source": [
    "Calculamos la entropía para todas las palabras"
   ]
  },
  {
   "cell_type": "code",
   "execution_count": 162,
   "metadata": {
    "collapsed": true
   },
   "outputs": [],
   "source": [
    "if not os.path.isfile('gutenberg/words_darwin_all_entropy.pkl'):\n",
    "    words_darwin_all_entropy = [get_word_entropy(words_darwin_unpunct, word_darwin_all[0]) for word_darwin_all in c_darwin_unpunct.most_common()]\n",
    "    with open('gutenberg/words_darwin_all_entropy.pkl', 'wb') as f_entropy:\n",
    "        pickle.dump(words_darwin_all_entropy, f_entropy)\n",
    "else:\n",
    "    with open('gutenberg/words_darwin_all_entropy.pkl', 'rb') as f_entropy:\n",
    "        words_darwin_all_entropy = pickle.load(f_entropy)"
   ]
  },
  {
   "cell_type": "code",
   "execution_count": 163,
   "metadata": {
    "collapsed": true
   },
   "outputs": [],
   "source": [
    "if not os.path.isfile('gutenberg/words_darwin_all_frequency.pkl'):\n",
    "    words_darwin_all_frequency = [word_darwin_all[1] for word_darwin_all in c_darwin_unpunct.most_common()]\n",
    "    with open('gutenberg/words_darwin_all_frequency.pkl', 'wb') as f_freq:\n",
    "        pickle.dump(words_darwin_all_frequency, f_freq)\n",
    "else:\n",
    "    with open('gutenberg/words_darwin_all_frequency.pkl', 'rb') as f_freq:\n",
    "        words_darwin_all_frequency = pickle.load(f_freq)"
   ]
  },
  {
   "cell_type": "code",
   "execution_count": 167,
   "metadata": {},
   "outputs": [
    {
     "data": {
      "image/png": "[encoded data removed]",
      "text/plain": [
       "<matplotlib.figure.Figure at 0x1b995f8f940>"
      ]
     },
     "metadata": {},
     "output_type": "display_data"
    }
   ],
   "source": [
    "plt.figure(figsize(15,10))\n",
    "scatter(words_darwin_all_frequency, words_darwin_all_entropy)\n",
    "plt.xscale('log')\n",
    "plt.grid(True)\n",
    "ylabel('Entropía', size=18)\n",
    "xlabel('Frecuencia', size=18)\n",
    "plt.show()"
   ]
  },
  {
   "cell_type": "markdown",
   "metadata": {},
   "source": [
    "Donde se obtiene un resultado similar al del paper."
   ]
  },
  {
   "cell_type": "markdown",
   "metadata": {},
   "source": [
    "<a name=\"2.4\"></a>\n",
    "### 2.4. Randomización"
   ]
  },
  {
   "cell_type": "markdown",
   "metadata": {},
   "source": [
    "Por último se puede calcular estas métricas pero randimizando la posición de las palabras en el texto."
   ]
  },
  {
   "cell_type": "code",
   "execution_count": 330,
   "metadata": {
    "collapsed": true
   },
   "outputs": [],
   "source": [
    "words_darwin_unpunct_random = words_darwin_unpunct.copy()\n",
    "np.random.shuffle(words_darwin_unpunct_random)"
   ]
  },
  {
   "cell_type": "code",
   "execution_count": 331,
   "metadata": {},
   "outputs": [
    {
     "data": {
      "text/plain": [
       "['flight',\n",
       " 'mountains',\n",
       " 'will',\n",
       " 'their',\n",
       " 'it',\n",
       " 'and',\n",
       " 'i',\n",
       " 'ireland',\n",
       " 'wax',\n",
       " 'at',\n",
       " 'frequently',\n",
       " 'yielded',\n",
       " 'destroying',\n",
       " 'slow',\n",
       " 'be',\n",
       " 'differ',\n",
       " 'known',\n",
       " 'australia',\n",
       " 'lately',\n",
       " 'wary',\n",
       " 'importance',\n",
       " 'have',\n",
       " '429',\n",
       " 'and',\n",
       " 'in',\n",
       " 'organs',\n",
       " 'believe',\n",
       " 'is',\n",
       " 'period',\n",
       " 'several',\n",
       " 'already',\n",
       " 'cultivate',\n",
       " 'most',\n",
       " 'crabs',\n",
       " 'beds',\n",
       " 'situated',\n",
       " 'the',\n",
       " 'i',\n",
       " 'away',\n",
       " 'it',\n",
       " 'or',\n",
       " 'hence',\n",
       " 'each',\n",
       " 'can',\n",
       " 'might',\n",
       " 'grapple',\n",
       " 'must',\n",
       " 'on',\n",
       " 'liable',\n",
       " 'to',\n",
       " 'a',\n",
       " 'law',\n",
       " 'must',\n",
       " 'explains',\n",
       " 'other',\n",
       " 'incapable',\n",
       " 'been',\n",
       " 'in',\n",
       " 'settled',\n",
       " 'the',\n",
       " 'part',\n",
       " 'improve',\n",
       " 'and',\n",
       " 'of',\n",
       " 'seems',\n",
       " 'they',\n",
       " 'compensation',\n",
       " 'this',\n",
       " 'amongst',\n",
       " 'northern',\n",
       " 'will',\n",
       " 'the',\n",
       " 'meet',\n",
       " 'late',\n",
       " 'been',\n",
       " 'race',\n",
       " 'admitted',\n",
       " 'transmitted',\n",
       " 'within',\n",
       " 'of',\n",
       " 'each',\n",
       " 'difference',\n",
       " 'of',\n",
       " 'conquer',\n",
       " 'tract',\n",
       " 'of',\n",
       " 'especially',\n",
       " 'past',\n",
       " 'which',\n",
       " 'in',\n",
       " 'together',\n",
       " 'sea',\n",
       " 'that',\n",
       " 'alternative',\n",
       " 'greater',\n",
       " 'in',\n",
       " 'and',\n",
       " 'metamorphosed',\n",
       " 'the',\n",
       " 'i',\n",
       " 'some',\n",
       " 'stems',\n",
       " 'each',\n",
       " 'reptiles',\n",
       " 'and',\n",
       " 'species',\n",
       " 'or',\n",
       " 'that',\n",
       " 'as',\n",
       " 'a',\n",
       " 'on',\n",
       " 'with',\n",
       " 'know',\n",
       " 'large',\n",
       " 'of',\n",
       " 'species',\n",
       " 'is',\n",
       " 'homologous',\n",
       " '373',\n",
       " 'away',\n",
       " 'existence',\n",
       " 'then',\n",
       " 'of',\n",
       " 'appearance',\n",
       " 'been',\n",
       " 'competing',\n",
       " 'possess',\n",
       " 'somewhat',\n",
       " 'more',\n",
       " 'some',\n",
       " 'i',\n",
       " 'to',\n",
       " 'organic',\n",
       " 'has',\n",
       " 'characters',\n",
       " 'and',\n",
       " 'inhabitants',\n",
       " 'female',\n",
       " 'that',\n",
       " 'man',\n",
       " 'w',\n",
       " 'far',\n",
       " 'always',\n",
       " 'i',\n",
       " 'in',\n",
       " 'trilobites',\n",
       " 'fewer',\n",
       " 'by',\n",
       " 'faunas',\n",
       " 'mule',\n",
       " 'to',\n",
       " 'selection',\n",
       " 'd',\n",
       " 'myself',\n",
       " 'degree',\n",
       " 'species',\n",
       " 'the',\n",
       " 'definite',\n",
       " 'caterpillar',\n",
       " '12',\n",
       " 'it',\n",
       " 'it',\n",
       " 'the',\n",
       " 'which',\n",
       " 'are',\n",
       " 'produce',\n",
       " 'excretion',\n",
       " 'isolated',\n",
       " 'formerly',\n",
       " 'under',\n",
       " 'the',\n",
       " 'been',\n",
       " 'in',\n",
       " 'sheep',\n",
       " 'for',\n",
       " 'food',\n",
       " 'struggle',\n",
       " 'pistil',\n",
       " 'in',\n",
       " 'common',\n",
       " 'living',\n",
       " 'species',\n",
       " 'varieties',\n",
       " 'briefly',\n",
       " 'the',\n",
       " 'the',\n",
       " 'which',\n",
       " 'great',\n",
       " 'mocking',\n",
       " 'laid',\n",
       " 'during',\n",
       " 'a',\n",
       " 'called',\n",
       " 'of',\n",
       " 'extremely',\n",
       " 'other',\n",
       " 'that',\n",
       " 'cases',\n",
       " 'the',\n",
       " 'insect',\n",
       " 'same',\n",
       " 'we',\n",
       " 'some',\n",
       " 'we',\n",
       " 'and',\n",
       " 'that',\n",
       " 'together',\n",
       " 'sageret',\n",
       " 'and',\n",
       " 'fish',\n",
       " 'of',\n",
       " 'a',\n",
       " 'the',\n",
       " 'be',\n",
       " 'given',\n",
       " 'convinced',\n",
       " 'parent',\n",
       " 'it',\n",
       " 'importance',\n",
       " 'circle',\n",
       " 'but',\n",
       " 'tell',\n",
       " 'of',\n",
       " 'laws',\n",
       " 'enter',\n",
       " 'species',\n",
       " 'the',\n",
       " 'the',\n",
       " 'some',\n",
       " 'when',\n",
       " '346',\n",
       " 'should',\n",
       " 'and',\n",
       " '142',\n",
       " 'the',\n",
       " 'have',\n",
       " 'general',\n",
       " 'which',\n",
       " 'parts',\n",
       " 'consequently',\n",
       " 'fossils',\n",
       " 'do',\n",
       " 'fish',\n",
       " 'branching',\n",
       " 'if',\n",
       " 'we',\n",
       " 'escaped',\n",
       " 'to',\n",
       " 'of',\n",
       " 'beaten',\n",
       " 'ancestor',\n",
       " 'temperate',\n",
       " 'admirable',\n",
       " 'varieties',\n",
       " 'of',\n",
       " 'and',\n",
       " 'many',\n",
       " 'must',\n",
       " 'chance',\n",
       " 'more',\n",
       " 'know',\n",
       " 'at',\n",
       " 'similar',\n",
       " 'hugh',\n",
       " 'of',\n",
       " 'differences',\n",
       " 'dragon',\n",
       " 'utterly',\n",
       " 'many',\n",
       " 'because',\n",
       " 'that',\n",
       " 'given',\n",
       " 'this',\n",
       " 'latter',\n",
       " 'by',\n",
       " 'reason',\n",
       " 'endeavoured',\n",
       " 'expect',\n",
       " 'feet',\n",
       " 'of',\n",
       " 'long',\n",
       " 'the',\n",
       " 'period',\n",
       " 'are',\n",
       " 'produced',\n",
       " 'they',\n",
       " 'judges',\n",
       " 'adapted',\n",
       " 'verbascum',\n",
       " 'from',\n",
       " 'are',\n",
       " 'in',\n",
       " 'a',\n",
       " 'the',\n",
       " 'islands',\n",
       " 'really',\n",
       " 'other',\n",
       " 'islands',\n",
       " 'most',\n",
       " 'their',\n",
       " 'must',\n",
       " 'of',\n",
       " '393',\n",
       " 'lately',\n",
       " 'points',\n",
       " 'that',\n",
       " 'have',\n",
       " 'the',\n",
       " 'partially',\n",
       " 'the',\n",
       " 'whether',\n",
       " 'cautious',\n",
       " 'but',\n",
       " 'some',\n",
       " 'i',\n",
       " 'inherited',\n",
       " 'the',\n",
       " 'is',\n",
       " 'all',\n",
       " 'the',\n",
       " 'could',\n",
       " 'has',\n",
       " 'considerations',\n",
       " 'as',\n",
       " 'and',\n",
       " 'on',\n",
       " 'of',\n",
       " 'and',\n",
       " 'take',\n",
       " 'in',\n",
       " 'some',\n",
       " 'the',\n",
       " 'substantially',\n",
       " 'namely',\n",
       " 'they',\n",
       " 'view',\n",
       " 'in',\n",
       " 'puppies',\n",
       " 'notwithstanding',\n",
       " 'not',\n",
       " 'is',\n",
       " 'system',\n",
       " 'even',\n",
       " 'splendid',\n",
       " 'now',\n",
       " 'same',\n",
       " 'by',\n",
       " 'why',\n",
       " 'to',\n",
       " 'caves',\n",
       " 'to',\n",
       " 'or',\n",
       " 'spread',\n",
       " 'in',\n",
       " 'ill',\n",
       " 'thought',\n",
       " 'yet',\n",
       " 'causes',\n",
       " 'links',\n",
       " 'in',\n",
       " 'and',\n",
       " 'of',\n",
       " 'out',\n",
       " 'be',\n",
       " 'spike',\n",
       " 'been',\n",
       " 'of',\n",
       " 'almost',\n",
       " 'i',\n",
       " 'some',\n",
       " 'much',\n",
       " 'adaptive',\n",
       " 'that',\n",
       " 'separated',\n",
       " 'other',\n",
       " 'doubt',\n",
       " 'in',\n",
       " 'distinct',\n",
       " 'it',\n",
       " 'so',\n",
       " 'are',\n",
       " 'forms',\n",
       " 'the',\n",
       " 'distinct',\n",
       " 'varieties',\n",
       " 'it',\n",
       " 'certain',\n",
       " 'ass',\n",
       " 'during',\n",
       " 'a',\n",
       " 'floated',\n",
       " 'of',\n",
       " 'in',\n",
       " 'recent',\n",
       " 'to',\n",
       " 'one',\n",
       " 'be',\n",
       " 'affinities',\n",
       " 'the',\n",
       " 'of',\n",
       " 'utter',\n",
       " 'subject',\n",
       " 'called',\n",
       " 'might',\n",
       " 'the',\n",
       " 'the',\n",
       " '325',\n",
       " 'at',\n",
       " 'that',\n",
       " 'nearest',\n",
       " 'that',\n",
       " 'foregoing',\n",
       " 'witnessed',\n",
       " 'from',\n",
       " 'the',\n",
       " 'of',\n",
       " 'are',\n",
       " 'time',\n",
       " 'some',\n",
       " 'with',\n",
       " 'commoner',\n",
       " 'rare',\n",
       " 'finally',\n",
       " 'and',\n",
       " 'clear',\n",
       " 'of',\n",
       " 'of',\n",
       " 'fertilised',\n",
       " 'have',\n",
       " 'would',\n",
       " 'are',\n",
       " 'different',\n",
       " 'these',\n",
       " 'of',\n",
       " 'we',\n",
       " 'classed',\n",
       " 'great',\n",
       " 'may',\n",
       " 'to',\n",
       " 'in',\n",
       " 'general',\n",
       " 'between',\n",
       " 'swallow',\n",
       " 'genera',\n",
       " 'man',\n",
       " 'a',\n",
       " 'cases',\n",
       " 'causing',\n",
       " 'species',\n",
       " 'unanimously',\n",
       " 'obvious',\n",
       " 'with',\n",
       " 'sub',\n",
       " 'birds',\n",
       " 'nine',\n",
       " 'a',\n",
       " 'been',\n",
       " 'the',\n",
       " 'period',\n",
       " 'lost',\n",
       " 'of',\n",
       " 'reason',\n",
       " 'pigeon',\n",
       " 'relations',\n",
       " 'and',\n",
       " 'even',\n",
       " 'fossil',\n",
       " 'considered',\n",
       " 'to',\n",
       " 'by',\n",
       " 'more',\n",
       " 'some',\n",
       " 'development',\n",
       " 'the',\n",
       " 'as',\n",
       " 'at',\n",
       " 'switzerland',\n",
       " 'as',\n",
       " 'pachyderms',\n",
       " 'must',\n",
       " 'as',\n",
       " 'it',\n",
       " 'to',\n",
       " 'the',\n",
       " 'in',\n",
       " 'food',\n",
       " 'be',\n",
       " 'newts',\n",
       " 'seized',\n",
       " 'to',\n",
       " 'hybrids',\n",
       " 'alone',\n",
       " 'to',\n",
       " 'variation',\n",
       " 'nature',\n",
       " 'forms',\n",
       " 'there',\n",
       " 'of',\n",
       " 'larger',\n",
       " 'at',\n",
       " 'height',\n",
       " 'species',\n",
       " 'nature',\n",
       " 'succeed',\n",
       " 'probably',\n",
       " 'comes',\n",
       " 'necessarily',\n",
       " 'of',\n",
       " 'unseen',\n",
       " 'hybrids',\n",
       " 'he',\n",
       " 'subsequently',\n",
       " 'could',\n",
       " 'species',\n",
       " 'under',\n",
       " 'our',\n",
       " 'larvae',\n",
       " 'answer',\n",
       " 'or',\n",
       " 'there',\n",
       " 'the',\n",
       " 'is',\n",
       " '339',\n",
       " 'doubted',\n",
       " 'the',\n",
       " 'many',\n",
       " 'turf',\n",
       " 'term',\n",
       " 'distinct',\n",
       " 'naturalised',\n",
       " 'species',\n",
       " 'birds',\n",
       " 'deposited',\n",
       " 'the',\n",
       " 'in',\n",
       " 'independently',\n",
       " 'remarked',\n",
       " 'tide',\n",
       " 'same',\n",
       " 'will',\n",
       " 'of',\n",
       " 'in',\n",
       " 'we',\n",
       " 'descendants',\n",
       " 'almost',\n",
       " 'elephant',\n",
       " 'late',\n",
       " 'to',\n",
       " 'days',\n",
       " 'period',\n",
       " 'be',\n",
       " 'but',\n",
       " 'and',\n",
       " 'will',\n",
       " 'varieties',\n",
       " 'again',\n",
       " 'accounted',\n",
       " 'which',\n",
       " 'they',\n",
       " 'how',\n",
       " 'of',\n",
       " 'three',\n",
       " 'round',\n",
       " 'have',\n",
       " 'when',\n",
       " 'sub',\n",
       " 'and',\n",
       " 'the',\n",
       " 'many',\n",
       " 'in',\n",
       " 'we',\n",
       " 'the',\n",
       " 'theory',\n",
       " 'to',\n",
       " 'to',\n",
       " 'even',\n",
       " 'by',\n",
       " 'animals',\n",
       " 'other',\n",
       " 'to',\n",
       " 'are',\n",
       " 'mr',\n",
       " 'a',\n",
       " 'partially',\n",
       " 'allied',\n",
       " 'will',\n",
       " 'the',\n",
       " 'new',\n",
       " 'with',\n",
       " 'group',\n",
       " 'size',\n",
       " 'again',\n",
       " 'think',\n",
       " 'be',\n",
       " 'is',\n",
       " 'external',\n",
       " 'if',\n",
       " 'the',\n",
       " 'almost',\n",
       " 'provinces',\n",
       " 'at',\n",
       " 'closely',\n",
       " 'studied',\n",
       " 'floated',\n",
       " 'during',\n",
       " 'the',\n",
       " 'which',\n",
       " 'a',\n",
       " 'in',\n",
       " 'by',\n",
       " 'a',\n",
       " 'which',\n",
       " 'to',\n",
       " 'deg',\n",
       " 'have',\n",
       " '226',\n",
       " 'may',\n",
       " 'natural',\n",
       " 'a',\n",
       " 'to',\n",
       " 'habits',\n",
       " 'may',\n",
       " 'some',\n",
       " 'acquired',\n",
       " 'if',\n",
       " 'of',\n",
       " 'earth',\n",
       " 'value',\n",
       " 'of',\n",
       " 'wall',\n",
       " 'or',\n",
       " 'when',\n",
       " 'creation',\n",
       " 'with',\n",
       " 'profitable',\n",
       " 'a',\n",
       " 'i',\n",
       " 'of',\n",
       " 'it',\n",
       " 'power',\n",
       " 'particular',\n",
       " 'of',\n",
       " 'be',\n",
       " 'detail',\n",
       " 'species',\n",
       " 'not',\n",
       " 'by',\n",
       " 'natural',\n",
       " 'some',\n",
       " 'the',\n",
       " 'appendage',\n",
       " 'can',\n",
       " 'correlation',\n",
       " 'overlooked',\n",
       " 'these',\n",
       " 'in',\n",
       " 'by',\n",
       " 'the',\n",
       " 'flatten',\n",
       " 'an',\n",
       " 'hermaphrodites',\n",
       " 'same',\n",
       " 'disappearance',\n",
       " 'effects',\n",
       " 'the',\n",
       " 'but',\n",
       " 'quadrupeds',\n",
       " 'cape',\n",
       " 'the',\n",
       " 'of',\n",
       " 'in',\n",
       " 'rich',\n",
       " 'occurred',\n",
       " 'of',\n",
       " 'in',\n",
       " 'with',\n",
       " 'the',\n",
       " 'gestures',\n",
       " 'of',\n",
       " 'their',\n",
       " 'it',\n",
       " 'conversion',\n",
       " 'natural',\n",
       " 'areas',\n",
       " 'forms',\n",
       " 'we',\n",
       " 'wild',\n",
       " 'of',\n",
       " 'give',\n",
       " 'useful',\n",
       " 'it',\n",
       " 'be',\n",
       " 'affects',\n",
       " 'animal',\n",
       " 'with',\n",
       " 'very',\n",
       " 'parent',\n",
       " 'progenitors',\n",
       " 'see',\n",
       " 'islands',\n",
       " 'which',\n",
       " 'stopping',\n",
       " 'important',\n",
       " 'epoch',\n",
       " 'look',\n",
       " 'period',\n",
       " 'a',\n",
       " 'naturalists',\n",
       " 'uniform',\n",
       " 'gartner',\n",
       " 'nature',\n",
       " 'inhabiting',\n",
       " 'vigour',\n",
       " 'as',\n",
       " 'older',\n",
       " 'much',\n",
       " 'lat',\n",
       " 'we',\n",
       " 'for',\n",
       " 'and',\n",
       " 'causing',\n",
       " 'be',\n",
       " 'feeling',\n",
       " 'and',\n",
       " 'intermediate',\n",
       " 'of',\n",
       " 'our',\n",
       " 'physical',\n",
       " 'effects',\n",
       " 'often',\n",
       " 'generally',\n",
       " 'purposes',\n",
       " 'curious',\n",
       " 'this',\n",
       " 'as',\n",
       " 'c',\n",
       " 'their',\n",
       " 'but',\n",
       " 'know',\n",
       " 'they',\n",
       " 'future',\n",
       " 'alternate',\n",
       " 'convinced',\n",
       " 'different',\n",
       " 'of',\n",
       " 'so',\n",
       " 'fur',\n",
       " 'give',\n",
       " 'the',\n",
       " 'during',\n",
       " 'intercrossing',\n",
       " 'kind',\n",
       " 'escarpments',\n",
       " 'the',\n",
       " 'the',\n",
       " 'and',\n",
       " 'by',\n",
       " 'reason',\n",
       " 'to',\n",
       " 'closely',\n",
       " 'peculiar',\n",
       " 'the',\n",
       " 'the',\n",
       " 'of',\n",
       " 'are',\n",
       " 'they',\n",
       " 'relation',\n",
       " 'has',\n",
       " 'during',\n",
       " 'same',\n",
       " 'systematists',\n",
       " 'remarked',\n",
       " 'so',\n",
       " 'has',\n",
       " 'namely',\n",
       " 'to',\n",
       " 'little',\n",
       " 'with',\n",
       " 'a',\n",
       " 'in',\n",
       " 'undergo',\n",
       " 'by',\n",
       " 'of',\n",
       " 'hooker',\n",
       " 'its',\n",
       " 'to',\n",
       " 'the',\n",
       " 'in',\n",
       " 'archipelago',\n",
       " 'extent',\n",
       " 'belonging',\n",
       " 'me',\n",
       " 'but',\n",
       " 'of',\n",
       " 'together',\n",
       " 'and',\n",
       " 'few',\n",
       " 'sunken',\n",
       " 'to',\n",
       " 'belonging',\n",
       " 'pacific',\n",
       " 'acquired',\n",
       " 'the',\n",
       " 'theory',\n",
       " 'english',\n",
       " 'and',\n",
       " 'on',\n",
       " 'why',\n",
       " 'probable',\n",
       " 'then',\n",
       " 'of',\n",
       " 'that',\n",
       " 'remarked',\n",
       " 'allowing',\n",
       " 'intervals',\n",
       " 'the',\n",
       " 'quite',\n",
       " 'a',\n",
       " 'in',\n",
       " 'been',\n",
       " 'many',\n",
       " 'same',\n",
       " 'expressed',\n",
       " 'be',\n",
       " 'difficulty',\n",
       " 'the',\n",
       " 'several',\n",
       " 'are',\n",
       " 'which',\n",
       " 'that',\n",
       " 'much',\n",
       " 'long',\n",
       " 'in',\n",
       " 'to',\n",
       " 'yet',\n",
       " 'there',\n",
       " 'he',\n",
       " 'repeated',\n",
       " 'same',\n",
       " 'it',\n",
       " 'distance',\n",
       " 'would',\n",
       " 'record',\n",
       " 'of',\n",
       " 'long',\n",
       " '190',\n",
       " 'ground',\n",
       " 'modern',\n",
       " 'in',\n",
       " 'adapted',\n",
       " 'these',\n",
       " 'plants',\n",
       " 'producing',\n",
       " 'thus',\n",
       " 'me',\n",
       " 'the',\n",
       " 'just',\n",
       " 'of',\n",
       " 'a',\n",
       " 'and',\n",
       " 'have',\n",
       " 'the',\n",
       " 'the',\n",
       " 'generally',\n",
       " 'to',\n",
       " 'thoroughly',\n",
       " 'amount',\n",
       " 'those',\n",
       " 'and',\n",
       " 'i',\n",
       " 'they',\n",
       " 'habits',\n",
       " 'descended',\n",
       " 'hybrids',\n",
       " 'the',\n",
       " 'to',\n",
       " 'or',\n",
       " 'as',\n",
       " 'sank',\n",
       " 'immigration',\n",
       " 'on',\n",
       " 'to',\n",
       " 'an',\n",
       " 'outside',\n",
       " 'the',\n",
       " 'very',\n",
       " 'and',\n",
       " 'exceptional',\n",
       " 'natural',\n",
       " 'find',\n",
       " 'must',\n",
       " 'facts',\n",
       " 'discoveries',\n",
       " 'the',\n",
       " 'the',\n",
       " 'soon',\n",
       " 'of',\n",
       " 'raised',\n",
       " 'when',\n",
       " 'on',\n",
       " 'the',\n",
       " 'of',\n",
       " 'inhabitants',\n",
       " 'embedded',\n",
       " 'flower',\n",
       " 'to',\n",
       " 'seem',\n",
       " 'pollen',\n",
       " 'are',\n",
       " 'and',\n",
       " 'informed',\n",
       " 'out',\n",
       " 'duration',\n",
       " 'to',\n",
       " 'but',\n",
       " 'the',\n",
       " 'that',\n",
       " 'the',\n",
       " 'because',\n",
       " 'black',\n",
       " 'generally',\n",
       " 'remember',\n",
       " 'will',\n",
       " 'the',\n",
       " 'purpose',\n",
       " 'slave',\n",
       " 'of',\n",
       " 'like',\n",
       " 'these',\n",
       " 'snakes',\n",
       " 'at',\n",
       " 'subjected',\n",
       " 'period',\n",
       " 'feathers',\n",
       " 'by',\n",
       " 'thus',\n",
       " 'very',\n",
       " 'to',\n",
       " 'any',\n",
       " 'high',\n",
       " 'the',\n",
       " 'together',\n",
       " '366',\n",
       " 'genera',\n",
       " 'of',\n",
       " 'act',\n",
       " 'accounted',\n",
       " 'on',\n",
       " 'families',\n",
       " 'and',\n",
       " 'cause',\n",
       " 'i',\n",
       " 'generally',\n",
       " 'may',\n",
       " 'from',\n",
       " 'years',\n",
       " 'be',\n",
       " 'the',\n",
       " 'of',\n",
       " 'organic',\n",
       " 'explained',\n",
       " 'natural',\n",
       " 'to',\n",
       " 'different',\n",
       " 'generally',\n",
       " 'means',\n",
       " 'now',\n",
       " 'every',\n",
       " 'it',\n",
       " 'which',\n",
       " 'for',\n",
       " 'they',\n",
       " 'ear',\n",
       " '62',\n",
       " 'function',\n",
       " 'harassed',\n",
       " 'many',\n",
       " 'england',\n",
       " 'long',\n",
       " 'which',\n",
       " 'habit',\n",
       " 'tells',\n",
       " 'great',\n",
       " 'remained',\n",
       " 'groups',\n",
       " 'the',\n",
       " 'severe',\n",
       " 'conclude',\n",
       " 'or',\n",
       " 'perhaps',\n",
       " 'and',\n",
       " 'these',\n",
       " 'process',\n",
       " 'we',\n",
       " 'gallinaceous',\n",
       " 'beat',\n",
       " 'suspect',\n",
       " 'do',\n",
       " 'feathers',\n",
       " 'this',\n",
       " ...]"
      ]
     },
     "execution_count": 331,
     "metadata": {},
     "output_type": "execute_result"
    }
   ],
   "source": [
    "words_darwin_unpunct_random"
   ]
  },
  {
   "cell_type": "code",
   "execution_count": null,
   "metadata": {
    "collapsed": true
   },
   "outputs": [],
   "source": []
  },
  {
   "cell_type": "markdown",
   "metadata": {},
   "source": [
    "<a name=\"embeddings\"></a>\n",
    "## 3. Word embeddings, distancia semántica y Word-Net "
   ]
  },
  {
   "cell_type": "code",
   "execution_count": null,
   "metadata": {
    "collapsed": true
   },
   "outputs": [],
   "source": [
    "import gensim\n",
    "import itertools\n",
    "import re\n",
    "import nltk\n",
    "import os\n",
    "import pickle\n",
    "import numpy as np"
   ]
  },
  {
   "cell_type": "markdown",
   "metadata": {},
   "source": [
    "Parseamos TASA"
   ]
  },
  {
   "cell_type": "code",
   "execution_count": null,
   "metadata": {
    "collapsed": true
   },
   "outputs": [],
   "source": [
    "with open('tasa', 'r') as f:\n",
    "    all_tasa = f.read()"
   ]
  },
  {
   "cell_type": "code",
   "execution_count": null,
   "metadata": {
    "collapsed": true
   },
   "outputs": [],
   "source": [
    "tasa_documents = [doc for doc in all_tasa.split('\\n\\n') if len(doc) > 0]"
   ]
  },
  {
   "cell_type": "code",
   "execution_count": null,
   "metadata": {
    "collapsed": true
   },
   "outputs": [],
   "source": [
    "def get_tas_doc_id(tasa_doc):\n",
    "    first_line = tasa_doc.split('\\n', 2)[0]\n",
    "    doc_id = re.match('\\[([a-zA-Z0-9\\.]*)\\]', first_line).groups()[0]\n",
    "    return doc_id"
   ]
  },
  {
   "cell_type": "code",
   "execution_count": null,
   "metadata": {
    "collapsed": true
   },
   "outputs": [],
   "source": [
    "import string\n",
    "punc_translator = str.maketrans(dict(zip(string.punctuation, [None] * len(string.punctuation))))\n",
    "def tokenize(string):\n",
    "    'Returns list of tokens'\n",
    "    # TODO: Cambiar split por: https://stackoverflow.com/questions/15547409/how-to-get-rid-of-punctuation-using-nltk-tokenizer\n",
    "    #words = string.split(' ')  # [Palabra]\n",
    "    retoken = [ t.lower()\n",
    "        for t in nltk.word_tokenize(string)\n",
    "    ] \n",
    "    no_punt = [ t\n",
    "        for t in retoken\n",
    "        if t.translate(punc_translator) != ''\n",
    "    ]\n",
    "    \n",
    "    return no_punt "
   ]
  },
  {
   "cell_type": "code",
   "execution_count": null,
   "metadata": {
    "collapsed": true
   },
   "outputs": [],
   "source": [
    "def get_tasa_doc_tokens(tasa_doc):\n",
    "    text = ' '.join([\n",
    "            l.strip().replace('\\n', '') \n",
    "            for l in tasa_doc.split('[S]')[1:]\n",
    "        ])\n",
    "    return tokenize(text)"
   ]
  },
  {
   "cell_type": "code",
   "execution_count": null,
   "metadata": {
    "collapsed": true
   },
   "outputs": [],
   "source": [
    "PICKLES_DIR = 'pickles'\n",
    "EJ3_TASA_TOKENS_PATH = os.path.join(PICKLES_DIR, 'tasa_tokens.pkl')\n",
    "if not os.path.isdir(PICKLES_DIR):\n",
    "    os.mkdir(PICKLES_DIR)\n",
    "\n",
    "if not os.path.isfile(EJ3_TASA_TOKENS_PATH):\n",
    "    tasa_tokens = []\n",
    "    for tasa_doc in tasa_documents:\n",
    "        tasa_tokens.append(\n",
    "            (get_tas_doc_id(tasa_doc), get_tasa_doc_tokens(tasa_doc))\n",
    "        )\n",
    "    tasa_tokens = dict(tasa_tokens)\n",
    "    \n",
    "    with open(EJ3_TASA_TOKENS_PATH, 'wb') as f:\n",
    "        pickle.dump(tasa_tokens, f)\n",
    "else:\n",
    "    with open(EJ3_TASA_TOKENS_PATH, 'rb') as f:\n",
    "        tasa_tokens = pickle.load(f)"
   ]
  },
  {
   "cell_type": "markdown",
   "metadata": {},
   "source": [
    "#### Entrenamos LSI (LSA Indexing)"
   ]
  },
  {
   "cell_type": "code",
   "execution_count": null,
   "metadata": {
    "collapsed": true
   },
   "outputs": [],
   "source": [
    "TASA_LSI_PATH = os.path.join(PICKLES_DIR, 'tasa_lsi.lsi')"
   ]
  },
  {
   "cell_type": "code",
   "execution_count": null,
   "metadata": {
    "collapsed": true
   },
   "outputs": [],
   "source": [
    "if not os.path.isfile(TASA_LSI_PATH):\n",
    "    tasa_dict = gensim.corpora.Dictionary(tasa_tokens.values())\n",
    "    \n",
    "    tasa_corpus = { \n",
    "        doc_id : tasa_dict.doc2bow(tokens)\n",
    "        for doc_id, tokens in tasa_tokens.items()\n",
    "    }\n",
    "    \n",
    "    tasa_lsi = gensim.models.lsimodel.LsiModel(corpus=tasa_corpus.values(), \n",
    "                                               id2word=tasa_dict, \n",
    "                                               num_topics=300)\n",
    "    \n",
    "    tasa_lsi.save(TASA_LSI_PATH)\n",
    "else:\n",
    "    tasa_lsi = gensim.models.LsiModel.load(TASA_LSI_PATH)"
   ]
  },
  {
   "cell_type": "markdown",
   "metadata": {},
   "source": [
    "Parseamos WordSim"
   ]
  },
  {
   "cell_type": "code",
   "execution_count": null,
   "metadata": {
    "collapsed": true
   },
   "outputs": [],
   "source": [
    "import pandas as pd\n",
    "ws = pd.DataFrame.from_csv('wordsim/combined.csv', index_col=None)"
   ]
  },
  {
   "cell_type": "code",
   "execution_count": null,
   "metadata": {
    "collapsed": true
   },
   "outputs": [],
   "source": [
    "ws.columns = ['w1', 'w2', 'human_dist']"
   ]
  },
  {
   "cell_type": "code",
   "execution_count": null,
   "metadata": {
    "collapsed": true
   },
   "outputs": [],
   "source": [
    "ws.head()"
   ]
  },
  {
   "cell_type": "code",
   "execution_count": null,
   "metadata": {
    "collapsed": true
   },
   "outputs": [],
   "source": [
    "from scipy.spatial.distance import cosine"
   ]
  },
  {
   "cell_type": "code",
   "execution_count": null,
   "metadata": {
    "collapsed": true
   },
   "outputs": [],
   "source": [
    "def tasa_dist(word_1, word_2, tasa_dict=tasa_dict, tasa_lsi=tasa_lsi):\n",
    "    w_id_1 = tasa_dict.doc2bow([word_1])\n",
    "    w_id_2 = tasa_dict.doc2bow([word_2])\n",
    "    if len(w_id_1) == 0 or len(w_id_2) == 0:\n",
    "        return None\n",
    "    wv1 = tasa_lsi[w_id_1]\n",
    "    wv2 = tasa_lsi[w_id_2]\n",
    "    csc1 = gensim.matutils.corpus2dense([wv1], 300).reshape(-1)\n",
    "    csc2 = gensim.matutils.corpus2dense([wv2], 300).reshape(-1)\n",
    "    return ((1 + (1 - cosine(csc1, csc2))) / 2) * 10"
   ]
  },
  {
   "cell_type": "code",
   "execution_count": null,
   "metadata": {
    "collapsed": true
   },
   "outputs": [],
   "source": [
    "ws['lsi'] = [tasa_dist(*r[1][['w1', 'w2']]) for r in ws.iterrows()]"
   ]
  },
  {
   "cell_type": "markdown",
   "metadata": {},
   "source": [
    "### Word2Vec"
   ]
  },
  {
   "cell_type": "code",
   "execution_count": null,
   "metadata": {
    "collapsed": true
   },
   "outputs": [],
   "source": [
    "TASA_WV_PATH = os.path.join(PICKLES_DIR, 'tasa_wv.wv')"
   ]
  },
  {
   "cell_type": "code",
   "execution_count": null,
   "metadata": {
    "collapsed": true
   },
   "outputs": [],
   "source": [
    "if not os.path.isdir(TASA_LSI_PATH):\n",
    "    tasa_wv = gensim.models.Word2Vec(list(tasa_tokens.values()), workers=4)\n",
    "    tasa_wv.save(TASA_WV_PATH)\n",
    "else:\n",
    "    tasa_wv = gensim.models.Word2Vec.load(TASA_WV_PATH)"
   ]
  },
  {
   "cell_type": "code",
   "execution_count": null,
   "metadata": {
    "collapsed": true
   },
   "outputs": [],
   "source": [
    "word_sim_wv = []\n",
    "for r in ws.iterrows():\n",
    "    w1, w2 = r[1][['w1', 'w2']]\n",
    "    try:\n",
    "        word_sim_wv.append(tasa_wv.similarity(w1, w2))\n",
    "    except KeyError:\n",
    "        word_sim_wv.append(None)"
   ]
  },
  {
   "cell_type": "code",
   "execution_count": null,
   "metadata": {
    "collapsed": true
   },
   "outputs": [],
   "source": [
    "dif_nan = np.nonzero(pd.isnull(ws['lsi']) != pd.isnull(ws['wv']))"
   ]
  },
  {
   "cell_type": "code",
   "execution_count": null,
   "metadata": {
    "collapsed": true
   },
   "outputs": [],
   "source": [
    "ws.iloc[dif_nan]"
   ]
  },
  {
   "cell_type": "code",
   "execution_count": null,
   "metadata": {
    "collapsed": true
   },
   "outputs": [],
   "source": []
  },
  {
   "cell_type": "code",
   "execution_count": null,
   "metadata": {
    "collapsed": true
   },
   "outputs": [],
   "source": []
  },
  {
   "cell_type": "code",
   "execution_count": null,
   "metadata": {
    "collapsed": true
   },
   "outputs": [],
   "source": []
  },
  {
   "cell_type": "code",
   "execution_count": null,
   "metadata": {
    "collapsed": true
   },
   "outputs": [],
   "source": []
  }
 ],
 "metadata": {
  "anaconda-cloud": {},
  "kernelspec": {
   "display_name": "Python 3",
   "language": "python",
   "name": "python3"
  },
  "language_info": {
   "codemirror_mode": {
    "name": "ipython",
    "version": 3
   },
   "file_extension": ".py",
   "mimetype": "text/x-python",
   "name": "python",
   "nbconvert_exporter": "python",
   "pygments_lexer": "ipython3",
   "version": "3.6.1"
  }
 },
 "nbformat": 4,
 "nbformat_minor": 1
}

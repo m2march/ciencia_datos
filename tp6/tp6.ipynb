{
 "cells": [
  {
   "cell_type": "markdown",
   "metadata": {},
   "source": [
    "# Trabajo Práctico 6: Procesamiento de Lenguaje Natural"
   ]
  },
  {
   "cell_type": "markdown",
   "metadata": {},
   "source": [
    "<p style=\"text-align: justify;\">\n",
    "En el marco de la materia optativa *Ciencia de Datos* estudiamos las técnicas de *Natural Language Processing*. En la [página web de la materia](http://www.dc.uba.ar/materias/cienciadatos) se encuentran disponibles las [referencias teóricas](http://www.dc.uba.ar/materias/cienciadatos/teoricas/Intro%20a%20NLP.pdf/view) y la [guía](http://www.dc.uba.ar/materias/cienciadatos/tps/tp6/tp-texto.pdf/view) para el desarrollo de los análisis correspondientes. Como bibliografía adicional para todo el trabajo se utilizó el [libro de Jurafsky & Martin](https://web.stanford.edu/~jurafsky/slp3/).\n",
    "</p> "
   ]
  },
  {
   "cell_type": "markdown",
   "metadata": {},
   "source": [
    "## Tabla de Contenidos \n",
    "\n",
    "<!-- MarkdownTOC autolink=true autoanchor=true bracket=round -->\n",
    "\n",
    "- [1. Asociación de palabras](#asociacion)\n",
    "    - [1.1. Corpus](#1.1)\n",
    "    - [1.2. Vocabulario](#1.2)\n",
    "    - [1.3. Métricas](#1.3)\n",
    "- [2. Información léxica](#lexica)\n",
    "    - [2.1. Tokenización](#2.1)\n",
    "    - [2.2. Autocorrelación](#2.2)\n",
    "    - [2.3. Entropía](#2.3)\n",
    "    - [2.4. Randomización](#2.4)\n",
    "- [3. Word embeddings, distancia semántica y Word-Net](#embeddings)\n",
    "<!-- /MarkdownTOC -->"
   ]
  },
  {
   "cell_type": "markdown",
   "metadata": {},
   "source": [
    "<a name=\"asociacion\"></a>\n",
    "## 1. Asociación de palabras"
   ]
  },
  {
   "cell_type": "markdown",
   "metadata": {},
   "source": [
    "Para el análisis de asociación de palabras se utilizaron [datos](http://www.dc.uba.ar/materias/cienciadatos/tps/tp6/ap.tgz/view) de corpus de noticias de la agencia Associated Press de Estados Unidos, a los cuales se aplicaron métricas descriptas en [Church & Hanks 1990](https://dl.acm.org/citation.cfm?id=89095)."
   ]
  },
  {
   "cell_type": "code",
   "execution_count": 1,
   "metadata": {
    "collapsed": false
   },
   "outputs": [
    {
     "name": "stdout",
     "output_type": "stream",
     "text": [
      "Using matplotlib backend: Qt5Agg\n",
      "Populating the interactive namespace from numpy and matplotlib\n"
     ]
    }
   ],
   "source": [
    "%pylab\n",
    "%matplotlib inline"
   ]
  },
  {
   "cell_type": "code",
   "execution_count": 2,
   "metadata": {
    "collapsed": false
   },
   "outputs": [],
   "source": [
    "import numpy as np\n",
    "import scipy as sp\n",
    "import nltk\n",
    "import string\n",
    "import itertools\n",
    "import os\n",
    "import pickle\n",
    "import itertools\n",
    "import gensim\n",
    "from collections import Counter, OrderedDict, defaultdict"
   ]
  },
  {
   "cell_type": "code",
   "execution_count": 3,
   "metadata": {
    "collapsed": false
   },
   "outputs": [
    {
     "name": "stdout",
     "output_type": "stream",
     "text": [
      "[nltk_data] Downloading package wordnet to /home/march/nltk_data...\n",
      "[nltk_data]   Package wordnet is already up-to-date!\n",
      "[nltk_data] Downloading package punkt to /home/march/nltk_data...\n",
      "[nltk_data]   Package punkt is already up-to-date!\n"
     ]
    },
    {
     "data": {
      "text/plain": [
       "True"
      ]
     },
     "execution_count": 3,
     "metadata": {},
     "output_type": "execute_result"
    }
   ],
   "source": [
    "nltk.download('wordnet')\n",
    "nltk.download('punkt')"
   ]
  },
  {
   "cell_type": "markdown",
   "metadata": {},
   "source": [
    "<a name=\"1.1\"></a>\n",
    "### 1.1. Corpus"
   ]
  },
  {
   "cell_type": "markdown",
   "metadata": {},
   "source": [
    "Comenzamos exportando los datos del archivo .tgz"
   ]
  },
  {
   "cell_type": "code",
   "execution_count": 4,
   "metadata": {
    "collapsed": true
   },
   "outputs": [],
   "source": [
    "if not os.path.isdir('ap'):\n",
    "    import tarfile\n",
    "    tar = tarfile.open('ap.tgz')\n",
    "    tar.extractall()"
   ]
  },
  {
   "cell_type": "markdown",
   "metadata": {},
   "source": [
    "Sobre el archivo .txt que contiene los datos de AP en xml aplicamos un parser manual para separar los documentos"
   ]
  },
  {
   "cell_type": "code",
   "execution_count": 5,
   "metadata": {
    "collapsed": true,
    "scrolled": true
   },
   "outputs": [],
   "source": [
    "docno = []\n",
    "corpus = []\n",
    "toggle = 0\n",
    "with open('ap/ap.txt','r') as f:\n",
    "    for line in f:\n",
    "        if line.startswith('<DOCNO>'):\n",
    "            line_new = line.replace('<DOCNO> ','')\n",
    "            line_new = line_new.replace(' </DOCNO>\\n','')\n",
    "            docno.append(line_new)\n",
    "        if toggle:\n",
    "            corpus.append(line)\n",
    "            toggle = 0\n",
    "        if line.startswith('<TEXT>'):\n",
    "            toggle = 1        \n",
    "docs = dict(zip(docno, corpus))        "
   ]
  },
  {
   "cell_type": "markdown",
   "metadata": {},
   "source": [
    "Otra forma sería usar el parser del ElementTree, pero para usarlo correctamente resulta necesario reemplazar todos los caracteres '&' por '&amp;' y agregar un tag que delimite el comienzo y final del archivo"
   ]
  },
  {
   "cell_type": "code",
   "execution_count": 6,
   "metadata": {
    "collapsed": true
   },
   "outputs": [],
   "source": [
    "with open('ap/ap.txt','r') as f, open('ap/ap_cleaned.txt','w') as f_new:\n",
    "    f_new.write('<ROOT>\\n')\n",
    "    for line in f:\n",
    "        new_line = line.replace('&','&amp;')\n",
    "        f_new.write(new_line)\n",
    "    f_new.write('</ROOT>\\n')\n",
    "f_new.close()"
   ]
  },
  {
   "cell_type": "markdown",
   "metadata": {},
   "source": [
    "Ahora aplicamos el ElementTree"
   ]
  },
  {
   "cell_type": "code",
   "execution_count": 7,
   "metadata": {
    "collapsed": true
   },
   "outputs": [],
   "source": [
    "import xml.etree.ElementTree as ET"
   ]
  },
  {
   "cell_type": "code",
   "execution_count": 8,
   "metadata": {
    "collapsed": false
   },
   "outputs": [
    {
     "data": {
      "text/plain": [
       "<xml.etree.ElementTree.ElementTree at 0x7f38ff270f28>"
      ]
     },
     "execution_count": 8,
     "metadata": {},
     "output_type": "execute_result"
    }
   ],
   "source": [
    "ap = ET.parse('ap/ap_cleaned.txt')\n",
    "ap"
   ]
  },
  {
   "cell_type": "code",
   "execution_count": 9,
   "metadata": {
    "collapsed": true
   },
   "outputs": [],
   "source": [
    "ap_root = ap.getroot()"
   ]
  },
  {
   "cell_type": "code",
   "execution_count": 10,
   "metadata": {
    "collapsed": true
   },
   "outputs": [],
   "source": [
    "ap_dict = dict([\n",
    "        (doc[0].text.strip(), doc[1].text)\n",
    "        for doc in ap_root\n",
    "    ])"
   ]
  },
  {
   "cell_type": "markdown",
   "metadata": {},
   "source": [
    "Y observamos que de las 2 maneras separamos el xml en la misma cantidad de documentos"
   ]
  },
  {
   "cell_type": "code",
   "execution_count": 11,
   "metadata": {
    "collapsed": false
   },
   "outputs": [
    {
     "data": {
      "text/plain": [
       "2250"
      ]
     },
     "execution_count": 11,
     "metadata": {},
     "output_type": "execute_result"
    }
   ],
   "source": [
    "len(ap_dict)"
   ]
  },
  {
   "cell_type": "code",
   "execution_count": 12,
   "metadata": {
    "collapsed": false
   },
   "outputs": [
    {
     "data": {
      "text/plain": [
       "2250"
      ]
     },
     "execution_count": 12,
     "metadata": {},
     "output_type": "execute_result"
    }
   ],
   "source": [
    "len(docs)"
   ]
  },
  {
   "cell_type": "markdown",
   "metadata": {},
   "source": [
    "De estas 2 maneras podemos levantar el corpus, separando cada noticia como un elemento distinto\n",
    "en un diccionario $(<DOCNO> : <TEXT>)$."
   ]
  },
  {
   "cell_type": "markdown",
   "metadata": {},
   "source": [
    "<a name=\"1.2\"></a>\n",
    "### 1.2. Vocabulario"
   ]
  },
  {
   "cell_type": "markdown",
   "metadata": {},
   "source": [
    "Tokenizamos y pasamos a minúscula todos los textos."
   ]
  },
  {
   "cell_type": "code",
   "execution_count": 81,
   "metadata": {
    "collapsed": true
   },
   "outputs": [],
   "source": [
    "punc_translator = str.maketrans(dict(zip(string.punctuation, [None] * len(string.punctuation))))\n",
    "def tokenize(string):\n",
    "    'Returns list of tokens'\n",
    "    words = string.split(' ')\n",
    "    retoken = [ t.lower()\n",
    "        for w in words\n",
    "        for t in nltk.word_tokenize(w)\n",
    "    ] \n",
    "    no_punt = [ t\n",
    "        for t in retoken\n",
    "        if t.translate(punc_translator) != ''\n",
    "    ]\n",
    "    return no_punt "
   ]
  },
  {
   "cell_type": "code",
   "execution_count": 82,
   "metadata": {
    "collapsed": true
   },
   "outputs": [],
   "source": [
    "textos_tokenizados = [\n",
    "    token\n",
    "    for text in ap_dict.values()\n",
    "    for token in tokenize(text)\n",
    "]"
   ]
  },
  {
   "cell_type": "markdown",
   "metadata": {},
   "source": [
    "Calculamos el tamaño del vocabulario"
   ]
  },
  {
   "cell_type": "code",
   "execution_count": 83,
   "metadata": {
    "collapsed": false
   },
   "outputs": [
    {
     "name": "stdout",
     "output_type": "stream",
     "text": [
      "Tamaño vocabulario: 42745\n"
     ]
    }
   ],
   "source": [
    "print('Tamaño vocabulario: {}'.format(len(set(textos_tokenizados))))"
   ]
  },
  {
   "cell_type": "markdown",
   "metadata": {},
   "source": [
    "Y buscamos los 500 tokens con mas apariciones"
   ]
  },
  {
   "cell_type": "code",
   "execution_count": 84,
   "metadata": {
    "collapsed": true
   },
   "outputs": [],
   "source": [
    "tokens_ordenados = sorted(textos_tokenizados)"
   ]
  },
  {
   "cell_type": "code",
   "execution_count": 85,
   "metadata": {
    "collapsed": true
   },
   "outputs": [],
   "source": [
    "c = Counter(tokens_ordenados)"
   ]
  },
  {
   "cell_type": "code",
   "execution_count": 86,
   "metadata": {
    "collapsed": false
   },
   "outputs": [
    {
     "data": {
      "text/plain": [
       "[('the', 59843),\n",
       " ('of', 25536),\n",
       " ('to', 24054),\n",
       " ('a', 21398),\n",
       " ('and', 20698),\n",
       " ('in', 20664),\n",
       " ('said', 12852),\n",
       " (\"'s\", 9091),\n",
       " ('that', 8858),\n",
       " ('for', 8824),\n",
       " ('was', 7499),\n",
       " ('on', 7076),\n",
       " ('he', 6594),\n",
       " ('is', 5957),\n",
       " ('with', 5424),\n",
       " ('it', 5341),\n",
       " ('at', 5154),\n",
       " ('by', 5126),\n",
       " ('from', 4543),\n",
       " ('as', 4420),\n",
       " ('be', 3858),\n",
       " ('his', 3734),\n",
       " ('an', 3670),\n",
       " ('have', 3647),\n",
       " ('were', 3584),\n",
       " ('but', 3450),\n",
       " ('not', 3399),\n",
       " ('has', 3366),\n",
       " ('are', 3250),\n",
       " ('they', 2978),\n",
       " ('who', 2813),\n",
       " ('had', 2635),\n",
       " ('would', 2634),\n",
       " ('will', 2618),\n",
       " ('i', 2491),\n",
       " ('we', 2455),\n",
       " ('about', 2360),\n",
       " ('this', 2185),\n",
       " ('been', 2182),\n",
       " ('their', 2068),\n",
       " ('new', 2009),\n",
       " ('percent', 1942),\n",
       " ('which', 1936),\n",
       " ('or', 1929),\n",
       " ('after', 1920),\n",
       " ('its', 1841),\n",
       " ('more', 1765),\n",
       " ('one', 1746),\n",
       " ('people', 1729),\n",
       " ('up', 1665),\n",
       " ('also', 1620),\n",
       " ('other', 1618),\n",
       " (\"n't\", 1599),\n",
       " ('when', 1583),\n",
       " ('year', 1569),\n",
       " ('two', 1568),\n",
       " ('million', 1556),\n",
       " ('president', 1535),\n",
       " ('u.s', 1529),\n",
       " ('there', 1511),\n",
       " ('no', 1503),\n",
       " ('government', 1488),\n",
       " ('than', 1451),\n",
       " ('last', 1429),\n",
       " ('all', 1337),\n",
       " ('if', 1319),\n",
       " ('she', 1317),\n",
       " ('out', 1238),\n",
       " ('years', 1235),\n",
       " ('some', 1233),\n",
       " ('do', 1182),\n",
       " ('state', 1155),\n",
       " ('could', 1112),\n",
       " ('bush', 1108),\n",
       " ('first', 1090),\n",
       " ('police', 1085),\n",
       " ('over', 1064),\n",
       " ('because', 1048),\n",
       " ('into', 1035),\n",
       " ('her', 1029),\n",
       " ('united', 1005),\n",
       " ('soviet', 1001),\n",
       " ('officials', 1000),\n",
       " ('states', 999),\n",
       " ('them', 979),\n",
       " ('can', 970),\n",
       " ('you', 963),\n",
       " ('time', 948),\n",
       " ('before', 947),\n",
       " ('today', 940),\n",
       " ('only', 882),\n",
       " ('what', 882),\n",
       " ('three', 869),\n",
       " ('did', 864),\n",
       " ('billion', 859),\n",
       " ('since', 852),\n",
       " ('most', 841),\n",
       " ('national', 824),\n",
       " ('against', 819),\n",
       " ('told', 818),\n",
       " ('during', 815),\n",
       " ('thursday', 805),\n",
       " ('down', 802),\n",
       " ('american', 800),\n",
       " ('any', 788),\n",
       " ('him', 777),\n",
       " ('company', 760),\n",
       " ('tuesday', 760),\n",
       " ('week', 746),\n",
       " ('house', 737),\n",
       " ('federal', 730),\n",
       " ('under', 723),\n",
       " ('court', 720),\n",
       " ('where', 714),\n",
       " ('monday', 709),\n",
       " ('city', 706),\n",
       " ('friday', 704),\n",
       " ('may', 700),\n",
       " ('wednesday', 697),\n",
       " ('so', 692),\n",
       " ('made', 692),\n",
       " ('our', 689),\n",
       " ('many', 679),\n",
       " ('now', 672),\n",
       " ('news', 672),\n",
       " ('party', 670),\n",
       " ('department', 666),\n",
       " ('those', 666),\n",
       " ('day', 666),\n",
       " ('say', 652),\n",
       " ('while', 651),\n",
       " ('york', 645),\n",
       " ('group', 644),\n",
       " ('market', 627),\n",
       " ('just', 616),\n",
       " ('union', 612),\n",
       " ('being', 610),\n",
       " ('report', 604),\n",
       " ('such', 603),\n",
       " ('between', 602),\n",
       " ('world', 602),\n",
       " ('military', 596),\n",
       " ('through', 593),\n",
       " ('country', 593),\n",
       " ('south', 583),\n",
       " ('former', 576),\n",
       " ('should', 575),\n",
       " ('off', 570),\n",
       " ('members', 565),\n",
       " ('home', 544),\n",
       " ('west', 543),\n",
       " ('political', 541),\n",
       " ('reported', 541),\n",
       " ('including', 538),\n",
       " ('make', 530),\n",
       " ('office', 529),\n",
       " ('going', 529),\n",
       " ('get', 522),\n",
       " ('spokesman', 521),\n",
       " ('like', 511),\n",
       " ('then', 508),\n",
       " ('committee', 505),\n",
       " ('four', 504),\n",
       " ('general', 503),\n",
       " ('think', 496),\n",
       " ('still', 494),\n",
       " ('10', 491),\n",
       " ('back', 488),\n",
       " ('work', 488),\n",
       " ('defense', 482),\n",
       " ('several', 482),\n",
       " ('says', 481),\n",
       " ('war', 480),\n",
       " ('congress', 480),\n",
       " ('public', 477),\n",
       " ('next', 477),\n",
       " ('way', 476),\n",
       " ('official', 475),\n",
       " ('foreign', 475),\n",
       " ('trade', 474),\n",
       " ('prices', 473),\n",
       " ('administration', 472),\n",
       " ('take', 471),\n",
       " ('much', 471),\n",
       " ('five', 469),\n",
       " ('economic', 469),\n",
       " ('another', 467),\n",
       " ('later', 466),\n",
       " ('1', 464),\n",
       " ('among', 461),\n",
       " ('according', 461),\n",
       " ('month', 457),\n",
       " ('both', 456),\n",
       " ('air', 455),\n",
       " ('money', 453),\n",
       " (\"'re\", 452),\n",
       " ('called', 451),\n",
       " ('very', 450),\n",
       " ('found', 449),\n",
       " ('dukakis', 449),\n",
       " ('campaign', 447),\n",
       " ('law', 446),\n",
       " ('reagan', 446),\n",
       " ('part', 445),\n",
       " ('program', 443),\n",
       " ('stock', 442),\n",
       " ('case', 435),\n",
       " ('asked', 434),\n",
       " ('north', 433),\n",
       " ('business', 430),\n",
       " ('nation', 430),\n",
       " ('late', 430),\n",
       " ('workers', 429),\n",
       " ('meeting', 429),\n",
       " ('even', 428),\n",
       " ('days', 427),\n",
       " ('months', 426),\n",
       " ('service', 425),\n",
       " ('east', 425),\n",
       " ('chief', 424),\n",
       " ('support', 424),\n",
       " ('how', 423),\n",
       " ('earlier', 422),\n",
       " ('my', 422),\n",
       " ('white', 421),\n",
       " ('used', 421),\n",
       " ('plan', 420),\n",
       " ('board', 415),\n",
       " ('help', 415),\n",
       " ('go', 414),\n",
       " ('gorbachev', 409),\n",
       " ('ago', 407),\n",
       " ('minister', 407),\n",
       " ('early', 406),\n",
       " ('force', 406),\n",
       " ('oil', 405),\n",
       " ('major', 405),\n",
       " ('washington', 405),\n",
       " ('killed', 402),\n",
       " ('expected', 401),\n",
       " ('until', 400),\n",
       " ('mrs', 400),\n",
       " ('john', 399),\n",
       " ('least', 398),\n",
       " ('began', 397),\n",
       " ('agency', 396),\n",
       " ('security', 395),\n",
       " ('end', 395),\n",
       " ('bank', 391),\n",
       " ('night', 391),\n",
       " ('good', 391),\n",
       " ('saying', 390),\n",
       " ('bill', 389),\n",
       " ('international', 388),\n",
       " ('these', 387),\n",
       " ('agreement', 387),\n",
       " ('system', 387),\n",
       " ('children', 387),\n",
       " ('use', 385),\n",
       " ('came', 383),\n",
       " ('family', 380),\n",
       " ('leader', 380),\n",
       " ('democratic', 378),\n",
       " ('sunday', 377),\n",
       " ('attorney', 374),\n",
       " ('miles', 370),\n",
       " ('want', 369),\n",
       " ('school', 366),\n",
       " ('man', 364),\n",
       " ('here', 363),\n",
       " ('senate', 362),\n",
       " ('took', 361),\n",
       " ('high', 359),\n",
       " ('whether', 358),\n",
       " ('drug', 358),\n",
       " ('without', 356),\n",
       " ('same', 355),\n",
       " ('long', 355),\n",
       " ('judge', 354),\n",
       " ('however', 350),\n",
       " ('chairman', 349),\n",
       " ('20', 345),\n",
       " ('statement', 344),\n",
       " ('does', 344),\n",
       " ('left', 343),\n",
       " ('talks', 341),\n",
       " ('rose', 340),\n",
       " ('dollar', 340),\n",
       " ('held', 340),\n",
       " ('director', 340),\n",
       " ('each', 340),\n",
       " ('higher', 339),\n",
       " ('1987', 338),\n",
       " ('sales', 337),\n",
       " ('number', 337),\n",
       " ('death', 334),\n",
       " ('30', 333),\n",
       " ('six', 333),\n",
       " ('own', 331),\n",
       " ('know', 331),\n",
       " ('must', 330),\n",
       " ('rights', 329),\n",
       " ('army', 329),\n",
       " ('announced', 327),\n",
       " ('past', 324),\n",
       " ('leaders', 323),\n",
       " ('set', 323),\n",
       " ('decision', 323),\n",
       " ('interest', 323),\n",
       " ('see', 322),\n",
       " ('authorities', 321),\n",
       " ('put', 320),\n",
       " ('life', 318),\n",
       " ('control', 318),\n",
       " ('power', 317),\n",
       " ('2', 315),\n",
       " ('women', 311),\n",
       " ('april', 311),\n",
       " ('black', 311),\n",
       " ('saturday', 311),\n",
       " ('center', 310),\n",
       " ('march', 309),\n",
       " ('price', 309),\n",
       " ('charges', 308),\n",
       " ('might', 308),\n",
       " ('area', 305),\n",
       " ('vote', 304),\n",
       " ('university', 304),\n",
       " ('well', 304),\n",
       " ('show', 304),\n",
       " ('vice', 302),\n",
       " ('countries', 302),\n",
       " ('iraq', 302),\n",
       " ('around', 301),\n",
       " ('central', 300),\n",
       " ('budget', 300),\n",
       " ('few', 299),\n",
       " ('secretary', 299),\n",
       " ('second', 298),\n",
       " ('forces', 298),\n",
       " ('republican', 298),\n",
       " ('pay', 298),\n",
       " ('men', 298),\n",
       " ('too', 298),\n",
       " ('economy', 298),\n",
       " ('times', 298),\n",
       " ('trial', 297),\n",
       " ('15', 297),\n",
       " ('fire', 297),\n",
       " ('died', 296),\n",
       " ('germany', 294),\n",
       " ('america', 294),\n",
       " ('issue', 293),\n",
       " ('never', 293),\n",
       " ('us', 292),\n",
       " ('got', 291),\n",
       " ('health', 291),\n",
       " ('1986', 290),\n",
       " ('me', 289),\n",
       " ('troops', 289),\n",
       " ('prison', 289),\n",
       " ('come', 288),\n",
       " ('students', 287),\n",
       " ('trading', 287),\n",
       " ('give', 287),\n",
       " ('hospital', 286),\n",
       " ('less', 283),\n",
       " ('right', 283),\n",
       " ('cents', 283),\n",
       " ('close', 282),\n",
       " ('1988', 281),\n",
       " (\"'ve\", 281),\n",
       " ('industry', 279),\n",
       " ('recent', 279),\n",
       " ('conference', 277),\n",
       " ('june', 277),\n",
       " ('ms', 277),\n",
       " ('aid', 276),\n",
       " ('german', 274),\n",
       " ('district', 274),\n",
       " ('lower', 274),\n",
       " ('rate', 273),\n",
       " ('rates', 273),\n",
       " ('little', 273),\n",
       " ('japan', 270),\n",
       " ('problems', 270),\n",
       " ('hours', 270),\n",
       " ('presidential', 268),\n",
       " ('increase', 268),\n",
       " ('near', 267),\n",
       " ('exchange', 267),\n",
       " ('released', 267),\n",
       " ('others', 267),\n",
       " ('capital', 265),\n",
       " ('policy', 265),\n",
       " ('california', 264),\n",
       " ('reporters', 263),\n",
       " ('issues', 263),\n",
       " ('information', 263),\n",
       " ('taken', 261),\n",
       " (\"'m\", 260),\n",
       " ('away', 260),\n",
       " ('share', 260),\n",
       " ('sen', 260),\n",
       " ('1989', 260),\n",
       " ('tax', 259),\n",
       " ('went', 259),\n",
       " ('top', 257),\n",
       " ('county', 257),\n",
       " ('far', 257),\n",
       " ('labor', 256),\n",
       " ('eastern', 255),\n",
       " ('jackson', 255),\n",
       " ('food', 254),\n",
       " ('fell', 254),\n",
       " ('record', 254),\n",
       " ('head', 253),\n",
       " ('communist', 252),\n",
       " ('3', 251),\n",
       " ('television', 251),\n",
       " ('peace', 249),\n",
       " ('added', 249),\n",
       " ('july', 249),\n",
       " ('condition', 248),\n",
       " ('israel', 247),\n",
       " ('received', 247),\n",
       " ('press', 246),\n",
       " ('whose', 246),\n",
       " ('order', 246),\n",
       " ('12', 245),\n",
       " ('weeks', 244),\n",
       " ('opposition', 244),\n",
       " ('financial', 243),\n",
       " ('europe', 243),\n",
       " ('average', 243),\n",
       " ('employees', 243),\n",
       " ('agreed', 241),\n",
       " ('wife', 240),\n",
       " ('george', 239),\n",
       " ('big', 239),\n",
       " ('human', 239),\n",
       " ('offer', 236),\n",
       " ('reports', 235),\n",
       " ('election', 234),\n",
       " ('nearly', 233),\n",
       " ('nations', 233),\n",
       " ('given', 233),\n",
       " ('water', 232),\n",
       " ('companies', 231),\n",
       " ('place', 230),\n",
       " ('largest', 230),\n",
       " ('known', 229),\n",
       " ('5', 229),\n",
       " ('outside', 229),\n",
       " ('council', 229),\n",
       " ('job', 228),\n",
       " ('private', 228),\n",
       " ('street', 227),\n",
       " ('change', 227),\n",
       " ('already', 227),\n",
       " ('community', 227),\n",
       " ('san', 226),\n",
       " ('southern', 226),\n",
       " ('attack', 224),\n",
       " ('robert', 224),\n",
       " ('james', 224),\n",
       " ('africa', 224),\n",
       " ('although', 223),\n",
       " ('newspaper', 223),\n",
       " ('local', 223),\n",
       " ('total', 223),\n",
       " ('points', 223),\n",
       " ('building', 223),\n",
       " ('across', 222),\n",
       " ('cost', 221),\n",
       " ('groups', 221),\n",
       " ('100', 221),\n",
       " ('lost', 221),\n",
       " ('plans', 220),\n",
       " ('enough', 220),\n",
       " ('rep', 220),\n",
       " ('action', 220),\n",
       " ('services', 219),\n",
       " ('investigation', 219),\n",
       " ('every', 219),\n",
       " ('move', 218),\n",
       " ('inc', 218),\n",
       " ('need', 218),\n",
       " ('scheduled', 217),\n",
       " ('index', 217),\n",
       " ('association', 217),\n",
       " ('believe', 216),\n",
       " ('return', 216),\n",
       " ('small', 216),\n",
       " ('morning', 216),\n",
       " ('along', 216),\n",
       " ('accused', 216),\n",
       " ('member', 216),\n",
       " ('cut', 216),\n",
       " ('prime', 215)]"
      ]
     },
     "execution_count": 86,
     "metadata": {},
     "output_type": "execute_result"
    }
   ],
   "source": [
    "c.most_common(500)"
   ]
  },
  {
   "cell_type": "markdown",
   "metadata": {},
   "source": [
    "Observamos que dentro los tokens aparecen los signos de puntuación, por lo que buscamos removerlos"
   ]
  },
  {
   "cell_type": "code",
   "execution_count": 87,
   "metadata": {
    "collapsed": true
   },
   "outputs": [],
   "source": [
    "import string\n",
    "textos_tokenizados_unpunct = []\n",
    "for texto in textos_tokenizados:\n",
    "    translator = texto.maketrans('','',string.punctuation)\n",
    "    if texto.translate(translator) != '':\n",
    "        textos_tokenizados_unpunct.append(texto.translate(translator))"
   ]
  },
  {
   "cell_type": "markdown",
   "metadata": {},
   "source": [
    "Calculamos el tamaño del vocabulario"
   ]
  },
  {
   "cell_type": "code",
   "execution_count": 88,
   "metadata": {
    "collapsed": false
   },
   "outputs": [
    {
     "name": "stdout",
     "output_type": "stream",
     "text": [
      "Tamaño vocabulario: 41151\n"
     ]
    }
   ],
   "source": [
    "print('Tamaño vocabulario: {}'.format(len(set(textos_tokenizados_unpunct))))"
   ]
  },
  {
   "cell_type": "markdown",
   "metadata": {},
   "source": [
    "Y buscamos los 500 tokens con mas apariciones"
   ]
  },
  {
   "cell_type": "code",
   "execution_count": 89,
   "metadata": {
    "collapsed": true
   },
   "outputs": [],
   "source": [
    "textos_tokenizados_unpunct_ordenados = sorted(textos_tokenizados_unpunct)"
   ]
  },
  {
   "cell_type": "code",
   "execution_count": 90,
   "metadata": {
    "collapsed": true
   },
   "outputs": [],
   "source": [
    "tipos = Counter(textos_tokenizados_unpunct_ordenados)"
   ]
  },
  {
   "cell_type": "code",
   "execution_count": 91,
   "metadata": {
    "collapsed": false
   },
   "outputs": [
    {
     "data": {
      "text/plain": [
       "[('the', 59877),\n",
       " ('of', 25536),\n",
       " ('to', 24060),\n",
       " ('a', 21410),\n",
       " ('and', 20701),\n",
       " ('in', 20671),\n",
       " ('said', 12856),\n",
       " ('s', 9256),\n",
       " ('that', 8859),\n",
       " ('for', 8825),\n",
       " ('was', 7499),\n",
       " ('on', 7078),\n",
       " ('he', 6595),\n",
       " ('is', 5958),\n",
       " ('with', 5424),\n",
       " ('it', 5344),\n",
       " ('at', 5157),\n",
       " ('by', 5126),\n",
       " ('from', 4544),\n",
       " ('as', 4422),\n",
       " ('be', 3858),\n",
       " ('his', 3735),\n",
       " ('an', 3676),\n",
       " ('have', 3648),\n",
       " ('were', 3584),\n",
       " ('but', 3450),\n",
       " ('not', 3403),\n",
       " ('has', 3366),\n",
       " ('are', 3251),\n",
       " ('they', 2980),\n",
       " ('who', 2814),\n",
       " ('had', 2635),\n",
       " ('would', 2635),\n",
       " ('will', 2619),\n",
       " ('i', 2507),\n",
       " ('we', 2459),\n",
       " ('about', 2360),\n",
       " ('this', 2185),\n",
       " ('been', 2182),\n",
       " ('their', 2068),\n",
       " ('new', 2014),\n",
       " ('percent', 1942),\n",
       " ('which', 1937),\n",
       " ('or', 1930),\n",
       " ('after', 1920),\n",
       " ('its', 1841),\n",
       " ('us', 1824),\n",
       " ('more', 1766),\n",
       " ('one', 1747),\n",
       " ('people', 1729),\n",
       " ('up', 1665),\n",
       " ('also', 1621),\n",
       " ('other', 1618),\n",
       " ('nt', 1599),\n",
       " ('when', 1584),\n",
       " ('year', 1576),\n",
       " ('two', 1570),\n",
       " ('million', 1556),\n",
       " ('president', 1535),\n",
       " ('there', 1512),\n",
       " ('no', 1509),\n",
       " ('government', 1488),\n",
       " ('than', 1451),\n",
       " ('last', 1429),\n",
       " ('all', 1341),\n",
       " ('if', 1323),\n",
       " ('she', 1317),\n",
       " ('out', 1238),\n",
       " ('years', 1235),\n",
       " ('some', 1233),\n",
       " ('do', 1183),\n",
       " ('state', 1155),\n",
       " ('could', 1113),\n",
       " ('bush', 1108),\n",
       " ('first', 1091),\n",
       " ('police', 1085),\n",
       " ('over', 1064),\n",
       " ('because', 1048),\n",
       " ('into', 1035),\n",
       " ('her', 1029),\n",
       " ('united', 1006),\n",
       " ('soviet', 1002),\n",
       " ('officials', 1000),\n",
       " ('states', 999),\n",
       " ('them', 979),\n",
       " ('you', 973),\n",
       " ('can', 972),\n",
       " ('time', 948),\n",
       " ('before', 947),\n",
       " ('today', 941),\n",
       " ('what', 887),\n",
       " ('only', 883),\n",
       " ('three', 871),\n",
       " ('did', 864),\n",
       " ('billion', 859),\n",
       " ('since', 852),\n",
       " ('most', 842),\n",
       " ('national', 824),\n",
       " ('against', 819),\n",
       " ('told', 818),\n",
       " ('during', 815),\n",
       " ('thursday', 805),\n",
       " ('down', 802),\n",
       " ('american', 800),\n",
       " ('any', 788),\n",
       " ('him', 777),\n",
       " ('company', 760),\n",
       " ('tuesday', 760),\n",
       " ('week', 747),\n",
       " ('house', 737),\n",
       " ('federal', 730),\n",
       " ('under', 723),\n",
       " ('court', 720),\n",
       " ('where', 715),\n",
       " ('monday', 709),\n",
       " ('city', 706),\n",
       " ('friday', 704),\n",
       " ('may', 701),\n",
       " ('wednesday', 698),\n",
       " ('made', 692),\n",
       " ('so', 692),\n",
       " ('our', 690),\n",
       " ('many', 679),\n",
       " ('now', 673),\n",
       " ('news', 672),\n",
       " ('party', 671),\n",
       " ('department', 666),\n",
       " ('those', 666),\n",
       " ('day', 666),\n",
       " ('say', 652),\n",
       " ('while', 651),\n",
       " ('york', 645),\n",
       " ('group', 644),\n",
       " ('market', 627),\n",
       " ('just', 616),\n",
       " ('union', 612),\n",
       " ('being', 610),\n",
       " ('report', 604),\n",
       " ('such', 603),\n",
       " ('between', 602),\n",
       " ('world', 602),\n",
       " ('military', 596),\n",
       " ('through', 593),\n",
       " ('country', 593),\n",
       " ('south', 583),\n",
       " ('former', 577),\n",
       " ('should', 575),\n",
       " ('off', 570),\n",
       " ('members', 565),\n",
       " ('west', 545),\n",
       " ('home', 544),\n",
       " ('political', 541),\n",
       " ('reported', 541),\n",
       " ('including', 539),\n",
       " ('make', 531),\n",
       " ('office', 529),\n",
       " ('going', 529),\n",
       " ('get', 522),\n",
       " ('spokesman', 521),\n",
       " ('like', 511),\n",
       " ('then', 508),\n",
       " ('general', 505),\n",
       " ('committee', 505),\n",
       " ('four', 504),\n",
       " ('10', 503),\n",
       " ('think', 496),\n",
       " ('still', 494),\n",
       " ('back', 488),\n",
       " ('work', 488),\n",
       " ('1', 483),\n",
       " ('defense', 482),\n",
       " ('several', 482),\n",
       " ('says', 481),\n",
       " ('war', 480),\n",
       " ('congress', 480),\n",
       " ('public', 477),\n",
       " ('next', 477),\n",
       " ('way', 476),\n",
       " ('foreign', 476),\n",
       " ('official', 475),\n",
       " ('trade', 474),\n",
       " ('prices', 473),\n",
       " ('take', 473),\n",
       " ('administration', 472),\n",
       " ('much', 471),\n",
       " ('economic', 469),\n",
       " ('five', 469),\n",
       " ('another', 468),\n",
       " ('later', 466),\n",
       " ('among', 461),\n",
       " ('according', 461),\n",
       " ('month', 460),\n",
       " ('air', 459),\n",
       " ('both', 456),\n",
       " ('re', 455),\n",
       " ('money', 453),\n",
       " ('called', 451),\n",
       " ('very', 450),\n",
       " ('found', 449),\n",
       " ('dukakis', 449),\n",
       " ('campaign', 447),\n",
       " ('law', 446),\n",
       " ('reagan', 446),\n",
       " ('part', 445),\n",
       " ('program', 443),\n",
       " ('stock', 442),\n",
       " ('north', 437),\n",
       " ('case', 436),\n",
       " ('asked', 434),\n",
       " ('business', 430),\n",
       " ('nation', 430),\n",
       " ('late', 430),\n",
       " ('meeting', 429),\n",
       " ('workers', 429),\n",
       " ('even', 428),\n",
       " ('days', 427),\n",
       " ('east', 427),\n",
       " ('months', 426),\n",
       " ('how', 425),\n",
       " ('service', 425),\n",
       " ('chief', 424),\n",
       " ('my', 424),\n",
       " ('support', 424),\n",
       " ('earlier', 423),\n",
       " ('white', 421),\n",
       " ('used', 421),\n",
       " ('plan', 420),\n",
       " ('go', 415),\n",
       " ('board', 415),\n",
       " ('help', 415),\n",
       " ('gorbachev', 409),\n",
       " ('ago', 407),\n",
       " ('minister', 407),\n",
       " ('early', 406),\n",
       " ('force', 406),\n",
       " ('washington', 406),\n",
       " ('oil', 405),\n",
       " ('major', 405),\n",
       " ('killed', 402),\n",
       " ('john', 402),\n",
       " ('expected', 401),\n",
       " ('until', 400),\n",
       " ('mrs', 400),\n",
       " ('least', 398),\n",
       " ('began', 397),\n",
       " ('agency', 396),\n",
       " ('security', 395),\n",
       " ('end', 395),\n",
       " ('good', 393),\n",
       " ('bank', 391),\n",
       " ('night', 391),\n",
       " ('international', 390),\n",
       " ('saying', 390),\n",
       " ('bill', 389),\n",
       " ('these', 387),\n",
       " ('agreement', 387),\n",
       " ('system', 387),\n",
       " ('children', 387),\n",
       " ('use', 385),\n",
       " ('came', 383),\n",
       " ('family', 380),\n",
       " ('leader', 380),\n",
       " ('democratic', 378),\n",
       " ('sunday', 377),\n",
       " ('attorney', 374),\n",
       " ('miles', 370),\n",
       " ('want', 369),\n",
       " ('school', 366),\n",
       " ('man', 365),\n",
       " ('here', 364),\n",
       " ('m', 363),\n",
       " ('took', 362),\n",
       " ('senate', 362),\n",
       " ('whether', 361),\n",
       " ('high', 359),\n",
       " ('15', 358),\n",
       " ('drug', 358),\n",
       " ('without', 356),\n",
       " ('20', 356),\n",
       " ('same', 355),\n",
       " ('long', 355),\n",
       " ('judge', 354),\n",
       " ('however', 350),\n",
       " ('chairman', 349),\n",
       " ('does', 346),\n",
       " ('statement', 344),\n",
       " ('left', 344),\n",
       " ('talks', 341),\n",
       " ('rose', 340),\n",
       " ('dollar', 340),\n",
       " ('held', 340),\n",
       " ('director', 340),\n",
       " ('each', 340),\n",
       " ('30', 339),\n",
       " ('1987', 339),\n",
       " ('higher', 339),\n",
       " ('sales', 337),\n",
       " ('number', 337),\n",
       " ('death', 334),\n",
       " ('six', 334),\n",
       " ('inc', 334),\n",
       " ('own', 331),\n",
       " ('know', 331),\n",
       " ('army', 330),\n",
       " ('must', 330),\n",
       " ('rights', 329),\n",
       " ('2', 327),\n",
       " ('announced', 327),\n",
       " ('past', 324),\n",
       " ('leaders', 323),\n",
       " ('set', 323),\n",
       " ('decision', 323),\n",
       " ('interest', 323),\n",
       " ('see', 322),\n",
       " ('authorities', 321),\n",
       " ('put', 320),\n",
       " ('life', 319),\n",
       " ('control', 318),\n",
       " ('power', 317),\n",
       " ('women', 312),\n",
       " ('april', 311),\n",
       " ('saturday', 311),\n",
       " ('black', 311),\n",
       " ('march', 311),\n",
       " ('center', 310),\n",
       " ('price', 309),\n",
       " ('charges', 308),\n",
       " ('might', 308),\n",
       " ('well', 305),\n",
       " ('area', 305),\n",
       " ('corp', 304),\n",
       " ('university', 304),\n",
       " ('vote', 304),\n",
       " ('show', 304),\n",
       " ('iraq', 303),\n",
       " ('vice', 302),\n",
       " ('countries', 302),\n",
       " ('central', 302),\n",
       " ('around', 301),\n",
       " ('second', 300),\n",
       " ('co', 300),\n",
       " ('budget', 300),\n",
       " ('few', 299),\n",
       " ('secretary', 299),\n",
       " ('economy', 298),\n",
       " ('pay', 298),\n",
       " ('forces', 298),\n",
       " ('men', 298),\n",
       " ('republican', 298),\n",
       " ('too', 298),\n",
       " ('times', 298),\n",
       " ('trial', 297),\n",
       " ('fire', 297),\n",
       " ('died', 296),\n",
       " ('germany', 294),\n",
       " ('america', 294),\n",
       " ('issue', 293),\n",
       " ('never', 293),\n",
       " ('got', 291),\n",
       " ('health', 291),\n",
       " ('1986', 290),\n",
       " ('students', 290),\n",
       " ('me', 289),\n",
       " ('troops', 289),\n",
       " ('prison', 289),\n",
       " ('come', 288),\n",
       " ('trading', 287),\n",
       " ('give', 287),\n",
       " ('hospital', 286),\n",
       " ('less', 283),\n",
       " ('right', 283),\n",
       " ('cents', 283),\n",
       " ('12', 282),\n",
       " ('close', 282),\n",
       " ('1988', 281),\n",
       " ('ve', 281),\n",
       " ('industry', 279),\n",
       " ('recent', 279),\n",
       " ('june', 277),\n",
       " ('conference', 277),\n",
       " ('aid', 277),\n",
       " ('ms', 277),\n",
       " ('german', 274),\n",
       " ('lower', 274),\n",
       " ('district', 274),\n",
       " ('little', 274),\n",
       " ('rate', 273),\n",
       " ('rates', 273),\n",
       " ('japan', 270),\n",
       " ('hours', 270),\n",
       " ('problems', 270),\n",
       " ('presidential', 268),\n",
       " ('increase', 268),\n",
       " ('others', 267),\n",
       " ('near', 267),\n",
       " ('exchange', 267),\n",
       " ('released', 267),\n",
       " ('california', 266),\n",
       " ('capital', 265),\n",
       " ('policy', 265),\n",
       " ('reporters', 263),\n",
       " ('issues', 263),\n",
       " ('information', 263),\n",
       " ('taken', 261),\n",
       " ('away', 260),\n",
       " ('share', 260),\n",
       " ('sen', 260),\n",
       " ('1989', 260),\n",
       " ('tax', 259),\n",
       " ('went', 259),\n",
       " ('3', 258),\n",
       " ('top', 257),\n",
       " ('far', 257),\n",
       " ('county', 257),\n",
       " ('labor', 256),\n",
       " ('jackson', 255),\n",
       " ('eastern', 255),\n",
       " ('food', 255),\n",
       " ('fell', 254),\n",
       " ('record', 254),\n",
       " ('head', 253),\n",
       " ('communist', 252),\n",
       " ('am', 252),\n",
       " ('television', 251),\n",
       " ('peace', 249),\n",
       " ('added', 249),\n",
       " ('july', 249),\n",
       " ('condition', 248),\n",
       " ('israel', 247),\n",
       " ('received', 247),\n",
       " ('press', 246),\n",
       " ('25', 246),\n",
       " ('whose', 246),\n",
       " ('order', 246),\n",
       " ('financial', 244),\n",
       " ('weeks', 244),\n",
       " ('opposition', 244),\n",
       " ('europe', 243),\n",
       " ('average', 243),\n",
       " ('employees', 243),\n",
       " ('agreed', 241),\n",
       " ('wife', 240),\n",
       " ('george', 239),\n",
       " ('big', 239),\n",
       " ('human', 239),\n",
       " ('11', 237),\n",
       " ('offer', 236),\n",
       " ('5', 235),\n",
       " ('reports', 235),\n",
       " ('election', 234),\n",
       " ('nearly', 233),\n",
       " ('nations', 233),\n",
       " ('given', 233),\n",
       " ('water', 232),\n",
       " ('companies', 231),\n",
       " ('place', 230),\n",
       " ('largest', 230),\n",
       " ('robert', 229),\n",
       " ('outside', 229),\n",
       " ('council', 229),\n",
       " ('known', 229),\n",
       " ('street', 228),\n",
       " ('job', 228),\n",
       " ('private', 228),\n",
       " ('community', 227),\n",
       " ('change', 227),\n",
       " ('james', 227),\n",
       " ('already', 227),\n",
       " ('san', 226),\n",
       " ('southern', 226),\n",
       " ('rep', 225),\n",
       " ('attack', 224),\n",
       " ('total', 224),\n",
       " ('africa', 224),\n",
       " ('although', 223),\n",
       " ('local', 223),\n",
       " ('points', 223),\n",
       " ('building', 223),\n",
       " ('100', 223),\n",
       " ('newspaper', 223),\n",
       " ('across', 222),\n",
       " ('groups', 221),\n",
       " ('lost', 221),\n",
       " ('cost', 221),\n",
       " ('plans', 220),\n",
       " ('enough', 220),\n",
       " ('action', 220),\n",
       " ('services', 219),\n",
       " ('investigation', 219),\n",
       " ('every', 219),\n",
       " ('move', 218),\n",
       " ('need', 218),\n",
       " ('small', 217),\n",
       " ('scheduled', 217),\n",
       " ('association', 217),\n",
       " ('index', 217),\n",
       " ('morning', 216),\n",
       " ('return', 216),\n",
       " ('along', 216),\n",
       " ('accused', 216)]"
      ]
     },
     "execution_count": 91,
     "metadata": {},
     "output_type": "execute_result"
    }
   ],
   "source": [
    "tipos.most_common(500)"
   ]
  },
  {
   "cell_type": "markdown",
   "metadata": {},
   "source": [
    "Y redefinimos entonces la función para tokenizar eliminando signos de puntuación y pasando a minúsculas"
   ]
  },
  {
   "cell_type": "markdown",
   "metadata": {},
   "source": [
    "<a name=\"1.3\"></a>\n",
    "### 1.3. Métricas"
   ]
  },
  {
   "cell_type": "markdown",
   "metadata": {},
   "source": [
    "La frecuencia entre 2 palabras se estima contando el número de veces que x es seguido por y en una ventana de w palabras $f_{w}(x,y)$ y normalizando obtenemos la probabilidad conjunta $P(x,y)$. Por default definimos el tamaño de ventanas de w=5 palabras."
   ]
  },
  {
   "cell_type": "markdown",
   "metadata": {},
   "source": [
    "    TODO: Aclarar que acá no lematizamos"
   ]
  },
  {
   "cell_type": "code",
   "execution_count": 61,
   "metadata": {
    "collapsed": true
   },
   "outputs": [],
   "source": [
    "PICKLE_DIR = 'pickles'\n",
    "EJ1_TOKENS_PATH = os.path.join(PICKLE_DIR, 'ej1_tokens.pkl')"
   ]
  },
  {
   "cell_type": "code",
   "execution_count": 62,
   "metadata": {
    "collapsed": true
   },
   "outputs": [],
   "source": [
    "if not os.path.isdir(PICKLE_DIR):\n",
    "    os.mkdir(PICKLE_DIR)"
   ]
  },
  {
   "cell_type": "code",
   "execution_count": 63,
   "metadata": {
    "collapsed": true
   },
   "outputs": [],
   "source": [
    "if not os.path.isfile(EJ1_TOKENS_PATH):\n",
    "    token_docs = {\n",
    "        docno : tokenize(text)\n",
    "        for docno, text in docs.items()\n",
    "    }\n",
    "    with open(EJ1_TOKENS_PATH, 'wb') as f:\n",
    "        pickle.dump(token_docs, f)\n",
    "else:\n",
    "    with open(EJ1_TOKENS_PATH, 'rb') as f:\n",
    "        token_docs = pickle.load(f)"
   ]
  },
  {
   "cell_type": "code",
   "execution_count": 69,
   "metadata": {
    "collapsed": true
   },
   "outputs": [],
   "source": [
    "all_tokens = [t for tokens in token_docs.values() for t in tokens]"
   ]
  },
  {
   "cell_type": "code",
   "execution_count": 71,
   "metadata": {
    "collapsed": false
   },
   "outputs": [],
   "source": [
    "top_tokens_counts = Counter(sorted(all_tokens)).most_common(500)"
   ]
  },
  {
   "cell_type": "code",
   "execution_count": 72,
   "metadata": {
    "collapsed": true
   },
   "outputs": [],
   "source": [
    "top_tokens = [x[0] for x in top_tokens_counts]"
   ]
  },
  {
   "cell_type": "code",
   "execution_count": 73,
   "metadata": {
    "collapsed": true
   },
   "outputs": [],
   "source": [
    "token_docs = {\n",
    "    docno : tokens\n",
    "    for docno, tokens in token_docs.items()\n",
    "    if len(tokens) > 0\n",
    "}"
   ]
  },
  {
   "cell_type": "code",
   "execution_count": 74,
   "metadata": {
    "collapsed": true
   },
   "outputs": [],
   "source": [
    "top_tokens_set = set(top_tokens)"
   ]
  },
  {
   "cell_type": "code",
   "execution_count": 75,
   "metadata": {
    "collapsed": false
   },
   "outputs": [],
   "source": [
    "# Armamos la matriz de co-frecuencias\n",
    "win_size = 5\n",
    "co_freq = defaultdict(lambda : defaultdict(int))\n",
    "freq = defaultdict(int)\n",
    "\n",
    "for tokens in token_docs.values():\n",
    "    for i in range(len(tokens)):\n",
    "        if tokens[i] in top_tokens_set:\n",
    "            freq[tokens[i]] += 1\n",
    "            for k in range(1, min(len(tokens) - i, win_size - 1)):\n",
    "                if tokens[i + k] in top_tokens_set:\n",
    "                    co_freq[tokens[i]][tokens[i+k]] += 1"
   ]
  },
  {
   "cell_type": "markdown",
   "metadata": {},
   "source": [
    "Ajustamos la métrica por (w-1)"
   ]
  },
  {
   "cell_type": "code",
   "execution_count": 76,
   "metadata": {
    "collapsed": true
   },
   "outputs": [],
   "source": [
    "# Ajustamos el valor por (win_size - 1)\n",
    "for t1 in co_freq:\n",
    "    for t2 in co_freq[t1]:\n",
    "        co_freq[t1][t2] /= (win_size - 1)"
   ]
  },
  {
   "cell_type": "code",
   "execution_count": 77,
   "metadata": {
    "collapsed": true
   },
   "outputs": [],
   "source": [
    "# Calculamos N\n",
    "N = sum([len(tokens) for tokens in token_docs.values()])"
   ]
  },
  {
   "cell_type": "code",
   "execution_count": 78,
   "metadata": {
    "collapsed": true
   },
   "outputs": [],
   "source": [
    "relations = {\n",
    "    (t1, t2) : np.log2((co_freq[t1][t2] / N) / (freq[t1] * freq[t2] / (N * N)))\n",
    "    for t1 in co_freq\n",
    "    for t2 in co_freq[t1]\n",
    "    if co_freq[t1][t2] * (win_size - 1) > 5\n",
    "}"
   ]
  },
  {
   "cell_type": "code",
   "execution_count": 79,
   "metadata": {
    "collapsed": true
   },
   "outputs": [],
   "source": [
    "top_relations = sorted([r for r in relations.items() if r[0] != 0.0], \n",
    "                       key=lambda kv: kv[1], reverse=True)"
   ]
  },
  {
   "cell_type": "code",
   "execution_count": 80,
   "metadata": {
    "collapsed": false
   },
   "outputs": [
    {
     "data": {
      "text/plain": [
       "[(('prime', 'minister'), 8.6837530270268442),\n",
       " (('human', 'rights'), 8.5526180603043116),\n",
       " (('interest', 'rates'), 8.3645610699064417),\n",
       " (('south', 'africa'), 8.169449800993279),\n",
       " (('eastern', 'europe'), 7.9623518920134355),\n",
       " (('stock', 'exchange'), 7.6810756686074395),\n",
       " (('west', 'german'), 7.6212728580275799),\n",
       " (('district', 'judge'), 7.5351932278390263),\n",
       " (('news', 'conference'), 7.528537573654515),\n",
       " (('united', 'states'), 7.442257478147325),\n",
       " (('west', 'germany'), 7.3638379235443185),\n",
       " (('air', 'force'), 7.3537929912865181),\n",
       " (('told', 'reporters'), 7.3484801332298364),\n",
       " (('communist', 'party'), 7.3327744825370926),\n",
       " (('white', 'house'), 7.3271189120223053)]"
      ]
     },
     "execution_count": 80,
     "metadata": {},
     "output_type": "execute_result"
    }
   ],
   "source": [
    "top_relations[:15]"
   ]
  },
  {
   "cell_type": "markdown",
   "metadata": {},
   "source": [
    "<a name=\"lexica\"></a>\n",
    "## 2. Información léxica"
   ]
  },
  {
   "cell_type": "markdown",
   "metadata": {},
   "source": [
    "Bajamos de [Project Gutenberg](http://www.gutenberg.org/) el libro de Darwin *ON THE ORIGIN OF SPECIES* y aplicamos el análisis de información léxica descripto en [Montemurro & Zanette 2010](https://www.researchgate.net/publication/46510298_Towards_the_quantification_of_the_semantic_information_encoded_in_written_language)."
   ]
  },
  {
   "cell_type": "code",
   "execution_count": 94,
   "metadata": {
    "collapsed": true
   },
   "outputs": [],
   "source": [
    "f_darwin = open('gutenberg/On The Origin Of Species.txt')\n",
    "corpus_darwin = f_darwin.read()"
   ]
  },
  {
   "cell_type": "markdown",
   "metadata": {},
   "source": [
    "Separamos el cuerpo del libro"
   ]
  },
  {
   "cell_type": "code",
   "execution_count": 95,
   "metadata": {
    "collapsed": true
   },
   "outputs": [],
   "source": [
    "start = '*** START OF THIS PROJECT GUTENBERG EBOOK ON THE ORIGIN OF SPECIES ***'\n",
    "end = '*** END OF THIS PROJECT GUTENBERG EBOOK ON THE ORIGIN OF SPECIES ***'\n",
    "corpus_darwin = corpus_darwin[corpus_darwin.find(start)+len(start):corpus_darwin.find(end)]"
   ]
  },
  {
   "cell_type": "markdown",
   "metadata": {},
   "source": [
    "<a name=\"2.1\"></a>\n",
    "### 2.1. Tokenización"
   ]
  },
  {
   "cell_type": "markdown",
   "metadata": {},
   "source": [
    "Tokenizamos, eliminando los signos de puntuación"
   ]
  },
  {
   "cell_type": "code",
   "execution_count": 96,
   "metadata": {
    "collapsed": true
   },
   "outputs": [],
   "source": [
    "lines_darwin = corpus_darwin.lower().splitlines()"
   ]
  },
  {
   "cell_type": "code",
   "execution_count": 97,
   "metadata": {
    "collapsed": true
   },
   "outputs": [],
   "source": [
    "words_darwin = nltk.wordpunct_tokenize(' '.join(lines_darwin))"
   ]
  },
  {
   "cell_type": "code",
   "execution_count": 98,
   "metadata": {
    "collapsed": true
   },
   "outputs": [],
   "source": [
    "import string\n",
    "words_darwin_unpunct = []\n",
    "for word_darwin in words_darwin:\n",
    "    translator = word_darwin.maketrans('','',string.punctuation)\n",
    "    if word_darwin.translate(translator) != '':\n",
    "        words_darwin_unpunct.append(word_darwin.translate(translator))"
   ]
  },
  {
   "cell_type": "markdown",
   "metadata": {},
   "source": [
    "Calculamos la cantidad de apariciones de cada palabra"
   ]
  },
  {
   "cell_type": "code",
   "execution_count": 99,
   "metadata": {
    "collapsed": true
   },
   "outputs": [],
   "source": [
    "c_darwin_unpunct = Counter(words_darwin_unpunct)"
   ]
  },
  {
   "cell_type": "markdown",
   "metadata": {},
   "source": [
    "Calculamos el tamaño del vocabulario"
   ]
  },
  {
   "cell_type": "code",
   "execution_count": 100,
   "metadata": {
    "collapsed": false
   },
   "outputs": [
    {
     "name": "stdout",
     "output_type": "stream",
     "text": [
      "Tamaño vocabulario: 7253\n"
     ]
    }
   ],
   "source": [
    "print('Tamaño vocabulario: {}'.format(len(set(words_darwin_unpunct))))"
   ]
  },
  {
   "cell_type": "markdown",
   "metadata": {},
   "source": [
    "<a name=\"2.2\"></a>\n",
    "### 2.2. Autocorrelación"
   ]
  },
  {
   "cell_type": "markdown",
   "metadata": {},
   "source": [
    "Para calcular la autocorrelación de cada palabra, primero tenemos que encontrar la tasa de ocurrencias de esa palabra. Para ello, buscamos reproducir los resultados del paper previamente citado. Por ejemplo, aplicamos el análisis para la palabra 'plants', la cual tiene 335 ocurrencias"
   ]
  },
  {
   "cell_type": "code",
   "execution_count": 101,
   "metadata": {
    "collapsed": true
   },
   "outputs": [],
   "source": [
    "test_word = 'plants'"
   ]
  },
  {
   "cell_type": "code",
   "execution_count": 102,
   "metadata": {
    "collapsed": false
   },
   "outputs": [
    {
     "data": {
      "text/plain": [
       "335"
      ]
     },
     "execution_count": 102,
     "metadata": {},
     "output_type": "execute_result"
    }
   ],
   "source": [
    "c_darwin_unpunct[test_word]"
   ]
  },
  {
   "cell_type": "markdown",
   "metadata": {},
   "source": [
    "Obtenemos las posiciones de la palabra en el texto"
   ]
  },
  {
   "cell_type": "code",
   "execution_count": 103,
   "metadata": {
    "collapsed": true
   },
   "outputs": [],
   "source": [
    "from itertools import count\n",
    "word_darwin_index = [i for i, j in zip(count(), words_darwin_unpunct) if j == test_word]"
   ]
  },
  {
   "cell_type": "code",
   "execution_count": 104,
   "metadata": {
    "collapsed": false
   },
   "outputs": [
    {
     "data": {
      "text/plain": [
       "335"
      ]
     },
     "execution_count": 104,
     "metadata": {},
     "output_type": "execute_result"
    }
   ],
   "source": [
    "len(word_darwin_index)"
   ]
  },
  {
   "cell_type": "code",
   "execution_count": 105,
   "metadata": {
    "collapsed": true
   },
   "outputs": [],
   "source": [
    "N = len(words_darwin_unpunct)"
   ]
  },
  {
   "cell_type": "code",
   "execution_count": 106,
   "metadata": {
    "collapsed": true
   },
   "outputs": [],
   "source": [
    "word_darwin_delta = [0] * len(words_darwin_unpunct)"
   ]
  },
  {
   "cell_type": "code",
   "execution_count": 107,
   "metadata": {
    "collapsed": false
   },
   "outputs": [
    {
     "data": {
      "text/plain": [
       "156885"
      ]
     },
     "execution_count": 107,
     "metadata": {},
     "output_type": "execute_result"
    }
   ],
   "source": [
    "len(word_darwin_delta)"
   ]
  },
  {
   "cell_type": "markdown",
   "metadata": {},
   "source": [
    "Calculamos la densidad de ocurrencias de la palabra *w*\n",
    "\\begin{equation*}\n",
    "v_{w} (t) = \\sum_{j=1}^n \\delta(t-t_{j})\n",
    "\\end{equation*}"
   ]
  },
  {
   "cell_type": "code",
   "execution_count": 108,
   "metadata": {
    "collapsed": true
   },
   "outputs": [],
   "source": [
    "for index in word_darwin_index:\n",
    "    word_darwin_delta[index] = 1"
   ]
  },
  {
   "cell_type": "code",
   "execution_count": 109,
   "metadata": {
    "collapsed": false
   },
   "outputs": [
    {
     "data": {
      "image/png": "[encoded data removed]",
      "text/plain": [
       "<matplotlib.figure.Figure at 0x7f38ecdde4e0>"
      ]
     },
     "metadata": {},
     "output_type": "display_data"
    }
   ],
   "source": [
    "plt.figure(figsize(15, 1))\n",
    "plot(word_darwin_delta)\n",
    "ylabel('$v_{w}$', size=18)\n",
    "xlabel('t', size=18)\n",
    "plt.show()"
   ]
  },
  {
   "cell_type": "markdown",
   "metadata": {},
   "source": [
    "Obtenemos la tasa de ocurrencias de convolucionar la densidad de ocurrencias con un kernel gaussiano\n",
    "\\begin{equation*}\n",
    "\\rho_{w} (t) = \\int_{-\\infty}^\\infty G(t-t'_{w},\\sigma) v_{w}(t')dt'\n",
    "\\end{equation*}"
   ]
  },
  {
   "cell_type": "code",
   "execution_count": 110,
   "metadata": {
    "collapsed": true
   },
   "outputs": [],
   "source": [
    "from astropy.convolution import convolve, Gaussian1DKernel"
   ]
  },
  {
   "cell_type": "code",
   "execution_count": 111,
   "metadata": {
    "collapsed": true
   },
   "outputs": [],
   "source": [
    "gauss_kernel = Gaussian1DKernel(50)\n",
    "# smoothed_data_gauss[i] = p_w(i)\n",
    "smoothed_data_gauss = convolve(word_darwin_delta, gauss_kernel)"
   ]
  },
  {
   "cell_type": "code",
   "execution_count": 112,
   "metadata": {
    "collapsed": false,
    "scrolled": true
   },
   "outputs": [
    {
     "data": {
      "image/png": "[encoded data removed]",
      "text/plain": [
       "<matplotlib.figure.Figure at 0x7f38d68dbe48>"
      ]
     },
     "metadata": {},
     "output_type": "display_data"
    }
   ],
   "source": [
    "plt.figure(figsize(15, 1))\n",
    "plot(smoothed_data_gauss)\n",
    "ylabel('$\\\\rho_{w}$', size=18)\n",
    "xlabel('t', size=18)\n",
    "plt.show()"
   ]
  },
  {
   "cell_type": "markdown",
   "metadata": {},
   "source": [
    "Donde obtuvimos resultados similares a los del paper"
   ]
  },
  {
   "cell_type": "code",
   "execution_count": 113,
   "metadata": {
    "collapsed": false
   },
   "outputs": [
    {
     "data": {
      "image/png": "[encoded data removed]",
      "text/plain": [
       "<IPython.core.display.Image object>"
      ]
     },
     "execution_count": 113,
     "metadata": {
      "image/png": {
       "width": 800
      }
     },
     "output_type": "execute_result"
    }
   ],
   "source": [
    "from IPython.display import Image\n",
    "Image(\"ref/rate_plants.png\", width=800)"
   ]
  },
  {
   "cell_type": "markdown",
   "metadata": {},
   "source": [
    "Computamos la autocorrelación normalizada de la tasa de ocurrencia\n",
    "\\begin{equation*}\n",
    "c_{w} (t) = \\frac{\\langle \\rho_{w} (t) \\rho_{w} (t + \\tau) \\rangle_{t} - \\langle \\rho_{w} (t) \\rangle_{t} \\langle \\rho_{w} (t + \\tau) \\rangle_{t}}{\\langle \\rho_{w} (t)^{2} \\rangle_{t} - \\langle \\rho_{w} (t) \\rangle_{t}^{2}}\n",
    "\\end{equation*}"
   ]
  },
  {
   "cell_type": "code",
   "execution_count": 114,
   "metadata": {
    "collapsed": true
   },
   "outputs": [],
   "source": [
    "self_corr = np.correlate(smoothed_data_gauss, smoothed_data_gauss,'full')"
   ]
  },
  {
   "cell_type": "code",
   "execution_count": 115,
   "metadata": {
    "collapsed": true
   },
   "outputs": [],
   "source": [
    "paper_corr = ((self_corr / smoothed_data_gauss.shape[0]) - smoothed_data_gauss.mean() ** 2) / smoothed_data_gauss.var()"
   ]
  },
  {
   "cell_type": "code",
   "execution_count": 116,
   "metadata": {
    "collapsed": false,
    "scrolled": true
   },
   "outputs": [
    {
     "data": {
      "image/png": "[encoded data removed]",
      "text/plain": [
       "<matplotlib.figure.Figure at 0x7f38d601b7b8>"
      ]
     },
     "metadata": {},
     "output_type": "display_data"
    }
   ],
   "source": [
    "plt.figure(figsize(10, 5))\n",
    "plot(paper_corr[len(smoothed_data_gauss)-1:len(smoothed_data_gauss)+10000])\n",
    "ylabel('Autocorrelación', size=18)\n",
    "xlabel('$\\\\tau$', size=18)\n",
    "plt.show()"
   ]
  },
  {
   "cell_type": "markdown",
   "metadata": {},
   "source": [
    "Donde obtuvimos resultados similares a los del paper"
   ]
  },
  {
   "cell_type": "code",
   "execution_count": 117,
   "metadata": {
    "collapsed": false
   },
   "outputs": [
    {
     "data": {
      "image/png": "[encoded data removed]",
      "text/plain": [
       "<IPython.core.display.Image object>"
      ]
     },
     "execution_count": 117,
     "metadata": {
      "image/png": {
       "width": 650
      }
     },
     "output_type": "execute_result"
    }
   ],
   "source": [
    "from IPython.display import Image\n",
    "Image(\"ref/autocorr_plants.png\", width=650)"
   ]
  },
  {
   "cell_type": "markdown",
   "metadata": {},
   "source": [
    "Armamos la función que calcula el rate of occurrence y la testeamos en la palabra 'instinct' que es la 2da que usa en el paper"
   ]
  },
  {
   "cell_type": "code",
   "execution_count": 118,
   "metadata": {
    "collapsed": true
   },
   "outputs": [],
   "source": [
    "def rate_of_occurrence(words_list, test_word, sigma=50):\n",
    "    from itertools import count\n",
    "    word_index = [i for i, j in zip(count(), words_list) if j == test_word]\n",
    "    word_delta = [0] * len(words_list)\n",
    "    for index in word_index:\n",
    "        word_delta[index] = 1\n",
    "    from astropy.convolution import convolve, Gaussian1DKernel\n",
    "    gauss_kernel = Gaussian1DKernel(sigma)\n",
    "    word_gauss = convolve(word_delta, gauss_kernel)\n",
    "    return word_gauss"
   ]
  },
  {
   "cell_type": "code",
   "execution_count": 119,
   "metadata": {
    "collapsed": false
   },
   "outputs": [
    {
     "data": {
      "image/png": "[encoded data removed]",
      "text/plain": [
       "<matplotlib.figure.Figure at 0x7f38d5fa2c18>"
      ]
     },
     "metadata": {},
     "output_type": "display_data"
    }
   ],
   "source": [
    "plt.figure(figsize(15, 1))\n",
    "plot(rate_of_occurrence(words_darwin_unpunct, 'instinct'))\n",
    "ylabel('$\\\\rho_{w}$', size=18)\n",
    "xlabel('t', size=18)\n",
    "plt.show()"
   ]
  },
  {
   "cell_type": "code",
   "execution_count": 120,
   "metadata": {
    "collapsed": false
   },
   "outputs": [
    {
     "data": {
      "image/png": "[encoded data removed]",
      "text/plain": [
       "<IPython.core.display.Image object>"
      ]
     },
     "execution_count": 120,
     "metadata": {
      "image/png": {
       "width": 800
      }
     },
     "output_type": "execute_result"
    }
   ],
   "source": [
    "from IPython.display import Image\n",
    "Image(\"ref/rate_instinct.png\", width=800)"
   ]
  },
  {
   "cell_type": "markdown",
   "metadata": {},
   "source": [
    "Armo la función para calcular la autocorrelación y la pruebo en la palabra 'instinct' que es la 2da que usa en el paper."
   ]
  },
  {
   "cell_type": "code",
   "execution_count": 121,
   "metadata": {
    "collapsed": true
   },
   "outputs": [],
   "source": [
    "def self_correlation(words_list, test_word, sigma=50):\n",
    "    from itertools import count\n",
    "    word_index = [i for i, j in zip(count(), words_list) if j == test_word]\n",
    "    word_delta = [0] * len(words_list)\n",
    "    for index in word_index:\n",
    "        word_delta[index] = 1\n",
    "    from astropy.convolution import convolve, Gaussian1DKernel\n",
    "    gauss_kernel = Gaussian1DKernel(sigma)\n",
    "    word_gauss = convolve(word_delta, gauss_kernel)\n",
    "    import numpy as np\n",
    "    self_corr = np.correlate(word_gauss, word_gauss,'full')\n",
    "    paper_corr = ((self_corr / word_gauss.shape[0]) - word_gauss.mean() ** 2) / word_gauss.var()\n",
    "    return paper_corr[len(word_gauss)-1:]"
   ]
  },
  {
   "cell_type": "code",
   "execution_count": 122,
   "metadata": {
    "collapsed": false
   },
   "outputs": [
    {
     "data": {
      "image/png": "[encoded data removed]",
      "text/plain": [
       "<matplotlib.figure.Figure at 0x7f38d5f44b70>"
      ]
     },
     "metadata": {},
     "output_type": "display_data"
    }
   ],
   "source": [
    "plt.figure(figsize(15, 5))\n",
    "plot(self_correlation(words_darwin_unpunct, 'instinct')[:10000])\n",
    "ylabel('Autocorrelación', size=18)\n",
    "xlabel('$\\\\tau$', size=18)\n",
    "plt.show()"
   ]
  },
  {
   "cell_type": "code",
   "execution_count": 123,
   "metadata": {
    "collapsed": false
   },
   "outputs": [
    {
     "data": {
      "image/png": "[encoded data removed]",
      "text/plain": [
       "<IPython.core.display.Image object>"
      ]
     },
     "execution_count": 123,
     "metadata": {
      "image/png": {
       "width": 650
      }
     },
     "output_type": "execute_result"
    }
   ],
   "source": [
    "from IPython.display import Image\n",
    "Image(\"ref/autocorr_instinct.png\", width=650)"
   ]
  },
  {
   "cell_type": "markdown",
   "metadata": {},
   "source": [
    "Observamos que se reproducen los resultados del paper, y que a partir de estas métricas podemos identificar que la distribución de algunas palabras en el texto no es uniforme, indicando patrones de dominio del uso de esas palabras lo reflejaría información semántica asociada."
   ]
  },
  {
   "cell_type": "markdown",
   "metadata": {},
   "source": [
    "<a name=\"2.3\"></a>\n",
    "### 2.3. Entropía"
   ]
  },
  {
   "cell_type": "markdown",
   "metadata": {},
   "source": [
    "Calculamos la entropía. Para eso, separamos el texto en segmentos de aproximadamente la misma cantidad de palabras y calculamos el número de ocurrencias de una palabra (por ejemplo 'plants') en cada una de los segmentos. Ese valor dividido el número total de ocurrencias de la palabra va a dar la probabilidad de que esa palabra aparezca en ese segmento."
   ]
  },
  {
   "cell_type": "code",
   "execution_count": 124,
   "metadata": {
    "collapsed": false
   },
   "outputs": [
    {
     "data": {
      "text/plain": [
       "[15689, 15689, 15689, 15689, 15689, 15688, 15688, 15688, 15688, 15688]"
      ]
     },
     "execution_count": 124,
     "metadata": {},
     "output_type": "execute_result"
    }
   ],
   "source": [
    "parts= 10\n",
    "[len(segment) for segment in np.array_split(word_darwin_delta, parts)]"
   ]
  },
  {
   "cell_type": "markdown",
   "metadata": {},
   "source": [
    "Si separamos en 10 segmentos, vemos que los 10 segmentos tienen casi el mismo tamaño. La máxima diferencia de tamaños puede ser de 1 palabra, lo que ocurre cuando el total de palabras no es múltiplo del número de segmentos. Ahora calculamos el número de ocurrencias de la palabra en cada segmento."
   ]
  },
  {
   "cell_type": "code",
   "execution_count": 125,
   "metadata": {
    "collapsed": false
   },
   "outputs": [],
   "source": [
    "parts= 10\n",
    "nj = [sum(segment) for segment in np.array_split(word_darwin_delta, parts)]"
   ]
  },
  {
   "cell_type": "markdown",
   "metadata": {},
   "source": [
    "Chequeamos que el total de apariciones siga siendo el mismo"
   ]
  },
  {
   "cell_type": "code",
   "execution_count": 126,
   "metadata": {
    "collapsed": false
   },
   "outputs": [
    {
     "data": {
      "text/plain": [
       "335"
      ]
     },
     "execution_count": 126,
     "metadata": {},
     "output_type": "execute_result"
    }
   ],
   "source": [
    "sum(nj)"
   ]
  },
  {
   "cell_type": "markdown",
   "metadata": {},
   "source": [
    "Y la probabilidad de encontrar la palabra en cada segmento sería"
   ]
  },
  {
   "cell_type": "code",
   "execution_count": 127,
   "metadata": {
    "collapsed": true
   },
   "outputs": [],
   "source": [
    "parts= 10\n",
    "pj = [sum(segment)/sum(word_darwin_delta) for segment in np.array_split(word_darwin_delta, parts)]"
   ]
  },
  {
   "cell_type": "code",
   "execution_count": 128,
   "metadata": {
    "collapsed": false
   },
   "outputs": [
    {
     "data": {
      "text/plain": [
       "[0.13134328358208955,\n",
       " 0.17611940298507461,\n",
       " 0.1253731343283582,\n",
       " 0.026865671641791045,\n",
       " 0.026865671641791045,\n",
       " 0.080597014925373134,\n",
       " 0.0089552238805970154,\n",
       " 0.23582089552238805,\n",
       " 0.053731343283582089,\n",
       " 0.13432835820895522]"
      ]
     },
     "execution_count": 128,
     "metadata": {},
     "output_type": "execute_result"
    }
   ],
   "source": [
    "pj"
   ]
  },
  {
   "cell_type": "code",
   "execution_count": 129,
   "metadata": {
    "collapsed": false
   },
   "outputs": [
    {
     "data": {
      "text/plain": [
       "1.0"
      ]
     },
     "execution_count": 129,
     "metadata": {},
     "output_type": "execute_result"
    }
   ],
   "source": [
    "sum(pj)"
   ]
  },
  {
   "cell_type": "markdown",
   "metadata": {},
   "source": [
    "Con ese valor de probabilidad calculamos la entropía de la palabra *w* para una partición en *P* segmentos.\n",
    "\\begin{equation*}\n",
    "H (J|w) = - \\sum_{j=1}^P p_{j}\\log_{2}[p_{j}]\n",
    "\\end{equation*}"
   ]
  },
  {
   "cell_type": "code",
   "execution_count": 130,
   "metadata": {
    "collapsed": false
   },
   "outputs": [
    {
     "data": {
      "text/plain": [
       "[0.38465005771685029,\n",
       " 0.4412450146955651,\n",
       " 0.37558028127697823,\n",
       " 0.14018755389589671,\n",
       " 0.14018755389589671,\n",
       " 0.29281941536091044,\n",
       " 0.060922878668274436,\n",
       " 0.49150652667544636,\n",
       " 0.22664376450821136,\n",
       " 0.38903698061401698]"
      ]
     },
     "execution_count": 130,
     "metadata": {},
     "output_type": "execute_result"
    }
   ],
   "source": [
    "[-p*np.log2(p) for p in pj]"
   ]
  },
  {
   "cell_type": "code",
   "execution_count": 131,
   "metadata": {
    "collapsed": true
   },
   "outputs": [],
   "source": [
    "word_entropy = sum([-p*np.log2(p) for p in pj])"
   ]
  },
  {
   "cell_type": "code",
   "execution_count": 132,
   "metadata": {
    "collapsed": true
   },
   "outputs": [],
   "source": [
    "def get_word_entropy(words_list, test_word, parts=10):\n",
    "    from itertools import count\n",
    "    word_index = [i for i, j in zip(count(), words_list) if j == test_word]\n",
    "    word_delta = [0] * len(words_list)\n",
    "    for index in word_index:\n",
    "        word_delta[index] = 1\n",
    "    pj = [sum(segment)/sum(word_delta) for segment in np.array_split(word_delta, parts)]\n",
    "    word_entropy = sum([-p*np.log2(p) for p in pj if p!=0]) # correccion para que se pueda calcular el log, si p=0 entonces no suma nada a la entropia\n",
    "    return word_entropy"
   ]
  },
  {
   "cell_type": "code",
   "execution_count": 133,
   "metadata": {
    "collapsed": false
   },
   "outputs": [
    {
     "data": {
      "text/plain": [
       "5.2085462341032711"
      ]
     },
     "execution_count": 133,
     "metadata": {},
     "output_type": "execute_result"
    }
   ],
   "source": [
    "get_word_entropy(words_darwin_unpunct, 'plants', parts=64)"
   ]
  },
  {
   "cell_type": "markdown",
   "metadata": {},
   "source": [
    "Calculamos la entropía para 100 palabras seleccionadas tal que 50 son las más frecuentes y 50 las menos frecuentes."
   ]
  },
  {
   "cell_type": "code",
   "execution_count": 134,
   "metadata": {
    "collapsed": true
   },
   "outputs": [],
   "source": [
    "words_darwin_selected = c_darwin_unpunct.most_common()[0:50] + c_darwin_unpunct.most_common()[-50:]"
   ]
  },
  {
   "cell_type": "code",
   "execution_count": 135,
   "metadata": {
    "collapsed": true
   },
   "outputs": [],
   "source": [
    "words_darwin_selected_entropy = [get_word_entropy(words_darwin_unpunct, word_darwin_selected[0]) for word_darwin_selected in words_darwin_selected]"
   ]
  },
  {
   "cell_type": "code",
   "execution_count": 141,
   "metadata": {
    "collapsed": false
   },
   "outputs": [
    {
     "data": {
      "image/png": "[encoded data removed]",
      "text/plain": [
       "<matplotlib.figure.Figure at 0x7f38eccd1128>"
      ]
     },
     "metadata": {},
     "output_type": "display_data"
    }
   ],
   "source": [
    "plt.figure(figsize(15,5))\n",
    "plt.plot(range(50), words_darwin_selected_entropy[:50], label='Más comunes', color='green')\n",
    "plt.plot(range(50, 100), words_darwin_selected_entropy[50:], label='Menos comunes')\n",
    "plt.ylabel('Entropía')\n",
    "plt.xlabel('Indice palabra seleccionada')\n",
    "plt.legend()\n",
    "plt.show()"
   ]
  },
  {
   "cell_type": "markdown",
   "metadata": {},
   "source": [
    "Observamos que las palabras más comunes tienen mucha más entropia que las palabras menos comunes.\n",
    "Calculamos la entropía para todas las palabras y comparamos con su frecuencia."
   ]
  },
  {
   "cell_type": "code",
   "execution_count": 162,
   "metadata": {
    "collapsed": true
   },
   "outputs": [],
   "source": [
    "if not os.path.isfile('gutenberg/words_darwin_all_entropy.pkl'):\n",
    "    words_darwin_all_entropy = [get_word_entropy(words_darwin_unpunct, word_darwin_all[0]) for word_darwin_all in c_darwin_unpunct.most_common()]\n",
    "    with open('gutenberg/words_darwin_all_entropy.pkl', 'wb') as f_entropy:\n",
    "        pickle.dump(words_darwin_all_entropy, f_entropy)\n",
    "else:\n",
    "    with open('gutenberg/words_darwin_all_entropy.pkl', 'rb') as f_entropy:\n",
    "        words_darwin_all_entropy = pickle.load(f_entropy)"
   ]
  },
  {
   "cell_type": "code",
   "execution_count": 163,
   "metadata": {
    "collapsed": true
   },
   "outputs": [],
   "source": [
    "if not os.path.isfile('gutenberg/words_darwin_all_frequency.pkl'):\n",
    "    words_darwin_all_frequency = [word_darwin_all[1] for word_darwin_all in c_darwin_unpunct.most_common()]\n",
    "    with open('gutenberg/words_darwin_all_frequency.pkl', 'wb') as f_freq:\n",
    "        pickle.dump(words_darwin_all_frequency, f_freq)\n",
    "else:\n",
    "    with open('gutenberg/words_darwin_all_frequency.pkl', 'rb') as f_freq:\n",
    "        words_darwin_all_frequency = pickle.load(f_freq)"
   ]
  },
  {
   "cell_type": "code",
   "execution_count": 167,
   "metadata": {
    "collapsed": false
   },
   "outputs": [
    {
     "data": {
      "image/png": "[encoded data removed]",
      "text/plain": [
       "<matplotlib.figure.Figure at 0x1b995f8f940>"
      ]
     },
     "metadata": {},
     "output_type": "display_data"
    }
   ],
   "source": [
    "plt.figure(figsize(15,10))\n",
    "scatter(words_darwin_all_frequency, words_darwin_all_entropy)\n",
    "plt.xscale('log')\n",
    "plt.grid(True)\n",
    "ylabel('Entropía', size=18)\n",
    "xlabel('Frecuencia', size=18)\n",
    "plt.show()"
   ]
  },
  {
   "cell_type": "markdown",
   "metadata": {},
   "source": [
    "Donde se obtiene un resultado similar al del paper."
   ]
  },
  {
   "cell_type": "markdown",
   "metadata": {},
   "source": [
    "<a name=\"2.4\"></a>\n",
    "### 2.4. Randomización"
   ]
  },
  {
   "cell_type": "markdown",
   "metadata": {},
   "source": [
    "Por último se puede calcular estas métricas pero randimizando la posición de las palabras en el texto."
   ]
  },
  {
   "cell_type": "code",
   "execution_count": 143,
   "metadata": {
    "collapsed": true
   },
   "outputs": [],
   "source": [
    "words_darwin_unpunct_random = words_darwin_unpunct.copy()\n",
    "np.random.shuffle(words_darwin_unpunct_random)"
   ]
  },
  {
   "cell_type": "code",
   "execution_count": 144,
   "metadata": {
    "collapsed": false,
    "scrolled": true
   },
   "outputs": [
    {
     "data": {
      "text/plain": [
       "['the',\n",
       " 'this',\n",
       " 'species',\n",
       " 'trifling',\n",
       " 'again',\n",
       " 'be',\n",
       " 'area',\n",
       " 'or',\n",
       " 'varieties',\n",
       " 'different',\n",
       " 'see',\n",
       " 'cliffs',\n",
       " 'occur',\n",
       " 'and',\n",
       " 'this',\n",
       " 'relatively',\n",
       " 'but',\n",
       " 'to',\n",
       " 'on',\n",
       " 'what',\n",
       " 'modification',\n",
       " 'and',\n",
       " 'skeleton',\n",
       " 'minute',\n",
       " 'order',\n",
       " 'and',\n",
       " 'distant',\n",
       " 'at',\n",
       " 'affinities',\n",
       " 'salmon',\n",
       " 'it',\n",
       " 'descendants',\n",
       " 'been',\n",
       " 'fuller',\n",
       " 'colonel',\n",
       " 'suspect',\n",
       " 'and',\n",
       " 'single',\n",
       " 'with',\n",
       " 'on',\n",
       " 'individuals',\n",
       " 'of',\n",
       " 'might',\n",
       " 'same',\n",
       " 'till',\n",
       " 'corresponding',\n",
       " 'existed',\n",
       " 'been',\n",
       " 'forms',\n",
       " 'the',\n",
       " 'excepting',\n",
       " 'one',\n",
       " 'exposed',\n",
       " 'importance',\n",
       " 'every',\n",
       " 'i',\n",
       " 'when',\n",
       " 'islands',\n",
       " 'proportions',\n",
       " 'valued',\n",
       " 'the',\n",
       " 'pyramidal',\n",
       " 'mass',\n",
       " 'to',\n",
       " 'gradations',\n",
       " 'come',\n",
       " 'interstices',\n",
       " 'the',\n",
       " 'to',\n",
       " 'single',\n",
       " 'of',\n",
       " 'on',\n",
       " 'given',\n",
       " 'and',\n",
       " 'this',\n",
       " 'cannot',\n",
       " 'maximum',\n",
       " 'classification',\n",
       " 'combined',\n",
       " 'preposterous',\n",
       " 'diluvial',\n",
       " 'to',\n",
       " 'variable',\n",
       " 'his',\n",
       " 'say',\n",
       " 'aquatic',\n",
       " 'of',\n",
       " 'be',\n",
       " 'of',\n",
       " 'they',\n",
       " 'and',\n",
       " 'inadequate',\n",
       " 'preserved',\n",
       " 'several',\n",
       " 'beetles',\n",
       " 'ranked',\n",
       " 'flower',\n",
       " 'seed',\n",
       " 'the',\n",
       " 'here',\n",
       " 'domestic',\n",
       " 'they',\n",
       " 'not',\n",
       " 'of',\n",
       " 'species',\n",
       " 'either',\n",
       " 'adapted',\n",
       " 'are',\n",
       " 'from',\n",
       " 'can',\n",
       " 'in',\n",
       " 'their',\n",
       " 'have',\n",
       " 'have',\n",
       " 'that',\n",
       " 'in',\n",
       " 'the',\n",
       " 'of',\n",
       " 'rocks',\n",
       " 'never',\n",
       " 'such',\n",
       " 'to',\n",
       " 'the',\n",
       " 'the',\n",
       " 'work',\n",
       " 'almost',\n",
       " 'the',\n",
       " 'original',\n",
       " 'my',\n",
       " 'young',\n",
       " 'occasionally',\n",
       " 'a',\n",
       " 'best',\n",
       " 'doubt',\n",
       " 'the',\n",
       " 'pigeons',\n",
       " 'those',\n",
       " 'that',\n",
       " 'of',\n",
       " 'disease',\n",
       " 'in',\n",
       " 'and',\n",
       " 'states',\n",
       " 'greatest',\n",
       " 'of',\n",
       " 'the',\n",
       " 'these',\n",
       " 'and',\n",
       " 'perhaps',\n",
       " 'beings',\n",
       " 's',\n",
       " 'selection',\n",
       " 'would',\n",
       " 'or',\n",
       " 'genera',\n",
       " 'of',\n",
       " 'at',\n",
       " 'of',\n",
       " 'the',\n",
       " 'settled',\n",
       " 'are',\n",
       " 'the',\n",
       " 'selection',\n",
       " 'brazil',\n",
       " 'selection',\n",
       " 'plant',\n",
       " 'vertebrata',\n",
       " 'it',\n",
       " 'a',\n",
       " 'this',\n",
       " 'in',\n",
       " 'the',\n",
       " 'period',\n",
       " 'africa',\n",
       " 'large',\n",
       " 'only',\n",
       " 'to',\n",
       " 'of',\n",
       " 'the',\n",
       " 'with',\n",
       " 'granules',\n",
       " 'look',\n",
       " 'is',\n",
       " 'as',\n",
       " 'new',\n",
       " 'mammals',\n",
       " 'have',\n",
       " 'in',\n",
       " 'modification',\n",
       " 'regularly',\n",
       " 'there',\n",
       " 'had',\n",
       " 'were',\n",
       " 'the',\n",
       " 'over',\n",
       " 'he',\n",
       " 'ever',\n",
       " 'wing',\n",
       " 'the',\n",
       " 'causes',\n",
       " 'type',\n",
       " 'alone',\n",
       " 'that',\n",
       " 'and',\n",
       " 'before',\n",
       " 'long',\n",
       " 'as',\n",
       " 'to',\n",
       " 'degree',\n",
       " 'revert',\n",
       " 'permanent',\n",
       " 'the',\n",
       " 'by',\n",
       " 'allied',\n",
       " 'degrees',\n",
       " 'published',\n",
       " 'born',\n",
       " 'found',\n",
       " 'young',\n",
       " 'species',\n",
       " 'with',\n",
       " 'observed',\n",
       " 'societies',\n",
       " 'no',\n",
       " 'in',\n",
       " 'example',\n",
       " 'have',\n",
       " 'young',\n",
       " 'is',\n",
       " 'of',\n",
       " 'any',\n",
       " 'of',\n",
       " 'may',\n",
       " 'family',\n",
       " 'of',\n",
       " 'plants',\n",
       " 'our',\n",
       " 'undergone',\n",
       " 'caudal',\n",
       " 'one',\n",
       " 'is',\n",
       " 'single',\n",
       " 'i',\n",
       " 'is',\n",
       " 'descendants',\n",
       " 'wallace',\n",
       " 'cultivated',\n",
       " 'dispersed',\n",
       " 'common',\n",
       " 'us',\n",
       " 'its',\n",
       " 'together',\n",
       " 'in',\n",
       " 'of',\n",
       " 'to',\n",
       " 'distant',\n",
       " 'lowland',\n",
       " 'few',\n",
       " 'any',\n",
       " 'wherever',\n",
       " 'on',\n",
       " 'of',\n",
       " 'the',\n",
       " 'every',\n",
       " 'it',\n",
       " 'between',\n",
       " 'those',\n",
       " 'the',\n",
       " 'limited',\n",
       " 'the',\n",
       " 'and',\n",
       " 'domestic',\n",
       " 'for',\n",
       " 'the',\n",
       " 'he',\n",
       " 'been',\n",
       " 'surrounding',\n",
       " 'the',\n",
       " 'probably',\n",
       " 'that',\n",
       " 'species',\n",
       " 'in',\n",
       " 'this',\n",
       " 'old',\n",
       " 'few',\n",
       " 'after',\n",
       " 'off',\n",
       " 'was',\n",
       " 'an',\n",
       " 'conditions',\n",
       " 'the',\n",
       " 'and',\n",
       " 'the',\n",
       " 'least',\n",
       " 'cases',\n",
       " 'then',\n",
       " 'by',\n",
       " 'its',\n",
       " 'the',\n",
       " 'cuckoo',\n",
       " 'of',\n",
       " 'what',\n",
       " '219',\n",
       " 'oesophagus',\n",
       " 'parent',\n",
       " 'of',\n",
       " 'into',\n",
       " 'species',\n",
       " 'manchester',\n",
       " 'case',\n",
       " 'and',\n",
       " 'and',\n",
       " 'dialects',\n",
       " 'account',\n",
       " 'be',\n",
       " 'length',\n",
       " 'which',\n",
       " 'of',\n",
       " 'rapid',\n",
       " 'crustaceans',\n",
       " 'accumulation',\n",
       " 'competition',\n",
       " 'extreme',\n",
       " 'had',\n",
       " 'although',\n",
       " 'lineal',\n",
       " 'all',\n",
       " 'pain',\n",
       " 'in',\n",
       " 'probably',\n",
       " 'i',\n",
       " 'thus',\n",
       " 'forms',\n",
       " 'in',\n",
       " 'me',\n",
       " 'of',\n",
       " 'which',\n",
       " 'standing',\n",
       " 'produce',\n",
       " 'parent',\n",
       " 'both',\n",
       " 'his',\n",
       " 'monocanthus',\n",
       " 'supplant',\n",
       " 'allied',\n",
       " 'of',\n",
       " 'surfaces',\n",
       " 'then',\n",
       " 'most',\n",
       " 'size',\n",
       " 'conchologists',\n",
       " 'how',\n",
       " 'the',\n",
       " 'on',\n",
       " 'the',\n",
       " 'testing',\n",
       " 'of',\n",
       " 'genera',\n",
       " 'or',\n",
       " 'has',\n",
       " 'existence',\n",
       " 'conclusions',\n",
       " 'descent',\n",
       " 'no',\n",
       " 'multiplication',\n",
       " 'that',\n",
       " 'one',\n",
       " 'too',\n",
       " 'and',\n",
       " 'tumble',\n",
       " 'one',\n",
       " 'genera',\n",
       " 'dr',\n",
       " 'flowers',\n",
       " 'to',\n",
       " 'briefly',\n",
       " 'been',\n",
       " 'natural',\n",
       " 'of',\n",
       " 'have',\n",
       " 'the',\n",
       " 'time',\n",
       " 'may',\n",
       " 'rare',\n",
       " 'enough',\n",
       " 'their',\n",
       " 'be',\n",
       " 'from',\n",
       " 'especially',\n",
       " 'is',\n",
       " 'us',\n",
       " 'though',\n",
       " 'on',\n",
       " 'from',\n",
       " 'having',\n",
       " 'the',\n",
       " 'species',\n",
       " 'inhabitants',\n",
       " 'as',\n",
       " 'thousands',\n",
       " 'apparently',\n",
       " 'though',\n",
       " 'of',\n",
       " 'on',\n",
       " 'range',\n",
       " 'appearance',\n",
       " 'which',\n",
       " 'discovered',\n",
       " 'with',\n",
       " 'its',\n",
       " 'a',\n",
       " 'large',\n",
       " 'will',\n",
       " 'subordinate',\n",
       " 'member',\n",
       " 'cross',\n",
       " 'varied',\n",
       " 'in',\n",
       " 'so',\n",
       " 'i',\n",
       " 'with',\n",
       " 'or',\n",
       " 'instincts',\n",
       " 'yet',\n",
       " 'this',\n",
       " 'general',\n",
       " 'animals',\n",
       " 'have',\n",
       " 'apprehend',\n",
       " 'mr',\n",
       " 'into',\n",
       " 'fertile',\n",
       " 'the',\n",
       " 'and',\n",
       " 'cannot',\n",
       " 'the',\n",
       " 'conclusion',\n",
       " 'or',\n",
       " 'of',\n",
       " 'certain',\n",
       " 'their',\n",
       " 'beings',\n",
       " 'same',\n",
       " 'at',\n",
       " 'by',\n",
       " 'denudation',\n",
       " 'of',\n",
       " 'to',\n",
       " 'satellites',\n",
       " 'mostly',\n",
       " 'of',\n",
       " 'two',\n",
       " 'navels',\n",
       " 'clausen',\n",
       " 'that',\n",
       " 'only',\n",
       " 'the',\n",
       " 'and',\n",
       " 'of',\n",
       " 'eye',\n",
       " 'been',\n",
       " 'and',\n",
       " 'moderate',\n",
       " 'modified',\n",
       " 'for',\n",
       " 'in',\n",
       " 'other',\n",
       " 'flight',\n",
       " 'as',\n",
       " 'eager',\n",
       " 'everywhere',\n",
       " 'soon',\n",
       " 'at',\n",
       " 'arguments',\n",
       " 'differences',\n",
       " 'the',\n",
       " 'wild',\n",
       " 'planted',\n",
       " 'a',\n",
       " 'the',\n",
       " 'on',\n",
       " 'useful',\n",
       " 'when',\n",
       " 'all',\n",
       " 'on',\n",
       " 'act',\n",
       " 'life',\n",
       " 'are',\n",
       " 'habits',\n",
       " 'giving',\n",
       " 'and',\n",
       " 'and',\n",
       " 'part',\n",
       " 'descendants',\n",
       " 'vast',\n",
       " 'marine',\n",
       " 'seem',\n",
       " 'geographical',\n",
       " 'generative',\n",
       " 'the',\n",
       " 'thought',\n",
       " 'there',\n",
       " 'rodents',\n",
       " 'the',\n",
       " 'on',\n",
       " 'its',\n",
       " 'have',\n",
       " 'my',\n",
       " 'permitted',\n",
       " 'well',\n",
       " 'organs',\n",
       " 'hitherto',\n",
       " 'of',\n",
       " 'of',\n",
       " 'that',\n",
       " 'remember',\n",
       " 'change',\n",
       " 'of',\n",
       " 'the',\n",
       " 'a',\n",
       " 'the',\n",
       " 'of',\n",
       " 'of',\n",
       " 'short',\n",
       " 'increase',\n",
       " 'during',\n",
       " 'will',\n",
       " 'in',\n",
       " 'been',\n",
       " 'can',\n",
       " 'passed',\n",
       " 'hares',\n",
       " 'having',\n",
       " 'great',\n",
       " 'principles',\n",
       " 'on',\n",
       " 'and',\n",
       " 'several',\n",
       " 'islet',\n",
       " 'be',\n",
       " 'by',\n",
       " 'thus',\n",
       " 'shrivelled',\n",
       " 'duration',\n",
       " 'numbers',\n",
       " 'up',\n",
       " 'or',\n",
       " 'cirripedes',\n",
       " 'do',\n",
       " 'or',\n",
       " 'classes',\n",
       " 'of',\n",
       " 'whether',\n",
       " 'of',\n",
       " 'be',\n",
       " 'view',\n",
       " 'a',\n",
       " 'cases',\n",
       " 'points',\n",
       " 'have',\n",
       " 'free',\n",
       " 'believe',\n",
       " 'mr',\n",
       " 'fruit',\n",
       " 'regard',\n",
       " 'the',\n",
       " 'also',\n",
       " 'parts',\n",
       " 'the',\n",
       " 'beasts',\n",
       " 'selection',\n",
       " 'were',\n",
       " 'the',\n",
       " 'mr',\n",
       " 'other',\n",
       " 'have',\n",
       " 'the',\n",
       " 'is',\n",
       " 'so',\n",
       " 'of',\n",
       " 'to',\n",
       " 'beings',\n",
       " 'deserts',\n",
       " 'natural',\n",
       " 'has',\n",
       " 'not',\n",
       " 'nearly',\n",
       " 'intermediate',\n",
       " 'other',\n",
       " 'the',\n",
       " 'blue',\n",
       " 'to',\n",
       " '316',\n",
       " 'appearing',\n",
       " 'by',\n",
       " 'on',\n",
       " 'the',\n",
       " 'the',\n",
       " 'we',\n",
       " 'of',\n",
       " 'respects',\n",
       " 'well',\n",
       " 'inhabitants',\n",
       " 'the',\n",
       " 'the',\n",
       " 'after',\n",
       " 'for',\n",
       " 'an',\n",
       " 'the',\n",
       " 'modification',\n",
       " 'different',\n",
       " 'there',\n",
       " 'has',\n",
       " 'force',\n",
       " 'is',\n",
       " 'sterility',\n",
       " 'dispersal',\n",
       " 'notice',\n",
       " 'the',\n",
       " 'or',\n",
       " 'on',\n",
       " 'the',\n",
       " 'extinct',\n",
       " 'generations',\n",
       " 'no',\n",
       " 'think',\n",
       " 'which',\n",
       " 'and',\n",
       " 'certain',\n",
       " 'frigate',\n",
       " 'existed',\n",
       " 'selection',\n",
       " 'no',\n",
       " 'their',\n",
       " 'the',\n",
       " 'dr',\n",
       " 'or',\n",
       " 'a',\n",
       " 'width',\n",
       " 'many',\n",
       " 'known',\n",
       " 'years',\n",
       " 'the',\n",
       " 'way',\n",
       " 'the',\n",
       " 'young',\n",
       " 'subject',\n",
       " 'this',\n",
       " 'limpet',\n",
       " 'in',\n",
       " 'specimens',\n",
       " 'will',\n",
       " 'than',\n",
       " 'plant',\n",
       " 'that',\n",
       " 'classification',\n",
       " 'tend',\n",
       " 'truth',\n",
       " 'into',\n",
       " 'plants',\n",
       " 'in',\n",
       " 'between',\n",
       " 'varying',\n",
       " 'enabled',\n",
       " 'see',\n",
       " 'inevitably',\n",
       " 'the',\n",
       " 'tree',\n",
       " 'developed',\n",
       " 'be',\n",
       " 'to',\n",
       " 'have',\n",
       " 'the',\n",
       " 'representative',\n",
       " 'calcareous',\n",
       " 'as',\n",
       " 'groups',\n",
       " 'subordinate',\n",
       " 'like',\n",
       " 'absolutely',\n",
       " 'of',\n",
       " 'the',\n",
       " 'fish',\n",
       " 'possible',\n",
       " 'conclude',\n",
       " 'old',\n",
       " 'to',\n",
       " 'terrier',\n",
       " 'of',\n",
       " 'islands',\n",
       " 'are',\n",
       " 'small',\n",
       " 'plants',\n",
       " 'flourish',\n",
       " 'and',\n",
       " 'in',\n",
       " 'but',\n",
       " 'that',\n",
       " 'the',\n",
       " 'trusted',\n",
       " 'this',\n",
       " 'element',\n",
       " 'at',\n",
       " 'the',\n",
       " 'see',\n",
       " 'and',\n",
       " 'so',\n",
       " 'root',\n",
       " 'quicker',\n",
       " 'of',\n",
       " 'make',\n",
       " 'of',\n",
       " 'the',\n",
       " 'fossil',\n",
       " 'inhabitants',\n",
       " 'collector',\n",
       " 'able',\n",
       " 'which',\n",
       " 'in',\n",
       " 'applied',\n",
       " 'may',\n",
       " 'the',\n",
       " 'of',\n",
       " 'on',\n",
       " 'of',\n",
       " 'fact',\n",
       " 'a',\n",
       " 'soon',\n",
       " 'yet',\n",
       " 'organs',\n",
       " 'the',\n",
       " 'food',\n",
       " 'any',\n",
       " 'pigeon',\n",
       " 'he',\n",
       " 'amateurs',\n",
       " 'dogs',\n",
       " 'over',\n",
       " 'but',\n",
       " 'the',\n",
       " 'the',\n",
       " 'of',\n",
       " 'be',\n",
       " 'then',\n",
       " 'males',\n",
       " 'of',\n",
       " 'the',\n",
       " 'colymbetes',\n",
       " 'inhabit',\n",
       " 'whereas',\n",
       " 'as',\n",
       " 'fantail',\n",
       " 'metamorphosis',\n",
       " 'to',\n",
       " 'has',\n",
       " 'me',\n",
       " 'by',\n",
       " 'this',\n",
       " 'ago',\n",
       " 'from',\n",
       " 'affected',\n",
       " 'natural',\n",
       " 'be',\n",
       " 'they',\n",
       " 'its',\n",
       " 'one',\n",
       " 'now',\n",
       " 'first',\n",
       " 'forty',\n",
       " 'in',\n",
       " 'different',\n",
       " 'facility',\n",
       " 'of',\n",
       " 'the',\n",
       " 'long',\n",
       " 'so',\n",
       " 'to',\n",
       " 'of',\n",
       " 'many',\n",
       " 'the',\n",
       " 'from',\n",
       " 'which',\n",
       " 'that',\n",
       " 'to',\n",
       " 'in',\n",
       " 'that',\n",
       " 'proves',\n",
       " 'heath',\n",
       " 'consider',\n",
       " 'number',\n",
       " 'unusually',\n",
       " 'great',\n",
       " 'to',\n",
       " 'to',\n",
       " 'most',\n",
       " 'of',\n",
       " 'the',\n",
       " 'and',\n",
       " 'thus',\n",
       " 'singular',\n",
       " 'of',\n",
       " 'laurel',\n",
       " 'of',\n",
       " 'became',\n",
       " 'lines',\n",
       " 'period',\n",
       " 'could',\n",
       " 'the',\n",
       " 'might',\n",
       " 'the',\n",
       " 'these',\n",
       " 'elegant',\n",
       " 'am',\n",
       " 'adjoining',\n",
       " 'mule',\n",
       " 'during',\n",
       " 'parent',\n",
       " 'repeatedly',\n",
       " 'flight',\n",
       " 'laws',\n",
       " 'clustered',\n",
       " 'are',\n",
       " 'and',\n",
       " '362',\n",
       " 'that',\n",
       " 'small',\n",
       " 'speaking',\n",
       " 'deposits',\n",
       " 'the',\n",
       " 'degree',\n",
       " 'species',\n",
       " 'taper',\n",
       " 'one',\n",
       " 'form',\n",
       " 'periods',\n",
       " 'average',\n",
       " 'naturalised',\n",
       " 'thickened',\n",
       " 'power',\n",
       " 'of',\n",
       " 'chose',\n",
       " 'natural',\n",
       " 'on',\n",
       " 'be',\n",
       " 'to',\n",
       " 'hooker',\n",
       " 'must',\n",
       " 'extreme',\n",
       " 'workers',\n",
       " 'have',\n",
       " 'characters',\n",
       " 'the',\n",
       " 'struggle',\n",
       " 'can',\n",
       " 'continent',\n",
       " 'at',\n",
       " 'to',\n",
       " 'at',\n",
       " 'hocks',\n",
       " 'including',\n",
       " 'lived',\n",
       " 'and',\n",
       " 'etc',\n",
       " 'hybrid',\n",
       " 'articulata',\n",
       " 'as',\n",
       " 'aided',\n",
       " 'in',\n",
       " 'the',\n",
       " 'america',\n",
       " 'ancient',\n",
       " 'a',\n",
       " 'dozen',\n",
       " 'remarked',\n",
       " 'nevertheless',\n",
       " 'determining',\n",
       " 'many',\n",
       " 'their',\n",
       " 'plants',\n",
       " 'w',\n",
       " 'saved',\n",
       " 'and',\n",
       " 'much',\n",
       " 'most',\n",
       " 'same',\n",
       " 'pair',\n",
       " 'overlying',\n",
       " 'charles',\n",
       " 'her',\n",
       " 'in',\n",
       " '137',\n",
       " 'faith',\n",
       " 'me',\n",
       " 'hardly',\n",
       " 'within',\n",
       " 'simultaneously',\n",
       " 'only',\n",
       " 'experiments',\n",
       " 'view',\n",
       " 'hybrid',\n",
       " 'conditions',\n",
       " 'regions',\n",
       " 'back',\n",
       " 'an',\n",
       " 'perplexing',\n",
       " 'of',\n",
       " 'no',\n",
       " 'plants',\n",
       " 'degree',\n",
       " 'each',\n",
       " 'birds',\n",
       " 'have',\n",
       " 'for',\n",
       " 'is',\n",
       " 'why',\n",
       " 'between',\n",
       " 'namely',\n",
       " 'the',\n",
       " 'as',\n",
       " 'both',\n",
       " 'for',\n",
       " 'organisms',\n",
       " 'in',\n",
       " 'i',\n",
       " 'extinct',\n",
       " 'that',\n",
       " 'subsequent',\n",
       " 'or',\n",
       " 'santo',\n",
       " 'power',\n",
       " 'and',\n",
       " 'the',\n",
       " 'conclusion',\n",
       " 'improvement',\n",
       " 'rarely',\n",
       " 'layer',\n",
       " 'is',\n",
       " 'in',\n",
       " 'understand',\n",
       " 'and',\n",
       " 'equally',\n",
       " 'such',\n",
       " 'natural',\n",
       " 'some',\n",
       " 'forms',\n",
       " 'the',\n",
       " 'on',\n",
       " 'much',\n",
       " 'and',\n",
       " 'like',\n",
       " 'of',\n",
       " 'therefore',\n",
       " 'absolutely',\n",
       " 'third',\n",
       " 'that',\n",
       " 'really',\n",
       " 'character',\n",
       " 'by',\n",
       " 'many',\n",
       " 'or',\n",
       " 'in',\n",
       " 'namely',\n",
       " 'selection',\n",
       " 'accuracy',\n",
       " 'a',\n",
       " 'by',\n",
       " 'of',\n",
       " 'of',\n",
       " 'if',\n",
       " 'species',\n",
       " 'sub',\n",
       " 'of',\n",
       " 'distinct',\n",
       " 'of',\n",
       " 'same',\n",
       " 'than',\n",
       " 'it',\n",
       " 'bar',\n",
       " 'of',\n",
       " 'as',\n",
       " 'hopeless',\n",
       " 'existing',\n",
       " 'oat',\n",
       " 'when',\n",
       " 'to',\n",
       " 'to',\n",
       " 'of',\n",
       " 'whether',\n",
       " 'is',\n",
       " 'shores',\n",
       " 'the',\n",
       " 'us',\n",
       " 'commonly',\n",
       " 'plain',\n",
       " 'related',\n",
       " 'rapid',\n",
       " 'the',\n",
       " 'remain',\n",
       " 'an',\n",
       " 'intermediate',\n",
       " ...]"
      ]
     },
     "execution_count": 144,
     "metadata": {},
     "output_type": "execute_result"
    }
   ],
   "source": [
    "words_darwin_unpunct_random"
   ]
  },
  {
   "cell_type": "code",
   "execution_count": 259,
   "metadata": {
    "collapsed": false
   },
   "outputs": [],
   "source": [
    "shuffle_words_darwin_all_entropy = [(word_darwin[1], get_word_entropy(words_darwin_unpunct, word_darwin[0]))\n",
    "                                     for idx, word_darwin in enumerate(Counter(sorted(words_darwin_unpunct_random)).items())\n",
    "                                     if idx % 5 == 0]"
   ]
  },
  {
   "cell_type": "code",
   "execution_count": 260,
   "metadata": {
    "collapsed": false
   },
   "outputs": [
    {
     "data": {
      "image/png": "[encoded data removed]",
      "text/plain": [
       "<matplotlib.figure.Figure at 0x7f38bc68e940>"
      ]
     },
     "metadata": {},
     "output_type": "display_data"
    }
   ],
   "source": [
    "plt.figure(figsize(15,10))\n",
    "scatter(*zip(*shuffle_words_darwin_all_entropy))\n",
    "plt.xscale('log')\n",
    "plt.grid(True)\n",
    "ylabel('Entropía', size=18)\n",
    "xlabel('Frecuencia', size=18)\n",
    "plt.show()"
   ]
  },
  {
   "cell_type": "markdown",
   "metadata": {},
   "source": [
    "<a name=\"embeddings\"></a>\n",
    "## 3. Word embeddings, distancia semántica y Word-Net "
   ]
  },
  {
   "cell_type": "code",
   "execution_count": 156,
   "metadata": {
    "collapsed": true
   },
   "outputs": [],
   "source": [
    "import gensim\n",
    "import itertools\n",
    "import re\n",
    "import nltk\n",
    "import os\n",
    "import pickle\n",
    "import numpy as np"
   ]
  },
  {
   "cell_type": "markdown",
   "metadata": {},
   "source": [
    "### 3.1 LSA y Word2Vec aplicados en WordSim353"
   ]
  },
  {
   "cell_type": "markdown",
   "metadata": {},
   "source": [
    "#### Parseamos TASA"
   ]
  },
  {
   "cell_type": "code",
   "execution_count": 157,
   "metadata": {
    "collapsed": true
   },
   "outputs": [],
   "source": [
    "with open('tasa', 'r') as f:\n",
    "    all_tasa = f.read()"
   ]
  },
  {
   "cell_type": "code",
   "execution_count": 158,
   "metadata": {
    "collapsed": true
   },
   "outputs": [],
   "source": [
    "tasa_documents = [doc for doc in all_tasa.split('\\n\\n') if len(doc) > 0]"
   ]
  },
  {
   "cell_type": "code",
   "execution_count": 159,
   "metadata": {
    "collapsed": true
   },
   "outputs": [],
   "source": [
    "def get_tas_doc_id(tasa_doc):\n",
    "    first_line = tasa_doc.split('\\n', 2)[0]\n",
    "    doc_id = re.match('\\[([a-zA-Z0-9\\.]*)\\]', first_line).groups()[0]\n",
    "    return doc_id"
   ]
  },
  {
   "cell_type": "code",
   "execution_count": 160,
   "metadata": {
    "collapsed": true
   },
   "outputs": [],
   "source": [
    "import string\n",
    "punc_translator = str.maketrans(dict(zip(string.punctuation, [None] * len(string.punctuation))))\n",
    "def tokenize(string):\n",
    "    'Returns list of tokens'\n",
    "    #words = string.split(' ')  # [Palabra]\n",
    "    retoken = [ t.lower()\n",
    "        for t in nltk.word_tokenize(string)\n",
    "    ] \n",
    "    no_punt = [ t\n",
    "        for t in retoken\n",
    "        if t.translate(punc_translator) != ''\n",
    "    ]\n",
    "    \n",
    "    return no_punt "
   ]
  },
  {
   "cell_type": "code",
   "execution_count": 161,
   "metadata": {
    "collapsed": true
   },
   "outputs": [],
   "source": [
    "def get_tasa_doc_tokens(tasa_doc):\n",
    "    text = ' '.join([\n",
    "            l.strip().replace('\\n', '') \n",
    "            for l in tasa_doc.split('[S]')[1:]\n",
    "        ])\n",
    "    return tokenize(text)"
   ]
  },
  {
   "cell_type": "code",
   "execution_count": 162,
   "metadata": {
    "collapsed": true
   },
   "outputs": [],
   "source": [
    "PICKLES_DIR = 'pickles'\n",
    "EJ3_TASA_TOKENS_PATH = os.path.join(PICKLES_DIR, 'tasa_tokens.pkl')\n",
    "if not os.path.isdir(PICKLES_DIR):\n",
    "    os.mkdir(PICKLES_DIR)\n",
    "\n",
    "if not os.path.isfile(EJ3_TASA_TOKENS_PATH):\n",
    "    tasa_tokens = []\n",
    "    for tasa_doc in tasa_documents:\n",
    "        tasa_tokens.append(\n",
    "            (get_tas_doc_id(tasa_doc), get_tasa_doc_tokens(tasa_doc))\n",
    "        )\n",
    "    tasa_tokens = dict(tasa_tokens)\n",
    "    \n",
    "    with open(EJ3_TASA_TOKENS_PATH, 'wb') as f:\n",
    "        pickle.dump(tasa_tokens, f)\n",
    "else:\n",
    "    with open(EJ3_TASA_TOKENS_PATH, 'rb') as f:\n",
    "        tasa_tokens = pickle.load(f)"
   ]
  },
  {
   "cell_type": "markdown",
   "metadata": {},
   "source": [
    "#### Entrenamos LSI (LSA Indexing)"
   ]
  },
  {
   "cell_type": "code",
   "execution_count": 163,
   "metadata": {
    "collapsed": true
   },
   "outputs": [],
   "source": [
    "TASA_LSI_PATH = os.path.join(PICKLES_DIR, 'tasa_lsi.lsi')"
   ]
  },
  {
   "cell_type": "code",
   "execution_count": 172,
   "metadata": {
    "collapsed": true
   },
   "outputs": [],
   "source": [
    "if not os.path.isfile(TASA_LSI_PATH):\n",
    "    tasa_dict = gensim.corpora.Dictionary(tasa_tokens.values())\n",
    "    \n",
    "    tasa_corpus = { \n",
    "        doc_id : tasa_dict.doc2bow(tokens)\n",
    "        for doc_id, tokens in tasa_tokens.items()\n",
    "    }\n",
    "    \n",
    "    tasa_lsi = gensim.models.lsimodel.LsiModel(corpus=tasa_corpus.values(), \n",
    "                                               id2word=tasa_dict, \n",
    "                                               num_topics=300)\n",
    "    \n",
    "    tasa_lsi.save(TASA_LSI_PATH)\n",
    "else:\n",
    "    tasa_dict = gensim.corpora.Dictionary(tasa_tokens.values())\n",
    "    tasa_lsi = gensim.models.LsiModel.load(TASA_LSI_PATH)"
   ]
  },
  {
   "cell_type": "markdown",
   "metadata": {},
   "source": [
    "#### Entrenamos Word2Vec"
   ]
  },
  {
   "cell_type": "code",
   "execution_count": 184,
   "metadata": {
    "collapsed": true
   },
   "outputs": [],
   "source": [
    "TASA_WV_PATH = os.path.join(PICKLES_DIR, 'tasa_wv.wv')"
   ]
  },
  {
   "cell_type": "code",
   "execution_count": 185,
   "metadata": {
    "collapsed": true
   },
   "outputs": [],
   "source": [
    "if not os.path.isdir(TASA_LSI_PATH):\n",
    "    tasa_wv = gensim.models.Word2Vec(list(tasa_tokens.values()), workers=4)\n",
    "    tasa_wv.save(TASA_WV_PATH)\n",
    "else:\n",
    "    tasa_wv = gensim.models.Word2Vec.load(TASA_WV_PATH)"
   ]
  },
  {
   "cell_type": "markdown",
   "metadata": {},
   "source": [
    "#### Parseamos WordSim"
   ]
  },
  {
   "cell_type": "code",
   "execution_count": 167,
   "metadata": {
    "collapsed": true
   },
   "outputs": [],
   "source": [
    "import pandas as pd\n",
    "ws = pd.DataFrame.from_csv('wordsim/combined.csv', index_col=None)"
   ]
  },
  {
   "cell_type": "code",
   "execution_count": 168,
   "metadata": {
    "collapsed": true
   },
   "outputs": [],
   "source": [
    "ws.columns = ['w1', 'w2', 'human_dist']"
   ]
  },
  {
   "cell_type": "code",
   "execution_count": 169,
   "metadata": {
    "collapsed": false
   },
   "outputs": [
    {
     "data": {
      "text/html": [
       "<div>\n",
       "<style>\n",
       "    .dataframe thead tr:only-child th {\n",
       "        text-align: right;\n",
       "    }\n",
       "\n",
       "    .dataframe thead th {\n",
       "        text-align: left;\n",
       "    }\n",
       "\n",
       "    .dataframe tbody tr th {\n",
       "        vertical-align: top;\n",
       "    }\n",
       "</style>\n",
       "<table border=\"1\" class=\"dataframe\">\n",
       "  <thead>\n",
       "    <tr style=\"text-align: right;\">\n",
       "      <th></th>\n",
       "      <th>w1</th>\n",
       "      <th>w2</th>\n",
       "      <th>human_dist</th>\n",
       "    </tr>\n",
       "  </thead>\n",
       "  <tbody>\n",
       "    <tr>\n",
       "      <th>0</th>\n",
       "      <td>love</td>\n",
       "      <td>sex</td>\n",
       "      <td>6.77</td>\n",
       "    </tr>\n",
       "    <tr>\n",
       "      <th>1</th>\n",
       "      <td>tiger</td>\n",
       "      <td>cat</td>\n",
       "      <td>7.35</td>\n",
       "    </tr>\n",
       "    <tr>\n",
       "      <th>2</th>\n",
       "      <td>tiger</td>\n",
       "      <td>tiger</td>\n",
       "      <td>10.00</td>\n",
       "    </tr>\n",
       "    <tr>\n",
       "      <th>3</th>\n",
       "      <td>book</td>\n",
       "      <td>paper</td>\n",
       "      <td>7.46</td>\n",
       "    </tr>\n",
       "    <tr>\n",
       "      <th>4</th>\n",
       "      <td>computer</td>\n",
       "      <td>keyboard</td>\n",
       "      <td>7.62</td>\n",
       "    </tr>\n",
       "  </tbody>\n",
       "</table>\n",
       "</div>"
      ],
      "text/plain": [
       "         w1        w2  human_dist\n",
       "0      love       sex        6.77\n",
       "1     tiger       cat        7.35\n",
       "2     tiger     tiger       10.00\n",
       "3      book     paper        7.46\n",
       "4  computer  keyboard        7.62"
      ]
     },
     "execution_count": 169,
     "metadata": {},
     "output_type": "execute_result"
    }
   ],
   "source": [
    "ws.head()"
   ]
  },
  {
   "cell_type": "markdown",
   "metadata": {},
   "source": [
    "Definimos funciones para calcular la distancia entre palabras con ambos modelos (LSA, Word2Vec)"
   ]
  },
  {
   "cell_type": "code",
   "execution_count": 170,
   "metadata": {
    "collapsed": true
   },
   "outputs": [],
   "source": [
    "from scipy.spatial.distance import cosine"
   ]
  },
  {
   "cell_type": "code",
   "execution_count": 173,
   "metadata": {
    "collapsed": false
   },
   "outputs": [],
   "source": [
    "def lsa_dist(word_1, word_2, tasa_dict=tasa_dict, tasa_lsi=tasa_lsi):\n",
    "    w_id_1 = tasa_dict.doc2bow([word_1])\n",
    "    w_id_2 = tasa_dict.doc2bow([word_2])\n",
    "    if len(w_id_1) == 0 or len(w_id_2) == 0:\n",
    "        return None\n",
    "    wv1 = tasa_lsi[w_id_1]\n",
    "    wv2 = tasa_lsi[w_id_2]\n",
    "    csc1 = gensim.matutils.corpus2dense([wv1], 300).reshape(-1)\n",
    "    csc2 = gensim.matutils.corpus2dense([wv2], 300).reshape(-1)\n",
    "    return ((1 + (1 - cosine(csc1, csc2))) / 2)"
   ]
  },
  {
   "cell_type": "code",
   "execution_count": 189,
   "metadata": {
    "collapsed": true
   },
   "outputs": [],
   "source": [
    "def w2v_dist(word_1, word_2):\n",
    "    try:\n",
    "        return tasa_wv.similarity(word_1, word_2)\n",
    "    except KeyError:\n",
    "        return None"
   ]
  },
  {
   "cell_type": "code",
   "execution_count": 190,
   "metadata": {
    "collapsed": false
   },
   "outputs": [],
   "source": [
    "ws['lsa'] = [lsa_dist(r[1][0], r[1][1]) for r in ws[['w1', 'w2']].iterrows()]"
   ]
  },
  {
   "cell_type": "code",
   "execution_count": 191,
   "metadata": {
    "collapsed": false
   },
   "outputs": [],
   "source": [
    "ws['w2v'] = [w2v_dist(r[1][0], r[1][1]) for r in ws[['w1', 'w2']].iterrows()]"
   ]
  },
  {
   "cell_type": "code",
   "execution_count": 193,
   "metadata": {
    "collapsed": false
   },
   "outputs": [
    {
     "data": {
      "text/html": [
       "<div>\n",
       "<style>\n",
       "    .dataframe thead tr:only-child th {\n",
       "        text-align: right;\n",
       "    }\n",
       "\n",
       "    .dataframe thead th {\n",
       "        text-align: left;\n",
       "    }\n",
       "\n",
       "    .dataframe tbody tr th {\n",
       "        vertical-align: top;\n",
       "    }\n",
       "</style>\n",
       "<table border=\"1\" class=\"dataframe\">\n",
       "  <thead>\n",
       "    <tr style=\"text-align: right;\">\n",
       "      <th></th>\n",
       "      <th>w1</th>\n",
       "      <th>w2</th>\n",
       "      <th>human_dist</th>\n",
       "      <th>lsa</th>\n",
       "      <th>w2v</th>\n",
       "    </tr>\n",
       "  </thead>\n",
       "  <tbody>\n",
       "    <tr>\n",
       "      <th>0</th>\n",
       "      <td>love</td>\n",
       "      <td>sex</td>\n",
       "      <td>6.77</td>\n",
       "      <td>0.439951</td>\n",
       "      <td>0.275089</td>\n",
       "    </tr>\n",
       "    <tr>\n",
       "      <th>1</th>\n",
       "      <td>tiger</td>\n",
       "      <td>cat</td>\n",
       "      <td>7.35</td>\n",
       "      <td>0.472022</td>\n",
       "      <td>0.786879</td>\n",
       "    </tr>\n",
       "    <tr>\n",
       "      <th>2</th>\n",
       "      <td>tiger</td>\n",
       "      <td>tiger</td>\n",
       "      <td>10.00</td>\n",
       "      <td>1.000000</td>\n",
       "      <td>1.000000</td>\n",
       "    </tr>\n",
       "    <tr>\n",
       "      <th>3</th>\n",
       "      <td>book</td>\n",
       "      <td>paper</td>\n",
       "      <td>7.46</td>\n",
       "      <td>0.502123</td>\n",
       "      <td>0.553835</td>\n",
       "    </tr>\n",
       "    <tr>\n",
       "      <th>4</th>\n",
       "      <td>computer</td>\n",
       "      <td>keyboard</td>\n",
       "      <td>7.62</td>\n",
       "      <td>0.502111</td>\n",
       "      <td>0.750839</td>\n",
       "    </tr>\n",
       "  </tbody>\n",
       "</table>\n",
       "</div>"
      ],
      "text/plain": [
       "         w1        w2  human_dist       lsa       w2v\n",
       "0      love       sex        6.77  0.439951  0.275089\n",
       "1     tiger       cat        7.35  0.472022  0.786879\n",
       "2     tiger     tiger       10.00  1.000000  1.000000\n",
       "3      book     paper        7.46  0.502123  0.553835\n",
       "4  computer  keyboard        7.62  0.502111  0.750839"
      ]
     },
     "execution_count": 193,
     "metadata": {},
     "output_type": "execute_result"
    }
   ],
   "source": [
    "ws.head()"
   ]
  },
  {
   "cell_type": "markdown",
   "metadata": {},
   "source": [
    "En algunos casos los modelos no pueden calcular la similaridad ya que no conocen alguna de las palabras."
   ]
  },
  {
   "cell_type": "code",
   "execution_count": 210,
   "metadata": {
    "collapsed": false
   },
   "outputs": [
    {
     "name": "stdout",
     "output_type": "stream",
     "text": [
      "Cantidad de nulls en lsa: 21\n",
      "Cantidad de nulls en w2v: 29\n",
      "Cantidad de nulls de w2v que no están en lsa: 8\n"
     ]
    }
   ],
   "source": [
    "print('Cantidad de nulls en lsa:', sum(ws['lsa'].isnull()))\n",
    "print('Cantidad de nulls en w2v:', sum(ws['w2v'].isnull()))\n",
    "print('Cantidad de nulls de w2v que no están en lsa:', sum(ws['lsa'].isnull() ^ ws['w2v'].isnull()))"
   ]
  },
  {
   "cell_type": "code",
   "execution_count": 240,
   "metadata": {
    "collapsed": false
   },
   "outputs": [
    {
     "data": {
      "text/plain": [
       "<matplotlib.text.Text at 0x7f38b5a08358>"
      ]
     },
     "execution_count": 240,
     "metadata": {},
     "output_type": "execute_result"
    },
    {
     "data": {
      "image/png": "[encoded data removed]",
      "text/plain": [
       "<matplotlib.figure.Figure at 0x7f38b5b5ada0>"
      ]
     },
     "metadata": {},
     "output_type": "display_data"
    }
   ],
   "source": [
    "fig, axs = subplots(2, 1, sharex=True)\n",
    "sca(axs[0])\n",
    "lsa_error = (ws['lsa'] - (ws['human_dist'] / 10))[ws['lsa'].notnull()]\n",
    "hist(lsa_error)\n",
    "xlabel('Error lsa vs wordsim')\n",
    "ylabel('Frecuencia')\n",
    "vlines(mean(lsa_error), ymin=0, ymax=65, color='darkred')\n",
    "text(mean(lsa_error), 65, mean(lsa_error))\n",
    "\n",
    "sca(axs[1])\n",
    "w2v_error = (ws['w2v'] - (ws['human_dist'] / 10))[ws['w2v'].notnull()]\n",
    "hist(w2v_error)\n",
    "xlabel('Error w2v vs wordsim')\n",
    "ylabel('Frecuencia')\n",
    "vlines(mean(w2v_error), ymin=0, ymax=85, color='darkred')\n",
    "text(mean(w2v_error) + .01, 85, mean(w2v_error))"
   ]
  },
  {
   "cell_type": "code",
   "execution_count": 254,
   "metadata": {
    "collapsed": true
   },
   "outputs": [],
   "source": [
    "def wordnet_dist(word_1, word_2):\n",
    "    syn1 = nltk.corpus.wordnet.synsets(word_1)\n",
    "    syn2 = nltk.corpus.wordnet.synsets(word_2)\n",
    "    if (len(syn1) == 0 or len(syn2) == 0):\n",
    "        return None\n",
    "    return syn1[0].path_similarity(syn2[0]) "
   ]
  },
  {
   "cell_type": "code",
   "execution_count": 255,
   "metadata": {
    "collapsed": false
   },
   "outputs": [],
   "source": [
    "ws['wn'] = [wordnet_dist(r[1][0], r[1][1]) for r in ws[['w1', 'w2']].iterrows()]"
   ]
  },
  {
   "cell_type": "code",
   "execution_count": 257,
   "metadata": {
    "collapsed": false
   },
   "outputs": [
    {
     "name": "stdout",
     "output_type": "stream",
     "text": [
      "Cantidad de nulls en wn: 5\n"
     ]
    }
   ],
   "source": [
    "print('Cantidad de nulls en wn:', sum(ws['wn'].isnull()))"
   ]
  },
  {
   "cell_type": "code",
   "execution_count": 258,
   "metadata": {
    "collapsed": false
   },
   "outputs": [
    {
     "data": {
      "text/plain": [
       "<matplotlib.text.Text at 0x7f38bc43a0f0>"
      ]
     },
     "execution_count": 258,
     "metadata": {},
     "output_type": "execute_result"
    },
    {
     "data": {
      "image/png": "[encoded data removed]",
      "text/plain": [
       "<matplotlib.figure.Figure at 0x7f38bcbbfb70>"
      ]
     },
     "metadata": {},
     "output_type": "display_data"
    }
   ],
   "source": [
    "wn_error = (ws['wn'] - (ws['human_dist'] / 10))[ws['wn'].notnull()]\n",
    "hist(wn_error)\n",
    "xlabel('Error wn vs wordsim')\n",
    "ylabel('Frecuencia')\n",
    "vlines(mean(wn_error), ymin=0, ymax=85, color='darkred')\n",
    "text(mean(wn_error) + .01, 85, mean(wn_error))"
   ]
  }
 ],
 "metadata": {
  "anaconda-cloud": {},
  "kernelspec": {
   "display_name": "Python [default]",
   "language": "python",
   "name": "python3"
  },
  "language_info": {
   "codemirror_mode": {
    "name": "ipython",
    "version": 3
   },
   "file_extension": ".py",
   "mimetype": "text/x-python",
   "name": "python",
   "nbconvert_exporter": "python",
   "pygments_lexer": "ipython3",
   "version": "3.5.2"
  }
 },
 "nbformat": 4,
 "nbformat_minor": 1
}

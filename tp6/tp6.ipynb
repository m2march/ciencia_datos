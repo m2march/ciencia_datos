{
 "cells": [
  {
   "cell_type": "markdown",
   "metadata": {},
   "source": [
    "# Trabajo Práctico 6: Procesamiento de Lenguaje Natural"
   ]
  },
  {
   "cell_type": "markdown",
   "metadata": {},
   "source": [
    "<p style=\"text-align: justify;\">\n",
    "En el marco de la materia optativa *Ciencia de Datos* estudiamos las técnicas de *Natural Language Processing*. En la [página web de la materia](http://www.dc.uba.ar/materias/cienciadatos) se encuentran disponibles las [referencias teóricas](http://www.dc.uba.ar/materias/cienciadatos/teoricas/Intro%20a%20NLP.pdf/view) y la [guía](http://www.dc.uba.ar/materias/cienciadatos/tps/tp6/tp-texto.pdf/view) para el desarrollo de los análisis correspondientes. Como bibliografía adicional para todo el trabajo se utilizó el [libro de Jurafsky & Martin](https://web.stanford.edu/~jurafsky/slp3/).\n",
    "</p> "
   ]
  },
  {
   "cell_type": "markdown",
   "metadata": {},
   "source": [
    "## Tabla de Contenidos \n",
    "\n",
    "<!-- MarkdownTOC autolink=true autoanchor=true bracket=round -->\n",
    "\n",
    "- [1. Asociación de palabras](#asociacion)\n",
    "    - [1.1. Corpus](#1.1)\n",
    "    - [1.2. Vocabulario](#1.2)\n",
    "    - [1.3. Métricas](#1.3)\n",
    "- [2. Información léxica](#lexica)\n",
    "    - [2.1. Tokenización](#2.1)\n",
    "    - [2.2. Autocorrelación](#2.2)\n",
    "    - [2.3. Entropía](#2.3)\n",
    "    - [2.4. Randomización](#2.4)\n",
    "- [3. Word embeddings, distancia semántica y Word-Net](#embeddings)\n",
    "<!-- /MarkdownTOC -->"
   ]
  },
  {
   "cell_type": "markdown",
   "metadata": {},
   "source": [
    "<a name=\"asociacion\"></a>\n",
    "## 1. Asociación de palabras"
   ]
  },
  {
   "cell_type": "markdown",
   "metadata": {},
   "source": [
    "Para el análisis de asociación de palabras se utilizaron [datos](http://www.dc.uba.ar/materias/cienciadatos/tps/tp6/ap.tgz/view) de corpus de noticias de la agencia Associated Press de Estados Unidos, a los cuales se aplicaron métricas descriptas en [Church & Hanks 1990](https://dl.acm.org/citation.cfm?id=89095)."
   ]
  },
  {
   "cell_type": "code",
   "execution_count": 1,
   "metadata": {},
   "outputs": [
    {
     "name": "stdout",
     "output_type": "stream",
     "text": [
      "Using matplotlib backend: Qt5Agg\n",
      "Populating the interactive namespace from numpy and matplotlib\n"
     ]
    }
   ],
   "source": [
    "%pylab\n",
    "%matplotlib inline"
   ]
  },
  {
   "cell_type": "code",
   "execution_count": 2,
   "metadata": {},
   "outputs": [
    {
     "name": "stderr",
     "output_type": "stream",
     "text": [
      "C:\\ProgramData\\Anaconda3\\lib\\site-packages\\gensim\\utils.py:860: UserWarning: detected Windows; aliasing chunkize to chunkize_serial\n",
      "  warnings.warn(\"detected Windows; aliasing chunkize to chunkize_serial\")\n"
     ]
    }
   ],
   "source": [
    "import numpy as np\n",
    "import scipy as sp\n",
    "import nltk\n",
    "import string\n",
    "import itertools\n",
    "import os\n",
    "import pickle\n",
    "import itertools\n",
    "import gensim\n",
    "from collections import Counter, OrderedDict, defaultdict"
   ]
  },
  {
   "cell_type": "code",
   "execution_count": 3,
   "metadata": {},
   "outputs": [
    {
     "name": "stdout",
     "output_type": "stream",
     "text": [
      "[nltk_data] Downloading package wordnet to\n",
      "[nltk_data]     C:\\Users\\HB\\AppData\\Roaming\\nltk_data...\n",
      "[nltk_data]   Package wordnet is already up-to-date!\n",
      "[nltk_data] Downloading package punkt to\n",
      "[nltk_data]     C:\\Users\\HB\\AppData\\Roaming\\nltk_data...\n",
      "[nltk_data]   Package punkt is already up-to-date!\n"
     ]
    },
    {
     "data": {
      "text/plain": [
       "True"
      ]
     },
     "execution_count": 3,
     "metadata": {},
     "output_type": "execute_result"
    }
   ],
   "source": [
    "nltk.download('wordnet')\n",
    "nltk.download('punkt')"
   ]
  },
  {
   "cell_type": "markdown",
   "metadata": {},
   "source": [
    "<a name=\"1.1\"></a>\n",
    "### 1.1. Corpus"
   ]
  },
  {
   "cell_type": "markdown",
   "metadata": {},
   "source": [
    "Comenzamos exportando los datos del archivo .tgz"
   ]
  },
  {
   "cell_type": "code",
   "execution_count": 4,
   "metadata": {
    "collapsed": true
   },
   "outputs": [],
   "source": [
    "if not os.path.isdir('ap'):\n",
    "    import tarfile\n",
    "    tar = tarfile.open('ap.tgz')\n",
    "    tar.extractall()"
   ]
  },
  {
   "cell_type": "markdown",
   "metadata": {},
   "source": [
    "Sobre el archivo .txt que contiene los datos de AP en xml aplicamos un parser manual para separar los documentos"
   ]
  },
  {
   "cell_type": "code",
   "execution_count": 5,
   "metadata": {
    "collapsed": true,
    "scrolled": true
   },
   "outputs": [],
   "source": [
    "docno = []\n",
    "corpus = []\n",
    "toggle = 0\n",
    "with open('ap/ap.txt','r') as f:\n",
    "    for line in f:\n",
    "        if line.startswith('<DOCNO>'):\n",
    "            line_new = line.replace('<DOCNO> ','')\n",
    "            line_new = line_new.replace(' </DOCNO>\\n','')\n",
    "            docno.append(line_new)\n",
    "        if toggle:\n",
    "            corpus.append(line)\n",
    "            toggle = 0\n",
    "        if line.startswith('<TEXT>'):\n",
    "            toggle = 1        \n",
    "docs = dict(zip(docno, corpus))        "
   ]
  },
  {
   "cell_type": "markdown",
   "metadata": {},
   "source": [
    "Otra forma sería usar el parser del ElementTree, pero para usarlo correctamente resulta necesario reemplazar todos los caracteres '&' por '&amp;' y agregar un tag que delimite el comienzo y final del archivo"
   ]
  },
  {
   "cell_type": "code",
   "execution_count": 6,
   "metadata": {
    "collapsed": true
   },
   "outputs": [],
   "source": [
    "with open('ap/ap.txt','r') as f, open('ap/ap_cleaned.txt','w') as f_new:\n",
    "    f_new.write('<ROOT>\\n')\n",
    "    for line in f:\n",
    "        new_line = line.replace('&','&amp;')\n",
    "        f_new.write(new_line)\n",
    "    f_new.write('</ROOT>\\n')\n",
    "f_new.close()"
   ]
  },
  {
   "cell_type": "markdown",
   "metadata": {},
   "source": [
    "Ahora aplicamos el ElementTree"
   ]
  },
  {
   "cell_type": "code",
   "execution_count": 7,
   "metadata": {
    "collapsed": true
   },
   "outputs": [],
   "source": [
    "import xml.etree.ElementTree as ET"
   ]
  },
  {
   "cell_type": "code",
   "execution_count": 8,
   "metadata": {},
   "outputs": [
    {
     "data": {
      "text/plain": [
       "<xml.etree.ElementTree.ElementTree at 0x26d76bc04e0>"
      ]
     },
     "execution_count": 8,
     "metadata": {},
     "output_type": "execute_result"
    }
   ],
   "source": [
    "ap = ET.parse('ap/ap_cleaned.txt')\n",
    "ap"
   ]
  },
  {
   "cell_type": "code",
   "execution_count": 9,
   "metadata": {
    "collapsed": true
   },
   "outputs": [],
   "source": [
    "ap_root = ap.getroot()"
   ]
  },
  {
   "cell_type": "code",
   "execution_count": 10,
   "metadata": {
    "collapsed": true
   },
   "outputs": [],
   "source": [
    "ap_dict = dict([\n",
    "        (doc[0].text.strip(), doc[1].text)\n",
    "        for doc in ap_root\n",
    "    ])"
   ]
  },
  {
   "cell_type": "markdown",
   "metadata": {},
   "source": [
    "Y observamos que de las 2 maneras separamos el xml en la misma cantidad de documentos"
   ]
  },
  {
   "cell_type": "code",
   "execution_count": 11,
   "metadata": {},
   "outputs": [
    {
     "data": {
      "text/plain": [
       "2250"
      ]
     },
     "execution_count": 11,
     "metadata": {},
     "output_type": "execute_result"
    }
   ],
   "source": [
    "len(ap_dict)"
   ]
  },
  {
   "cell_type": "code",
   "execution_count": 12,
   "metadata": {},
   "outputs": [
    {
     "data": {
      "text/plain": [
       "2250"
      ]
     },
     "execution_count": 12,
     "metadata": {},
     "output_type": "execute_result"
    }
   ],
   "source": [
    "len(docs)"
   ]
  },
  {
   "cell_type": "markdown",
   "metadata": {},
   "source": [
    "De estas 2 maneras podemos levantar el corpus, separando cada noticia como un elemento distinto\n",
    "en un diccionario $(<DOCNO> : <TEXT>)$."
   ]
  },
  {
   "cell_type": "markdown",
   "metadata": {},
   "source": [
    "<a name=\"1.2\"></a>\n",
    "### 1.2. Vocabulario"
   ]
  },
  {
   "cell_type": "markdown",
   "metadata": {},
   "source": [
    "Tokenizamos y pasamos a minúscula todos los textos."
   ]
  },
  {
   "cell_type": "code",
   "execution_count": 13,
   "metadata": {
    "collapsed": true
   },
   "outputs": [],
   "source": [
    "punc_translator = str.maketrans(dict(zip(string.punctuation, [None] * len(string.punctuation))))\n",
    "def tokenize(string):\n",
    "    'Returns list of tokens'\n",
    "    words = string.split(' ')\n",
    "    retoken = [ t.lower()\n",
    "        for w in words\n",
    "        for t in nltk.word_tokenize(w)\n",
    "    ] \n",
    "    no_punt = [ t\n",
    "        for t in retoken\n",
    "        if t.translate(punc_translator) != ''\n",
    "    ]\n",
    "    return no_punt "
   ]
  },
  {
   "cell_type": "code",
   "execution_count": 14,
   "metadata": {
    "collapsed": true
   },
   "outputs": [],
   "source": [
    "textos_tokenizados = [\n",
    "    token\n",
    "    for text in ap_dict.values()\n",
    "    for token in tokenize(text)\n",
    "]"
   ]
  },
  {
   "cell_type": "markdown",
   "metadata": {},
   "source": [
    "Calculamos el tamaño del vocabulario"
   ]
  },
  {
   "cell_type": "code",
   "execution_count": 15,
   "metadata": {},
   "outputs": [
    {
     "name": "stdout",
     "output_type": "stream",
     "text": [
      "Tamaño vocabulario: 42745\n"
     ]
    }
   ],
   "source": [
    "print('Tamaño vocabulario: {}'.format(len(set(textos_tokenizados))))"
   ]
  },
  {
   "cell_type": "markdown",
   "metadata": {},
   "source": [
    "Y buscamos los 500 tokens con mas apariciones"
   ]
  },
  {
   "cell_type": "code",
   "execution_count": 16,
   "metadata": {
    "collapsed": true
   },
   "outputs": [],
   "source": [
    "tokens_ordenados = sorted(textos_tokenizados)"
   ]
  },
  {
   "cell_type": "code",
   "execution_count": 17,
   "metadata": {
    "collapsed": true
   },
   "outputs": [],
   "source": [
    "c = Counter(tokens_ordenados)"
   ]
  },
  {
   "cell_type": "code",
   "execution_count": 18,
   "metadata": {},
   "outputs": [
    {
     "data": {
      "text/plain": [
       "[('the', 59843),\n",
       " ('of', 25536),\n",
       " ('to', 24054),\n",
       " ('a', 21398),\n",
       " ('and', 20698),\n",
       " ('in', 20664),\n",
       " ('said', 12852),\n",
       " (\"'s\", 9091),\n",
       " ('that', 8858),\n",
       " ('for', 8824),\n",
       " ('was', 7499),\n",
       " ('on', 7076),\n",
       " ('he', 6594),\n",
       " ('is', 5957),\n",
       " ('with', 5424),\n",
       " ('it', 5341),\n",
       " ('at', 5154),\n",
       " ('by', 5126),\n",
       " ('from', 4543),\n",
       " ('as', 4420),\n",
       " ('be', 3858),\n",
       " ('his', 3734),\n",
       " ('an', 3670),\n",
       " ('have', 3647),\n",
       " ('were', 3584),\n",
       " ('but', 3450),\n",
       " ('not', 3399),\n",
       " ('has', 3366),\n",
       " ('are', 3250),\n",
       " ('they', 2978),\n",
       " ('who', 2813),\n",
       " ('had', 2635),\n",
       " ('would', 2634),\n",
       " ('will', 2618),\n",
       " ('i', 2491),\n",
       " ('we', 2455),\n",
       " ('about', 2360),\n",
       " ('this', 2185),\n",
       " ('been', 2182),\n",
       " ('their', 2068),\n",
       " ('new', 2009),\n",
       " ('percent', 1942),\n",
       " ('which', 1936),\n",
       " ('or', 1929),\n",
       " ('after', 1920),\n",
       " ('its', 1841),\n",
       " ('more', 1765),\n",
       " ('one', 1746),\n",
       " ('people', 1729),\n",
       " ('up', 1665),\n",
       " ('also', 1620),\n",
       " ('other', 1618),\n",
       " (\"n't\", 1599),\n",
       " ('when', 1583),\n",
       " ('year', 1569),\n",
       " ('two', 1568),\n",
       " ('million', 1556),\n",
       " ('president', 1535),\n",
       " ('u.s', 1529),\n",
       " ('there', 1511),\n",
       " ('no', 1503),\n",
       " ('government', 1488),\n",
       " ('than', 1451),\n",
       " ('last', 1429),\n",
       " ('all', 1337),\n",
       " ('if', 1319),\n",
       " ('she', 1317),\n",
       " ('out', 1238),\n",
       " ('years', 1235),\n",
       " ('some', 1233),\n",
       " ('do', 1182),\n",
       " ('state', 1155),\n",
       " ('could', 1112),\n",
       " ('bush', 1108),\n",
       " ('first', 1090),\n",
       " ('police', 1085),\n",
       " ('over', 1064),\n",
       " ('because', 1048),\n",
       " ('into', 1035),\n",
       " ('her', 1029),\n",
       " ('united', 1005),\n",
       " ('soviet', 1001),\n",
       " ('officials', 1000),\n",
       " ('states', 999),\n",
       " ('them', 979),\n",
       " ('can', 970),\n",
       " ('you', 963),\n",
       " ('time', 948),\n",
       " ('before', 947),\n",
       " ('today', 940),\n",
       " ('only', 882),\n",
       " ('what', 882),\n",
       " ('three', 869),\n",
       " ('did', 864),\n",
       " ('billion', 859),\n",
       " ('since', 852),\n",
       " ('most', 841),\n",
       " ('national', 824),\n",
       " ('against', 819),\n",
       " ('told', 818),\n",
       " ('during', 815),\n",
       " ('thursday', 805),\n",
       " ('down', 802),\n",
       " ('american', 800),\n",
       " ('any', 788),\n",
       " ('him', 777),\n",
       " ('company', 760),\n",
       " ('tuesday', 760),\n",
       " ('week', 746),\n",
       " ('house', 737),\n",
       " ('federal', 730),\n",
       " ('under', 723),\n",
       " ('court', 720),\n",
       " ('where', 714),\n",
       " ('monday', 709),\n",
       " ('city', 706),\n",
       " ('friday', 704),\n",
       " ('may', 700),\n",
       " ('wednesday', 697),\n",
       " ('made', 692),\n",
       " ('so', 692),\n",
       " ('our', 689),\n",
       " ('many', 679),\n",
       " ('news', 672),\n",
       " ('now', 672),\n",
       " ('party', 670),\n",
       " ('day', 666),\n",
       " ('department', 666),\n",
       " ('those', 666),\n",
       " ('say', 652),\n",
       " ('while', 651),\n",
       " ('york', 645),\n",
       " ('group', 644),\n",
       " ('market', 627),\n",
       " ('just', 616),\n",
       " ('union', 612),\n",
       " ('being', 610),\n",
       " ('report', 604),\n",
       " ('such', 603),\n",
       " ('between', 602),\n",
       " ('world', 602),\n",
       " ('military', 596),\n",
       " ('country', 593),\n",
       " ('through', 593),\n",
       " ('south', 583),\n",
       " ('former', 576),\n",
       " ('should', 575),\n",
       " ('off', 570),\n",
       " ('members', 565),\n",
       " ('home', 544),\n",
       " ('west', 543),\n",
       " ('political', 541),\n",
       " ('reported', 541),\n",
       " ('including', 538),\n",
       " ('make', 530),\n",
       " ('going', 529),\n",
       " ('office', 529),\n",
       " ('get', 522),\n",
       " ('spokesman', 521),\n",
       " ('like', 511),\n",
       " ('then', 508),\n",
       " ('committee', 505),\n",
       " ('four', 504),\n",
       " ('general', 503),\n",
       " ('think', 496),\n",
       " ('still', 494),\n",
       " ('10', 491),\n",
       " ('back', 488),\n",
       " ('work', 488),\n",
       " ('defense', 482),\n",
       " ('several', 482),\n",
       " ('says', 481),\n",
       " ('congress', 480),\n",
       " ('war', 480),\n",
       " ('next', 477),\n",
       " ('public', 477),\n",
       " ('way', 476),\n",
       " ('foreign', 475),\n",
       " ('official', 475),\n",
       " ('trade', 474),\n",
       " ('prices', 473),\n",
       " ('administration', 472),\n",
       " ('much', 471),\n",
       " ('take', 471),\n",
       " ('economic', 469),\n",
       " ('five', 469),\n",
       " ('another', 467),\n",
       " ('later', 466),\n",
       " ('1', 464),\n",
       " ('according', 461),\n",
       " ('among', 461),\n",
       " ('month', 457),\n",
       " ('both', 456),\n",
       " ('air', 455),\n",
       " ('money', 453),\n",
       " (\"'re\", 452),\n",
       " ('called', 451),\n",
       " ('very', 450),\n",
       " ('dukakis', 449),\n",
       " ('found', 449),\n",
       " ('campaign', 447),\n",
       " ('law', 446),\n",
       " ('reagan', 446),\n",
       " ('part', 445),\n",
       " ('program', 443),\n",
       " ('stock', 442),\n",
       " ('case', 435),\n",
       " ('asked', 434),\n",
       " ('north', 433),\n",
       " ('business', 430),\n",
       " ('late', 430),\n",
       " ('nation', 430),\n",
       " ('meeting', 429),\n",
       " ('workers', 429),\n",
       " ('even', 428),\n",
       " ('days', 427),\n",
       " ('months', 426),\n",
       " ('east', 425),\n",
       " ('service', 425),\n",
       " ('chief', 424),\n",
       " ('support', 424),\n",
       " ('how', 423),\n",
       " ('earlier', 422),\n",
       " ('my', 422),\n",
       " ('used', 421),\n",
       " ('white', 421),\n",
       " ('plan', 420),\n",
       " ('board', 415),\n",
       " ('help', 415),\n",
       " ('go', 414),\n",
       " ('gorbachev', 409),\n",
       " ('ago', 407),\n",
       " ('minister', 407),\n",
       " ('early', 406),\n",
       " ('force', 406),\n",
       " ('major', 405),\n",
       " ('oil', 405),\n",
       " ('washington', 405),\n",
       " ('killed', 402),\n",
       " ('expected', 401),\n",
       " ('mrs', 400),\n",
       " ('until', 400),\n",
       " ('john', 399),\n",
       " ('least', 398),\n",
       " ('began', 397),\n",
       " ('agency', 396),\n",
       " ('end', 395),\n",
       " ('security', 395),\n",
       " ('bank', 391),\n",
       " ('good', 391),\n",
       " ('night', 391),\n",
       " ('saying', 390),\n",
       " ('bill', 389),\n",
       " ('international', 388),\n",
       " ('agreement', 387),\n",
       " ('children', 387),\n",
       " ('system', 387),\n",
       " ('these', 387),\n",
       " ('use', 385),\n",
       " ('came', 383),\n",
       " ('family', 380),\n",
       " ('leader', 380),\n",
       " ('democratic', 378),\n",
       " ('sunday', 377),\n",
       " ('attorney', 374),\n",
       " ('miles', 370),\n",
       " ('want', 369),\n",
       " ('school', 366),\n",
       " ('man', 364),\n",
       " ('here', 363),\n",
       " ('senate', 362),\n",
       " ('took', 361),\n",
       " ('high', 359),\n",
       " ('drug', 358),\n",
       " ('whether', 358),\n",
       " ('without', 356),\n",
       " ('long', 355),\n",
       " ('same', 355),\n",
       " ('judge', 354),\n",
       " ('however', 350),\n",
       " ('chairman', 349),\n",
       " ('20', 345),\n",
       " ('does', 344),\n",
       " ('statement', 344),\n",
       " ('left', 343),\n",
       " ('talks', 341),\n",
       " ('director', 340),\n",
       " ('dollar', 340),\n",
       " ('each', 340),\n",
       " ('held', 340),\n",
       " ('rose', 340),\n",
       " ('higher', 339),\n",
       " ('1987', 338),\n",
       " ('number', 337),\n",
       " ('sales', 337),\n",
       " ('death', 334),\n",
       " ('30', 333),\n",
       " ('six', 333),\n",
       " ('know', 331),\n",
       " ('own', 331),\n",
       " ('must', 330),\n",
       " ('army', 329),\n",
       " ('rights', 329),\n",
       " ('announced', 327),\n",
       " ('past', 324),\n",
       " ('decision', 323),\n",
       " ('interest', 323),\n",
       " ('leaders', 323),\n",
       " ('set', 323),\n",
       " ('see', 322),\n",
       " ('authorities', 321),\n",
       " ('put', 320),\n",
       " ('control', 318),\n",
       " ('life', 318),\n",
       " ('power', 317),\n",
       " ('2', 315),\n",
       " ('april', 311),\n",
       " ('black', 311),\n",
       " ('saturday', 311),\n",
       " ('women', 311),\n",
       " ('center', 310),\n",
       " ('march', 309),\n",
       " ('price', 309),\n",
       " ('charges', 308),\n",
       " ('might', 308),\n",
       " ('area', 305),\n",
       " ('show', 304),\n",
       " ('university', 304),\n",
       " ('vote', 304),\n",
       " ('well', 304),\n",
       " ('countries', 302),\n",
       " ('iraq', 302),\n",
       " ('vice', 302),\n",
       " ('around', 301),\n",
       " ('budget', 300),\n",
       " ('central', 300),\n",
       " ('few', 299),\n",
       " ('secretary', 299),\n",
       " ('economy', 298),\n",
       " ('forces', 298),\n",
       " ('men', 298),\n",
       " ('pay', 298),\n",
       " ('republican', 298),\n",
       " ('second', 298),\n",
       " ('times', 298),\n",
       " ('too', 298),\n",
       " ('15', 297),\n",
       " ('fire', 297),\n",
       " ('trial', 297),\n",
       " ('died', 296),\n",
       " ('america', 294),\n",
       " ('germany', 294),\n",
       " ('issue', 293),\n",
       " ('never', 293),\n",
       " ('us', 292),\n",
       " ('got', 291),\n",
       " ('health', 291),\n",
       " ('1986', 290),\n",
       " ('me', 289),\n",
       " ('prison', 289),\n",
       " ('troops', 289),\n",
       " ('come', 288),\n",
       " ('give', 287),\n",
       " ('students', 287),\n",
       " ('trading', 287),\n",
       " ('hospital', 286),\n",
       " ('cents', 283),\n",
       " ('less', 283),\n",
       " ('right', 283),\n",
       " ('close', 282),\n",
       " (\"'ve\", 281),\n",
       " ('1988', 281),\n",
       " ('industry', 279),\n",
       " ('recent', 279),\n",
       " ('conference', 277),\n",
       " ('june', 277),\n",
       " ('ms', 277),\n",
       " ('aid', 276),\n",
       " ('district', 274),\n",
       " ('german', 274),\n",
       " ('lower', 274),\n",
       " ('little', 273),\n",
       " ('rate', 273),\n",
       " ('rates', 273),\n",
       " ('hours', 270),\n",
       " ('japan', 270),\n",
       " ('problems', 270),\n",
       " ('increase', 268),\n",
       " ('presidential', 268),\n",
       " ('exchange', 267),\n",
       " ('near', 267),\n",
       " ('others', 267),\n",
       " ('released', 267),\n",
       " ('capital', 265),\n",
       " ('policy', 265),\n",
       " ('california', 264),\n",
       " ('information', 263),\n",
       " ('issues', 263),\n",
       " ('reporters', 263),\n",
       " ('taken', 261),\n",
       " (\"'m\", 260),\n",
       " ('1989', 260),\n",
       " ('away', 260),\n",
       " ('sen', 260),\n",
       " ('share', 260),\n",
       " ('tax', 259),\n",
       " ('went', 259),\n",
       " ('county', 257),\n",
       " ('far', 257),\n",
       " ('top', 257),\n",
       " ('labor', 256),\n",
       " ('eastern', 255),\n",
       " ('jackson', 255),\n",
       " ('fell', 254),\n",
       " ('food', 254),\n",
       " ('record', 254),\n",
       " ('head', 253),\n",
       " ('communist', 252),\n",
       " ('3', 251),\n",
       " ('television', 251),\n",
       " ('added', 249),\n",
       " ('july', 249),\n",
       " ('peace', 249),\n",
       " ('condition', 248),\n",
       " ('israel', 247),\n",
       " ('received', 247),\n",
       " ('order', 246),\n",
       " ('press', 246),\n",
       " ('whose', 246),\n",
       " ('12', 245),\n",
       " ('opposition', 244),\n",
       " ('weeks', 244),\n",
       " ('average', 243),\n",
       " ('employees', 243),\n",
       " ('europe', 243),\n",
       " ('financial', 243),\n",
       " ('agreed', 241),\n",
       " ('wife', 240),\n",
       " ('big', 239),\n",
       " ('george', 239),\n",
       " ('human', 239),\n",
       " ('offer', 236),\n",
       " ('reports', 235),\n",
       " ('election', 234),\n",
       " ('given', 233),\n",
       " ('nations', 233),\n",
       " ('nearly', 233),\n",
       " ('water', 232),\n",
       " ('companies', 231),\n",
       " ('largest', 230),\n",
       " ('place', 230),\n",
       " ('5', 229),\n",
       " ('council', 229),\n",
       " ('known', 229),\n",
       " ('outside', 229),\n",
       " ('job', 228),\n",
       " ('private', 228),\n",
       " ('already', 227),\n",
       " ('change', 227),\n",
       " ('community', 227),\n",
       " ('street', 227),\n",
       " ('san', 226),\n",
       " ('southern', 226),\n",
       " ('africa', 224),\n",
       " ('attack', 224),\n",
       " ('james', 224),\n",
       " ('robert', 224),\n",
       " ('although', 223),\n",
       " ('building', 223),\n",
       " ('local', 223),\n",
       " ('newspaper', 223),\n",
       " ('points', 223),\n",
       " ('total', 223),\n",
       " ('across', 222),\n",
       " ('100', 221),\n",
       " ('cost', 221),\n",
       " ('groups', 221),\n",
       " ('lost', 221),\n",
       " ('action', 220),\n",
       " ('enough', 220),\n",
       " ('plans', 220),\n",
       " ('rep', 220),\n",
       " ('every', 219),\n",
       " ('investigation', 219),\n",
       " ('services', 219),\n",
       " ('inc', 218),\n",
       " ('move', 218),\n",
       " ('need', 218),\n",
       " ('association', 217),\n",
       " ('index', 217),\n",
       " ('scheduled', 217),\n",
       " ('accused', 216),\n",
       " ('along', 216),\n",
       " ('believe', 216),\n",
       " ('cut', 216),\n",
       " ('member', 216),\n",
       " ('morning', 216),\n",
       " ('return', 216),\n",
       " ('small', 216),\n",
       " ('included', 215)]"
      ]
     },
     "execution_count": 18,
     "metadata": {},
     "output_type": "execute_result"
    }
   ],
   "source": [
    "c.most_common(500)"
   ]
  },
  {
   "cell_type": "markdown",
   "metadata": {},
   "source": [
    "Observamos que dentro los tokens aparecen los signos de puntuación, por lo que buscamos removerlos"
   ]
  },
  {
   "cell_type": "code",
   "execution_count": 19,
   "metadata": {
    "collapsed": true
   },
   "outputs": [],
   "source": [
    "import string\n",
    "textos_tokenizados_unpunct = []\n",
    "for texto in textos_tokenizados:\n",
    "    translator = texto.maketrans('','',string.punctuation)\n",
    "    if texto.translate(translator) != '':\n",
    "        textos_tokenizados_unpunct.append(texto.translate(translator))"
   ]
  },
  {
   "cell_type": "markdown",
   "metadata": {},
   "source": [
    "Calculamos el tamaño del vocabulario"
   ]
  },
  {
   "cell_type": "code",
   "execution_count": 20,
   "metadata": {},
   "outputs": [
    {
     "name": "stdout",
     "output_type": "stream",
     "text": [
      "Tamaño vocabulario: 41151\n"
     ]
    }
   ],
   "source": [
    "print('Tamaño vocabulario: {}'.format(len(set(textos_tokenizados_unpunct))))"
   ]
  },
  {
   "cell_type": "markdown",
   "metadata": {},
   "source": [
    "Y buscamos los 500 tokens con mas apariciones"
   ]
  },
  {
   "cell_type": "code",
   "execution_count": 21,
   "metadata": {
    "collapsed": true
   },
   "outputs": [],
   "source": [
    "textos_tokenizados_unpunct_ordenados = sorted(textos_tokenizados_unpunct)"
   ]
  },
  {
   "cell_type": "code",
   "execution_count": 22,
   "metadata": {
    "collapsed": true
   },
   "outputs": [],
   "source": [
    "tipos = Counter(textos_tokenizados_unpunct_ordenados)"
   ]
  },
  {
   "cell_type": "code",
   "execution_count": 23,
   "metadata": {},
   "outputs": [
    {
     "data": {
      "text/plain": [
       "[('the', 59877),\n",
       " ('of', 25536),\n",
       " ('to', 24060),\n",
       " ('a', 21410),\n",
       " ('and', 20701),\n",
       " ('in', 20671),\n",
       " ('said', 12856),\n",
       " ('s', 9256),\n",
       " ('that', 8859),\n",
       " ('for', 8825),\n",
       " ('was', 7499),\n",
       " ('on', 7078),\n",
       " ('he', 6595),\n",
       " ('is', 5958),\n",
       " ('with', 5424),\n",
       " ('it', 5344),\n",
       " ('at', 5157),\n",
       " ('by', 5126),\n",
       " ('from', 4544),\n",
       " ('as', 4422),\n",
       " ('be', 3858),\n",
       " ('his', 3735),\n",
       " ('an', 3676),\n",
       " ('have', 3648),\n",
       " ('were', 3584),\n",
       " ('but', 3450),\n",
       " ('not', 3403),\n",
       " ('has', 3366),\n",
       " ('are', 3251),\n",
       " ('they', 2980),\n",
       " ('who', 2814),\n",
       " ('had', 2635),\n",
       " ('would', 2635),\n",
       " ('will', 2619),\n",
       " ('i', 2507),\n",
       " ('we', 2459),\n",
       " ('about', 2360),\n",
       " ('this', 2185),\n",
       " ('been', 2182),\n",
       " ('their', 2068),\n",
       " ('new', 2014),\n",
       " ('percent', 1942),\n",
       " ('which', 1937),\n",
       " ('or', 1930),\n",
       " ('after', 1920),\n",
       " ('its', 1841),\n",
       " ('us', 1824),\n",
       " ('more', 1766),\n",
       " ('one', 1747),\n",
       " ('people', 1729),\n",
       " ('up', 1665),\n",
       " ('also', 1621),\n",
       " ('other', 1618),\n",
       " ('nt', 1599),\n",
       " ('when', 1584),\n",
       " ('year', 1576),\n",
       " ('two', 1570),\n",
       " ('million', 1556),\n",
       " ('president', 1535),\n",
       " ('there', 1512),\n",
       " ('no', 1509),\n",
       " ('government', 1488),\n",
       " ('than', 1451),\n",
       " ('last', 1429),\n",
       " ('all', 1341),\n",
       " ('if', 1323),\n",
       " ('she', 1317),\n",
       " ('out', 1238),\n",
       " ('years', 1235),\n",
       " ('some', 1233),\n",
       " ('do', 1183),\n",
       " ('state', 1155),\n",
       " ('could', 1113),\n",
       " ('bush', 1108),\n",
       " ('first', 1091),\n",
       " ('police', 1085),\n",
       " ('over', 1064),\n",
       " ('because', 1048),\n",
       " ('into', 1035),\n",
       " ('her', 1029),\n",
       " ('united', 1006),\n",
       " ('soviet', 1002),\n",
       " ('officials', 1000),\n",
       " ('states', 999),\n",
       " ('them', 979),\n",
       " ('you', 973),\n",
       " ('can', 972),\n",
       " ('time', 948),\n",
       " ('before', 947),\n",
       " ('today', 941),\n",
       " ('what', 887),\n",
       " ('only', 883),\n",
       " ('three', 871),\n",
       " ('did', 864),\n",
       " ('billion', 859),\n",
       " ('since', 852),\n",
       " ('most', 842),\n",
       " ('national', 824),\n",
       " ('against', 819),\n",
       " ('told', 818),\n",
       " ('during', 815),\n",
       " ('thursday', 805),\n",
       " ('down', 802),\n",
       " ('american', 800),\n",
       " ('any', 788),\n",
       " ('him', 777),\n",
       " ('company', 760),\n",
       " ('tuesday', 760),\n",
       " ('week', 747),\n",
       " ('house', 737),\n",
       " ('federal', 730),\n",
       " ('under', 723),\n",
       " ('court', 720),\n",
       " ('where', 715),\n",
       " ('monday', 709),\n",
       " ('city', 706),\n",
       " ('friday', 704),\n",
       " ('may', 701),\n",
       " ('wednesday', 698),\n",
       " ('made', 692),\n",
       " ('so', 692),\n",
       " ('our', 690),\n",
       " ('many', 679),\n",
       " ('now', 673),\n",
       " ('news', 672),\n",
       " ('party', 671),\n",
       " ('day', 666),\n",
       " ('department', 666),\n",
       " ('those', 666),\n",
       " ('say', 652),\n",
       " ('while', 651),\n",
       " ('york', 645),\n",
       " ('group', 644),\n",
       " ('market', 627),\n",
       " ('just', 616),\n",
       " ('union', 612),\n",
       " ('being', 610),\n",
       " ('report', 604),\n",
       " ('such', 603),\n",
       " ('between', 602),\n",
       " ('world', 602),\n",
       " ('military', 596),\n",
       " ('country', 593),\n",
       " ('through', 593),\n",
       " ('south', 583),\n",
       " ('former', 577),\n",
       " ('should', 575),\n",
       " ('off', 570),\n",
       " ('members', 565),\n",
       " ('west', 545),\n",
       " ('home', 544),\n",
       " ('political', 541),\n",
       " ('reported', 541),\n",
       " ('including', 539),\n",
       " ('make', 531),\n",
       " ('going', 529),\n",
       " ('office', 529),\n",
       " ('get', 522),\n",
       " ('spokesman', 521),\n",
       " ('like', 511),\n",
       " ('then', 508),\n",
       " ('committee', 505),\n",
       " ('general', 505),\n",
       " ('four', 504),\n",
       " ('10', 503),\n",
       " ('think', 496),\n",
       " ('still', 494),\n",
       " ('back', 488),\n",
       " ('work', 488),\n",
       " ('1', 483),\n",
       " ('defense', 482),\n",
       " ('several', 482),\n",
       " ('says', 481),\n",
       " ('congress', 480),\n",
       " ('war', 480),\n",
       " ('next', 477),\n",
       " ('public', 477),\n",
       " ('foreign', 476),\n",
       " ('way', 476),\n",
       " ('official', 475),\n",
       " ('trade', 474),\n",
       " ('prices', 473),\n",
       " ('take', 473),\n",
       " ('administration', 472),\n",
       " ('much', 471),\n",
       " ('economic', 469),\n",
       " ('five', 469),\n",
       " ('another', 468),\n",
       " ('later', 466),\n",
       " ('according', 461),\n",
       " ('among', 461),\n",
       " ('month', 460),\n",
       " ('air', 459),\n",
       " ('both', 456),\n",
       " ('re', 455),\n",
       " ('money', 453),\n",
       " ('called', 451),\n",
       " ('very', 450),\n",
       " ('dukakis', 449),\n",
       " ('found', 449),\n",
       " ('campaign', 447),\n",
       " ('law', 446),\n",
       " ('reagan', 446),\n",
       " ('part', 445),\n",
       " ('program', 443),\n",
       " ('stock', 442),\n",
       " ('north', 437),\n",
       " ('case', 436),\n",
       " ('asked', 434),\n",
       " ('business', 430),\n",
       " ('late', 430),\n",
       " ('nation', 430),\n",
       " ('meeting', 429),\n",
       " ('workers', 429),\n",
       " ('even', 428),\n",
       " ('days', 427),\n",
       " ('east', 427),\n",
       " ('months', 426),\n",
       " ('how', 425),\n",
       " ('service', 425),\n",
       " ('chief', 424),\n",
       " ('my', 424),\n",
       " ('support', 424),\n",
       " ('earlier', 423),\n",
       " ('used', 421),\n",
       " ('white', 421),\n",
       " ('plan', 420),\n",
       " ('board', 415),\n",
       " ('go', 415),\n",
       " ('help', 415),\n",
       " ('gorbachev', 409),\n",
       " ('ago', 407),\n",
       " ('minister', 407),\n",
       " ('early', 406),\n",
       " ('force', 406),\n",
       " ('washington', 406),\n",
       " ('major', 405),\n",
       " ('oil', 405),\n",
       " ('john', 402),\n",
       " ('killed', 402),\n",
       " ('expected', 401),\n",
       " ('mrs', 400),\n",
       " ('until', 400),\n",
       " ('least', 398),\n",
       " ('began', 397),\n",
       " ('agency', 396),\n",
       " ('end', 395),\n",
       " ('security', 395),\n",
       " ('good', 393),\n",
       " ('bank', 391),\n",
       " ('night', 391),\n",
       " ('international', 390),\n",
       " ('saying', 390),\n",
       " ('bill', 389),\n",
       " ('agreement', 387),\n",
       " ('children', 387),\n",
       " ('system', 387),\n",
       " ('these', 387),\n",
       " ('use', 385),\n",
       " ('came', 383),\n",
       " ('family', 380),\n",
       " ('leader', 380),\n",
       " ('democratic', 378),\n",
       " ('sunday', 377),\n",
       " ('attorney', 374),\n",
       " ('miles', 370),\n",
       " ('want', 369),\n",
       " ('school', 366),\n",
       " ('man', 365),\n",
       " ('here', 364),\n",
       " ('m', 363),\n",
       " ('senate', 362),\n",
       " ('took', 362),\n",
       " ('whether', 361),\n",
       " ('high', 359),\n",
       " ('15', 358),\n",
       " ('drug', 358),\n",
       " ('20', 356),\n",
       " ('without', 356),\n",
       " ('long', 355),\n",
       " ('same', 355),\n",
       " ('judge', 354),\n",
       " ('however', 350),\n",
       " ('chairman', 349),\n",
       " ('does', 346),\n",
       " ('left', 344),\n",
       " ('statement', 344),\n",
       " ('talks', 341),\n",
       " ('director', 340),\n",
       " ('dollar', 340),\n",
       " ('each', 340),\n",
       " ('held', 340),\n",
       " ('rose', 340),\n",
       " ('1987', 339),\n",
       " ('30', 339),\n",
       " ('higher', 339),\n",
       " ('number', 337),\n",
       " ('sales', 337),\n",
       " ('death', 334),\n",
       " ('inc', 334),\n",
       " ('six', 334),\n",
       " ('know', 331),\n",
       " ('own', 331),\n",
       " ('army', 330),\n",
       " ('must', 330),\n",
       " ('rights', 329),\n",
       " ('2', 327),\n",
       " ('announced', 327),\n",
       " ('past', 324),\n",
       " ('decision', 323),\n",
       " ('interest', 323),\n",
       " ('leaders', 323),\n",
       " ('set', 323),\n",
       " ('see', 322),\n",
       " ('authorities', 321),\n",
       " ('put', 320),\n",
       " ('life', 319),\n",
       " ('control', 318),\n",
       " ('power', 317),\n",
       " ('women', 312),\n",
       " ('april', 311),\n",
       " ('black', 311),\n",
       " ('march', 311),\n",
       " ('saturday', 311),\n",
       " ('center', 310),\n",
       " ('price', 309),\n",
       " ('charges', 308),\n",
       " ('might', 308),\n",
       " ('area', 305),\n",
       " ('well', 305),\n",
       " ('corp', 304),\n",
       " ('show', 304),\n",
       " ('university', 304),\n",
       " ('vote', 304),\n",
       " ('iraq', 303),\n",
       " ('central', 302),\n",
       " ('countries', 302),\n",
       " ('vice', 302),\n",
       " ('around', 301),\n",
       " ('budget', 300),\n",
       " ('co', 300),\n",
       " ('second', 300),\n",
       " ('few', 299),\n",
       " ('secretary', 299),\n",
       " ('economy', 298),\n",
       " ('forces', 298),\n",
       " ('men', 298),\n",
       " ('pay', 298),\n",
       " ('republican', 298),\n",
       " ('times', 298),\n",
       " ('too', 298),\n",
       " ('fire', 297),\n",
       " ('trial', 297),\n",
       " ('died', 296),\n",
       " ('america', 294),\n",
       " ('germany', 294),\n",
       " ('issue', 293),\n",
       " ('never', 293),\n",
       " ('got', 291),\n",
       " ('health', 291),\n",
       " ('1986', 290),\n",
       " ('students', 290),\n",
       " ('me', 289),\n",
       " ('prison', 289),\n",
       " ('troops', 289),\n",
       " ('come', 288),\n",
       " ('give', 287),\n",
       " ('trading', 287),\n",
       " ('hospital', 286),\n",
       " ('cents', 283),\n",
       " ('less', 283),\n",
       " ('right', 283),\n",
       " ('12', 282),\n",
       " ('close', 282),\n",
       " ('1988', 281),\n",
       " ('ve', 281),\n",
       " ('industry', 279),\n",
       " ('recent', 279),\n",
       " ('aid', 277),\n",
       " ('conference', 277),\n",
       " ('june', 277),\n",
       " ('ms', 277),\n",
       " ('district', 274),\n",
       " ('german', 274),\n",
       " ('little', 274),\n",
       " ('lower', 274),\n",
       " ('rate', 273),\n",
       " ('rates', 273),\n",
       " ('hours', 270),\n",
       " ('japan', 270),\n",
       " ('problems', 270),\n",
       " ('increase', 268),\n",
       " ('presidential', 268),\n",
       " ('exchange', 267),\n",
       " ('near', 267),\n",
       " ('others', 267),\n",
       " ('released', 267),\n",
       " ('california', 266),\n",
       " ('capital', 265),\n",
       " ('policy', 265),\n",
       " ('information', 263),\n",
       " ('issues', 263),\n",
       " ('reporters', 263),\n",
       " ('taken', 261),\n",
       " ('1989', 260),\n",
       " ('away', 260),\n",
       " ('sen', 260),\n",
       " ('share', 260),\n",
       " ('tax', 259),\n",
       " ('went', 259),\n",
       " ('3', 258),\n",
       " ('county', 257),\n",
       " ('far', 257),\n",
       " ('top', 257),\n",
       " ('labor', 256),\n",
       " ('eastern', 255),\n",
       " ('food', 255),\n",
       " ('jackson', 255),\n",
       " ('fell', 254),\n",
       " ('record', 254),\n",
       " ('head', 253),\n",
       " ('am', 252),\n",
       " ('communist', 252),\n",
       " ('television', 251),\n",
       " ('added', 249),\n",
       " ('july', 249),\n",
       " ('peace', 249),\n",
       " ('condition', 248),\n",
       " ('israel', 247),\n",
       " ('received', 247),\n",
       " ('25', 246),\n",
       " ('order', 246),\n",
       " ('press', 246),\n",
       " ('whose', 246),\n",
       " ('financial', 244),\n",
       " ('opposition', 244),\n",
       " ('weeks', 244),\n",
       " ('average', 243),\n",
       " ('employees', 243),\n",
       " ('europe', 243),\n",
       " ('agreed', 241),\n",
       " ('wife', 240),\n",
       " ('big', 239),\n",
       " ('george', 239),\n",
       " ('human', 239),\n",
       " ('11', 237),\n",
       " ('offer', 236),\n",
       " ('5', 235),\n",
       " ('reports', 235),\n",
       " ('election', 234),\n",
       " ('given', 233),\n",
       " ('nations', 233),\n",
       " ('nearly', 233),\n",
       " ('water', 232),\n",
       " ('companies', 231),\n",
       " ('largest', 230),\n",
       " ('place', 230),\n",
       " ('council', 229),\n",
       " ('known', 229),\n",
       " ('outside', 229),\n",
       " ('robert', 229),\n",
       " ('job', 228),\n",
       " ('private', 228),\n",
       " ('street', 228),\n",
       " ('already', 227),\n",
       " ('change', 227),\n",
       " ('community', 227),\n",
       " ('james', 227),\n",
       " ('san', 226),\n",
       " ('southern', 226),\n",
       " ('rep', 225),\n",
       " ('africa', 224),\n",
       " ('attack', 224),\n",
       " ('total', 224),\n",
       " ('100', 223),\n",
       " ('although', 223),\n",
       " ('building', 223),\n",
       " ('local', 223),\n",
       " ('newspaper', 223),\n",
       " ('points', 223),\n",
       " ('across', 222),\n",
       " ('cost', 221),\n",
       " ('groups', 221),\n",
       " ('lost', 221),\n",
       " ('action', 220),\n",
       " ('enough', 220),\n",
       " ('plans', 220),\n",
       " ('every', 219),\n",
       " ('investigation', 219),\n",
       " ('services', 219),\n",
       " ('move', 218),\n",
       " ('need', 218),\n",
       " ('association', 217),\n",
       " ('index', 217),\n",
       " ('scheduled', 217),\n",
       " ('small', 217),\n",
       " ('accused', 216),\n",
       " ('along', 216),\n",
       " ('believe', 216),\n",
       " ('cut', 216)]"
      ]
     },
     "execution_count": 23,
     "metadata": {},
     "output_type": "execute_result"
    }
   ],
   "source": [
    "tipos.most_common(500)"
   ]
  },
  {
   "cell_type": "markdown",
   "metadata": {},
   "source": [
    "Y redefinimos entonces la función para tokenizar eliminando signos de puntuación y pasando a minúsculas"
   ]
  },
  {
   "cell_type": "markdown",
   "metadata": {},
   "source": [
    "<a name=\"1.3\"></a>\n",
    "### 1.3. Métricas"
   ]
  },
  {
   "cell_type": "markdown",
   "metadata": {},
   "source": [
    "La frecuencia entre 2 palabras se estima contando el número de veces que x es seguido por y en una ventana de w palabras $f_{w}(x,y)$ y normalizando obtenemos la probabilidad conjunta $P(x,y)$. Por default definimos el tamaño de ventanas de w=5 palabras."
   ]
  },
  {
   "cell_type": "markdown",
   "metadata": {},
   "source": [
    "    TODO: Aclarar que acá no lematizamos"
   ]
  },
  {
   "cell_type": "code",
   "execution_count": 24,
   "metadata": {
    "collapsed": true
   },
   "outputs": [],
   "source": [
    "PICKLE_DIR = 'pickles'\n",
    "EJ1_TOKENS_PATH = os.path.join(PICKLE_DIR, 'ej1_tokens.pkl')"
   ]
  },
  {
   "cell_type": "code",
   "execution_count": 25,
   "metadata": {
    "collapsed": true
   },
   "outputs": [],
   "source": [
    "if not os.path.isdir(PICKLE_DIR):\n",
    "    os.mkdir(PICKLE_DIR)"
   ]
  },
  {
   "cell_type": "code",
   "execution_count": 26,
   "metadata": {
    "collapsed": true
   },
   "outputs": [],
   "source": [
    "if not os.path.isfile(EJ1_TOKENS_PATH):\n",
    "    token_docs = {\n",
    "        docno : tokenize(text)\n",
    "        for docno, text in docs.items()\n",
    "    }\n",
    "    with open(EJ1_TOKENS_PATH, 'wb') as f:\n",
    "        pickle.dump(token_docs, f)\n",
    "else:\n",
    "    with open(EJ1_TOKENS_PATH, 'rb') as f:\n",
    "        token_docs = pickle.load(f)"
   ]
  },
  {
   "cell_type": "code",
   "execution_count": 27,
   "metadata": {
    "collapsed": true
   },
   "outputs": [],
   "source": [
    "all_tokens = [t for tokens in token_docs.values() for t in tokens]"
   ]
  },
  {
   "cell_type": "code",
   "execution_count": 28,
   "metadata": {
    "collapsed": true
   },
   "outputs": [],
   "source": [
    "top_tokens_counts = Counter(sorted(all_tokens)).most_common(500)"
   ]
  },
  {
   "cell_type": "code",
   "execution_count": 29,
   "metadata": {
    "collapsed": true
   },
   "outputs": [],
   "source": [
    "top_tokens = [x[0] for x in top_tokens_counts]"
   ]
  },
  {
   "cell_type": "code",
   "execution_count": 30,
   "metadata": {
    "collapsed": true
   },
   "outputs": [],
   "source": [
    "token_docs = {\n",
    "    docno : tokens\n",
    "    for docno, tokens in token_docs.items()\n",
    "    if len(tokens) > 0\n",
    "}"
   ]
  },
  {
   "cell_type": "code",
   "execution_count": 31,
   "metadata": {
    "collapsed": true
   },
   "outputs": [],
   "source": [
    "top_tokens_set = set(top_tokens)"
   ]
  },
  {
   "cell_type": "code",
   "execution_count": 32,
   "metadata": {
    "collapsed": true
   },
   "outputs": [],
   "source": [
    "# Armamos la matriz de co-frecuencias\n",
    "win_size = 5\n",
    "co_freq = defaultdict(lambda : defaultdict(int))\n",
    "freq = defaultdict(int)\n",
    "\n",
    "for tokens in token_docs.values():\n",
    "    for i in range(len(tokens)):\n",
    "        if tokens[i] in top_tokens_set:\n",
    "            freq[tokens[i]] += 1\n",
    "            for k in range(1, min(len(tokens) - i, win_size - 1)):\n",
    "                if tokens[i + k] in top_tokens_set:\n",
    "                    co_freq[tokens[i]][tokens[i+k]] += 1"
   ]
  },
  {
   "cell_type": "markdown",
   "metadata": {},
   "source": [
    "Ajustamos la métrica por (w-1)"
   ]
  },
  {
   "cell_type": "code",
   "execution_count": 33,
   "metadata": {
    "collapsed": true
   },
   "outputs": [],
   "source": [
    "# Ajustamos el valor por (win_size - 1)\n",
    "for t1 in co_freq:\n",
    "    for t2 in co_freq[t1]:\n",
    "        co_freq[t1][t2] /= (win_size - 1)"
   ]
  },
  {
   "cell_type": "code",
   "execution_count": 34,
   "metadata": {
    "collapsed": true
   },
   "outputs": [],
   "source": [
    "# Calculamos N\n",
    "N = sum([len(tokens) for tokens in token_docs.values()])"
   ]
  },
  {
   "cell_type": "code",
   "execution_count": 35,
   "metadata": {},
   "outputs": [
    {
     "name": "stderr",
     "output_type": "stream",
     "text": [
      "C:\\ProgramData\\Anaconda3\\lib\\site-packages\\ipykernel_launcher.py:5: RuntimeWarning: overflow encountered in long_scalars\n",
      "  \"\"\"\n"
     ]
    }
   ],
   "source": [
    "relations = {\n",
    "    (t1, t2) : np.log2((co_freq[t1][t2] / N) / (freq[t1] * freq[t2] / (N * N)))\n",
    "    for t1 in co_freq\n",
    "    for t2 in co_freq[t1]\n",
    "    if co_freq[t1][t2] * (win_size - 1) > 5\n",
    "}"
   ]
  },
  {
   "cell_type": "code",
   "execution_count": 36,
   "metadata": {
    "collapsed": true
   },
   "outputs": [],
   "source": [
    "top_relations = sorted([r for r in relations.items() if r[0] != 0.0], \n",
    "                       key=lambda kv: kv[1], reverse=True)"
   ]
  },
  {
   "cell_type": "code",
   "execution_count": 37,
   "metadata": {},
   "outputs": [
    {
     "data": {
      "text/plain": [
       "[(('human', 'rights'), -1.3570819093243989),\n",
       " (('interest', 'rates'), -1.5451388997222693),\n",
       " (('south', 'africa'), -1.7402501686354317),\n",
       " (('eastern', 'europe'), -1.9473480776152752),\n",
       " (('stock', 'exchange'), -2.2286243010212714),\n",
       " (('west', 'german'), -2.288427111601131),\n",
       " (('district', 'judge'), -2.3745067417896846),\n",
       " (('news', 'conference'), -2.3811623959741954),\n",
       " (('united', 'states'), -2.4674424914813859),\n",
       " (('west', 'germany'), -2.5458620460843928),\n",
       " (('air', 'force'), -2.5559069783421933),\n",
       " (('told', 'reporters'), -2.5612198363988745),\n",
       " (('communist', 'party'), -2.5769254870916187),\n",
       " (('white', 'house'), -2.5825810576064057),\n",
       " (('east', 'germany'), -2.5989979487677393)]"
      ]
     },
     "execution_count": 37,
     "metadata": {},
     "output_type": "execute_result"
    }
   ],
   "source": [
    "top_relations[:15]"
   ]
  },
  {
   "cell_type": "markdown",
   "metadata": {},
   "source": [
    "<a name=\"lexica\"></a>\n",
    "## 2. Información léxica"
   ]
  },
  {
   "cell_type": "markdown",
   "metadata": {},
   "source": [
    "Bajamos de [Project Gutenberg](http://www.gutenberg.org/) el libro de Darwin *ON THE ORIGIN OF SPECIES* y aplicamos el análisis de información léxica descripto en [Montemurro & Zanette 2010](https://www.researchgate.net/publication/46510298_Towards_the_quantification_of_the_semantic_information_encoded_in_written_language)."
   ]
  },
  {
   "cell_type": "code",
   "execution_count": 38,
   "metadata": {
    "collapsed": true
   },
   "outputs": [],
   "source": [
    "f_darwin = open('gutenberg/On The Origin Of Species.txt')\n",
    "corpus_darwin = f_darwin.read()"
   ]
  },
  {
   "cell_type": "markdown",
   "metadata": {},
   "source": [
    "Separamos el cuerpo del libro"
   ]
  },
  {
   "cell_type": "code",
   "execution_count": 39,
   "metadata": {
    "collapsed": true
   },
   "outputs": [],
   "source": [
    "start = '*** START OF THIS PROJECT GUTENBERG EBOOK ON THE ORIGIN OF SPECIES ***'\n",
    "end = '*** END OF THIS PROJECT GUTENBERG EBOOK ON THE ORIGIN OF SPECIES ***'\n",
    "corpus_darwin = corpus_darwin[corpus_darwin.find(start)+len(start):corpus_darwin.find(end)]"
   ]
  },
  {
   "cell_type": "markdown",
   "metadata": {},
   "source": [
    "<a name=\"2.1\"></a>\n",
    "### 2.1. Tokenización"
   ]
  },
  {
   "cell_type": "markdown",
   "metadata": {},
   "source": [
    "Tokenizamos, eliminando los signos de puntuación"
   ]
  },
  {
   "cell_type": "code",
   "execution_count": 40,
   "metadata": {
    "collapsed": true
   },
   "outputs": [],
   "source": [
    "lines_darwin = corpus_darwin.lower().splitlines()"
   ]
  },
  {
   "cell_type": "code",
   "execution_count": 41,
   "metadata": {
    "collapsed": true
   },
   "outputs": [],
   "source": [
    "words_darwin = nltk.wordpunct_tokenize(' '.join(lines_darwin))"
   ]
  },
  {
   "cell_type": "code",
   "execution_count": 42,
   "metadata": {
    "collapsed": true
   },
   "outputs": [],
   "source": [
    "import string\n",
    "words_darwin_unpunct = []\n",
    "for word_darwin in words_darwin:\n",
    "    translator = word_darwin.maketrans('','',string.punctuation)\n",
    "    if word_darwin.translate(translator) != '':\n",
    "        words_darwin_unpunct.append(word_darwin.translate(translator))"
   ]
  },
  {
   "cell_type": "markdown",
   "metadata": {},
   "source": [
    "Calculamos la cantidad de apariciones de cada palabra"
   ]
  },
  {
   "cell_type": "code",
   "execution_count": 43,
   "metadata": {
    "collapsed": true
   },
   "outputs": [],
   "source": [
    "c_darwin_unpunct = Counter(words_darwin_unpunct)"
   ]
  },
  {
   "cell_type": "markdown",
   "metadata": {},
   "source": [
    "Calculamos el tamaño del vocabulario"
   ]
  },
  {
   "cell_type": "code",
   "execution_count": 44,
   "metadata": {},
   "outputs": [
    {
     "name": "stdout",
     "output_type": "stream",
     "text": [
      "Tamaño vocabulario: 7253\n"
     ]
    }
   ],
   "source": [
    "print('Tamaño vocabulario: {}'.format(len(set(words_darwin_unpunct))))"
   ]
  },
  {
   "cell_type": "markdown",
   "metadata": {},
   "source": [
    "<a name=\"2.2\"></a>\n",
    "### 2.2. Autocorrelación"
   ]
  },
  {
   "cell_type": "markdown",
   "metadata": {},
   "source": [
    "Para calcular la autocorrelación de cada palabra, primero tenemos que encontrar la tasa de ocurrencias de esa palabra. Para ello, buscamos reproducir los resultados del paper previamente citado. Por ejemplo, aplicamos el análisis para la palabra 'plants', la cual tiene 335 ocurrencias"
   ]
  },
  {
   "cell_type": "code",
   "execution_count": 45,
   "metadata": {
    "collapsed": true
   },
   "outputs": [],
   "source": [
    "test_word = 'plants'"
   ]
  },
  {
   "cell_type": "code",
   "execution_count": 46,
   "metadata": {},
   "outputs": [
    {
     "data": {
      "text/plain": [
       "335"
      ]
     },
     "execution_count": 46,
     "metadata": {},
     "output_type": "execute_result"
    }
   ],
   "source": [
    "c_darwin_unpunct[test_word]"
   ]
  },
  {
   "cell_type": "markdown",
   "metadata": {},
   "source": [
    "Obtenemos las posiciones de la palabra en el texto"
   ]
  },
  {
   "cell_type": "code",
   "execution_count": 47,
   "metadata": {
    "collapsed": true
   },
   "outputs": [],
   "source": [
    "from itertools import count\n",
    "word_darwin_index = [i for i, j in zip(count(), words_darwin_unpunct) if j == test_word]"
   ]
  },
  {
   "cell_type": "code",
   "execution_count": 48,
   "metadata": {},
   "outputs": [
    {
     "data": {
      "text/plain": [
       "335"
      ]
     },
     "execution_count": 48,
     "metadata": {},
     "output_type": "execute_result"
    }
   ],
   "source": [
    "len(word_darwin_index)"
   ]
  },
  {
   "cell_type": "code",
   "execution_count": 49,
   "metadata": {
    "collapsed": true
   },
   "outputs": [],
   "source": [
    "N = len(words_darwin_unpunct)"
   ]
  },
  {
   "cell_type": "code",
   "execution_count": 50,
   "metadata": {
    "collapsed": true
   },
   "outputs": [],
   "source": [
    "word_darwin_delta = [0] * len(words_darwin_unpunct)"
   ]
  },
  {
   "cell_type": "code",
   "execution_count": 51,
   "metadata": {},
   "outputs": [
    {
     "data": {
      "text/plain": [
       "156885"
      ]
     },
     "execution_count": 51,
     "metadata": {},
     "output_type": "execute_result"
    }
   ],
   "source": [
    "len(word_darwin_delta)"
   ]
  },
  {
   "cell_type": "markdown",
   "metadata": {},
   "source": [
    "Calculamos la densidad de ocurrencias de la palabra *w*\n",
    "\\begin{equation*}\n",
    "v_{w} (t) = \\sum_{j=1}^n \\delta(t-t_{j})\n",
    "\\end{equation*}"
   ]
  },
  {
   "cell_type": "code",
   "execution_count": 52,
   "metadata": {
    "collapsed": true
   },
   "outputs": [],
   "source": [
    "for index in word_darwin_index:\n",
    "    word_darwin_delta[index] = 1"
   ]
  },
  {
   "cell_type": "code",
   "execution_count": 53,
   "metadata": {},
   "outputs": [
    {
     "data": {
      "image/png": "[encoded data removed]",
      "text/plain": [
       "<matplotlib.figure.Figure at 0x26d0605bc18>"
      ]
     },
     "metadata": {},
     "output_type": "display_data"
    }
   ],
   "source": [
    "plt.figure(figsize(15, 1))\n",
    "plot(word_darwin_delta)\n",
    "ylabel('$v_{w}$', size=18)\n",
    "xlabel('t', size=18)\n",
    "plt.show()"
   ]
  },
  {
   "cell_type": "markdown",
   "metadata": {},
   "source": [
    "Obtenemos la tasa de ocurrencias de convolucionar la densidad de ocurrencias con un kernel gaussiano\n",
    "\\begin{equation*}\n",
    "\\rho_{w} (t) = \\int_{-\\infty}^\\infty G(t-t'_{w},\\sigma) v_{w}(t')dt'\n",
    "\\end{equation*}"
   ]
  },
  {
   "cell_type": "code",
   "execution_count": 54,
   "metadata": {
    "collapsed": true
   },
   "outputs": [],
   "source": [
    "from astropy.convolution import convolve, Gaussian1DKernel"
   ]
  },
  {
   "cell_type": "code",
   "execution_count": 55,
   "metadata": {
    "collapsed": true
   },
   "outputs": [],
   "source": [
    "gauss_kernel = Gaussian1DKernel(50)\n",
    "# smoothed_data_gauss[i] = p_w(i)\n",
    "smoothed_data_gauss = convolve(word_darwin_delta, gauss_kernel)"
   ]
  },
  {
   "cell_type": "code",
   "execution_count": 56,
   "metadata": {
    "scrolled": true
   },
   "outputs": [
    {
     "data": {
      "image/png": "[encoded data removed]",
      "text/plain": [
       "<matplotlib.figure.Figure at 0x26d07f2fba8>"
      ]
     },
     "metadata": {},
     "output_type": "display_data"
    }
   ],
   "source": [
    "plt.figure(figsize(15, 1))\n",
    "plot(smoothed_data_gauss)\n",
    "ylabel('$\\\\rho_{w}$', size=18)\n",
    "xlabel('t', size=18)\n",
    "plt.show()"
   ]
  },
  {
   "cell_type": "markdown",
   "metadata": {},
   "source": [
    "Donde obtuvimos resultados similares a los del paper"
   ]
  },
  {
   "cell_type": "code",
   "execution_count": 57,
   "metadata": {},
   "outputs": [
    {
     "data": {
      "image/png": "[encoded data removed]",
      "text/plain": [
       "<IPython.core.display.Image object>"
      ]
     },
     "execution_count": 57,
     "metadata": {
      "image/png": {
       "width": 800
      }
     },
     "output_type": "execute_result"
    }
   ],
   "source": [
    "from IPython.display import Image\n",
    "Image(\"ref/rate_plants.png\", width=800)"
   ]
  },
  {
   "cell_type": "markdown",
   "metadata": {},
   "source": [
    "Computamos la autocorrelación normalizada de la tasa de ocurrencia\n",
    "\\begin{equation*}\n",
    "c_{w} (t) = \\frac{\\langle \\rho_{w} (t) \\rho_{w} (t + \\tau) \\rangle_{t} - \\langle \\rho_{w} (t) \\rangle_{t} \\langle \\rho_{w} (t + \\tau) \\rangle_{t}}{\\langle \\rho_{w} (t)^{2} \\rangle_{t} - \\langle \\rho_{w} (t) \\rangle_{t}^{2}}\n",
    "\\end{equation*}"
   ]
  },
  {
   "cell_type": "code",
   "execution_count": 58,
   "metadata": {
    "collapsed": true
   },
   "outputs": [],
   "source": [
    "self_corr = np.correlate(smoothed_data_gauss, smoothed_data_gauss,'full')"
   ]
  },
  {
   "cell_type": "code",
   "execution_count": 59,
   "metadata": {
    "collapsed": true
   },
   "outputs": [],
   "source": [
    "paper_corr = ((self_corr / smoothed_data_gauss.shape[0]) - smoothed_data_gauss.mean() ** 2) / smoothed_data_gauss.var()"
   ]
  },
  {
   "cell_type": "code",
   "execution_count": 60,
   "metadata": {
    "scrolled": true
   },
   "outputs": [
    {
     "data": {
      "image/png": "[encoded data removed]",
      "text/plain": [
       "<matplotlib.figure.Figure at 0x26d07fe3828>"
      ]
     },
     "metadata": {},
     "output_type": "display_data"
    }
   ],
   "source": [
    "plt.figure(figsize(10, 5))\n",
    "plot(paper_corr[len(smoothed_data_gauss)-1:len(smoothed_data_gauss)+10000])\n",
    "ylabel('Autocorrelación', size=18)\n",
    "xlabel('$\\\\tau$', size=18)\n",
    "plt.show()"
   ]
  },
  {
   "cell_type": "markdown",
   "metadata": {},
   "source": [
    "Donde obtuvimos resultados similares a los del paper"
   ]
  },
  {
   "cell_type": "code",
   "execution_count": 61,
   "metadata": {},
   "outputs": [
    {
     "data": {
      "image/png": "[encoded data removed]",
      "text/plain": [
       "<IPython.core.display.Image object>"
      ]
     },
     "execution_count": 61,
     "metadata": {
      "image/png": {
       "width": 650
      }
     },
     "output_type": "execute_result"
    }
   ],
   "source": [
    "from IPython.display import Image\n",
    "Image(\"ref/autocorr_plants.png\", width=650)"
   ]
  },
  {
   "cell_type": "markdown",
   "metadata": {},
   "source": [
    "Armamos la función que calcula el rate of occurrence y la testeamos en la palabra 'instinct' que es la 2da que usa en el paper"
   ]
  },
  {
   "cell_type": "code",
   "execution_count": 62,
   "metadata": {
    "collapsed": true
   },
   "outputs": [],
   "source": [
    "def rate_of_occurrence(words_list, test_word, sigma=50):\n",
    "    from itertools import count\n",
    "    word_index = [i for i, j in zip(count(), words_list) if j == test_word]\n",
    "    word_delta = [0] * len(words_list)\n",
    "    for index in word_index:\n",
    "        word_delta[index] = 1\n",
    "    from astropy.convolution import convolve, Gaussian1DKernel\n",
    "    gauss_kernel = Gaussian1DKernel(sigma)\n",
    "    word_gauss = convolve(word_delta, gauss_kernel)\n",
    "    return word_gauss"
   ]
  },
  {
   "cell_type": "code",
   "execution_count": 63,
   "metadata": {},
   "outputs": [
    {
     "data": {
      "image/png": "[encoded data removed]",
      "text/plain": [
       "<matplotlib.figure.Figure at 0x26d0695f978>"
      ]
     },
     "metadata": {},
     "output_type": "display_data"
    }
   ],
   "source": [
    "plt.figure(figsize(15, 1))\n",
    "plot(rate_of_occurrence(words_darwin_unpunct, 'instinct'))\n",
    "ylabel('$\\\\rho_{w}$', size=18)\n",
    "xlabel('t', size=18)\n",
    "plt.show()"
   ]
  },
  {
   "cell_type": "code",
   "execution_count": 64,
   "metadata": {},
   "outputs": [
    {
     "data": {
      "image/png": "[encoded data removed]",
      "text/plain": [
       "<IPython.core.display.Image object>"
      ]
     },
     "execution_count": 64,
     "metadata": {
      "image/png": {
       "width": 800
      }
     },
     "output_type": "execute_result"
    }
   ],
   "source": [
    "from IPython.display import Image\n",
    "Image(\"ref/rate_instinct.png\", width=800)"
   ]
  },
  {
   "cell_type": "markdown",
   "metadata": {},
   "source": [
    "Armo la función para calcular la autocorrelación y la pruebo en la palabra 'instinct' que es la 2da que usa en el paper."
   ]
  },
  {
   "cell_type": "code",
   "execution_count": 65,
   "metadata": {
    "collapsed": true
   },
   "outputs": [],
   "source": [
    "def self_correlation(words_list, test_word, sigma=50):\n",
    "    from itertools import count\n",
    "    word_index = [i for i, j in zip(count(), words_list) if j == test_word]\n",
    "    word_delta = [0] * len(words_list)\n",
    "    for index in word_index:\n",
    "        word_delta[index] = 1\n",
    "    from astropy.convolution import convolve, Gaussian1DKernel\n",
    "    gauss_kernel = Gaussian1DKernel(sigma)\n",
    "    word_gauss = convolve(word_delta, gauss_kernel)\n",
    "    import numpy as np\n",
    "    self_corr = np.correlate(word_gauss, word_gauss,'full')\n",
    "    paper_corr = ((self_corr / word_gauss.shape[0]) - word_gauss.mean() ** 2) / word_gauss.var()\n",
    "    return paper_corr[len(word_gauss)-1:]"
   ]
  },
  {
   "cell_type": "code",
   "execution_count": 66,
   "metadata": {},
   "outputs": [
    {
     "data": {
      "image/png": "[encoded data removed]",
      "text/plain": [
       "<matplotlib.figure.Figure at 0x26d08e137b8>"
      ]
     },
     "metadata": {},
     "output_type": "display_data"
    }
   ],
   "source": [
    "plt.figure(figsize(15, 5))\n",
    "plot(self_correlation(words_darwin_unpunct, 'instinct')[:10000])\n",
    "ylabel('Autocorrelación', size=18)\n",
    "xlabel('$\\\\tau$', size=18)\n",
    "plt.show()"
   ]
  },
  {
   "cell_type": "code",
   "execution_count": 67,
   "metadata": {},
   "outputs": [
    {
     "data": {
      "image/png": "[encoded data removed]",
      "text/plain": [
       "<IPython.core.display.Image object>"
      ]
     },
     "execution_count": 67,
     "metadata": {
      "image/png": {
       "width": 650
      }
     },
     "output_type": "execute_result"
    }
   ],
   "source": [
    "from IPython.display import Image\n",
    "Image(\"ref/autocorr_instinct.png\", width=650)"
   ]
  },
  {
   "cell_type": "markdown",
   "metadata": {},
   "source": [
    "Observamos que se reproducen los resultados del paper, y que a partir de estas métricas podemos identificar que la distribución de algunas palabras en el texto no es uniforme, indicando patrones de dominio del uso de esas palabras lo reflejaría información semántica asociada."
   ]
  },
  {
   "cell_type": "markdown",
   "metadata": {},
   "source": [
    "<a name=\"2.3\"></a>\n",
    "### 2.3. Entropía"
   ]
  },
  {
   "cell_type": "markdown",
   "metadata": {},
   "source": [
    "Calculamos la entropía. Para eso, separamos el texto en segmentos de aproximadamente la misma cantidad de palabras y calculamos el número de ocurrencias de una palabra (por ejemplo 'plants') en cada una de los segmentos. Ese valor dividido el número total de ocurrencias de la palabra va a dar la probabilidad de que esa palabra aparezca en ese segmento."
   ]
  },
  {
   "cell_type": "code",
   "execution_count": 68,
   "metadata": {},
   "outputs": [
    {
     "data": {
      "text/plain": [
       "[15689, 15689, 15689, 15689, 15689, 15688, 15688, 15688, 15688, 15688]"
      ]
     },
     "execution_count": 68,
     "metadata": {},
     "output_type": "execute_result"
    }
   ],
   "source": [
    "parts= 10\n",
    "[len(segment) for segment in np.array_split(word_darwin_delta, parts)]"
   ]
  },
  {
   "cell_type": "markdown",
   "metadata": {},
   "source": [
    "Si separamos en 10 segmentos, vemos que los 10 segmentos tienen casi el mismo tamaño. La máxima diferencia de tamaños puede ser de 1 palabra, lo que ocurre cuando el total de palabras no es múltiplo del número de segmentos. Ahora calculamos el número de ocurrencias de la palabra en cada segmento."
   ]
  },
  {
   "cell_type": "code",
   "execution_count": 69,
   "metadata": {
    "collapsed": true
   },
   "outputs": [],
   "source": [
    "parts= 10\n",
    "nj = [sum(segment) for segment in np.array_split(word_darwin_delta, parts)]"
   ]
  },
  {
   "cell_type": "markdown",
   "metadata": {},
   "source": [
    "Chequeamos que el total de apariciones siga siendo el mismo"
   ]
  },
  {
   "cell_type": "code",
   "execution_count": 70,
   "metadata": {},
   "outputs": [
    {
     "data": {
      "text/plain": [
       "335"
      ]
     },
     "execution_count": 70,
     "metadata": {},
     "output_type": "execute_result"
    }
   ],
   "source": [
    "sum(nj)"
   ]
  },
  {
   "cell_type": "markdown",
   "metadata": {},
   "source": [
    "Y la probabilidad de encontrar la palabra en cada segmento sería"
   ]
  },
  {
   "cell_type": "code",
   "execution_count": 71,
   "metadata": {
    "collapsed": true
   },
   "outputs": [],
   "source": [
    "parts= 10\n",
    "pj = [sum(segment)/sum(word_darwin_delta) for segment in np.array_split(word_darwin_delta, parts)]"
   ]
  },
  {
   "cell_type": "code",
   "execution_count": 72,
   "metadata": {},
   "outputs": [
    {
     "data": {
      "text/plain": [
       "[0.13134328358208955,\n",
       " 0.17611940298507461,\n",
       " 0.1253731343283582,\n",
       " 0.026865671641791045,\n",
       " 0.026865671641791045,\n",
       " 0.080597014925373134,\n",
       " 0.0089552238805970154,\n",
       " 0.23582089552238805,\n",
       " 0.053731343283582089,\n",
       " 0.13432835820895522]"
      ]
     },
     "execution_count": 72,
     "metadata": {},
     "output_type": "execute_result"
    }
   ],
   "source": [
    "pj"
   ]
  },
  {
   "cell_type": "code",
   "execution_count": 73,
   "metadata": {},
   "outputs": [
    {
     "data": {
      "text/plain": [
       "1.0"
      ]
     },
     "execution_count": 73,
     "metadata": {},
     "output_type": "execute_result"
    }
   ],
   "source": [
    "sum(pj)"
   ]
  },
  {
   "cell_type": "markdown",
   "metadata": {},
   "source": [
    "Con ese valor de probabilidad calculamos la entropía de la palabra *w* para una partición en *P* segmentos.\n",
    "\\begin{equation*}\n",
    "H (J|w) = - \\sum_{j=1}^P p_{j}\\log_{2}[p_{j}]\n",
    "\\end{equation*}"
   ]
  },
  {
   "cell_type": "code",
   "execution_count": 74,
   "metadata": {},
   "outputs": [
    {
     "data": {
      "text/plain": [
       "[0.38465005771685029,\n",
       " 0.4412450146955651,\n",
       " 0.37558028127697823,\n",
       " 0.14018755389589671,\n",
       " 0.14018755389589671,\n",
       " 0.29281941536091044,\n",
       " 0.060922878668274436,\n",
       " 0.49150652667544636,\n",
       " 0.22664376450821136,\n",
       " 0.38903698061401698]"
      ]
     },
     "execution_count": 74,
     "metadata": {},
     "output_type": "execute_result"
    }
   ],
   "source": [
    "[-p*np.log2(p) for p in pj]"
   ]
  },
  {
   "cell_type": "code",
   "execution_count": 75,
   "metadata": {
    "collapsed": true
   },
   "outputs": [],
   "source": [
    "word_entropy = sum([-p*np.log2(p) for p in pj])"
   ]
  },
  {
   "cell_type": "code",
   "execution_count": 76,
   "metadata": {
    "collapsed": true
   },
   "outputs": [],
   "source": [
    "def get_word_entropy(words_list, test_word, parts=10):\n",
    "    from itertools import count\n",
    "    word_index = [i for i, j in zip(count(), words_list) if j == test_word]\n",
    "    word_delta = [0] * len(words_list)\n",
    "    for index in word_index:\n",
    "        word_delta[index] = 1\n",
    "    pj = [sum(segment)/sum(word_delta) for segment in np.array_split(word_delta, parts)]\n",
    "    word_entropy = sum([-p*np.log2(p) for p in pj if p!=0]) # correccion para que se pueda calcular el log, si p=0 entonces no suma nada a la entropia\n",
    "    return word_entropy"
   ]
  },
  {
   "cell_type": "code",
   "execution_count": 77,
   "metadata": {},
   "outputs": [
    {
     "data": {
      "text/plain": [
       "5.2085462341032711"
      ]
     },
     "execution_count": 77,
     "metadata": {},
     "output_type": "execute_result"
    }
   ],
   "source": [
    "get_word_entropy(words_darwin_unpunct, 'plants', parts=64)"
   ]
  },
  {
   "cell_type": "markdown",
   "metadata": {},
   "source": [
    "Calculamos la entropía para 100 palabras seleccionadas tal que 50 son las más frecuentes y 50 las menos frecuentes."
   ]
  },
  {
   "cell_type": "code",
   "execution_count": 78,
   "metadata": {
    "collapsed": true
   },
   "outputs": [],
   "source": [
    "words_darwin_selected = c_darwin_unpunct.most_common()[0:50] + c_darwin_unpunct.most_common()[-50:]"
   ]
  },
  {
   "cell_type": "code",
   "execution_count": 79,
   "metadata": {
    "collapsed": true
   },
   "outputs": [],
   "source": [
    "words_darwin_selected_entropy = [get_word_entropy(words_darwin_unpunct, word_darwin_selected[0]) for word_darwin_selected in words_darwin_selected]"
   ]
  },
  {
   "cell_type": "code",
   "execution_count": 80,
   "metadata": {},
   "outputs": [
    {
     "data": {
      "image/png": "[encoded data removed]",
      "text/plain": [
       "<matplotlib.figure.Figure at 0x26d08e9d080>"
      ]
     },
     "metadata": {},
     "output_type": "display_data"
    }
   ],
   "source": [
    "plt.figure(figsize(15,5))\n",
    "plt.plot(range(50), words_darwin_selected_entropy[:50], label='Más comunes')\n",
    "plt.plot(range(50, 100), words_darwin_selected_entropy[50:], label='Menos comunes', color='green')\n",
    "plt.ylabel('Entropía', size=18)\n",
    "plt.xlabel('Indice palabra seleccionada', size=18)\n",
    "plt.legend()\n",
    "plt.show()"
   ]
  },
  {
   "cell_type": "code",
   "execution_count": 81,
   "metadata": {},
   "outputs": [
    {
     "data": {
      "image/png": "[encoded data removed]",
      "text/plain": [
       "<matplotlib.figure.Figure at 0x26d08eb02e8>"
      ]
     },
     "metadata": {},
     "output_type": "display_data"
    }
   ],
   "source": [
    "import seaborn as sns\n",
    "etiquetas = ['Más comunes'] * 50 + ['Menos comunes'] * 50\n",
    "plt.figure(figsize(15,5))\n",
    "sns.violinplot(x=etiquetas, y=words_darwin_selected_entropy)\n",
    "ylabel('Entropía', size=18)\n",
    "xlabel('Rango de frecuencias de aparición', size=18)\n",
    "#plt.grid(True)\n",
    "plt.show()"
   ]
  },
  {
   "cell_type": "markdown",
   "metadata": {},
   "source": [
    "Observamos que las palabras más comunes tienen mucha más entropia que las palabras menos comunes.\n",
    "Calculamos la entropía de cada palabra en función de su frecuencia."
   ]
  },
  {
   "cell_type": "code",
   "execution_count": 82,
   "metadata": {
    "collapsed": true
   },
   "outputs": [],
   "source": [
    "words_darwin_selected_frequency = [word_darwin_selected[1] for word_darwin_selected in words_darwin_selected]"
   ]
  },
  {
   "cell_type": "code",
   "execution_count": 83,
   "metadata": {},
   "outputs": [
    {
     "data": {
      "image/png": "[encoded data removed]",
      "text/plain": [
       "<matplotlib.figure.Figure at 0x26d09d24f98>"
      ]
     },
     "metadata": {},
     "output_type": "display_data"
    }
   ],
   "source": [
    "plt.figure(figsize(15,5))\n",
    "labels = list(set(etiquetas))\n",
    "colors = ['blue' if etiqueta == 'Más comunes' else 'green' for etiqueta in etiquetas]\n",
    "#scatter(words_darwin_selected_frequency, words_darwin_selected_entropy, color=colors)\n",
    "for i, u in enumerate(labels):\n",
    "    xi = [words_darwin_selected_frequency[j] for j  in range(len(words_darwin_selected_frequency)) if etiquetas[j] == u]\n",
    "    yi = [words_darwin_selected_entropy[j] for j  in range(len(words_darwin_selected_entropy)) if etiquetas[j] == u]\n",
    "    plt.scatter(xi, yi, c=unique(colors)[i], label=str(u))\n",
    "    plt.xscale('log')\n",
    "    plt.grid(True)\n",
    "ylabel('Entropía', size=18)\n",
    "xlabel('Frecuencia', size=18)\n",
    "plt.legend(fontsize=14)\n",
    "plt.show()"
   ]
  },
  {
   "cell_type": "markdown",
   "metadata": {},
   "source": [
    "Vemos que los valores entropía para el rango de menos aparición son 0, siendo la frecuencia de aparición igual a 1."
   ]
  },
  {
   "cell_type": "code",
   "execution_count": 84,
   "metadata": {
    "scrolled": true
   },
   "outputs": [
    {
     "data": {
      "text/plain": [
       "[('275', 1),\n",
       " ('310', 1),\n",
       " ('323', 1),\n",
       " ('382', 1),\n",
       " ('fossilized', 1),\n",
       " ('226', 1),\n",
       " ('483', 1),\n",
       " ('monocanthus', 1),\n",
       " ('musical', 1),\n",
       " ('209', 1),\n",
       " ('453', 1),\n",
       " ('337', 1),\n",
       " ('186', 1),\n",
       " ('319', 1),\n",
       " ('435', 1),\n",
       " ('pheasant', 1),\n",
       " ('335', 1),\n",
       " ('reverting', 1),\n",
       " ('poisonous', 1),\n",
       " ('38', 1),\n",
       " ('french', 1),\n",
       " ('488', 1),\n",
       " ('16', 1),\n",
       " ('459', 1),\n",
       " ('reciprocity', 1),\n",
       " ('273', 1),\n",
       " ('sageret', 1),\n",
       " ('34', 1),\n",
       " ('437', 1),\n",
       " ('164', 1),\n",
       " ('snap', 1),\n",
       " ('54', 1),\n",
       " ('246', 1),\n",
       " ('263', 1),\n",
       " ('265', 1),\n",
       " ('196', 1),\n",
       " ('228', 1),\n",
       " ('446', 1),\n",
       " ('274', 1),\n",
       " ('75', 1),\n",
       " ('423', 1),\n",
       " ('355', 1),\n",
       " ('58', 1),\n",
       " ('367', 1),\n",
       " ('157', 1),\n",
       " ('hymenopterous', 1),\n",
       " ('isles', 1),\n",
       " ('52', 1),\n",
       " ('project', 1),\n",
       " ('gutenberg', 1)]"
      ]
     },
     "execution_count": 84,
     "metadata": {},
     "output_type": "execute_result"
    }
   ],
   "source": [
    "c_darwin_unpunct.most_common()[-50:]"
   ]
  },
  {
   "cell_type": "markdown",
   "metadata": {},
   "source": [
    "Y podemos considerar únicamente las palabras y no los números, pero obtenemos un resultado análogo, ya que las palabras de menos aparición también son de frecuencia 1 y entropía 0."
   ]
  },
  {
   "cell_type": "code",
   "execution_count": 85,
   "metadata": {
    "collapsed": true
   },
   "outputs": [],
   "source": [
    "c_darwin_unpunct_nonumber = Counter([word_darwin for word_darwin in words_darwin_unpunct if not word_darwin.isnumeric()])"
   ]
  },
  {
   "cell_type": "code",
   "execution_count": 86,
   "metadata": {
    "collapsed": true
   },
   "outputs": [],
   "source": [
    "words_darwin_selected_nonumber = c_darwin_unpunct_nonumber.most_common()[0:50] + c_darwin_unpunct_nonumber.most_common()[-50:]"
   ]
  },
  {
   "cell_type": "code",
   "execution_count": 87,
   "metadata": {
    "collapsed": true
   },
   "outputs": [],
   "source": [
    "words_darwin_selected_nonumber_entropy = [get_word_entropy(words_darwin_unpunct, word_darwin_selected_nonumber[0]) for word_darwin_selected_nonumber in words_darwin_selected_nonumber]"
   ]
  },
  {
   "cell_type": "markdown",
   "metadata": {},
   "source": [
    "Calculamos la entropía para todas las palabras y su frecuencia."
   ]
  },
  {
   "cell_type": "code",
   "execution_count": 88,
   "metadata": {
    "collapsed": true
   },
   "outputs": [],
   "source": [
    "if not os.path.isfile('gutenberg/words_darwin_all_entropy.pkl'):\n",
    "    words_darwin_all_entropy = [get_word_entropy(words_darwin_unpunct, word_darwin_all[0]) for word_darwin_all in c_darwin_unpunct.most_common()]\n",
    "    with open('gutenberg/words_darwin_all_entropy.pkl', 'wb') as f_entropy:\n",
    "        pickle.dump(words_darwin_all_entropy, f_entropy)\n",
    "else:\n",
    "    with open('gutenberg/words_darwin_all_entropy.pkl', 'rb') as f_entropy:\n",
    "        words_darwin_all_entropy = pickle.load(f_entropy)"
   ]
  },
  {
   "cell_type": "code",
   "execution_count": 89,
   "metadata": {
    "collapsed": true
   },
   "outputs": [],
   "source": [
    "if not os.path.isfile('gutenberg/words_darwin_all_frequency.pkl'):\n",
    "    words_darwin_all_frequency = [word_darwin_all[1] for word_darwin_all in c_darwin_unpunct.most_common()]\n",
    "    with open('gutenberg/words_darwin_all_frequency.pkl', 'wb') as f_freq:\n",
    "        pickle.dump(words_darwin_all_frequency, f_freq)\n",
    "else:\n",
    "    with open('gutenberg/words_darwin_all_frequency.pkl', 'rb') as f_freq:\n",
    "        words_darwin_all_frequency = pickle.load(f_freq)"
   ]
  },
  {
   "cell_type": "code",
   "execution_count": 90,
   "metadata": {},
   "outputs": [
    {
     "data": {
      "image/png": "[encoded data removed]",
      "text/plain": [
       "<matplotlib.figure.Figure at 0x26d09d2cf60>"
      ]
     },
     "metadata": {},
     "output_type": "display_data"
    }
   ],
   "source": [
    "plt.figure(figsize(10,5))\n",
    "scatter(words_darwin_all_frequency, words_darwin_all_entropy)\n",
    "plt.xscale('log')\n",
    "plt.grid(True)\n",
    "ylabel('Entropía', size=18)\n",
    "xlabel('Frecuencia', size=18)\n",
    "plt.show()"
   ]
  },
  {
   "cell_type": "markdown",
   "metadata": {},
   "source": [
    "Donde se obtiene un resultado similar al del paper."
   ]
  },
  {
   "cell_type": "markdown",
   "metadata": {},
   "source": [
    "<a name=\"2.4\"></a>\n",
    "### 2.4. Randomización"
   ]
  },
  {
   "cell_type": "markdown",
   "metadata": {},
   "source": [
    "Por último se puede calcular estas métricas pero randimizando la posición de las palabras en el texto."
   ]
  },
  {
   "cell_type": "code",
   "execution_count": 91,
   "metadata": {
    "collapsed": true
   },
   "outputs": [],
   "source": [
    "words_darwin_unpunct_random = words_darwin_unpunct.copy()\n",
    "np.random.shuffle(words_darwin_unpunct_random)"
   ]
  },
  {
   "cell_type": "code",
   "execution_count": 92,
   "metadata": {
    "collapsed": true,
    "scrolled": true
   },
   "outputs": [],
   "source": [
    "words_darwin_selected_entropy_random = [get_word_entropy(words_darwin_unpunct_random, word_darwin_selected[0]) for word_darwin_selected in words_darwin_selected]"
   ]
  },
  {
   "cell_type": "code",
   "execution_count": 94,
   "metadata": {},
   "outputs": [
    {
     "data": {
      "image/png": "[encoded data removed]",
      "text/plain": [
       "<matplotlib.figure.Figure at 0x26d0b490b00>"
      ]
     },
     "metadata": {},
     "output_type": "display_data"
    }
   ],
   "source": [
    "plt.figure(figsize(15,5))\n",
    "plt.plot(range(50), words_darwin_selected_entropy_random[:50], label='Más comunes')\n",
    "plt.plot(range(50, 100), words_darwin_selected_entropy_random[50:], label='Menos comunes', color='green')\n",
    "plt.ylabel('Entropía', size=18)\n",
    "plt.xlabel('Indice palabra seleccionada', size=18)\n",
    "plt.legend()\n",
    "plt.title('Random')\n",
    "plt.show()"
   ]
  },
  {
   "cell_type": "markdown",
   "metadata": {},
   "source": [
    "Observamos que las diferencias significativas de los valores de entropía se remarcan. Esto muestra una relación clara entre la frecuencia y la entropía. Sin embargo, se observa que los valores de entropía para el texto randomizado muestran menos fluctuaciones. "
   ]
  },
  {
   "cell_type": "markdown",
   "metadata": {},
   "source": [
    "Y calculamos la entropía para todas las palabras en el texto randomizado"
   ]
  },
  {
   "cell_type": "code",
   "execution_count": 95,
   "metadata": {
    "collapsed": true
   },
   "outputs": [],
   "source": [
    "if not os.path.isfile('gutenberg/words_darwin_all_entropy_random.pkl'):\n",
    "    words_darwin_all_entropy_random = [get_word_entropy(words_darwin_unpunct_random, word_darwin_all[0]) for word_darwin_all in c_darwin_unpunct.most_common()]\n",
    "    with open('gutenberg/words_darwin_all_entropy_random.pkl', 'wb') as f_entropy_random:\n",
    "        pickle.dump(words_darwin_all_entropy_random, f_entropy_random)\n",
    "else:\n",
    "    with open('gutenberg/words_darwin_all_entropy_random.pkl', 'rb') as f_entropy_random:\n",
    "        words_darwin_all_entropy_random = pickle.load(f_entropy_random)"
   ]
  },
  {
   "cell_type": "code",
   "execution_count": 96,
   "metadata": {},
   "outputs": [
    {
     "data": {
      "image/png": "[encoded data removed]",
      "text/plain": [
       "<matplotlib.figure.Figure at 0x26d0b5e92e8>"
      ]
     },
     "metadata": {},
     "output_type": "display_data"
    }
   ],
   "source": [
    "plt.figure(figsize(10,5))\n",
    "ax1 = scatter(words_darwin_all_frequency, words_darwin_all_entropy, color='0')\n",
    "ax2 = scatter(words_darwin_all_frequency, words_darwin_all_entropy_random, color='0.5')\n",
    "plt.xscale('log')\n",
    "plt.grid(True)\n",
    "ylabel('Entropía', size=18)\n",
    "xlabel('Frecuencia', size=18)\n",
    "plt.legend([ax1,ax2],['Original','Random'])\n",
    "plt.show()"
   ]
  },
  {
   "cell_type": "markdown",
   "metadata": {},
   "source": [
    "Se observa que se reproducen los resultados del paper. Los valores de entropía del texto son en promedio menores a aquellos obtenidos en el texto randomizado como consecuencia de la distribución de las palabras en el texto asociada a su información semántica. Además, las fluctuaciones de los valores de entropía son mayores en el texto que en el texto randomizado, lo que muestra que las variaciones en la distribución de las palabras no es estocástica si no que está impuesta por condiciones linguísticas."
   ]
  },
  {
   "cell_type": "markdown",
   "metadata": {},
   "source": [
    "<a name=\"embeddings\"></a>\n",
    "## 3. Word embeddings, distancia semántica y Word-Net "
   ]
  },
  {
   "cell_type": "code",
   "execution_count": 1,
   "metadata": {
    "collapsed": true
   },
   "outputs": [],
   "source": [
    "import gensim\n",
    "import itertools\n",
    "import re\n",
    "import nltk\n",
    "import os\n",
    "import pickle\n",
    "import numpy as np"
   ]
  },
  {
   "cell_type": "markdown",
   "metadata": {},
   "source": [
    "### 3.1 LSA y Word2Vec aplicados en WordSim353\n",
    "\n",
    "El objetivo de esta sección es estudiar la similaridad, a través de la distancia semántica, entre palabras mediante la comparación del rendimiento de los modelos LSA y word2vec utilizando el test WordSim353. Para llevarlo a cabo, se entranaron los clasificadores correspondientes a cada modelo y una vez obtenida sus métricas características, se confeccionaron dos histogramas que muestran la diferencia entre las distribuciones de las distancias para el test WordSim353 y para cada modelo.\n"
   ]
  },
  {
   "cell_type": "markdown",
   "metadata": {},
   "source": [
    "#### Parseamos TASA"
   ]
  },
  {
   "cell_type": "code",
   "execution_count": 4,
   "metadata": {},
   "outputs": [
    {
     "ename": "FileNotFoundError",
     "evalue": "[Errno 2] No such file or directory: 'tasa'",
     "output_type": "error",
     "traceback": [
      "\u001b[0;31m---------------------------------------------------------------------------\u001b[0m",
      "\u001b[0;31mFileNotFoundError\u001b[0m                         Traceback (most recent call last)",
      "\u001b[0;32m<ipython-input-4-9c7150da30d0>\u001b[0m in \u001b[0;36m<module>\u001b[0;34m()\u001b[0m\n\u001b[0;32m----> 1\u001b[0;31m \u001b[0;32mwith\u001b[0m \u001b[0mopen\u001b[0m\u001b[0;34m(\u001b[0m\u001b[0;34m'tasa'\u001b[0m\u001b[0;34m,\u001b[0m \u001b[0;34m'r'\u001b[0m\u001b[0;34m)\u001b[0m \u001b[0;32mas\u001b[0m \u001b[0mf\u001b[0m\u001b[0;34m:\u001b[0m\u001b[0;34m\u001b[0m\u001b[0m\n\u001b[0m\u001b[1;32m      2\u001b[0m     \u001b[0mall_tasa\u001b[0m \u001b[0;34m=\u001b[0m \u001b[0mf\u001b[0m\u001b[0;34m.\u001b[0m\u001b[0mread\u001b[0m\u001b[0;34m(\u001b[0m\u001b[0;34m)\u001b[0m\u001b[0;34m\u001b[0m\u001b[0m\n",
      "\u001b[0;31mFileNotFoundError\u001b[0m: [Errno 2] No such file or directory: 'tasa'"
     ]
    }
   ],
   "source": [
    "with open('tasa', 'r') as f:\n",
    "    all_tasa = f.read()"
   ]
  },
  {
   "cell_type": "code",
   "execution_count": 158,
   "metadata": {
    "collapsed": true
   },
   "outputs": [],
   "source": [
    "tasa_documents = [doc for doc in all_tasa.split('\\n\\n') if len(doc) > 0]"
   ]
  },
  {
   "cell_type": "code",
   "execution_count": 159,
   "metadata": {
    "collapsed": true
   },
   "outputs": [],
   "source": [
    "def get_tas_doc_id(tasa_doc):\n",
    "    first_line = tasa_doc.split('\\n', 2)[0]\n",
    "    doc_id = re.match('\\[([a-zA-Z0-9\\.]*)\\]', first_line).groups()[0]\n",
    "    return doc_id"
   ]
  },
  {
   "cell_type": "code",
   "execution_count": 160,
   "metadata": {
    "collapsed": true
   },
   "outputs": [],
   "source": [
    "import string\n",
    "punc_translator = str.maketrans(dict(zip(string.punctuation, [None] * len(string.punctuation))))\n",
    "def tokenize(string):\n",
    "    'Returns list of tokens'\n",
    "    #words = string.split(' ')  # [Palabra]\n",
    "    retoken = [ t.lower()\n",
    "        for t in nltk.word_tokenize(string)\n",
    "    ] \n",
    "    no_punt = [ t\n",
    "        for t in retoken\n",
    "        if t.translate(punc_translator) != ''\n",
    "    ]\n",
    "    \n",
    "    return no_punt "
   ]
  },
  {
   "cell_type": "code",
   "execution_count": 161,
   "metadata": {
    "collapsed": true
   },
   "outputs": [],
   "source": [
    "def get_tasa_doc_tokens(tasa_doc):\n",
    "    text = ' '.join([\n",
    "            l.strip().replace('\\n', '') \n",
    "            for l in tasa_doc.split('[S]')[1:]\n",
    "        ])\n",
    "    return tokenize(text)"
   ]
  },
  {
   "cell_type": "code",
   "execution_count": 162,
   "metadata": {
    "collapsed": true
   },
   "outputs": [],
   "source": [
    "PICKLES_DIR = 'pickles'\n",
    "EJ3_TASA_TOKENS_PATH = os.path.join(PICKLES_DIR, 'tasa_tokens.pkl')\n",
    "if not os.path.isdir(PICKLES_DIR):\n",
    "    os.mkdir(PICKLES_DIR)\n",
    "\n",
    "if not os.path.isfile(EJ3_TASA_TOKENS_PATH):\n",
    "    tasa_tokens = []\n",
    "    for tasa_doc in tasa_documents:\n",
    "        tasa_tokens.append(\n",
    "            (get_tas_doc_id(tasa_doc), get_tasa_doc_tokens(tasa_doc))\n",
    "        )\n",
    "    tasa_tokens = dict(tasa_tokens)\n",
    "    \n",
    "    with open(EJ3_TASA_TOKENS_PATH, 'wb') as f:\n",
    "        pickle.dump(tasa_tokens, f)\n",
    "else:\n",
    "    with open(EJ3_TASA_TOKENS_PATH, 'rb') as f:\n",
    "        tasa_tokens = pickle.load(f)"
   ]
  },
  {
   "cell_type": "markdown",
   "metadata": {},
   "source": [
    "#### Entrenamos LSI (LSA Indexing)"
   ]
  },
  {
   "cell_type": "code",
   "execution_count": 163,
   "metadata": {
    "collapsed": true
   },
   "outputs": [],
   "source": [
    "TASA_LSI_PATH = os.path.join(PICKLES_DIR, 'tasa_lsi.lsi')"
   ]
  },
  {
   "cell_type": "code",
   "execution_count": 172,
   "metadata": {
    "collapsed": true
   },
   "outputs": [],
   "source": [
    "if not os.path.isfile(TASA_LSI_PATH):\n",
    "    tasa_dict = gensim.corpora.Dictionary(tasa_tokens.values())\n",
    "    \n",
    "    tasa_corpus = { \n",
    "        doc_id : tasa_dict.doc2bow(tokens)\n",
    "        for doc_id, tokens in tasa_tokens.items()\n",
    "    }\n",
    "    \n",
    "    tasa_lsi = gensim.models.lsimodel.LsiModel(corpus=tasa_corpus.values(), \n",
    "                                               id2word=tasa_dict, \n",
    "                                               num_topics=300)\n",
    "    \n",
    "    tasa_lsi.save(TASA_LSI_PATH)\n",
    "else:\n",
    "    tasa_dict = gensim.corpora.Dictionary(tasa_tokens.values())\n",
    "    tasa_lsi = gensim.models.LsiModel.load(TASA_LSI_PATH)"
   ]
  },
  {
   "cell_type": "markdown",
   "metadata": {},
   "source": [
    "#### Entrenamos Word2Vec"
   ]
  },
  {
   "cell_type": "code",
   "execution_count": 184,
   "metadata": {
    "collapsed": true
   },
   "outputs": [],
   "source": [
    "TASA_WV_PATH = os.path.join(PICKLES_DIR, 'tasa_wv.wv')"
   ]
  },
  {
   "cell_type": "code",
   "execution_count": 185,
   "metadata": {
    "collapsed": true
   },
   "outputs": [],
   "source": [
    "if not os.path.isdir(TASA_LSI_PATH):\n",
    "    tasa_wv = gensim.models.Word2Vec(list(tasa_tokens.values()), workers=4)\n",
    "    tasa_wv.save(TASA_WV_PATH)\n",
    "else:\n",
    "    tasa_wv = gensim.models.Word2Vec.load(TASA_WV_PATH)"
   ]
  },
  {
   "cell_type": "markdown",
   "metadata": {},
   "source": [
    "#### Parseamos WordSim"
   ]
  },
  {
   "cell_type": "code",
   "execution_count": 167,
   "metadata": {
    "collapsed": true
   },
   "outputs": [],
   "source": [
    "import pandas as pd\n",
    "ws = pd.DataFrame.from_csv('wordsim/combined.csv', index_col=None)"
   ]
  },
  {
   "cell_type": "code",
   "execution_count": 168,
   "metadata": {
    "collapsed": true
   },
   "outputs": [],
   "source": [
    "ws.columns = ['w1', 'w2', 'human_dist']"
   ]
  },
  {
   "cell_type": "code",
   "execution_count": 169,
   "metadata": {},
   "outputs": [
    {
     "data": {
      "text/html": [
       "<div>\n",
       "<style>\n",
       "    .dataframe thead tr:only-child th {\n",
       "        text-align: right;\n",
       "    }\n",
       "\n",
       "    .dataframe thead th {\n",
       "        text-align: left;\n",
       "    }\n",
       "\n",
       "    .dataframe tbody tr th {\n",
       "        vertical-align: top;\n",
       "    }\n",
       "</style>\n",
       "<table border=\"1\" class=\"dataframe\">\n",
       "  <thead>\n",
       "    <tr style=\"text-align: right;\">\n",
       "      <th></th>\n",
       "      <th>w1</th>\n",
       "      <th>w2</th>\n",
       "      <th>human_dist</th>\n",
       "    </tr>\n",
       "  </thead>\n",
       "  <tbody>\n",
       "    <tr>\n",
       "      <th>0</th>\n",
       "      <td>love</td>\n",
       "      <td>sex</td>\n",
       "      <td>6.77</td>\n",
       "    </tr>\n",
       "    <tr>\n",
       "      <th>1</th>\n",
       "      <td>tiger</td>\n",
       "      <td>cat</td>\n",
       "      <td>7.35</td>\n",
       "    </tr>\n",
       "    <tr>\n",
       "      <th>2</th>\n",
       "      <td>tiger</td>\n",
       "      <td>tiger</td>\n",
       "      <td>10.00</td>\n",
       "    </tr>\n",
       "    <tr>\n",
       "      <th>3</th>\n",
       "      <td>book</td>\n",
       "      <td>paper</td>\n",
       "      <td>7.46</td>\n",
       "    </tr>\n",
       "    <tr>\n",
       "      <th>4</th>\n",
       "      <td>computer</td>\n",
       "      <td>keyboard</td>\n",
       "      <td>7.62</td>\n",
       "    </tr>\n",
       "  </tbody>\n",
       "</table>\n",
       "</div>"
      ],
      "text/plain": [
       "         w1        w2  human_dist\n",
       "0      love       sex        6.77\n",
       "1     tiger       cat        7.35\n",
       "2     tiger     tiger       10.00\n",
       "3      book     paper        7.46\n",
       "4  computer  keyboard        7.62"
      ]
     },
     "execution_count": 169,
     "metadata": {},
     "output_type": "execute_result"
    }
   ],
   "source": [
    "ws.head()"
   ]
  },
  {
   "cell_type": "markdown",
   "metadata": {},
   "source": [
    "Definimos funciones para calcular la distancia entre palabras con ambos modelos (LSA, Word2Vec)"
   ]
  },
  {
   "cell_type": "code",
   "execution_count": 170,
   "metadata": {
    "collapsed": true
   },
   "outputs": [],
   "source": [
    "from scipy.spatial.distance import cosine"
   ]
  },
  {
   "cell_type": "code",
   "execution_count": 173,
   "metadata": {
    "collapsed": true
   },
   "outputs": [],
   "source": [
    "def lsa_dist(word_1, word_2, tasa_dict=tasa_dict, tasa_lsi=tasa_lsi):\n",
    "    w_id_1 = tasa_dict.doc2bow([word_1])\n",
    "    w_id_2 = tasa_dict.doc2bow([word_2])\n",
    "    if len(w_id_1) == 0 or len(w_id_2) == 0:\n",
    "        return None\n",
    "    wv1 = tasa_lsi[w_id_1]\n",
    "    wv2 = tasa_lsi[w_id_2]\n",
    "    csc1 = gensim.matutils.corpus2dense([wv1], 300).reshape(-1)\n",
    "    csc2 = gensim.matutils.corpus2dense([wv2], 300).reshape(-1)\n",
    "    return ((1 + (1 - cosine(csc1, csc2))) / 2)"
   ]
  },
  {
   "cell_type": "code",
   "execution_count": 189,
   "metadata": {
    "collapsed": true
   },
   "outputs": [],
   "source": [
    "def w2v_dist(word_1, word_2):\n",
    "    try:\n",
    "        return tasa_wv.similarity(word_1, word_2)\n",
    "    except KeyError:\n",
    "        return None"
   ]
  },
  {
   "cell_type": "code",
   "execution_count": 190,
   "metadata": {
    "collapsed": true
   },
   "outputs": [],
   "source": [
    "ws['lsa'] = [lsa_dist(r[1][0], r[1][1]) for r in ws[['w1', 'w2']].iterrows()]"
   ]
  },
  {
   "cell_type": "code",
   "execution_count": 191,
   "metadata": {
    "collapsed": true
   },
   "outputs": [],
   "source": [
    "ws['w2v'] = [w2v_dist(r[1][0], r[1][1]) for r in ws[['w1', 'w2']].iterrows()]"
   ]
  },
  {
   "cell_type": "code",
   "execution_count": 193,
   "metadata": {},
   "outputs": [
    {
     "data": {
      "text/html": [
       "<div>\n",
       "<style>\n",
       "    .dataframe thead tr:only-child th {\n",
       "        text-align: right;\n",
       "    }\n",
       "\n",
       "    .dataframe thead th {\n",
       "        text-align: left;\n",
       "    }\n",
       "\n",
       "    .dataframe tbody tr th {\n",
       "        vertical-align: top;\n",
       "    }\n",
       "</style>\n",
       "<table border=\"1\" class=\"dataframe\">\n",
       "  <thead>\n",
       "    <tr style=\"text-align: right;\">\n",
       "      <th></th>\n",
       "      <th>w1</th>\n",
       "      <th>w2</th>\n",
       "      <th>human_dist</th>\n",
       "      <th>lsa</th>\n",
       "      <th>w2v</th>\n",
       "    </tr>\n",
       "  </thead>\n",
       "  <tbody>\n",
       "    <tr>\n",
       "      <th>0</th>\n",
       "      <td>love</td>\n",
       "      <td>sex</td>\n",
       "      <td>6.77</td>\n",
       "      <td>0.439951</td>\n",
       "      <td>0.275089</td>\n",
       "    </tr>\n",
       "    <tr>\n",
       "      <th>1</th>\n",
       "      <td>tiger</td>\n",
       "      <td>cat</td>\n",
       "      <td>7.35</td>\n",
       "      <td>0.472022</td>\n",
       "      <td>0.786879</td>\n",
       "    </tr>\n",
       "    <tr>\n",
       "      <th>2</th>\n",
       "      <td>tiger</td>\n",
       "      <td>tiger</td>\n",
       "      <td>10.00</td>\n",
       "      <td>1.000000</td>\n",
       "      <td>1.000000</td>\n",
       "    </tr>\n",
       "    <tr>\n",
       "      <th>3</th>\n",
       "      <td>book</td>\n",
       "      <td>paper</td>\n",
       "      <td>7.46</td>\n",
       "      <td>0.502123</td>\n",
       "      <td>0.553835</td>\n",
       "    </tr>\n",
       "    <tr>\n",
       "      <th>4</th>\n",
       "      <td>computer</td>\n",
       "      <td>keyboard</td>\n",
       "      <td>7.62</td>\n",
       "      <td>0.502111</td>\n",
       "      <td>0.750839</td>\n",
       "    </tr>\n",
       "  </tbody>\n",
       "</table>\n",
       "</div>"
      ],
      "text/plain": [
       "         w1        w2  human_dist       lsa       w2v\n",
       "0      love       sex        6.77  0.439951  0.275089\n",
       "1     tiger       cat        7.35  0.472022  0.786879\n",
       "2     tiger     tiger       10.00  1.000000  1.000000\n",
       "3      book     paper        7.46  0.502123  0.553835\n",
       "4  computer  keyboard        7.62  0.502111  0.750839"
      ]
     },
     "execution_count": 193,
     "metadata": {},
     "output_type": "execute_result"
    }
   ],
   "source": [
    "ws.head()"
   ]
  },
  {
   "cell_type": "markdown",
   "metadata": {},
   "source": [
    "Se tuvo en cuenta que, en ciertos casos los modelos aplicados podrían no conocer alguna de las palabras intervinientes, por lo que no es posible obtener una medida de similaridad. para el modelo LSA se obtuvieron 21 de estos casos mientras que para word2vec 29."
   ]
  },
  {
   "cell_type": "code",
   "execution_count": 210,
   "metadata": {},
   "outputs": [
    {
     "name": "stdout",
     "output_type": "stream",
     "text": [
      "Cantidad de nulls en lsa: 21\n",
      "Cantidad de nulls en w2v: 29\n",
      "Cantidad de nulls de w2v que no están en lsa: 8\n"
     ]
    }
   ],
   "source": [
    "print('Cantidad de nulls en lsa:', sum(ws['lsa'].isnull()))\n",
    "print('Cantidad de nulls en w2v:', sum(ws['w2v'].isnull()))\n",
    "print('Cantidad de nulls de w2v que no están en lsa:', sum(ws['lsa'].isnull() ^ ws['w2v'].isnull()))"
   ]
  },
  {
   "cell_type": "markdown",
   "metadata": {},
   "source": [
    "A continuación se presentan la diferencia en las distribuciones obtenidas entre WordSim353 y los modelos empleados."
   ]
  },
  {
   "cell_type": "code",
   "execution_count": 240,
   "metadata": {},
   "outputs": [
    {
     "data": {
      "text/plain": [
       "<matplotlib.text.Text at 0x7f38b5a08358>"
      ]
     },
     "execution_count": 240,
     "metadata": {},
     "output_type": "execute_result"
    },
    {
     "data": {
      "image/png": "[encoded data removed]",
      "text/plain": [
       "<matplotlib.figure.Figure at 0x7f38b5b5ada0>"
      ]
     },
     "metadata": {},
     "output_type": "display_data"
    }
   ],
   "source": [
    "fig, axs = subplots(2, 1, sharex=True)\n",
    "sca(axs[0])\n",
    "lsa_error = (ws['lsa'] - (ws['human_dist'] / 10))[ws['lsa'].notnull()]\n",
    "hist(lsa_error)\n",
    "xlabel('Error lsa vs wordsim')\n",
    "ylabel('Frecuencia')\n",
    "vlines(mean(lsa_error), ymin=0, ymax=65, color='darkred')\n",
    "text(mean(lsa_error), 65, mean(lsa_error))\n",
    "\n",
    "sca(axs[1])\n",
    "w2v_error = (ws['w2v'] - (ws['human_dist'] / 10))[ws['w2v'].notnull()]\n",
    "hist(w2v_error)\n",
    "xlabel('Error w2v vs wordsim')\n",
    "ylabel('Frecuencia')\n",
    "vlines(mean(w2v_error), ymin=0, ymax=85, color='darkred')\n",
    "text(mean(w2v_error) + .01, 85, mean(w2v_error))"
   ]
  },
  {
   "cell_type": "markdown",
   "metadata": {},
   "source": [
    "En el primer caso se observa un rango menor de diferencias entre las distancias entre LSA y WordSim353 siendo de -0.5 a 0.5 con un valor de medio de -0.079, mientras que para el caso de word2vec las diferencias varían entre ~-0.9 y 0.5 con una media de -0.21. Esto indica que el primero de los modelos tuvo una mejor performance ya que se obtuvieron distancias más similares al test utilizado que con el modelo word2vec."
   ]
  },
  {
   "cell_type": "markdown",
   "metadata": {},
   "source": [
    "Por último se tuvieron en cuenta también las medidas definidas en WordNet y se las comparó con WordSim353."
   ]
  },
  {
   "cell_type": "code",
   "execution_count": 254,
   "metadata": {
    "collapsed": true
   },
   "outputs": [],
   "source": [
    "def wordnet_dist(word_1, word_2):\n",
    "    syn1 = nltk.corpus.wordnet.synsets(word_1)\n",
    "    syn2 = nltk.corpus.wordnet.synsets(word_2)\n",
    "    if (len(syn1) == 0 or len(syn2) == 0):\n",
    "        return None\n",
    "    return syn1[0].path_similarity(syn2[0]) "
   ]
  },
  {
   "cell_type": "code",
   "execution_count": 255,
   "metadata": {
    "collapsed": true
   },
   "outputs": [],
   "source": [
    "ws['wn'] = [wordnet_dist(r[1][0], r[1][1]) for r in ws[['w1', 'w2']].iterrows()]"
   ]
  },
  {
   "cell_type": "code",
   "execution_count": 257,
   "metadata": {},
   "outputs": [
    {
     "name": "stdout",
     "output_type": "stream",
     "text": [
      "Cantidad de nulls en wn: 5\n"
     ]
    }
   ],
   "source": [
    "print('Cantidad de nulls en wn:', sum(ws['wn'].isnull()))"
   ]
  },
  {
   "cell_type": "code",
   "execution_count": 258,
   "metadata": {},
   "outputs": [
    {
     "data": {
      "text/plain": [
       "<matplotlib.text.Text at 0x7f38bc43a0f0>"
      ]
     },
     "execution_count": 258,
     "metadata": {},
     "output_type": "execute_result"
    },
    {
     "data": {
      "image/png": "[encoded data removed]",
      "text/plain": [
       "<matplotlib.figure.Figure at 0x7f38bcbbfb70>"
      ]
     },
     "metadata": {},
     "output_type": "display_data"
    }
   ],
   "source": [
    "wn_error = (ws['wn'] - (ws['human_dist'] / 10))[ws['wn'].notnull()]\n",
    "hist(wn_error)\n",
    "xlabel('Error wn vs wordsim')\n",
    "ylabel('Frecuencia')\n",
    "vlines(mean(wn_error), ymin=0, ymax=85, color='darkred')\n",
    "text(mean(wn_error) + .01, 85, mean(wn_error))"
   ]
  },
  {
   "cell_type": "markdown",
   "metadata": {},
   "source": [
    "En la figura se observa, al igual que en los casos anteriores, el histograma de las diferencias de las distribuciones de las medidas de WordSim353 y WordNet. Dicha métrica puede variar entre ~-0.8 y ~0.1 teniendo un valor medio de -0.44.\n",
    "\n",
    "Teniendo en cuenta las medias de los tres histogramas, se concluye que el modelo LSA es el que mejor rendimiento obtuvo respecto de test WordSim353."
   ]
  },
  {
   "cell_type": "code",
   "execution_count": null,
   "metadata": {
    "collapsed": true
   },
   "outputs": [],
   "source": []
  }
 ],
 "metadata": {
  "anaconda-cloud": {},
  "kernelspec": {
   "display_name": "Python 3",
   "language": "python",
   "name": "python3"
  },
  "language_info": {
   "codemirror_mode": {
    "name": "ipython",
    "version": 3
   },
   "file_extension": ".py",
   "mimetype": "text/x-python",
   "name": "python",
   "nbconvert_exporter": "python",
   "pygments_lexer": "ipython3",
   "version": "3.6.2"
  }
 },
 "nbformat": 4,
 "nbformat_minor": 1
}

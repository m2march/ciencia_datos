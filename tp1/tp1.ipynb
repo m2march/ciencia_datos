{
 "cells": [
  {
   "cell_type": "markdown",
   "metadata": {},
   "source": [
    "# TP1: Análisis Básico\n",
    "\n",
    "Doce atletas entrenan para una competencia de 100m llanos. El entrenamiento se realiza aún en condiciones climáticas adversas. El archivo `tiempos.txt` contiene los tiempos en segundos de cada atleta para un entrenamiento en un día soleado, en un día nublado y en un día de lluvia intensa."
   ]
  },
  {
   "cell_type": "markdown",
   "metadata": {},
   "source": [
    "Utilizando el lenguaje Python, procedimos a analizar los datos. Como primer paso, importamos los paquetes a utilizar."
   ]
  },
  {
   "cell_type": "code",
   "execution_count": 1,
   "metadata": {
    "collapsed": true
   },
   "outputs": [],
   "source": [
    "%matplotlib inline"
   ]
  },
  {
   "cell_type": "code",
   "execution_count": 2,
   "metadata": {
    "collapsed": true
   },
   "outputs": [],
   "source": [
    "from __future__ import print_function"
   ]
  },
  {
   "cell_type": "code",
   "execution_count": 3,
   "metadata": {
    "collapsed": true
   },
   "outputs": [],
   "source": [
    "import numpy as np\n",
    "import scipy as sp\n",
    "import matplotlib.pyplot as plt\n",
    "import pandas as pd\n",
    "import seaborn as sns"
   ]
  },
  {
   "cell_type": "markdown",
   "metadata": {},
   "source": [
    "## 1. Datos\n",
    "\n",
    "Cargamos los datos y los visualizamos."
   ]
  },
  {
   "cell_type": "code",
   "execution_count": 4,
   "metadata": {
    "collapsed": true
   },
   "outputs": [],
   "source": [
    "# Atleta tiempo_sol tiempo_nublado tiempo_lluvia\n",
    "datos = np.loadtxt('tiempos.txt', skiprows=1)"
   ]
  },
  {
   "cell_type": "code",
   "execution_count": 5,
   "metadata": {},
   "outputs": [
    {
     "data": {
      "text/html": [
       "<div>\n",
       "<table border=\"1\" class=\"dataframe\">\n",
       "  <thead>\n",
       "    <tr style=\"text-align: right;\">\n",
       "      <th></th>\n",
       "      <th>1.0</th>\n",
       "      <th>2.0</th>\n",
       "      <th>3.0</th>\n",
       "      <th>4.0</th>\n",
       "      <th>5.0</th>\n",
       "      <th>6.0</th>\n",
       "      <th>7.0</th>\n",
       "      <th>8.0</th>\n",
       "      <th>9.0</th>\n",
       "      <th>10.0</th>\n",
       "      <th>11.0</th>\n",
       "      <th>12.0</th>\n",
       "    </tr>\n",
       "  </thead>\n",
       "  <tbody>\n",
       "    <tr>\n",
       "      <th>sol</th>\n",
       "      <td>11.1</td>\n",
       "      <td>13.0</td>\n",
       "      <td>16.1</td>\n",
       "      <td>14.5</td>\n",
       "      <td>12.0</td>\n",
       "      <td>11.0</td>\n",
       "      <td>15.1</td>\n",
       "      <td>14.4</td>\n",
       "      <td>16.1</td>\n",
       "      <td>17.0</td>\n",
       "      <td>12.2</td>\n",
       "      <td>14.4</td>\n",
       "    </tr>\n",
       "    <tr>\n",
       "      <th>nublado</th>\n",
       "      <td>11.3</td>\n",
       "      <td>12.8</td>\n",
       "      <td>16.0</td>\n",
       "      <td>14.1</td>\n",
       "      <td>12.5</td>\n",
       "      <td>11.6</td>\n",
       "      <td>14.6</td>\n",
       "      <td>14.2</td>\n",
       "      <td>16.1</td>\n",
       "      <td>16.7</td>\n",
       "      <td>12.4</td>\n",
       "      <td>14.1</td>\n",
       "    </tr>\n",
       "    <tr>\n",
       "      <th>lluvia</th>\n",
       "      <td>19.4</td>\n",
       "      <td>18.2</td>\n",
       "      <td>19.0</td>\n",
       "      <td>18.9</td>\n",
       "      <td>19.1</td>\n",
       "      <td>18.7</td>\n",
       "      <td>189.0</td>\n",
       "      <td>19.9</td>\n",
       "      <td>18.5</td>\n",
       "      <td>19.2</td>\n",
       "      <td>18.8</td>\n",
       "      <td>19.2</td>\n",
       "    </tr>\n",
       "  </tbody>\n",
       "</table>\n",
       "</div>"
      ],
      "text/plain": [
       "         1.0   2.0   3.0   4.0   5.0   6.0    7.0   8.0   9.0   10.0  11.0  \\\n",
       "sol      11.1  13.0  16.1  14.5  12.0  11.0   15.1  14.4  16.1  17.0  12.2   \n",
       "nublado  11.3  12.8  16.0  14.1  12.5  11.6   14.6  14.2  16.1  16.7  12.4   \n",
       "lluvia   19.4  18.2  19.0  18.9  19.1  18.7  189.0  19.9  18.5  19.2  18.8   \n",
       "\n",
       "         12.0  \n",
       "sol      14.4  \n",
       "nublado  14.1  \n",
       "lluvia   19.2  "
      ]
     },
     "execution_count": 5,
     "metadata": {},
     "output_type": "execute_result"
    }
   ],
   "source": [
    "pd.DataFrame(datos[:,1:], columns=['sol', 'nublado', 'lluvia'], index=datos[:,0]).T"
   ]
  },
  {
   "cell_type": "code",
   "execution_count": 6,
   "metadata": {},
   "outputs": [
    {
     "data": {
      "image/png": "[encoded data removed]",
      "text/plain": [
       "<matplotlib.figure.Figure at 0x7f4f9c9ffd50>"
      ]
     },
     "metadata": {},
     "output_type": "display_data"
    }
   ],
   "source": [
    "plt.plot(datos[:,0], datos[:,1], '.', label='sol')\n",
    "plt.plot(datos[:,0], datos[:,2], '.', label='nublado')\n",
    "plt.plot(datos[:,0], datos[:,3], '.', label='lluvia')\n",
    "plt.xlabel('Atleta')\n",
    "plt.ylabel('Tiempo (seg)')\n",
    "plt.legend()\n",
    "plt.show()"
   ]
  },
  {
   "cell_type": "markdown",
   "metadata": {},
   "source": [
    "En lluvia tenemos un outlier. Vemos que parecería ser porque faltó el punto decimal. Lo agregamos."
   ]
  },
  {
   "cell_type": "code",
   "execution_count": 7,
   "metadata": {
    "collapsed": true
   },
   "outputs": [],
   "source": [
    "datos[6, 3] = datos[6, 3] / 10."
   ]
  },
  {
   "cell_type": "code",
   "execution_count": 8,
   "metadata": {
    "collapsed": true
   },
   "outputs": [],
   "source": [
    "sol, nublado, lluvia = datos[:,1], datos[:, 2], datos[:, 3]"
   ]
  },
  {
   "cell_type": "code",
   "execution_count": 9,
   "metadata": {},
   "outputs": [
    {
     "data": {
      "text/plain": [
       "<matplotlib.legend.Legend at 0x7f4f9a22f950>"
      ]
     },
     "execution_count": 9,
     "metadata": {},
     "output_type": "execute_result"
    },
    {
     "data": {
      "image/png": "[encoded data removed]",
      "text/plain": [
       "<matplotlib.figure.Figure at 0x7f4fd9614690>"
      ]
     },
     "metadata": {},
     "output_type": "display_data"
    }
   ],
   "source": [
    "fig, axs = plt.subplots(1, 2, figsize=(14, 6))\n",
    "plt.sca(axs[0])\n",
    "plt.plot(datos[:,0], datos[:,1], '.', label='sol')\n",
    "plt.plot(datos[:,0], datos[:,2], '.', label='nublado')\n",
    "plt.plot(datos[:,0], datos[:,3], '.', label='lluvia')\n",
    "plt.xlabel('Atleta')\n",
    "plt.ylabel('Tiempo (seg)')\n",
    "plt.title('Datos entrenamiento')\n",
    "plt.legend()\n",
    "\n",
    "plt.sca(axs[1])\n",
    "plt.hist(sol, alpha=0.5, label='sol')\n",
    "plt.hist(nublado, alpha=0.5, label='nublado')\n",
    "plt.hist(lluvia, alpha=0.5, label='lluvia')\n",
    "plt.title('Histograma tiempos')\n",
    "plt.xlabel('Tiempos (seg)')\n",
    "plt.ylabel('Frecuencia')\n",
    "plt.legend()"
   ]
  },
  {
   "cell_type": "markdown",
   "metadata": {},
   "source": [
    "En una primera inspección se observa que los datos correspondientes a los días soleados y nublados se comportan de manera similar. No parecería que el tiempo de los atletas en días nublados sea más lento que en soleados. Si se ve que en días de lluviosos los tiempos son más largos. También se ve que en días de lluvia hay menos varianza en el tiempo de los atletas."
   ]
  },
  {
   "cell_type": "markdown",
   "metadata": {},
   "source": [
    "## 2. Tests"
   ]
  },
  {
   "cell_type": "markdown",
   "metadata": {},
   "source": [
    "Aplicamos distintos test sobre los datos para evaluar diferentes hipótesis sobre los datos."
   ]
  },
  {
   "cell_type": "markdown",
   "metadata": {},
   "source": [
    "### 2.1. Los atletas son más lentos en días de lluvia que en días soleados.\n",
    "\n",
    "Este enunciado puede analizarse desde varias perspectivas. Un caso sería analizar si los tiempos en día de lluvia son en promedio mayor que en los días soleados.\n",
    "\n",
    "Con esta idea podemos plantear como hipótesis nula que los tiempos de ambos conjuntos de datos (sol, lluvia) tienen el mismo promedio. Podemos evaluar esta hipótesis mediante un t-test de dos muestras. En particular, como los datos están apareados por cada atleta podemos aprovechar para hacer el t-test de muestras apareadas, que es más robusto.\n",
    "\n",
    "### Hipótesis del t-test\n",
    "\n",
    "Consideramos entonces dos variables: \n",
    "\n",
    "* $\\mathcal{X}_{sol}$: muestra de tiempos de los atletas en días soleados \n",
    "* $\\mathcal{X}_{lluvia}$: muestra de tiempos de los atletas en días de lluvia \n",
    "\n",
    "Para poder aplicar el t-test para estas dos distribuciones tenemos las siguientes hipótesis:\n",
    "\n",
    "1. $\\mathcal{X}_{sol}$ y $\\mathcal{X}_{lluvia}$ se distribuyen de forma normal. \n",
    "2. Las muestras de $\\mathcal{X}_{sol}$ y $\\mathcal{X}_{lluvia}$ son independientes cada una. \n",
    "3. Ambas distribuciones tienen igual varianza.\n",
    "4. Ambas muestras tienen la misma cantidad de datos.\n",
    "5. Para un test de muestras apareadas, es ideal observar si la diferencia en los valores apareados se distribuye normalmente.\n",
    "\n",
    "Verificamos las hipótesis."
   ]
  },
  {
   "cell_type": "markdown",
   "metadata": {},
   "source": [
    "#### Hipótesis 1\n",
    "\n",
    "Hacemos un KS test para ver si las muestras provienen de una distribución normal. Como el test evalúa las muestras contra una normal standard, es necesario estandarizar las muestras."
   ]
  },
  {
   "cell_type": "code",
   "execution_count": 10,
   "metadata": {},
   "outputs": [
    {
     "data": {
      "text/html": [
       "<div>\n",
       "<table border=\"1\" class=\"dataframe\">\n",
       "  <thead>\n",
       "    <tr style=\"text-align: right;\">\n",
       "      <th></th>\n",
       "      <th>lluvia</th>\n",
       "      <th>sol</th>\n",
       "    </tr>\n",
       "  </thead>\n",
       "  <tbody>\n",
       "    <tr>\n",
       "      <th>p</th>\n",
       "      <td>0.980328</td>\n",
       "      <td>0.814452</td>\n",
       "    </tr>\n",
       "    <tr>\n",
       "      <th>t</th>\n",
       "      <td>0.135442</td>\n",
       "      <td>0.183383</td>\n",
       "    </tr>\n",
       "  </tbody>\n",
       "</table>\n",
       "</div>"
      ],
      "text/plain": [
       "     lluvia       sol\n",
       "p  0.980328  0.814452\n",
       "t  0.135442  0.183383"
      ]
     },
     "execution_count": 10,
     "metadata": {},
     "output_type": "execute_result"
    }
   ],
   "source": [
    "t_sol, p_sol = sp.stats.kstest((sol - sol.mean())/sol.std(), 'norm')\n",
    "t_lluvia, p_lluvia = sp.stats.kstest((lluvia - lluvia.mean())/lluvia.std(), 'norm')\n",
    "pd.DataFrame({'sol':{'t': t_sol, 'p': p_sol}, 'lluvia': {'t': t_lluvia, 'p': p_lluvia}})"
   ]
  },
  {
   "cell_type": "markdown",
   "metadata": {},
   "source": [
    "En ambas distribuciones, el p-valor del test no llega a la significancia (> 0.05). Si miramos el histograma en la sección **Datos**, los tiempos en sol no parecerían ser normales. En cambio, los de lluvia podrían serlo. Sería necesario tener más muestras para cada caso. A pesar de esto, seguimos adelante con el uso del test."
   ]
  },
  {
   "cell_type": "markdown",
   "metadata": {},
   "source": [
    "#### Hipótesis 2\n",
    "\n",
    "Esto es válido por la característica de las mediciones, donde cada atleta corre independientemente de los otros."
   ]
  },
  {
   "cell_type": "markdown",
   "metadata": {},
   "source": [
    "#### Hipótesis 3\n",
    "\n",
    "Para evaluar igualdad de varianza utilizamos el test de [Levene](https://docs.scipy.org/doc/scipy/reference/generated/scipy.stats.levene.html), ya que se lo recomienda cuando no hay seguridad de normalidad de las distribuciones."
   ]
  },
  {
   "cell_type": "code",
   "execution_count": 11,
   "metadata": {},
   "outputs": [
    {
     "name": "stdout",
     "output_type": "stream",
     "text": [
      "t = 13.0840, p = 0.0015\n"
     ]
    }
   ],
   "source": [
    "var_t, var_p = sp.stats.levene(sol, lluvia)\n",
    "print('t = {:.4f}, p = {:.4f}'.format(var_t, var_p))"
   ]
  },
  {
   "cell_type": "markdown",
   "metadata": {},
   "source": [
    "Por el resultado del p-valor, debemos descartar la hipótesis nula y asumir que ambas muestras tienen distinta varianza."
   ]
  },
  {
   "cell_type": "markdown",
   "metadata": {},
   "source": [
    "#### Hipótesis 4\n",
    "\n",
    "Se cumple por los datos."
   ]
  },
  {
   "cell_type": "markdown",
   "metadata": {},
   "source": [
    "#### Hipótesis 5\n",
    "\n",
    "Evaluamos normalidad de las distancias a pares con un kstest."
   ]
  },
  {
   "cell_type": "code",
   "execution_count": 12,
   "metadata": {},
   "outputs": [
    {
     "name": "stdout",
     "output_type": "stream",
     "text": [
      "KstestResult(statistic=0.11611504165177383, pvalue=0.99695893157033921)\n"
     ]
    }
   ],
   "source": [
    "d = lluvia - sol\n",
    "print(sp.stats.kstest((d-d.mean())/d.std(), 'norm'))"
   ]
  },
  {
   "cell_type": "markdown",
   "metadata": {},
   "source": [
    "Mediante el resultado del test no podemos descartar que la distancia entre valores sea normal."
   ]
  },
  {
   "cell_type": "markdown",
   "metadata": {},
   "source": [
    "Habiendo hecho el análisis de las hipótesis, evaluamos la hipótesis nula de igual varianza para ambas distribuciones utilizando un t-test de dos muestras apareadas.\n",
    "\n",
    "#### Evaluación\n",
    "\n",
    "Realizamos el test de muestras apareadas pero dado que tuvimos que descartar la hipótesis de que ambas muestras tienen igual media, realizamos también un test de Welsh (que no requiere esta hipótesis)."
   ]
  },
  {
   "cell_type": "code",
   "execution_count": 13,
   "metadata": {},
   "outputs": [
    {
     "data": {
      "text/html": [
       "<div>\n",
       "<table border=\"1\" class=\"dataframe\">\n",
       "  <thead>\n",
       "    <tr style=\"text-align: right;\">\n",
       "      <th></th>\n",
       "      <th>statistic</th>\n",
       "      <th>pvalue</th>\n",
       "    </tr>\n",
       "  </thead>\n",
       "  <tbody>\n",
       "    <tr>\n",
       "      <th>Rel</th>\n",
       "      <td>8.576228</td>\n",
       "      <td>0.000003</td>\n",
       "    </tr>\n",
       "    <tr>\n",
       "      <th>Welsh</th>\n",
       "      <td>8.482840</td>\n",
       "      <td>0.000002</td>\n",
       "    </tr>\n",
       "  </tbody>\n",
       "</table>\n",
       "</div>"
      ],
      "text/plain": [
       "       statistic    pvalue\n",
       "Rel     8.576228  0.000003\n",
       "Welsh   8.482840  0.000002"
      ]
     },
     "execution_count": 13,
     "metadata": {},
     "output_type": "execute_result"
    }
   ],
   "source": [
    "mean_rel = sp.stats.ttest_rel(lluvia, sol)\n",
    "mean_welsh = sp.stats.ttest_ind(lluvia, sol, equal_var=False)\n",
    "pd.DataFrame([mean_rel, mean_welsh], index=['Rel', 'Welsh'])"
   ]
  },
  {
   "cell_type": "markdown",
   "metadata": {},
   "source": [
    "En ambos casos el p-valor es muy bajo, lo cual nos permite descartar la hipótesis nula donde ambas distribuciones tienen igual media.\n",
    "\n",
    "En particular, dado que en ambos casos el estadístico representa la diferencia entre los días de lluvia y los días de sol y el estadístico es positivo, podemos concluir que en días de lluvia los atletas son más lentos.\n",
    "\n",
    "\n",
    "\n",
    "Para fortalecer la conclusión alcanzada realizamos un test de permutaciones para el estadístico $\\bar{\\mathcal{X}}_{lluvia}$ - $\\bar{\\mathcal{X}}_{sol}$. Esto es, queremos rechazar la hipótesis nula donde los tiempos observados para lluvia y sol son indistintos del clima. Si ese fuera el caso, generando muestras con las etiquetas del clima cambiadas, veríamos que el estadístico original se acomoda bien a la distribución creada."
   ]
  },
  {
   "cell_type": "markdown",
   "metadata": {},
   "source": [
    "### Test de permutaciones"
   ]
  },
  {
   "cell_type": "code",
   "execution_count": 14,
   "metadata": {
    "collapsed": true
   },
   "outputs": [],
   "source": [
    "todos =  np.concatenate((sol, lluvia))\n",
    "etiquetas_sol = np.repeat('sol', sol.size)\n",
    "etiquetas_lluvia = np.repeat('lluvia', lluvia.size)\n",
    "etiquetas = np.concatenate((etiquetas_sol, etiquetas_lluvia))"
   ]
  },
  {
   "cell_type": "code",
   "execution_count": 15,
   "metadata": {},
   "outputs": [
    {
     "name": "stdout",
     "output_type": "stream",
     "text": [
      "Todos los valores con respectivas etiquetas.\n"
     ]
    },
    {
     "data": {
      "text/html": [
       "<div>\n",
       "<table border=\"1\" class=\"dataframe\">\n",
       "  <thead>\n",
       "    <tr style=\"text-align: right;\">\n",
       "      <th></th>\n",
       "      <th>0</th>\n",
       "      <th>1</th>\n",
       "      <th>2</th>\n",
       "      <th>3</th>\n",
       "      <th>4</th>\n",
       "      <th>5</th>\n",
       "      <th>6</th>\n",
       "      <th>7</th>\n",
       "      <th>8</th>\n",
       "      <th>9</th>\n",
       "      <th>...</th>\n",
       "      <th>14</th>\n",
       "      <th>15</th>\n",
       "      <th>16</th>\n",
       "      <th>17</th>\n",
       "      <th>18</th>\n",
       "      <th>19</th>\n",
       "      <th>20</th>\n",
       "      <th>21</th>\n",
       "      <th>22</th>\n",
       "      <th>23</th>\n",
       "    </tr>\n",
       "  </thead>\n",
       "  <tbody>\n",
       "    <tr>\n",
       "      <th>etiquetas</th>\n",
       "      <td>sol</td>\n",
       "      <td>sol</td>\n",
       "      <td>sol</td>\n",
       "      <td>sol</td>\n",
       "      <td>sol</td>\n",
       "      <td>sol</td>\n",
       "      <td>sol</td>\n",
       "      <td>sol</td>\n",
       "      <td>sol</td>\n",
       "      <td>sol</td>\n",
       "      <td>...</td>\n",
       "      <td>lluvia</td>\n",
       "      <td>lluvia</td>\n",
       "      <td>lluvia</td>\n",
       "      <td>lluvia</td>\n",
       "      <td>lluvia</td>\n",
       "      <td>lluvia</td>\n",
       "      <td>lluvia</td>\n",
       "      <td>lluvia</td>\n",
       "      <td>lluvia</td>\n",
       "      <td>lluvia</td>\n",
       "    </tr>\n",
       "    <tr>\n",
       "      <th>valores</th>\n",
       "      <td>11.1</td>\n",
       "      <td>13</td>\n",
       "      <td>16.1</td>\n",
       "      <td>14.5</td>\n",
       "      <td>12</td>\n",
       "      <td>11</td>\n",
       "      <td>15.1</td>\n",
       "      <td>14.4</td>\n",
       "      <td>16.1</td>\n",
       "      <td>17</td>\n",
       "      <td>...</td>\n",
       "      <td>19</td>\n",
       "      <td>18.9</td>\n",
       "      <td>19.1</td>\n",
       "      <td>18.7</td>\n",
       "      <td>18.9</td>\n",
       "      <td>19.9</td>\n",
       "      <td>18.5</td>\n",
       "      <td>19.2</td>\n",
       "      <td>18.8</td>\n",
       "      <td>19.2</td>\n",
       "    </tr>\n",
       "  </tbody>\n",
       "</table>\n",
       "<p>2 rows × 24 columns</p>\n",
       "</div>"
      ],
      "text/plain": [
       "             0    1     2     3    4    5     6     7     8    9    ...    \\\n",
       "etiquetas   sol  sol   sol   sol  sol  sol   sol   sol   sol  sol   ...     \n",
       "valores    11.1   13  16.1  14.5   12   11  15.1  14.4  16.1   17   ...     \n",
       "\n",
       "               14      15      16      17      18      19      20      21  \\\n",
       "etiquetas  lluvia  lluvia  lluvia  lluvia  lluvia  lluvia  lluvia  lluvia   \n",
       "valores        19    18.9    19.1    18.7    18.9    19.9    18.5    19.2   \n",
       "\n",
       "               22      23  \n",
       "etiquetas  lluvia  lluvia  \n",
       "valores      18.8    19.2  \n",
       "\n",
       "[2 rows x 24 columns]"
      ]
     },
     "execution_count": 15,
     "metadata": {},
     "output_type": "execute_result"
    }
   ],
   "source": [
    "print('Todos los valores con respectivas etiquetas.')\n",
    "pd.DataFrame({'valores': todos, 'etiquetas':etiquetas}).T"
   ]
  },
  {
   "cell_type": "code",
   "execution_count": 16,
   "metadata": {},
   "outputs": [
    {
     "name": "stdout",
     "output_type": "stream",
     "text": [
      "Diferencia de promedios entre lluvia y sol: 5.0750 seg\n"
     ]
    }
   ],
   "source": [
    "delta_0 = lluvia.mean() - sol.mean()\n",
    "print('Diferencia de promedios entre lluvia y sol: {:.4f} seg'.format(delta_0))"
   ]
  },
  {
   "cell_type": "markdown",
   "metadata": {},
   "source": [
    "Calculamos distribución con permutaciones."
   ]
  },
  {
   "cell_type": "code",
   "execution_count": 17,
   "metadata": {
    "collapsed": true
   },
   "outputs": [],
   "source": [
    "deltas = []\n",
    "for i in range(1000):\n",
    "    etiquetas_s = np.copy(etiquetas)\n",
    "    np.random.shuffle(etiquetas)\n",
    "    sol_s = todos[etiquetas_s == 'sol']\n",
    "    lluvia_s = todos[etiquetas_s == 'lluvia']\n",
    "    delta_1 = lluvia_s.mean() - sol_s.mean()\n",
    "    deltas.append(delta_1)"
   ]
  },
  {
   "cell_type": "code",
   "execution_count": 18,
   "metadata": {},
   "outputs": [
    {
     "data": {
      "text/plain": [
       "<matplotlib.legend.Legend at 0x7f4f99f1f690>"
      ]
     },
     "execution_count": 18,
     "metadata": {},
     "output_type": "execute_result"
    },
    {
     "data": {
      "image/png": "[encoded data removed]",
      "text/plain": [
       "<matplotlib.figure.Figure at 0x7f4f9a2589d0>"
      ]
     },
     "metadata": {},
     "output_type": "display_data"
    }
   ],
   "source": [
    "plt.hist(deltas)\n",
    "plt.axvline(delta_0, color='darkred', linestyle='--', label='valor muestra')\n",
    "plt.title(u'Distribución de diferencia mean(lluvia) - mean(sol) permutadas.')\n",
    "plt.legend()"
   ]
  },
  {
   "cell_type": "code",
   "execution_count": 19,
   "metadata": {
    "collapsed": true
   },
   "outputs": [],
   "source": [
    "deltas = np.array(deltas)"
   ]
  },
  {
   "cell_type": "code",
   "execution_count": 20,
   "metadata": {},
   "outputs": [
    {
     "name": "stdout",
     "output_type": "stream",
     "text": [
      "Probabilidad de el valor de la muestra en la distribución de permutaciones: 0.0000\n"
     ]
    }
   ],
   "source": [
    "p = np.sum(deltas > delta_0) / 1000.\n",
    "print('Probabilidad de el valor de la muestra en la distribución de permutaciones: {:.4f}'.format(p))"
   ]
  },
  {
   "cell_type": "markdown",
   "metadata": {},
   "source": [
    "La probabilidad calculada arriba es $P(\\bar{\\mathcal{X}}^p_{lluvia} - \\bar{\\mathcal{X}}^p_{sol} > \\bar{\\mathcal{X}}_{lluvia} - \\bar{\\mathcal{X}}_{sol})$.\n",
    "Siendo $\\bar{X}^p$ la distribución de promedios de tiempo de lluvia o sol habiendo permutado los valores con las etiquetas.\n",
    "\n",
    "Viendo que es muy poco probable que la forma en que se dieron las etiquetas para los tiempos en sol y lluvia se haya originado de una distribución donde las etiquetas son independientes de los tiempos, descartamos la hipótesis nula. En particular, evaluamos la probabilidad de un resultado aún más extremo que el original. Esto es, que las diferencias de tiempos en promedio en días de lluvia comparados con los promedios en sol sea mayor que la observada. Esto indica que un resultado tan o más extremo que el encontrado es muy poco probable."
   ]
  },
  {
   "cell_type": "markdown",
   "metadata": {},
   "source": [
    "_Conclusiones: Habiendo visto dos resultados que descartan la hipótesis nula $h_0$ ambas muestras tienen igual media, podemos considerar que este no es el caso. Además, dada la evaluación en el test de permutaciones y el estadístico obtenido en el t-test apareado, concluímos que el promedio de tiempos en días de lluvia es mayor que en días soleados._"
   ]
  },
  {
   "cell_type": "markdown",
   "metadata": {
    "collapsed": true
   },
   "source": [
    "### 2.2. El cielo nublado no influye en los tiempos de los atletas.\n",
    "#### Hago dos tests de muestras apareadas que relacionen el clima nublado con los dos restantes"
   ]
  },
  {
   "cell_type": "markdown",
   "metadata": {},
   "source": [
    "Para poder llevar adelante los dos tests de muestras apareadas requeridos, resta verificar las hipótesis enumeradas en la sección anterior para la categoría \"nublado\". Sin embargo, como fue mencionado anteriormente, se observa un comportamiento similar entre los datos correspondientes a los días soleados y nublados en los gráficos \"datos entrenamiento\" e \"histograma tiempos\" lo que nos conduce a estudiar explícitamente si ambos sets de datos tienen igual distribución. En caso afirmativo, se podrían aplicar los tests ya que las hipótesis ya fueron verificadas para los datos de los días soleados.\n",
    "\n",
    "Para evaluar la similitud entre las distribuciones, utilizamos la [Divergencia Kullback-Leibler](https://en.wikipedia.org/wiki/Kullback%E2%80%93Leibler_divergence). Este cálculo mide con un valor en el rango 0, 1 la divergencia de una distribución respecto de otra. La medida no es simétrica, por lo que es necesario evaluarla en ambos sentidos. Esta se encuentra implementada en [scipy.stats.entropy](https://docs.scipy.org/doc/scipy/reference/generated/scipy.stats.entropy.html) al usarla con dos parámetros."
   ]
  },
  {
   "cell_type": "code",
   "execution_count": 21,
   "metadata": {},
   "outputs": [
    {
     "name": "stdout",
     "output_type": "stream",
     "text": [
      "Divergencia KL sol vs. nublado: 0.0003\n",
      "Divergencia KL nublado vs. sol: 0.0003\n"
     ]
    }
   ],
   "source": [
    "print(\"Divergencia KL sol vs. nublado: {:.4f}\".format(sp.stats.entropy(sol, nublado)))\n",
    "print(\"Divergencia KL nublado vs. sol: {:.4f}\".format(sp.stats.entropy(nublado, sol)))"
   ]
  },
  {
   "cell_type": "markdown",
   "metadata": {},
   "source": [
    "Los valores en ambos casos son cercanos a 0. Esto representa que no hay divergencia enrte las distribuciones. Podemos considerar que ambas distribuciones se comportan de forma equivalente. De esta manera pasamos a aplicar los tests que siguen."
   ]
  },
  {
   "cell_type": "markdown",
   "metadata": {},
   "source": [
    "Evaluamos la siguiente hipótesis nula:\n",
    "\n",
    "$h_0^{sol}$ = los días nublados influyen de la misma manera que los días soleados en el tiempo de los atletas"
   ]
  },
  {
   "cell_type": "code",
   "execution_count": 49,
   "metadata": {},
   "outputs": [
    {
     "name": "stdout",
     "output_type": "stream",
     "text": [
      "t_sol = -0.412138, p_sol = 0.688156\n"
     ]
    }
   ],
   "source": [
    "t_sol, p_sol = sp.stats.ttest_rel(nublado, sol)\n",
    "print('t_sol = {:.6f}, p_sol = {:.6f}'.format(t_sol, p_sol))"
   ]
  },
  {
   "cell_type": "markdown",
   "metadata": {},
   "source": [
    "Debido a que se encontró un p-value de 0.688, no se puede descartar la hipótesis $h_0^{sol}$ sugerida. El resultado del estadístico indicaría que en los días nublados, los atletas logran tiempos menores."
   ]
  },
  {
   "cell_type": "markdown",
   "metadata": {},
   "source": [
    "$h_0^{lluvia}$ = los días nublados influyen de la misma manera que los días lluviosos en el tiempo de los atletas"
   ]
  },
  {
   "cell_type": "code",
   "execution_count": 23,
   "metadata": {},
   "outputs": [
    {
     "name": "stdout",
     "output_type": "stream",
     "text": [
      "t_lluvia = -9.720129, p_lluvia = 0.000001\n"
     ]
    }
   ],
   "source": [
    "t_lluvia, p_lluvia = sp.stats.ttest_rel(nublado, lluvia)\n",
    "print('t_lluvia = {:.6f}, p_lluvia = {:.6f}'.format(t_lluvia, p_lluvia))"
   ]
  },
  {
   "cell_type": "markdown",
   "metadata": {},
   "source": [
    "En este caso, dado el bajo valor del p-value, descartamos la hipótesis nula. Esto significa que los tiempos en días nublados no son iguales a los tiempos en días de lluvia."
   ]
  },
  {
   "cell_type": "markdown",
   "metadata": {},
   "source": [
    "Comparando los resultados de ambos tests de muestras apareadas, se observa una clara diferencia entre la performance de los atletas entre los días nublados y de lluvia. Sin embargo, no puede decirse lo mismo respecto a los días soleados y nublados. Además, en ambos tests se obtiene que los atletas logran menores tiempos en los dias nublados, sin embargo la diferencia en menor en el par nublado-sol que nublado-lluvia.\n",
    "\n",
    "En principio tenemos una primera contraposición al enunciado de que el clima nublado no afecta el tiempo de los atletas ya que los atletas logran tiempos mucho menores en clima nublados contra un clima lluvioso."
   ]
  },
  {
   "cell_type": "markdown",
   "metadata": {},
   "source": [
    "Para llegar a conclusiones más acabadas a continuación se realizan tests ANOVAs."
   ]
  },
  {
   "cell_type": "markdown",
   "metadata": {},
   "source": [
    "#### Test ANOVA para las tres muestras\n",
    "\n",
    "Se quiere aplicar un test que permita comparar los tres climas juntos, para ver si entre ellos hay alguna diferencia. Teniendo en cuenta que las hipótesis que se asumen en un test ANOVA son análogas a las del t-test, se aplica también el test de Kruskal-Wallis (KW) el cual no asume la normalidad de los datos pero sí que todas las muestras pertenecen a una misma distribución."
   ]
  },
  {
   "cell_type": "code",
   "execution_count": 50,
   "metadata": {},
   "outputs": [
    {
     "data": {
      "text/plain": [
       "'t_ANOVA = 41.57, p_ANOVA = 9.6112634512e-10'"
      ]
     },
     "execution_count": 50,
     "metadata": {},
     "output_type": "execute_result"
    }
   ],
   "source": [
    "t_ANOVA, p_ANOVA = sp.stats.f_oneway(nublado, lluvia, sol)\n",
    "'t_ANOVA = {:.2f}, p_ANOVA = {}'.format(t_ANOVA, p_ANOVA)"
   ]
  },
  {
   "cell_type": "code",
   "execution_count": 51,
   "metadata": {},
   "outputs": [
    {
     "data": {
      "text/plain": [
       "'t_KW = 23.39, p_KW = 8.33978539491e-06'"
      ]
     },
     "execution_count": 51,
     "metadata": {},
     "output_type": "execute_result"
    }
   ],
   "source": [
    "t_KW, p_KW = sp.stats.kruskal(nublado, lluvia, sol)\n",
    "'t_KW = {:.2f}, p_KW = {}'.format(t_KW, p_KW)"
   ]
  },
  {
   "cell_type": "markdown",
   "metadata": {},
   "source": [
    "Este resultado indica que una de las tres muestras difiere del resto. Para poder identificarla entonces se repite el test pero esta vez de a pares.\n",
    "#### Tests ANOVAs de a pares - Tests KW de a pares"
   ]
  },
  {
   "cell_type": "markdown",
   "metadata": {},
   "source": [
    "Test ANOVA nublado-sol: ambos climas influyen de la misma manera sobre los atletas."
   ]
  },
  {
   "cell_type": "code",
   "execution_count": 26,
   "metadata": {},
   "outputs": [
    {
     "data": {
      "text/plain": [
       "'t_1 = 0.0029, p_1 = 0.957892655613'"
      ]
     },
     "execution_count": 26,
     "metadata": {},
     "output_type": "execute_result"
    }
   ],
   "source": [
    "t_1, p_1 = sp.stats.f_oneway(nublado, sol)\n",
    "'t_1 = {:.4f}, p_1 = {}'.format(t_1, p_1)"
   ]
  },
  {
   "cell_type": "markdown",
   "metadata": {},
   "source": [
    "Test KW nublado-sol: ambos climas influyen de la misma manera sobre los atletas."
   ]
  },
  {
   "cell_type": "code",
   "execution_count": 27,
   "metadata": {},
   "outputs": [
    {
     "data": {
      "text/plain": [
       "'t_1KW = 0.03, p_1KW = 0.862312311313'"
      ]
     },
     "execution_count": 27,
     "metadata": {},
     "output_type": "execute_result"
    }
   ],
   "source": [
    "t_1KW, p_1KW = sp.stats.kruskal(nublado, sol)\n",
    "'t_1KW = {:.2f}, p_1KW = {}'.format(t_1KW, p_1KW)"
   ]
  },
  {
   "cell_type": "markdown",
   "metadata": {},
   "source": [
    "ANOVA nublado-lluvia: ambos climas influyen de la misma manera sobre los atletas."
   ]
  },
  {
   "cell_type": "code",
   "execution_count": 28,
   "metadata": {},
   "outputs": [
    {
     "data": {
      "text/plain": [
       "'t_2 = 92.64, p_2 = 2.40875774137e-09'"
      ]
     },
     "execution_count": 28,
     "metadata": {},
     "output_type": "execute_result"
    }
   ],
   "source": [
    "t_2, p_2 = sp.stats.f_oneway(nublado, lluvia)\n",
    "'t_2 = {:.2f}, p_2 = {}'.format(t_2, p_2)"
   ]
  },
  {
   "cell_type": "markdown",
   "metadata": {},
   "source": [
    "Test KW nublado-lluvia: ambos climas influyen de la misma manera sobre los atletas."
   ]
  },
  {
   "cell_type": "code",
   "execution_count": 29,
   "metadata": {},
   "outputs": [
    {
     "data": {
      "text/plain": [
       "'t_2KW = 17.30, p_2KW = 3.18755694758e-05'"
      ]
     },
     "execution_count": 29,
     "metadata": {},
     "output_type": "execute_result"
    }
   ],
   "source": [
    "t_2KW, p_2KW = sp.stats.kruskal(nublado, lluvia)\n",
    "'t_2KW = {:.2f}, p_2KW = {}'.format(t_2KW, p_2KW)"
   ]
  },
  {
   "cell_type": "markdown",
   "metadata": {},
   "source": [
    "ANOVA lluvia-sol: ambos climas influyen de la misma manera sobre los atletas."
   ]
  },
  {
   "cell_type": "code",
   "execution_count": 30,
   "metadata": {},
   "outputs": [
    {
     "data": {
      "text/plain": [
       "'t_3 = 71.96, p_3 = 2.20135981111e-08'"
      ]
     },
     "execution_count": 30,
     "metadata": {},
     "output_type": "execute_result"
    }
   ],
   "source": [
    "t_3, p_3 = sp.stats.f_oneway(lluvia, sol)\n",
    "'t_3 = {:.2f}, p_3 = {}'.format(t_3, p_3)"
   ]
  },
  {
   "cell_type": "markdown",
   "metadata": {},
   "source": [
    "Test KW lluvia-sol: ambos climas influyen de la misma manera sobre los atletas."
   ]
  },
  {
   "cell_type": "code",
   "execution_count": 31,
   "metadata": {},
   "outputs": [
    {
     "data": {
      "text/plain": [
       "'t_3KW = 17.31, p_3KW = 3.17494090212e-05'"
      ]
     },
     "execution_count": 31,
     "metadata": {},
     "output_type": "execute_result"
    }
   ],
   "source": [
    "t_3KW, p_3KW = sp.stats.kruskal(lluvia, sol)\n",
    "'t_3KW = {:.2f}, p_3KW = {}'.format(t_3KW, p_3KW)"
   ]
  },
  {
   "cell_type": "code",
   "execution_count": 60,
   "metadata": {},
   "outputs": [
    {
     "name": "stdout",
     "output_type": "stream",
     "text": [
      "p-values de two-way ANOVAs\n"
     ]
    },
    {
     "data": {
      "text/html": [
       "<div>\n",
       "<table border=\"1\" class=\"dataframe\">\n",
       "  <thead>\n",
       "    <tr style=\"text-align: right;\">\n",
       "      <th></th>\n",
       "      <th>lluvia</th>\n",
       "      <th>nublado</th>\n",
       "      <th>sol</th>\n",
       "    </tr>\n",
       "  </thead>\n",
       "  <tbody>\n",
       "    <tr>\n",
       "      <th>lluvia</th>\n",
       "      <td>1.000000e+00</td>\n",
       "      <td>2.408758e-09</td>\n",
       "      <td>2.201360e-08</td>\n",
       "    </tr>\n",
       "    <tr>\n",
       "      <th>nublado</th>\n",
       "      <td>2.408758e-09</td>\n",
       "      <td>1.000000e+00</td>\n",
       "      <td>9.578927e-01</td>\n",
       "    </tr>\n",
       "    <tr>\n",
       "      <th>sol</th>\n",
       "      <td>2.201360e-08</td>\n",
       "      <td>9.578927e-01</td>\n",
       "      <td>1.000000e+00</td>\n",
       "    </tr>\n",
       "  </tbody>\n",
       "</table>\n",
       "</div>"
      ],
      "text/plain": [
       "               lluvia       nublado           sol\n",
       "lluvia   1.000000e+00  2.408758e-09  2.201360e-08\n",
       "nublado  2.408758e-09  1.000000e+00  9.578927e-01\n",
       "sol      2.201360e-08  9.578927e-01  1.000000e+00"
      ]
     },
     "execution_count": 60,
     "metadata": {},
     "output_type": "execute_result"
    }
   ],
   "source": [
    "tiempos_nombres = [('sol', sol), ('nublado', nublado), ('lluvia', lluvia)]\n",
    "print('p-values de two-way ANOVAs')\n",
    "pd.DataFrame(dict([(nom, dict([(nom_2, sp.stats.f_oneway(t1, t2)[1]) for nom_2, t2 in tiempos_nombres]))\n",
    "                   for nom, t1 in tiempos_nombres]))"
   ]
  },
  {
   "cell_type": "code",
   "execution_count": 61,
   "metadata": {},
   "outputs": [
    {
     "name": "stdout",
     "output_type": "stream",
     "text": [
      "p-values de two-way KW\n"
     ]
    },
    {
     "data": {
      "text/html": [
       "<div>\n",
       "<table border=\"1\" class=\"dataframe\">\n",
       "  <thead>\n",
       "    <tr style=\"text-align: right;\">\n",
       "      <th></th>\n",
       "      <th>lluvia</th>\n",
       "      <th>nublado</th>\n",
       "      <th>sol</th>\n",
       "    </tr>\n",
       "  </thead>\n",
       "  <tbody>\n",
       "    <tr>\n",
       "      <th>lluvia</th>\n",
       "      <td>1.000000</td>\n",
       "      <td>0.000032</td>\n",
       "      <td>0.000032</td>\n",
       "    </tr>\n",
       "    <tr>\n",
       "      <th>nublado</th>\n",
       "      <td>0.000032</td>\n",
       "      <td>1.000000</td>\n",
       "      <td>0.862312</td>\n",
       "    </tr>\n",
       "    <tr>\n",
       "      <th>sol</th>\n",
       "      <td>0.000032</td>\n",
       "      <td>0.862312</td>\n",
       "      <td>1.000000</td>\n",
       "    </tr>\n",
       "  </tbody>\n",
       "</table>\n",
       "</div>"
      ],
      "text/plain": [
       "           lluvia   nublado       sol\n",
       "lluvia   1.000000  0.000032  0.000032\n",
       "nublado  0.000032  1.000000  0.862312\n",
       "sol      0.000032  0.862312  1.000000"
      ]
     },
     "execution_count": 61,
     "metadata": {},
     "output_type": "execute_result"
    }
   ],
   "source": [
    "print('p-values de two-way KW')\n",
    "pd.DataFrame(dict([(nom, dict([(nom_2, sp.stats.kruskal(t1, t2)[1]) for nom_2, t2 in tiempos_nombres]))\n",
    "                   for nom, t1 in tiempos_nombres]))"
   ]
  },
  {
   "cell_type": "markdown",
   "metadata": {},
   "source": [
    "Estudiando estos resultados, se observa que cada vez que la muestra de los días lluviosos es parte del test, se obtienen valores de $p$ muy pequeños (del orden de 10$^{-5}$), lo que indica que dicha muestra es la que causaría una performance diferente en los atletas. Por lo tanto se decartan las hipótesis que dicen que los días de lluvia influyen de la misma manera que los días soleados/nublados en los tiempos de los atletas."
   ]
  },
  {
   "cell_type": "markdown",
   "metadata": {},
   "source": [
    "_ Conclusiones: considerando los tests realizados, no se puede concluir que los dias nublados no influyen en la performance de los corredores. Por el contrario, se observa que dicho clima influye de igual modo que los dias soleados, con el agregado de informacion (proveniente de los tests de muestras apareadas) que los atletas podrian lograr tiempos menores en dias nublados. _"
   ]
  },
  {
   "cell_type": "markdown",
   "metadata": {},
   "source": [
    "### 2.3. El clima influye en la velocidad de los atletas"
   ]
  },
  {
   "cell_type": "markdown",
   "metadata": {},
   "source": [
    "Teniendo en cuenta los tests realizados en la sección anterior, se observa que el clima que más influye (negativamente) en la velocidad de los atletas es la lluvia. Es decir, que logran tiempos mayores cuando deben entrenar con lluvia. A su vez, tanto los días nublados como soleados, influyen de manera semejante en la performance de los corredores, aunque es posible que, en general, se registren tiempos más cortos en los días nublados."
   ]
  },
  {
   "cell_type": "markdown",
   "metadata": {},
   "source": [
    "_ Conclusiones: los climas influyen en la velocidad de los atletas, especialmente la lluvia hace que su performance empeore (logran tiempos mas largos en estos días). Respecto a los días nublados y soleados se registran tiempos similares para todos los atletas.  _"
   ]
  },
  {
   "cell_type": "markdown",
   "metadata": {},
   "source": [
    "### 2.4. La velocidad en dı́as de lluvia es independiente del atleta"
   ]
  },
  {
   "cell_type": "markdown",
   "metadata": {},
   "source": [
    "    TODO: Correlaciones"
   ]
  },
  {
   "cell_type": "markdown",
   "metadata": {},
   "source": [
    "Se puede hacer un one-sample ttest para ver si los valores de tiempos de los días de lluvia entre todos los atletas pertencen a una distribución normal con media parametrizada como el promedio de los tiempos de todos los atletas. De esta manera, la hipótesis nula sería que los tiempos de todos los atletas para días de lluvia no son independientes, si no que se encuentran vinculados por pertencer a un tipo de distribución."
   ]
  },
  {
   "cell_type": "code",
   "execution_count": 32,
   "metadata": {},
   "outputs": [
    {
     "data": {
      "text/plain": [
       "Ttest_1sampResult(statistic=0.0, pvalue=1.0)"
      ]
     },
     "execution_count": 32,
     "metadata": {},
     "output_type": "execute_result"
    }
   ],
   "source": [
    "sp.stats.ttest_1samp(lluvia, np.mean(lluvia))"
   ]
  },
  {
   "cell_type": "markdown",
   "metadata": {},
   "source": [
    "     El resultado de esa llamada siempre da (0, 1.0)"
   ]
  },
  {
   "cell_type": "markdown",
   "metadata": {},
   "source": [
    "El pvalue del test da 1, por lo que no se rechaza la hipótesis nula. Los tiempos podrían pertencer a una misma distribución."
   ]
  },
  {
   "cell_type": "markdown",
   "metadata": {},
   "source": [
    "_ Conclusiones: El test estadístico realizado sobre los datos no rechaza la hipótesis nula de que las velocidades de los atletas para días de lluvia pertencen a una misma distribución normal, por lo que no pueden considerarse como independientes. _"
   ]
  },
  {
   "cell_type": "markdown",
   "metadata": {},
   "source": [
    "## Consejos para el Entrenador"
   ]
  },
  {
   "cell_type": "markdown",
   "metadata": {},
   "source": [
    "Considerando los resultados arrojados por los diversos tests llevados a cabo, el entrenador debería tener en cuenta lo siguiente: \n",
    "- El clima influye en la performance de los atletas.\n",
    "- Tanto los días nublados como soleados influyen de manera semejante en los corredores, pero en general puede decirse que logran menores tiempos en el clima nublado.\n",
    "- Los tiempos más largos se obtienen en los días de lluvia.\n",
    "- Los días de lluvia afectan a todos los atletas y de modos diferentes. Es decir, dados dos atletas, uno con mejor tiempo que el otro en días soleados (o nublados), no necesariamente logra una mejor performance en los días de lluvia.\n",
    "- Teniendo en cuenta lo anterior, entrenar en días de lluvia implica una dificultad mayor que el entrenamiento es los otros días pero no sería válida la comparación de los tiempos entre los corredores."
   ]
  }
 ],
 "metadata": {
  "anaconda-cloud": {},
  "kernelspec": {
   "display_name": "Python [default]",
   "language": "python",
   "name": "python2"
  },
  "language_info": {
   "codemirror_mode": {
    "name": "ipython",
    "version": 2
   },
   "file_extension": ".py",
   "mimetype": "text/x-python",
   "name": "python",
   "nbconvert_exporter": "python",
   "pygments_lexer": "ipython2",
   "version": "2.7.12"
  }
 },
 "nbformat": 4,
 "nbformat_minor": 2
}

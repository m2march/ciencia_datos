{
 "cells": [
  {
   "cell_type": "code",
   "execution_count": 1,
   "metadata": {},
   "outputs": [
    {
     "name": "stdout",
     "output_type": "stream",
     "text": [
      "Using matplotlib backend: Qt5Agg\n",
      "Populating the interactive namespace from numpy and matplotlib\n"
     ]
    }
   ],
   "source": [
    "%pylab\n",
    "%matplotlib inline"
   ]
  },
  {
   "cell_type": "code",
   "execution_count": 2,
   "metadata": {
    "collapsed": true
   },
   "outputs": [],
   "source": [
    "import pymc3 as pm"
   ]
  },
  {
   "cell_type": "markdown",
   "metadata": {},
   "source": [
    "## 1. Implementación del modelo Beta-Binomial para la moneda\n",
    "\n",
    "#### Caso uniforme: B(1,1)\n",
    "Para modelar el _prior_ $\\theta$ utilizaremos en este caso, una distribución Beta con sus parámetros $\\alpha$ y $\\beta$ iguales a 1, lo que es equivalente a una distribución normal (N(0,1)). Por su parte para modelar $k$ utilizaremos una distribución binomial.\n",
    "<br>\n",
    "Se implementarán las distribuciones mencionadas para el experimento de arrojar una moneda al aire 6 veces y en todas ellas se obtuvo \"cara\"."
   ]
  },
  {
   "cell_type": "code",
   "execution_count": 4,
   "metadata": {},
   "outputs": [
    {
     "name": "stderr",
     "output_type": "stream",
     "text": [
      "Auto-assigning NUTS sampler...\n",
      "Initializing NUTS using jitter+adapt_diag...\n",
      "100%|██████████| 1000/1000 [00:02<00:00, 342.84it/s]\n"
     ]
    }
   ],
   "source": [
    "#vemos que B(1,1) es uniforme \n",
    "model_uniform = pm.Model()\n",
    "with model_uniform:\n",
    "    theta_uniform = pm.Beta('theta uniforme', 1, 1)\n",
    "    trace = pm.sample()"
   ]
  },
  {
   "cell_type": "code",
   "execution_count": 5,
   "metadata": {},
   "outputs": [
    {
     "data": {
      "text/plain": [
       "(array([ 59.,  44.,  41.,  47.,  44.,  54.,  43.,  42.,  50.,  76.]),\n",
       " array([  3.55457602e-04,   1.00122850e-01,   1.99890242e-01,\n",
       "          2.99657634e-01,   3.99425026e-01,   4.99192418e-01,\n",
       "          5.98959810e-01,   6.98727203e-01,   7.98494595e-01,\n",
       "          8.98261987e-01,   9.98029379e-01]),\n",
       " <a list of 10 Patch objects>)"
      ]
     },
     "execution_count": 5,
     "metadata": {},
     "output_type": "execute_result"
    },
    {
     "data": {
      "image/png": "[encoded data removed]",
      "text/plain": [
       "<matplotlib.figure.Figure at 0x7fc856b850b8>"
      ]
     },
     "metadata": {},
     "output_type": "display_data"
    }
   ],
   "source": [
    "hist([t['theta uniforme'] for t in trace.points()])"
   ]
  },
  {
   "cell_type": "code",
   "execution_count": 51,
   "metadata": {},
   "outputs": [
    {
     "name": "stderr",
     "output_type": "stream",
     "text": [
      "Auto-assigning NUTS sampler...\n",
      "Initializing NUTS using jitter+adapt_diag...\n",
      "100%|██████████| 1000/1000 [00:00<00:00, 1127.49it/s]\n"
     ]
    },
    {
     "data": {
      "text/plain": [
       "<matplotlib.text.Text at 0x7fc831712320>"
      ]
     },
     "execution_count": 51,
     "metadata": {},
     "output_type": "execute_result"
    },
    {
     "data": {
      "image/png": "[encoded data removed]",
      "text/plain": [
       "<matplotlib.figure.Figure at 0x7fc831d6d748>"
      ]
     },
     "metadata": {},
     "output_type": "display_data"
    }
   ],
   "source": [
    "model_uniform = pm.Model()\n",
    "with model_uniform:\n",
    "    theta = pm.Beta('theta_uniform', 1, 1)\n",
    "    tiradas = pm.Binomial('tiradas', n=6, p=theta, observed=6)\n",
    "    trace = pm.sample()\n",
    "hist(trace.theta_uniform)\n",
    "title('Caso uniforme')"
   ]
  },
  {
   "cell_type": "markdown",
   "metadata": {},
   "source": [
    "A partir de un $\\theta$ uniforme se obtuvo que el _posterior_ (p($\\theta$|$k$)) indicaría que la moneda está cargada."
   ]
  },
  {
   "cell_type": "markdown",
   "metadata": {},
   "source": [
    "#### Caso Honesto: B(100,100)\n",
    "\n",
    "En este caso el _prior_ se modelará teniendo en cuenta que la probabilidad de sacar \"cara\" o \"ceca\" al arrojar la moneda es 0.5 en ambos casos. Es decir, se asume una \"moneda honesta\".\n",
    "<br>\n",
    "Se implementarán las distribuciones mencionadas para el experimento de arrojar una moneda al aire 6 veces y en todas ellas se obtuvo \"cara\"."
   ]
  },
  {
   "cell_type": "code",
   "execution_count": 12,
   "metadata": {},
   "outputs": [
    {
     "name": "stderr",
     "output_type": "stream",
     "text": [
      "Auto-assigning NUTS sampler...\n",
      "Initializing NUTS using jitter+adapt_diag...\n",
      "100%|██████████| 1000/1000 [00:00<00:00, 1183.30it/s]\n"
     ]
    }
   ],
   "source": [
    "#vemos que la distribucion se centra en 0.5\n",
    "model_honest = pm.Model()\n",
    "with model_honest:\n",
    "    theta_honest = pm.Beta('theta_honest', 50, 50)  # TODO: NUTS no funciona con 100, 100\n",
    "    trace = pm.sample()"
   ]
  },
  {
   "cell_type": "code",
   "execution_count": 13,
   "metadata": {},
   "outputs": [
    {
     "data": {
      "text/plain": [
       "(array([   2.,   11.,   41.,   65.,  108.,  132.,   66.,   54.,   13.,    8.]),\n",
       " array([ 0.3490402 ,  0.37881435,  0.4085885 ,  0.43836265,  0.4681368 ,\n",
       "         0.49791095,  0.52768509,  0.55745924,  0.58723339,  0.61700754,\n",
       "         0.64678169]),\n",
       " <a list of 10 Patch objects>)"
      ]
     },
     "execution_count": 13,
     "metadata": {},
     "output_type": "execute_result"
    },
    {
     "data": {
      "image/png": "[encoded data removed]",
      "text/plain": [
       "<matplotlib.figure.Figure at 0x7fc83f6c67f0>"
      ]
     },
     "metadata": {},
     "output_type": "display_data"
    }
   ],
   "source": [
    "hist([t['theta_honest'] for t in trace.points()])"
   ]
  },
  {
   "cell_type": "code",
   "execution_count": 52,
   "metadata": {},
   "outputs": [
    {
     "name": "stderr",
     "output_type": "stream",
     "text": [
      "Auto-assigning NUTS sampler...\n",
      "Initializing NUTS using jitter+adapt_diag...\n",
      "100%|██████████| 1000/1000 [00:00<00:00, 1176.72it/s]\n"
     ]
    },
    {
     "data": {
      "text/plain": [
       "<matplotlib.text.Text at 0x7fc83103f550>"
      ]
     },
     "execution_count": 52,
     "metadata": {},
     "output_type": "execute_result"
    },
    {
     "data": {
      "image/png": "[encoded data removed]",
      "text/plain": [
       "<matplotlib.figure.Figure at 0x7fc83167bd30>"
      ]
     },
     "metadata": {},
     "output_type": "display_data"
    }
   ],
   "source": [
    "model_honest = pm.Model()\n",
    "with model_honest:\n",
    "    theta_honest = pm.Beta('theta_honest', 50, 50)  # TODO: cambiar a 100, 100 cuando sepamos como\n",
    "    tiradas = pm.Binomial('tiradas', n=6, p=theta_honest, observed=6)\n",
    "    trace = pm.sample()\n",
    "hist(trace.theta_honest)\n",
    "title('Caso honesto')"
   ]
  },
  {
   "cell_type": "markdown",
   "metadata": {},
   "source": [
    "En este caso,a  diferencia del anterior, no se asume desde un primer momento que la moneda está cargada y eso mismo se ve reflejado en la probabilidad p($\\theta$|$k$)."
   ]
  },
  {
   "cell_type": "code",
   "execution_count": 63,
   "metadata": {},
   "outputs": [
    {
     "data": {
      "text/plain": [
       "{'beta': 0.49665140461576607,\n",
       " 'beta_logodds__': -0.013394581798884891,\n",
       " 'tiradas': 4}"
      ]
     },
     "execution_count": 63,
     "metadata": {},
     "output_type": "execute_result"
    }
   ],
   "source": [
    "trace.point(10)"
   ]
  },
  {
   "cell_type": "markdown",
   "metadata": {},
   "source": [
    "## 2. MAP y medias de las distribuciones\n",
    "\n",
    "Para lograr una mejor descripción de las probabilidades encontradas en los dos casos de estudio, se calculan el Máximo A Posteriori y las medias."
   ]
  },
  {
   "cell_type": "markdown",
   "metadata": {},
   "source": [
    "#### Caso Uniforme"
   ]
  },
  {
   "cell_type": "code",
   "execution_count": 15,
   "metadata": {},
   "outputs": [
    {
     "name": "stderr",
     "output_type": "stream",
     "text": [
      "Auto-assigning NUTS sampler...\n",
      "Initializing NUTS using jitter+adapt_diag...\n",
      "100%|██████████| 1000/1000 [00:00<00:00, 1155.23it/s]\n",
      "logp = -0.0023631, ||grad|| = 0.0023627: 100%|██████████| 20/20 [00:00<00:00, 1213.05it/s] \n"
     ]
    }
   ],
   "source": [
    "model_uniform = pm.Model()\n",
    "with model_uniform:\n",
    "    theta_uniform = pm.Beta('theta_uniform', 1, 1)\n",
    "    tiradas = pm.Binomial('tiradas', p=theta_uniform, n=6, observed=6)\n",
    "    trace = pm.sample()\n",
    "    MAP = pm.find_MAP()"
   ]
  },
  {
   "cell_type": "code",
   "execution_count": 16,
   "metadata": {},
   "outputs": [
    {
     "name": "stdout",
     "output_type": "stream",
     "text": [
      "MAP Estimate para beta(1, 1): 0.9999984620831801\n"
     ]
    }
   ],
   "source": [
    "print('MAP Estimate para beta(1, 1): {}'.format(MAP['theta_uniform']))"
   ]
  },
  {
   "cell_type": "code",
   "execution_count": 17,
   "metadata": {},
   "outputs": [
    {
     "name": "stdout",
     "output_type": "stream",
     "text": [
      "Media para beta(1, 1): 0.8773423515808103\n"
     ]
    }
   ],
   "source": [
    "print('Media para beta(1, 1): {}'.format(mean(trace.theta_uniform)))"
   ]
  },
  {
   "cell_type": "markdown",
   "metadata": {},
   "source": [
    "#### Caso Honesto"
   ]
  },
  {
   "cell_type": "code",
   "execution_count": 18,
   "metadata": {},
   "outputs": [
    {
     "name": "stderr",
     "output_type": "stream",
     "text": [
      "Auto-assigning NUTS sampler...\n",
      "Initializing NUTS using jitter+adapt_diag...\n",
      "100%|██████████| 1000/1000 [00:00<00:00, 1176.11it/s]\n",
      "logp = -2.0846, ||grad|| = 3: 100%|██████████| 6/6 [00:00<00:00, 1293.81it/s]\n"
     ]
    }
   ],
   "source": [
    "model_honest = pm.Model()\n",
    "with model_honest:\n",
    "    theta_honest = pm.Beta('theta_honest', 50, 50)  # TODO\n",
    "    tiradas = pm.Binomial('tiradas', p=theta_honest, n=6, observed=6)\n",
    "    trace = pm.sample()\n",
    "    MAP = pm.find_MAP()"
   ]
  },
  {
   "cell_type": "code",
   "execution_count": 19,
   "metadata": {
    "scrolled": true
   },
   "outputs": [
    {
     "name": "stdout",
     "output_type": "stream",
     "text": [
      "MAP Estimate para beta(50, 50): 0.5288461537406147\n"
     ]
    }
   ],
   "source": [
    "print('MAP Estimate para beta(50, 50): {}'.format(MAP['theta_honest']))"
   ]
  },
  {
   "cell_type": "code",
   "execution_count": 20,
   "metadata": {},
   "outputs": [
    {
     "name": "stdout",
     "output_type": "stream",
     "text": [
      "Media para beta(50, 50): 0.5272513239222776\n"
     ]
    }
   ],
   "source": [
    "print('Media para beta(50, 50): {}'.format(mean(trace.theta_honest)))"
   ]
  },
  {
   "cell_type": "markdown",
   "metadata": {},
   "source": [
    "## 3. Predicción\n",
    "\n",
    "Aquí se querrá predecir el resultado de un próximo lanzamiento de moneda teniendo en cuenta la información ya modelada."
   ]
  },
  {
   "cell_type": "markdown",
   "metadata": {},
   "source": [
    "#### Caso uniforme"
   ]
  },
  {
   "cell_type": "code",
   "execution_count": 53,
   "metadata": {},
   "outputs": [
    {
     "name": "stderr",
     "output_type": "stream",
     "text": [
      "Assigned NUTS to theta_uniform_logodds__\n",
      "Assigned Metropolis to post_uniform\n",
      " 95%|█████████▌| 954/1000 [00:01<00:00, 554.65it/s]/home/stella/anaconda3/lib/python3.6/site-packages/pymc3/step_methods/hmc/nuts.py:467: UserWarning: Chain 0 contains 1 diverging samples after tuning. If increasing `target_accept` does not help try to reparameterize.\n",
      "  % (self._chain_id, n_diverging))\n",
      "100%|██████████| 1000/1000 [00:01<00:00, 556.10it/s]\n"
     ]
    }
   ],
   "source": [
    "model_uniform = pm.Model()\n",
    "with model_uniform:\n",
    "    theta_uniform = pm.Beta('theta_uniform', 1, 1)\n",
    "    dato = pm.Binomial('dato', p=theta_uniform, n=6, observed=6)\n",
    "    post_uniform = pm.Binomial('post_uniform', p=theta_uniform, n=6)\n",
    "    trace = pm.sample()"
   ]
  },
  {
   "cell_type": "code",
   "execution_count": 90,
   "metadata": {},
   "outputs": [
    {
     "data": {
      "text/plain": [
       "['theta_logodds__', 'post', 'theta']"
      ]
     },
     "execution_count": 90,
     "metadata": {},
     "output_type": "execute_result"
    }
   ],
   "source": [
    "trace.varnames"
   ]
  },
  {
   "cell_type": "code",
   "execution_count": 54,
   "metadata": {},
   "outputs": [
    {
     "data": {
      "text/plain": [
       "<matplotlib.text.Text at 0x7fc8312804a8>"
      ]
     },
     "execution_count": 54,
     "metadata": {},
     "output_type": "execute_result"
    },
    {
     "data": {
      "image/png": "[encoded data removed]",
      "text/plain": [
       "<matplotlib.figure.Figure at 0x7fc831199438>"
      ]
     },
     "metadata": {},
     "output_type": "display_data"
    }
   ],
   "source": [
    "hist(trace.post_uniform)\n",
    "title('Predicción caso uniforme')"
   ]
  },
  {
   "cell_type": "markdown",
   "metadata": {},
   "source": [
    "Teniendo en cuenta el _prior_ que asume que la moneda está cargada, la predicción que se obtiene se ve completamente influenciada resultando mayor la probabilidad que vuelva a salir cara en el próximo lanzamiento."
   ]
  },
  {
   "cell_type": "markdown",
   "metadata": {},
   "source": [
    "#### Caso honesto "
   ]
  },
  {
   "cell_type": "code",
   "execution_count": 55,
   "metadata": {},
   "outputs": [
    {
     "name": "stderr",
     "output_type": "stream",
     "text": [
      "Assigned NUTS to theta_honest_logodds__\n",
      "Assigned Metropolis to post_honest\n",
      "100%|██████████| 1000/1000 [00:01<00:00, 557.92it/s]\n"
     ]
    }
   ],
   "source": [
    "model_honest = pm.Model()\n",
    "with model_honest:\n",
    "    theta_honest = pm.Beta('theta_honest', 50, 50)\n",
    "    dato = pm.Binomial('dato', p=theta_honest, n=6, observed=6)\n",
    "    post_honest = pm.Binomial('post_honest', p=theta_honest, n=6)\n",
    "    trace = pm.sample()"
   ]
  },
  {
   "cell_type": "code",
   "execution_count": 56,
   "metadata": {},
   "outputs": [
    {
     "data": {
      "text/plain": [
       "<matplotlib.text.Text at 0x7fc831a93eb8>"
      ]
     },
     "execution_count": 56,
     "metadata": {},
     "output_type": "execute_result"
    },
    {
     "data": {
      "image/png": "[encoded data removed]",
      "text/plain": [
       "<matplotlib.figure.Figure at 0x7fc831365eb8>"
      ]
     },
     "metadata": {},
     "output_type": "display_data"
    }
   ],
   "source": [
    "hist(trace.post_honest)\n",
    "title('Predicción caso honesto')"
   ]
  },
  {
   "cell_type": "markdown",
   "metadata": {},
   "source": [
    "Como era de esperarse, con el _prior_ de moneda honesta, la predicción para el resultado del próximo lanzamiento no indica que volverá a obtenerse una cara."
   ]
  },
  {
   "cell_type": "markdown",
   "metadata": {
    "collapsed": true
   },
   "source": [
    "## 4. Comparaciones entre datos\n",
    "\n",
    "Con el objetivo de analizar cuánto influyen los datos iniciales y las creencias que son asumidas en el _prior_ se pondrán a prueba dos experimentos que se diferencian en la cantidad de tiradas y resultados obtenidos."
   ]
  },
  {
   "cell_type": "markdown",
   "metadata": {},
   "source": [
    "TODO: se podria hacer una funcion que haga lo mismo que en los puntos anteriores y aca solo le cambiamos el n y el k (3, 20). "
   ]
  },
  {
   "cell_type": "markdown",
   "metadata": {},
   "source": [
    "### Experimento 1: 20 tiradas, 20 caras\n",
    "\n",
    "#### Caso uniforme"
   ]
  },
  {
   "cell_type": "code",
   "execution_count": 42,
   "metadata": {},
   "outputs": [
    {
     "name": "stderr",
     "output_type": "stream",
     "text": [
      "Assigned NUTS to theta_uniform_logodds__\n",
      "Assigned Metropolis to post_uniform\n",
      " 98%|█████████▊| 985/1000 [00:01<00:00, 523.89it/s]/home/stella/anaconda3/lib/python3.6/site-packages/pymc3/step_methods/hmc/nuts.py:467: UserWarning: Chain 0 contains 3 diverging samples after tuning. If increasing `target_accept` does not help try to reparameterize.\n",
      "  % (self._chain_id, n_diverging))\n",
      "100%|██████████| 1000/1000 [00:01<00:00, 521.43it/s]\n",
      "logp = -15.599, ||grad|| = 10: 100%|██████████| 7/7 [00:00<00:00, 1184.54it/s]\n"
     ]
    }
   ],
   "source": [
    "model_uniform = pm.Model()\n",
    "with model_uniform:\n",
    "    theta_uniform = pm.Beta('theta_uniform', 1, 1)\n",
    "    tiradas = pm.Binomial('tiradas', p=theta_uniform, n=20, observed=20)\n",
    "    post_uniform = pm.Binomial('post_uniform', p=theta_uniform, n=20)\n",
    "    trace = pm.sample()\n",
    "    MAP = pm.find_MAP()"
   ]
  },
  {
   "cell_type": "code",
   "execution_count": 47,
   "metadata": {},
   "outputs": [
    {
     "data": {
      "text/plain": [
       "<matplotlib.text.Text at 0x7fc832cea588>"
      ]
     },
     "execution_count": 47,
     "metadata": {},
     "output_type": "execute_result"
    },
    {
     "data": {
      "image/png": "[encoded data removed]",
      "text/plain": [
       "<matplotlib.figure.Figure at 0x7fc831c4e0f0>"
      ]
     },
     "metadata": {},
     "output_type": "display_data"
    }
   ],
   "source": [
    "fig, axs = plt.subplots(1, 2, figsize=(14, 6))\n",
    "plt.sca(axs[0])\n",
    "hist(trace.theta_uniform)\n",
    "title('Caso uniforme: Posterior')\n",
    "\n",
    "plt.sca(axs[1])\n",
    "hist(trace.post_uniform)\n",
    "title('Caso uniforme: Predicción')"
   ]
  },
  {
   "cell_type": "code",
   "execution_count": 27,
   "metadata": {},
   "outputs": [
    {
     "name": "stdout",
     "output_type": "stream",
     "text": [
      "MAP Estimate para beta(1, 1): 0.9999996155210419\n",
      "Media para beta(1, 1): 0.9529261920092479\n"
     ]
    }
   ],
   "source": [
    "print('MAP Estimate para beta(1, 1): {}'.format(MAP['theta_uniform']))\n",
    "print('Media para beta(1, 1): {}'.format(mean(trace.theta_uniform)))"
   ]
  },
  {
   "cell_type": "markdown",
   "metadata": {},
   "source": [
    "sube la media"
   ]
  },
  {
   "cell_type": "markdown",
   "metadata": {},
   "source": [
    "#### Caso honesto"
   ]
  },
  {
   "cell_type": "code",
   "execution_count": 48,
   "metadata": {},
   "outputs": [
    {
     "name": "stderr",
     "output_type": "stream",
     "text": [
      "Assigned NUTS to theta_honest_logodds__\n",
      "Assigned Metropolis to post_honest\n",
      "100%|██████████| 1000/1000 [00:01<00:00, 588.23it/s]\n",
      "logp = -13.525, ||grad|| = 10: 100%|██████████| 6/6 [00:00<00:00, 1015.98it/s]\n"
     ]
    }
   ],
   "source": [
    "model_honest = pm.Model()\n",
    "with model_honest:\n",
    "    theta_honest = pm.Beta('theta_honest', 50, 50)  # TODO\n",
    "    tiradas = pm.Binomial('tiradas', p=theta_honest, n=20, observed=20)\n",
    "    post_honest = pm.Binomial('post_honest', p=theta_honest, n=20)\n",
    "    trace = pm.sample()\n",
    "    MAP = pm.find_MAP()"
   ]
  },
  {
   "cell_type": "code",
   "execution_count": 50,
   "metadata": {},
   "outputs": [
    {
     "data": {
      "text/plain": [
       "<matplotlib.text.Text at 0x7fc832839f60>"
      ]
     },
     "execution_count": 50,
     "metadata": {},
     "output_type": "execute_result"
    },
    {
     "data": {
      "image/png": "[encoded data removed]",
      "text/plain": [
       "<matplotlib.figure.Figure at 0x7fc8320b4240>"
      ]
     },
     "metadata": {},
     "output_type": "display_data"
    }
   ],
   "source": [
    "fig, axs = plt.subplots(1, 2, figsize=(14, 6))\n",
    "plt.sca(axs[0])\n",
    "hist(trace.theta_honest)\n",
    "title('Caso honesto: Posterior')\n",
    "\n",
    "plt.sca(axs[1])\n",
    "hist(trace.post_honest)\n",
    "title('Caso honesto: Predicción')"
   ]
  },
  {
   "cell_type": "code",
   "execution_count": 40,
   "metadata": {},
   "outputs": [
    {
     "name": "stdout",
     "output_type": "stream",
     "text": [
      "MAP Estimate para beta(50, 50): 0.5724637662218673\n",
      "Media para beta(50, 50): 0.5830682681712718\n"
     ]
    }
   ],
   "source": [
    "print('MAP Estimate para beta(50, 50): {}'.format(MAP['theta_honest']))\n",
    "print('Media para beta(50, 50): {}'.format(mean(trace.theta_honest)))"
   ]
  },
  {
   "cell_type": "markdown",
   "metadata": {},
   "source": [
    "suben los valores"
   ]
  },
  {
   "cell_type": "markdown",
   "metadata": {},
   "source": [
    "Para el experimento de 3 tiradas espero q estos valos en ambos casos bajen. Se puede hacer un grafiquito de eso y ver como cambian segun aumenta el n (o el k)."
   ]
  },
  {
   "cell_type": "code",
   "execution_count": null,
   "metadata": {
    "collapsed": true
   },
   "outputs": [],
   "source": []
  }
 ],
 "metadata": {
  "anaconda-cloud": {},
  "kernelspec": {
   "display_name": "Python 3",
   "language": "python",
   "name": "python3"
  },
  "language_info": {
   "codemirror_mode": {
    "name": "ipython",
    "version": 3
   },
   "file_extension": ".py",
   "mimetype": "text/x-python",
   "name": "python",
   "nbconvert_exporter": "python",
   "pygments_lexer": "ipython3",
   "version": "3.6.2"
  }
 },
 "nbformat": 4,
 "nbformat_minor": 2
}

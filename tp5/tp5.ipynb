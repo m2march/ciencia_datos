{
 "cells": [
  {
   "cell_type": "code",
   "execution_count": 4,
   "metadata": {
    "collapsed": false
   },
   "outputs": [
    {
     "name": "stdout",
     "output_type": "stream",
     "text": [
      "Using matplotlib backend: Qt5Agg\n",
      "Populating the interactive namespace from numpy and matplotlib\n"
     ]
    }
   ],
   "source": [
    "%pylab\n",
    "%matplotlib inline"
   ]
  },
  {
   "cell_type": "code",
   "execution_count": 68,
   "metadata": {
    "collapsed": true
   },
   "outputs": [],
   "source": [
    "import pymc3 as pm\n",
    "from collections import Counter\n",
    "import seaborn as sns\n",
    "import pandas as pd"
   ]
  },
  {
   "cell_type": "markdown",
   "metadata": {},
   "source": [
    "## 1. Implementación del modelo Beta-Binomial para la moneda\n",
    "\n",
    "#### Caso uniforme: B(1,1)\n",
    "Para modelar el _prior_ $\\theta$ utilizaremos en este caso, una distribución Beta con sus parámetros $\\alpha$ y $\\beta$ iguales a 1, lo que es equivalente a una distribución uniforme (Unif(0,1)). Por su parte para modelar $k$ utilizaremos una distribución binomial.\n",
    "<br>\n",
    "Se implementarán las distribuciones mencionadas para el experimento de arrojar una moneda al aire 6 veces y en todas ellas se obtuvo \"cara\"."
   ]
  },
  {
   "cell_type": "code",
   "execution_count": 7,
   "metadata": {
    "collapsed": false
   },
   "outputs": [
    {
     "name": "stderr",
     "output_type": "stream",
     "text": [
      "Auto-assigning NUTS sampler...\n",
      "Initializing NUTS using jitter+adapt_diag...\n",
      "100%|██████████| 1000/1000 [00:00<00:00, 1343.94it/s]\n"
     ]
    }
   ],
   "source": [
    "model_uniform = pm.Model()\n",
    "with model_uniform:\n",
    "    theta = pm.Beta('theta_uniform', 1, 1)\n",
    "    tiradas = pm.Binomial('tiradas', n=6, p=theta, observed=6)\n",
    "    trace = pm.sample()\n",
    "    "
   ]
  },
  {
   "cell_type": "code",
   "execution_count": 9,
   "metadata": {
    "collapsed": false
   },
   "outputs": [
    {
     "data": {
      "text/plain": [
       "<matplotlib.text.Text at 0x7f9104307198>"
      ]
     },
     "execution_count": 9,
     "metadata": {},
     "output_type": "execute_result"
    },
    {
     "data": {
      "image/png": "[encoded data removed]",
      "text/plain": [
       "<matplotlib.figure.Figure at 0x7f9104deccc0>"
      ]
     },
     "metadata": {},
     "output_type": "display_data"
    }
   ],
   "source": [
    "hist(trace.theta_uniform)\n",
    "title('Caso uniforme')\n",
    "xlabel(r'$p(\\theta | k = 6)$')\n",
    "ylabel('frecuencia')"
   ]
  },
  {
   "cell_type": "markdown",
   "metadata": {},
   "source": [
    "A partir de un $\\theta$ uniforme se obtuvo que el _posterior_ (p($\\theta$|$k$)) indicaría que la moneda está cargada."
   ]
  },
  {
   "cell_type": "markdown",
   "metadata": {},
   "source": [
    "#### Caso Honesto: B(100,100)\n",
    "\n",
    "En este caso el _prior_ se modelará teniendo en cuenta que la probabilidad de sacar \"cara\" o \"ceca\" al arrojar la moneda es 0.5 en ambos casos. Es decir, se asume una \"moneda honesta\".\n",
    "<br>\n",
    "Se implementarán las distribuciones mencionadas para el experimento de arrojar una moneda al aire 6 veces y en todas ellas se obtuvo \"cara\"."
   ]
  },
  {
   "cell_type": "code",
   "execution_count": 28,
   "metadata": {
    "collapsed": false
   },
   "outputs": [
    {
     "name": "stderr",
     "output_type": "stream",
     "text": [
      "Auto-assigning NUTS sampler...\n",
      "Initializing NUTS using jitter+adapt_diag...\n",
      "100%|██████████| 1000/1000 [00:00<00:00, 1606.36it/s]\n"
     ]
    }
   ],
   "source": [
    "model_honest = pm.Model()\n",
    "with model_honest:\n",
    "    theta_honest = pm.Beta('theta_honest', 50, 50)  # TODO: cambiar a 100, 100 cuando sepamos como\n",
    "    tiradas = pm.Binomial('tiradas', n=6, p=theta_honest, observed=6)\n",
    "    trace = pm.sample()"
   ]
  },
  {
   "cell_type": "code",
   "execution_count": 29,
   "metadata": {
    "collapsed": false
   },
   "outputs": [
    {
     "data": {
      "text/plain": [
       "<matplotlib.text.Text at 0x7f90fa127e80>"
      ]
     },
     "execution_count": 29,
     "metadata": {},
     "output_type": "execute_result"
    },
    {
     "data": {
      "image/png": "[encoded data removed]",
      "text/plain": [
       "<matplotlib.figure.Figure at 0x7f90fb0fa668>"
      ]
     },
     "metadata": {},
     "output_type": "display_data"
    }
   ],
   "source": [
    "hist(trace.theta_honest)\n",
    "title('Caso moneda honesta')\n",
    "xlabel(r'$p(\\theta|k = 6)$')\n",
    "ylabel('frecuencia')"
   ]
  },
  {
   "cell_type": "markdown",
   "metadata": {},
   "source": [
    "En este caso,a  diferencia del anterior, no se asume desde un primer momento que la moneda está cargada y eso mismo se ve reflejado en la probabilidad p($\\theta$|$k$). "
   ]
  },
  {
   "cell_type": "code",
   "execution_count": 30,
   "metadata": {
    "collapsed": false
   },
   "outputs": [
    {
     "name": "stderr",
     "output_type": "stream",
     "text": [
      "Auto-assigning NUTS sampler...\n",
      "Initializing NUTS using jitter+adapt_diag...\n",
      "100%|██████████| 1000/1000 [00:00<00:00, 1308.35it/s]\n"
     ]
    }
   ],
   "source": [
    "#vemos que la distribucion se centra en 0.5\n",
    "model_honest = pm.Model()\n",
    "with model_honest:\n",
    "    theta_honest_prior = pm.Beta('theta_honest', 50, 50)  # TODO: NUTS no funciona con 100, 100\n",
    "    trace_prior = pm.sample()"
   ]
  },
  {
   "cell_type": "markdown",
   "metadata": {},
   "source": [
    "Si comparamos las distribucion del prior de $\\theta$ versus su posterior, vemos que la media se corrió levemente hacia el lado sesgado en _cara_."
   ]
  },
  {
   "cell_type": "code",
   "execution_count": 34,
   "metadata": {
    "collapsed": false
   },
   "outputs": [
    {
     "name": "stdout",
     "output_type": "stream",
     "text": [
      "Media de p(theta): 0.4991\n",
      "Media de p(theta | k = 6): 0.5274\n"
     ]
    }
   ],
   "source": [
    "print('Media de p(theta): {:.4f}'.format(trace_prior.theta_honest.mean()))\n",
    "print('Media de p(theta | k = 6): {:.4f}'.format(trace.theta_honest.mean()))"
   ]
  },
  {
   "cell_type": "markdown",
   "metadata": {},
   "source": [
    "## 2. MAP y medias de las distribuciones\n",
    "\n",
    "Para lograr una mejor descripción de las probabilidades encontradas en los dos casos de estudio, se calculan el Máximo A Posteriori y las medias."
   ]
  },
  {
   "cell_type": "markdown",
   "metadata": {},
   "source": [
    "#### Caso Uniforme"
   ]
  },
  {
   "cell_type": "code",
   "execution_count": 141,
   "metadata": {
    "collapsed": false
   },
   "outputs": [
    {
     "name": "stderr",
     "output_type": "stream",
     "text": [
      "Auto-assigning NUTS sampler...\n",
      "Initializing NUTS using jitter+adapt_diag...\n",
      "100%|██████████| 1000/1000 [00:00<00:00, 1341.56it/s]\n",
      "logp = -0.0023631, ||grad|| = 0.0023627: 100%|██████████| 20/20 [00:00<00:00, 2223.97it/s]  \n"
     ]
    }
   ],
   "source": [
    "model_uniform = pm.Model()\n",
    "with model_uniform:\n",
    "    theta_uniform = pm.Beta('theta_uniform', 1, 1)\n",
    "    tiradas = pm.Binomial('tiradas', p=theta_uniform, n=6, observed=6)\n",
    "    trace = pm.sample()\n",
    "    MAP = pm.find_MAP()"
   ]
  },
  {
   "cell_type": "code",
   "execution_count": 142,
   "metadata": {
    "collapsed": false
   },
   "outputs": [
    {
     "data": {
      "text/plain": [
       "{'theta_uniform': array(0.9999984620831801),\n",
       " 'theta_uniform_logodds__': array(13.385080233683778)}"
      ]
     },
     "execution_count": 142,
     "metadata": {},
     "output_type": "execute_result"
    }
   ],
   "source": [
    "MAP"
   ]
  },
  {
   "cell_type": "code",
   "execution_count": 16,
   "metadata": {
    "collapsed": false
   },
   "outputs": [
    {
     "name": "stdout",
     "output_type": "stream",
     "text": [
      "MAP Estimate para beta(1, 1): 0.9999984620831801\n"
     ]
    }
   ],
   "source": [
    "print('MAP Estimate para beta(1, 1): {}'.format(MAP['theta_uniform']))"
   ]
  },
  {
   "cell_type": "code",
   "execution_count": 17,
   "metadata": {
    "collapsed": false
   },
   "outputs": [
    {
     "name": "stdout",
     "output_type": "stream",
     "text": [
      "Media para beta(1, 1): 0.8773423515808103\n"
     ]
    }
   ],
   "source": [
    "print('Media para beta(1, 1): {}'.format(mean(trace.theta_uniform)))"
   ]
  },
  {
   "cell_type": "markdown",
   "metadata": {},
   "source": [
    "#### Caso Honesto"
   ]
  },
  {
   "cell_type": "code",
   "execution_count": 18,
   "metadata": {
    "collapsed": false
   },
   "outputs": [
    {
     "name": "stderr",
     "output_type": "stream",
     "text": [
      "Auto-assigning NUTS sampler...\n",
      "Initializing NUTS using jitter+adapt_diag...\n",
      "100%|██████████| 1000/1000 [00:00<00:00, 1176.11it/s]\n",
      "logp = -2.0846, ||grad|| = 3: 100%|██████████| 6/6 [00:00<00:00, 1293.81it/s]\n"
     ]
    }
   ],
   "source": [
    "model_honest = pm.Model()\n",
    "with model_honest:\n",
    "    theta_honest = pm.Beta('theta_honest', 50, 50)  # TODO\n",
    "    tiradas = pm.Binomial('tiradas', p=theta_honest, n=6, observed=6)\n",
    "    trace = pm.sample()\n",
    "    MAP = pm.find_MAP()"
   ]
  },
  {
   "cell_type": "code",
   "execution_count": 19,
   "metadata": {
    "collapsed": false,
    "scrolled": true
   },
   "outputs": [
    {
     "name": "stdout",
     "output_type": "stream",
     "text": [
      "MAP Estimate para beta(50, 50): 0.5288461537406147\n"
     ]
    }
   ],
   "source": [
    "print('MAP Estimate para beta(50, 50): {}'.format(MAP['theta_honest']))"
   ]
  },
  {
   "cell_type": "code",
   "execution_count": 20,
   "metadata": {
    "collapsed": false
   },
   "outputs": [
    {
     "name": "stdout",
     "output_type": "stream",
     "text": [
      "Media para beta(50, 50): 0.5272513239222776\n"
     ]
    }
   ],
   "source": [
    "print('Media para beta(50, 50): {}'.format(mean(trace.theta_honest)))"
   ]
  },
  {
   "cell_type": "markdown",
   "metadata": {},
   "source": [
    "En el caso de prior uniforme, tanto el MAP como la media de la distribución a posteriori de $\\theta$ se encuentran cerca del 1, indicando que la moneda está cargada para que salga cara. En cambio, en el caso del prior que asume una moneda honesta, el MAP y la media de la distribución a posteriori siguen cerca de 0.5, aunque con un leve sesgo hacia 1."
   ]
  },
  {
   "cell_type": "markdown",
   "metadata": {},
   "source": [
    "## 3. Predicción\n",
    "\n",
    "Aquí se querrá predecir el resultado de un próximo lanzamiento de moneda teniendo en cuenta la información ya modelada."
   ]
  },
  {
   "cell_type": "markdown",
   "metadata": {},
   "source": [
    "#### Caso uniforme"
   ]
  },
  {
   "cell_type": "code",
   "execution_count": 37,
   "metadata": {
    "collapsed": false
   },
   "outputs": [
    {
     "name": "stderr",
     "output_type": "stream",
     "text": [
      "Assigned NUTS to theta_uniform_logodds__\n",
      "Assigned Metropolis to post_uniform\n",
      " 96%|█████████▌| 958/1000 [00:01<00:00, 589.30it/s]/home/march/anaconda2/envs/py3/lib/python3.5/site-packages/pymc3/step_methods/hmc/nuts.py:451: UserWarning: The acceptance probability in chain 0 does not match the target. It is 0.711744507944, but should be close to 0.8. Try to increase the number of tuning steps.\n",
      "  % (self._chain_id, mean_accept, target_accept))\n",
      "100%|██████████| 1000/1000 [00:01<00:00, 591.77it/s]\n"
     ]
    }
   ],
   "source": [
    "model_uniform = pm.Model()\n",
    "with model_uniform:\n",
    "    theta_uniform = pm.Beta('theta_uniform', 1, 1)\n",
    "    dato = pm.Binomial('dato', p=theta_uniform, n=6, observed=6)\n",
    "    post_uniform = pm.Binomial('post_uniform', p=theta_uniform, n=6)\n",
    "    trace = pm.sample()"
   ]
  },
  {
   "cell_type": "code",
   "execution_count": 39,
   "metadata": {
    "collapsed": false
   },
   "outputs": [],
   "source": [
    "count = Counter(sort(trace.post_uniform))"
   ]
  },
  {
   "cell_type": "code",
   "execution_count": 47,
   "metadata": {
    "collapsed": false
   },
   "outputs": [
    {
     "data": {
      "text/plain": [
       "<matplotlib.text.Text at 0x7f90fa91f208>"
      ]
     },
     "execution_count": 47,
     "metadata": {},
     "output_type": "execute_result"
    },
    {
     "data": {
      "image/png": "[encoded data removed]",
      "text/plain": [
       "<matplotlib.figure.Figure at 0x7f90fa91c780>"
      ]
     },
     "metadata": {},
     "output_type": "display_data"
    }
   ],
   "source": [
    "bar(arange(len(count)) + 1, count.values())\n",
    "title('Predicción caso uniforme')\n",
    "xlabel('Cantidad de caras en 6 nuevas tiradas')\n",
    "ylabel('Cantidad de trials con k tiradas')"
   ]
  },
  {
   "cell_type": "markdown",
   "metadata": {},
   "source": [
    "Teniendo en cuenta el _posterior_ de $\\theta$ dado los datos estima que la moneda está cargada, la predicción que se obtiene se ve completamente influenciada resultando mayor la probabilidad que vuelva a salir muchas caras en los próximos lanzamientos."
   ]
  },
  {
   "cell_type": "markdown",
   "metadata": {},
   "source": [
    "#### Caso honesto "
   ]
  },
  {
   "cell_type": "code",
   "execution_count": 48,
   "metadata": {
    "collapsed": false
   },
   "outputs": [
    {
     "name": "stderr",
     "output_type": "stream",
     "text": [
      "Assigned NUTS to theta_honest_logodds__\n",
      "Assigned Metropolis to post_honest\n",
      "100%|██████████| 1000/1000 [00:01<00:00, 597.35it/s]\n"
     ]
    }
   ],
   "source": [
    "model_honest = pm.Model()\n",
    "with model_honest:\n",
    "    theta_honest = pm.Beta('theta_honest', 50, 50)\n",
    "    dato = pm.Binomial('dato', p=theta_honest, n=6, observed=6)\n",
    "    post_honest = pm.Binomial('post_honest', p=theta_honest, n=6)\n",
    "    trace = pm.sample()"
   ]
  },
  {
   "cell_type": "code",
   "execution_count": 50,
   "metadata": {
    "collapsed": false
   },
   "outputs": [],
   "source": [
    "count = Counter(sort(trace.post_honest))"
   ]
  },
  {
   "cell_type": "code",
   "execution_count": 52,
   "metadata": {
    "collapsed": false
   },
   "outputs": [
    {
     "data": {
      "text/plain": [
       "<matplotlib.text.Text at 0x7f90f3317e48>"
      ]
     },
     "execution_count": 52,
     "metadata": {},
     "output_type": "execute_result"
    },
    {
     "data": {
      "image/png": "[encoded data removed]",
      "text/plain": [
       "<matplotlib.figure.Figure at 0x7f90f847ea58>"
      ]
     },
     "metadata": {},
     "output_type": "display_data"
    }
   ],
   "source": [
    "bar(arange(len(count)) + 1, count.values())\n",
    "title('Predicción caso honesto')\n",
    "xlabel('Cantidad de caras en 6 nuevas tiradas')\n",
    "ylabel('Cantidad de trials con k tiradas')"
   ]
  },
  {
   "cell_type": "markdown",
   "metadata": {},
   "source": [
    "Como era de esperarse, cuando el _prior_ asume una moneda honesta, el _posterior_ mantiene una moneda honesta. De esta forma, la predicción para el resultado de los próximos lanzamientos no indica que es probable tener más caras que cecas."
   ]
  },
  {
   "cell_type": "markdown",
   "metadata": {
    "collapsed": true
   },
   "source": [
    "## 4. Comparaciones entre datos\n",
    "\n",
    "Con el objetivo de analizar cuánto influyen los datos iniciales y las creencias que son asumidas en el _prior_ se pondrán a prueba dos experimentos que se diferencian en la cantidad de tiradas y resultados obtenidos."
   ]
  },
  {
   "cell_type": "markdown",
   "metadata": {},
   "source": [
    "TODO: se podria hacer una funcion que haga lo mismo que en los puntos anteriores y aca solo le cambiamos el n y el k (3, 20). "
   ]
  },
  {
   "cell_type": "code",
   "execution_count": 53,
   "metadata": {
    "collapsed": true
   },
   "outputs": [],
   "source": [
    "def uniforme_vs_honesto(cant_tiradas):\n",
    "    model_uniform = pm.Model()\n",
    "    with model_uniform:\n",
    "        theta_uniform = pm.Beta('theta_uniform', 1, 1)\n",
    "        tiradas = pm.Binomial('tiradas', p=theta_uniform, n=cant_tiradas, observed=cant_tiradas)\n",
    "        post_uniform = pm.Binomial('post_uniform', p=theta_uniform, n=cant_tiradas)\n",
    "        trace_uniforme = pm.sample()\n",
    "        MAP_uniforme = pm.find_MAP()\n",
    "\n",
    "    model_honest = pm.Model()\n",
    "    with model_honest:\n",
    "        theta_honest = pm.Beta('theta_honest', 50, 50)  # TODO\n",
    "        tiradas = pm.Binomial('tiradas', p=theta_honest, n=cant_tiradas, observed=cant_tiradas)\n",
    "        post_honest = pm.Binomial('post_honest', p=theta_honest, n=cant_tiradas)\n",
    "        trace_honesto = pm.sample()\n",
    "        MAP_honesto = pm.find_MAP()\n",
    "        \n",
    "    return trace_uniforme, MAP_uniforme, trace_honesto, MAP_honesto"
   ]
  },
  {
   "cell_type": "markdown",
   "metadata": {},
   "source": [
    "### Experimento 1: 20 tiradas, 20 caras\n",
    "\n",
    "#### Caso uniforme"
   ]
  },
  {
   "cell_type": "code",
   "execution_count": 80,
   "metadata": {
    "collapsed": false
   },
   "outputs": [
    {
     "name": "stderr",
     "output_type": "stream",
     "text": [
      "Assigned NUTS to theta_uniform_logodds__\n",
      "Assigned Metropolis to post_uniform\n",
      "100%|██████████| 1000/1000 [00:01<00:00, 565.94it/s]\n",
      "logp = -15.599, ||grad|| = 10: 100%|██████████| 7/7 [00:00<00:00, 1492.56it/s]\n",
      "Assigned NUTS to theta_honest_logodds__\n",
      "Assigned Metropolis to post_honest\n",
      "100%|██████████| 1000/1000 [00:01<00:00, 619.35it/s]\n",
      "logp = -13.525, ||grad|| = 10: 100%|██████████| 6/6 [00:00<00:00, 1389.76it/s]\n",
      "Assigned NUTS to theta_uniform_logodds__\n",
      "Assigned Metropolis to post_uniform\n",
      "100%|██████████| 1000/1000 [00:02<00:00, 459.49it/s]\n",
      "logp = -3.0603, ||grad|| = 2: 100%|██████████| 8/8 [00:00<00:00, 1580.97it/s]\n",
      "Assigned NUTS to theta_honest_logodds__\n",
      "Assigned Metropolis to post_honest\n",
      "100%|██████████| 1000/1000 [00:01<00:00, 602.29it/s]\n",
      "logp = -0.98598, ||grad|| = 2: 100%|██████████| 6/6 [00:00<00:00, 1521.42it/s]\n"
     ]
    }
   ],
   "source": [
    "trace_uniforme_20, MAP_uniforme_20, trace_honesto_20, MAP_honesto_20 = uniforme_vs_honesto(20)\n",
    "trace_uniforme_3, MAP_uniforme_3, trace_honesto_3, MAP_honesto_3 = uniforme_vs_honesto(3)"
   ]
  },
  {
   "cell_type": "code",
   "execution_count": 74,
   "metadata": {
    "collapsed": false
   },
   "outputs": [
    {
     "data": {
      "text/plain": [
       "<matplotlib.text.Text at 0x7f90f0b8efd0>"
      ]
     },
     "execution_count": 74,
     "metadata": {},
     "output_type": "execute_result"
    },
    {
     "data": {
      "image/png": "[encoded data removed]",
      "text/plain": [
       "<matplotlib.figure.Figure at 0x7f90f0b9f588>"
      ]
     },
     "metadata": {},
     "output_type": "display_data"
    }
   ],
   "source": [
    "fig, axs = plt.subplots(1, 2, figsize=(14, 6))\n",
    "\n",
    "plt.sca(axs[0])\n",
    "bins = linspace(0, 1, 10)\n",
    "hist_20 = hist(trace_uniforme_20.theta_uniform, label='20 tiradas', color='red', bins=bins, alpha=0.5)\n",
    "hist_3 = hist(trace_uniforme_3.theta_uniform, label='3 tiradas', bins=bins, alpha=0.5)\n",
    "legend()\n",
    "title('Caso uniforme: posterior')\n",
    "xlabel(r'$p(\\theta | k = n)$')\n",
    "ylabel('frequencia')\n",
    "\n",
    "plt.sca(axs[1])\n",
    "bins = linspace(0, 1, 10)\n",
    "hist_20 = hist(trace_honesto_20.theta_honest, label='20 tiradas', color='red', bins=bins, alpha=0.5)\n",
    "hist_3 = hist(trace_honesto_3.theta_honest, label='3 tiradas', bins=bins, alpha=0.5)\n",
    "legend()\n",
    "title('Caso honesto: posterior')\n",
    "xlabel(r'$p(\\theta | k = n)$')\n",
    "ylabel('frequencia')"
   ]
  },
  {
   "cell_type": "code",
   "execution_count": 89,
   "metadata": {
    "collapsed": false
   },
   "outputs": [
    {
     "data": {
      "text/plain": [
       "{'post_uniform': array(10),\n",
       " 'theta_uniform': array(0.7499999999698487),\n",
       " 'theta_uniform_logodds__': array(1.0986122885073026)}"
      ]
     },
     "execution_count": 89,
     "metadata": {},
     "output_type": "execute_result"
    }
   ],
   "source": [
    "MAP_uniforme_20"
   ]
  },
  {
   "cell_type": "code",
   "execution_count": 87,
   "metadata": {
    "collapsed": false
   },
   "outputs": [
    {
     "data": {
      "text/html": [
       "<div>\n",
       "<style>\n",
       "    .dataframe thead tr:only-child th {\n",
       "        text-align: right;\n",
       "    }\n",
       "\n",
       "    .dataframe thead th {\n",
       "        text-align: left;\n",
       "    }\n",
       "\n",
       "    .dataframe tbody tr th {\n",
       "        vertical-align: top;\n",
       "    }\n",
       "</style>\n",
       "<table border=\"1\" class=\"dataframe\">\n",
       "  <thead>\n",
       "    <tr style=\"text-align: right;\">\n",
       "      <th></th>\n",
       "      <th>20 tiradas</th>\n",
       "      <th>3 tiradas</th>\n",
       "    </tr>\n",
       "  </thead>\n",
       "  <tbody>\n",
       "    <tr>\n",
       "      <th>MAP</th>\n",
       "      <td>0.7499999999698487</td>\n",
       "      <td>0.8333333324331214</td>\n",
       "    </tr>\n",
       "    <tr>\n",
       "      <th>mean</th>\n",
       "      <td>0.964942</td>\n",
       "      <td>0.805534</td>\n",
       "    </tr>\n",
       "  </tbody>\n",
       "</table>\n",
       "</div>"
      ],
      "text/plain": [
       "              20 tiradas           3 tiradas\n",
       "MAP   0.7499999999698487  0.8333333324331214\n",
       "mean            0.964942            0.805534"
      ]
     },
     "execution_count": 87,
     "metadata": {},
     "output_type": "execute_result"
    }
   ],
   "source": [
    "df_unif = pd.DataFrame({\n",
    "        'MAP': {'3 tiradas': MAP_uniforme_3['theta_uniform'],\n",
    "                '20 tiradas': MAP_uniforme_20['theta_uniform']},\n",
    "        'mean': {'3 tiradas': trace_uniforme_3.theta_uniform.mean(),\n",
    "                 '20 tiradas': trace_uniforme_20.theta_uniform.mean()}\n",
    "    })\n",
    "df_unif.T"
   ]
  },
  {
   "cell_type": "code",
   "execution_count": 101,
   "metadata": {
    "collapsed": true
   },
   "outputs": [],
   "source": [
    "from sklearn.neighbors import KernelDensity"
   ]
  },
  {
   "cell_type": "code",
   "execution_count": 137,
   "metadata": {
    "collapsed": false
   },
   "outputs": [],
   "source": [
    "def dens(n_mas):\n",
    "    data = random.beta(1 + n_mas, 1, 1000)\n",
    "\n",
    "    kd = KernelDensity()\n",
    "    kd.fit(data.reshape((-1, 1)))\n",
    "\n",
    "    xs = linspace(0, 1, 1000)\n",
    "    ys = kd.score_samples(xs.reshape((-1, 1)))\n",
    "    plot(xs, pow(np.e, ys), label=str(n_mas))\n",
    "    vlines(data.mean(), ymin=0, ymax=0.4)"
   ]
  },
  {
   "cell_type": "code",
   "execution_count": 140,
   "metadata": {
    "collapsed": false
   },
   "outputs": [
    {
     "data": {
      "text/plain": [
       "<matplotlib.legend.Legend at 0x7f90ea65dfd0>"
      ]
     },
     "execution_count": 140,
     "metadata": {},
     "output_type": "execute_result"
    },
    {
     "data": {
      "image/png": "[encoded data removed]",
      "text/plain": [
       "<matplotlib.figure.Figure at 0x7f90ea64e6d8>"
      ]
     },
     "metadata": {},
     "output_type": "display_data"
    }
   ],
   "source": [
    "fig = plt.figure(figsize=(12, 12))\n",
    "dens(3)\n",
    "dens(6)\n",
    "dens(20)\n",
    "legend()"
   ]
  },
  {
   "cell_type": "code",
   "execution_count": null,
   "metadata": {
    "collapsed": true
   },
   "outputs": [],
   "source": []
  }
 ],
 "metadata": {
  "anaconda-cloud": {},
  "kernelspec": {
   "display_name": "Python [default]",
   "language": "python",
   "name": "python3"
  },
  "language_info": {
   "codemirror_mode": {
    "name": "ipython",
    "version": 3
   },
   "file_extension": ".py",
   "mimetype": "text/x-python",
   "name": "python",
   "nbconvert_exporter": "python",
   "pygments_lexer": "ipython3",
   "version": "3.5.2"
  }
 },
 "nbformat": 4,
 "nbformat_minor": 2
}

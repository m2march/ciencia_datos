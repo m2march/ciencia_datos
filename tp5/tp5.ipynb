{
 "cells": [
  {
   "cell_type": "code",
   "execution_count": 1,
   "metadata": {
    "collapsed": false
   },
   "outputs": [
    {
     "name": "stdout",
     "output_type": "stream",
     "text": [
      "Using matplotlib backend: Qt5Agg\n",
      "Populating the interactive namespace from numpy and matplotlib\n"
     ]
    }
   ],
   "source": [
    "%pylab\n",
    "%matplotlib inline"
   ]
  },
  {
   "cell_type": "code",
   "execution_count": 86,
   "metadata": {
    "collapsed": true
   },
   "outputs": [],
   "source": [
    "import pymc3 as pm\n",
    "from collections import Counter\n",
    "from scipy import stats\n",
    "import seaborn as sns\n",
    "import pandas as pd"
   ]
  },
  {
   "cell_type": "markdown",
   "metadata": {},
   "source": [
    "## 1. Implementación del modelo Beta-Binomial para la moneda\n",
    "\n",
    "#### Caso uniforme: B(1,1)\n",
    "Para modelar el _prior_ $\\theta$ utilizaremos en este caso, una distribución Beta con sus parámetros $\\alpha$ y $\\beta$ iguales a 1, lo que es equivalente a una distribución uniforme (Unif(0,1)). Por su parte para modelar $k$ utilizaremos una distribución binomial.\n",
    "<br>\n",
    "Se implementarán las distribuciones mencionadas para el experimento de arrojar una moneda al aire 6 veces y en todas ellas se obtuvo \"cara\"."
   ]
  },
  {
   "cell_type": "code",
   "execution_count": 3,
   "metadata": {
    "collapsed": false
   },
   "outputs": [
    {
     "name": "stderr",
     "output_type": "stream",
     "text": [
      "Auto-assigning NUTS sampler...\n",
      "Initializing NUTS using jitter+adapt_diag...\n",
      "100%|██████████| 1000/1000 [00:00<00:00, 1213.50it/s]\n"
     ]
    }
   ],
   "source": [
    "model_uniform = pm.Model()\n",
    "with model_uniform:\n",
    "    theta = pm.Beta('theta_uniform', 1, 1)\n",
    "    tiradas = pm.Binomial('tiradas', n=6, p=theta, observed=6)\n",
    "    trace = pm.sample()\n",
    "    "
   ]
  },
  {
   "cell_type": "code",
   "execution_count": 4,
   "metadata": {
    "collapsed": false
   },
   "outputs": [
    {
     "data": {
      "text/plain": [
       "<matplotlib.text.Text at 0x7f03286c58d0>"
      ]
     },
     "execution_count": 4,
     "metadata": {},
     "output_type": "execute_result"
    },
    {
     "data": {
      "image/png": "[encoded data removed]",
      "text/plain": [
       "<matplotlib.figure.Figure at 0x7f03352932e8>"
      ]
     },
     "metadata": {},
     "output_type": "display_data"
    }
   ],
   "source": [
    "hist(trace.theta_uniform)\n",
    "title('Caso uniforme')\n",
    "xlabel(r'$p(\\theta | k = 6)$')\n",
    "ylabel('frecuencia')"
   ]
  },
  {
   "cell_type": "markdown",
   "metadata": {},
   "source": [
    "A partir de un $\\theta$ uniforme se obtuvo que el _posterior_ (p($\\theta$|$k$)) indicaría que la moneda está cargada."
   ]
  },
  {
   "cell_type": "markdown",
   "metadata": {},
   "source": [
    "#### Caso Honesto: B(100,100)\n",
    "\n",
    "En este caso el _prior_ se modelará teniendo en cuenta que la probabilidad de sacar \"cara\" o \"ceca\" al arrojar la moneda es 0.5 en ambos casos. Es decir, se asume una \"moneda honesta\".\n",
    "<br>\n",
    "Se implementarán las distribuciones mencionadas para el experimento de arrojar una moneda al aire 6 veces y en todas ellas se obtuvo \"cara\"."
   ]
  },
  {
   "cell_type": "code",
   "execution_count": 5,
   "metadata": {
    "collapsed": false
   },
   "outputs": [
    {
     "name": "stderr",
     "output_type": "stream",
     "text": [
      "Auto-assigning NUTS sampler...\n",
      "Initializing NUTS using jitter+adapt_diag...\n",
      "100%|██████████| 1000/1000 [00:00<00:00, 1260.88it/s]\n"
     ]
    }
   ],
   "source": [
    "model_honest = pm.Model()\n",
    "with model_honest:\n",
    "    theta_honest = pm.Beta('theta_honest', 50, 50) \n",
    "    tiradas = pm.Binomial('tiradas', n=6, p=theta_honest, observed=6)\n",
    "    trace = pm.sample()"
   ]
  },
  {
   "cell_type": "code",
   "execution_count": 6,
   "metadata": {
    "collapsed": false
   },
   "outputs": [
    {
     "data": {
      "text/plain": [
       "<matplotlib.text.Text at 0x7f032802a9b0>"
      ]
     },
     "execution_count": 6,
     "metadata": {},
     "output_type": "execute_result"
    },
    {
     "data": {
      "image/png": "[encoded data removed]",
      "text/plain": [
       "<matplotlib.figure.Figure at 0x7f032b429358>"
      ]
     },
     "metadata": {},
     "output_type": "display_data"
    }
   ],
   "source": [
    "hist(trace.theta_honest)\n",
    "title('Caso moneda honesta')\n",
    "xlabel(r'$p(\\theta|k = 6)$')\n",
    "ylabel('frecuencia')"
   ]
  },
  {
   "cell_type": "markdown",
   "metadata": {},
   "source": [
    "En este caso,a  diferencia del anterior, no se asume desde un primer momento que la moneda está cargada y eso mismo se ve reflejado en la probabilidad p($\\theta$|$k$). "
   ]
  },
  {
   "cell_type": "code",
   "execution_count": 7,
   "metadata": {
    "collapsed": false
   },
   "outputs": [
    {
     "name": "stderr",
     "output_type": "stream",
     "text": [
      "Auto-assigning NUTS sampler...\n",
      "Initializing NUTS using jitter+adapt_diag...\n",
      "100%|██████████| 1000/1000 [00:00<00:00, 1307.43it/s]\n"
     ]
    }
   ],
   "source": [
    "#vemos que la distribucion se centra en 0.5\n",
    "model_honest = pm.Model()\n",
    "with model_honest:\n",
    "    theta_honest_prior = pm.Beta('theta_honest', 50, 50) \n",
    "    trace_prior = pm.sample()"
   ]
  },
  {
   "cell_type": "markdown",
   "metadata": {},
   "source": [
    "Si comparamos las distribucion del prior de $\\theta$ versus su posterior, vemos que la media se corrió levemente hacia el lado sesgado en _cara_."
   ]
  },
  {
   "cell_type": "code",
   "execution_count": 8,
   "metadata": {
    "collapsed": false
   },
   "outputs": [
    {
     "name": "stdout",
     "output_type": "stream",
     "text": [
      "Media de p(theta): 0.5011\n",
      "Media de p(theta | k = 6): 0.5280\n"
     ]
    }
   ],
   "source": [
    "print('Media de p(theta): {:.4f}'.format(trace_prior.theta_honest.mean()))\n",
    "print('Media de p(theta | k = 6): {:.4f}'.format(trace.theta_honest.mean()))"
   ]
  },
  {
   "cell_type": "markdown",
   "metadata": {},
   "source": [
    "## 2. MAP y medias de las distribuciones\n",
    "\n",
    "Para lograr una mejor descripción de las probabilidades encontradas en los dos casos de estudio, se calculan el Máximo A Posteriori y las medias."
   ]
  },
  {
   "cell_type": "markdown",
   "metadata": {},
   "source": [
    "#### Caso Uniforme"
   ]
  },
  {
   "cell_type": "code",
   "execution_count": 9,
   "metadata": {
    "collapsed": false
   },
   "outputs": [
    {
     "name": "stderr",
     "output_type": "stream",
     "text": [
      "Auto-assigning NUTS sampler...\n",
      "Initializing NUTS using jitter+adapt_diag...\n",
      "100%|██████████| 1000/1000 [00:00<00:00, 1245.09it/s]\n",
      "logp = -0.0023631, ||grad|| = 0.0023627: 100%|██████████| 20/20 [00:00<00:00, 2363.19it/s]  \n"
     ]
    }
   ],
   "source": [
    "model_uniform = pm.Model()\n",
    "with model_uniform:\n",
    "    theta_uniform = pm.Beta('theta_uniform', 1, 1)\n",
    "    tiradas = pm.Binomial('tiradas', p=theta_uniform, n=6, observed=6)\n",
    "    trace = pm.sample()\n",
    "    MAP = pm.find_MAP()"
   ]
  },
  {
   "cell_type": "code",
   "execution_count": 11,
   "metadata": {
    "collapsed": false
   },
   "outputs": [
    {
     "name": "stdout",
     "output_type": "stream",
     "text": [
      "MAP Estimate para beta(1, 1): 0.9999984620831801\n"
     ]
    }
   ],
   "source": [
    "print('MAP Estimate para beta(1, 1): {}'.format(MAP['theta_uniform']))"
   ]
  },
  {
   "cell_type": "code",
   "execution_count": 12,
   "metadata": {
    "collapsed": false
   },
   "outputs": [
    {
     "name": "stdout",
     "output_type": "stream",
     "text": [
      "Media para beta(1, 1): 0.8729094246043256\n"
     ]
    }
   ],
   "source": [
    "print('Media para beta(1, 1): {}'.format(mean(trace.theta_uniform)))"
   ]
  },
  {
   "cell_type": "markdown",
   "metadata": {},
   "source": [
    "#### Caso Honesto"
   ]
  },
  {
   "cell_type": "code",
   "execution_count": 13,
   "metadata": {
    "collapsed": false
   },
   "outputs": [
    {
     "name": "stderr",
     "output_type": "stream",
     "text": [
      "Auto-assigning NUTS sampler...\n",
      "Initializing NUTS using jitter+adapt_diag...\n",
      "100%|██████████| 1000/1000 [00:00<00:00, 1262.99it/s]\n",
      "logp = -2.0846, ||grad|| = 3: 100%|██████████| 6/6 [00:00<00:00, 1533.94it/s]\n"
     ]
    }
   ],
   "source": [
    "model_honest = pm.Model()\n",
    "with model_honest:\n",
    "    theta_honest = pm.Beta('theta_honest', 50, 50)\n",
    "    tiradas = pm.Binomial('tiradas', p=theta_honest, n=6, observed=6)\n",
    "    trace = pm.sample()\n",
    "    MAP = pm.find_MAP()"
   ]
  },
  {
   "cell_type": "code",
   "execution_count": 14,
   "metadata": {
    "collapsed": false,
    "scrolled": true
   },
   "outputs": [
    {
     "name": "stdout",
     "output_type": "stream",
     "text": [
      "MAP Estimate para beta(50, 50): 0.5288461537406147\n"
     ]
    }
   ],
   "source": [
    "print('MAP Estimate para beta(50, 50): {}'.format(MAP['theta_honest']))"
   ]
  },
  {
   "cell_type": "code",
   "execution_count": 15,
   "metadata": {
    "collapsed": false
   },
   "outputs": [
    {
     "name": "stdout",
     "output_type": "stream",
     "text": [
      "Media para beta(50, 50): 0.5305034776431221\n"
     ]
    }
   ],
   "source": [
    "print('Media para beta(50, 50): {}'.format(mean(trace.theta_honest)))"
   ]
  },
  {
   "cell_type": "markdown",
   "metadata": {},
   "source": [
    "En el caso de prior uniforme, tanto el MAP como la media de la distribución a posteriori de $\\theta$ se encuentran cerca del 1, indicando que la moneda está cargada para que salga cara. En cambio, en el caso del prior que asume una moneda honesta, el MAP y la media de la distribución a posteriori siguen cerca de 0.5, aunque con un leve sesgo hacia 1."
   ]
  },
  {
   "cell_type": "markdown",
   "metadata": {},
   "source": [
    "## 3. Predicción\n",
    "\n",
    "Aquí se querrá predecir el resultado de un próximo lanzamiento de moneda teniendo en cuenta la información ya modelada."
   ]
  },
  {
   "cell_type": "markdown",
   "metadata": {},
   "source": [
    "#### Caso uniforme"
   ]
  },
  {
   "cell_type": "code",
   "execution_count": 16,
   "metadata": {
    "collapsed": false
   },
   "outputs": [
    {
     "name": "stderr",
     "output_type": "stream",
     "text": [
      "Assigned NUTS to theta_uniform_logodds__\n",
      "Assigned Metropolis to post_uniform\n",
      " 97%|█████████▋| 972/1000 [00:01<00:00, 620.73it/s]/home/march/anaconda2/envs/py3/lib/python3.5/site-packages/pymc3/step_methods/hmc/nuts.py:451: UserWarning: The acceptance probability in chain 0 does not match the target. It is 0.892782335828, but should be close to 0.8. Try to increase the number of tuning steps.\n",
      "  % (self._chain_id, mean_accept, target_accept))\n",
      "100%|██████████| 1000/1000 [00:01<00:00, 616.92it/s]\n"
     ]
    }
   ],
   "source": [
    "model_uniform = pm.Model()\n",
    "with model_uniform:\n",
    "    theta_uniform = pm.Beta('theta_uniform', 1, 1)\n",
    "    dato = pm.Binomial('dato', p=theta_uniform, n=6, observed=6)\n",
    "    post_uniform = pm.Binomial('post_uniform', p=theta_uniform, n=6)\n",
    "    trace = pm.sample()"
   ]
  },
  {
   "cell_type": "code",
   "execution_count": 17,
   "metadata": {
    "collapsed": false
   },
   "outputs": [],
   "source": [
    "count = Counter(sort(trace.post_uniform))"
   ]
  },
  {
   "cell_type": "code",
   "execution_count": 18,
   "metadata": {
    "collapsed": false
   },
   "outputs": [
    {
     "data": {
      "text/plain": [
       "<matplotlib.text.Text at 0x7f032ce0a320>"
      ]
     },
     "execution_count": 18,
     "metadata": {},
     "output_type": "execute_result"
    },
    {
     "data": {
      "image/png": "[encoded data removed]",
      "text/plain": [
       "<matplotlib.figure.Figure at 0x7f031c0da748>"
      ]
     },
     "metadata": {},
     "output_type": "display_data"
    }
   ],
   "source": [
    "bar(arange(len(count)) + 1, count.values())\n",
    "title('Predicción caso uniforme')\n",
    "xlabel('Cantidad de caras en 6 nuevas tiradas')\n",
    "ylabel('Cantidad de trials con k tiradas')"
   ]
  },
  {
   "cell_type": "markdown",
   "metadata": {},
   "source": [
    "Teniendo en cuenta el _posterior_ de $\\theta$ dado los datos estima que la moneda está cargada, la predicción que se obtiene se ve completamente influenciada resultando mayor la probabilidad que vuelva a salir muchas caras en los próximos lanzamientos."
   ]
  },
  {
   "cell_type": "markdown",
   "metadata": {},
   "source": [
    "#### Caso honesto "
   ]
  },
  {
   "cell_type": "code",
   "execution_count": 19,
   "metadata": {
    "collapsed": false
   },
   "outputs": [
    {
     "name": "stderr",
     "output_type": "stream",
     "text": [
      "Assigned NUTS to theta_honest_logodds__\n",
      "Assigned Metropolis to post_honest\n",
      "100%|██████████| 1000/1000 [00:01<00:00, 628.47it/s]\n"
     ]
    }
   ],
   "source": [
    "model_honest = pm.Model()\n",
    "with model_honest:\n",
    "    theta_honest = pm.Beta('theta_honest', 50, 50)\n",
    "    dato = pm.Binomial('dato', p=theta_honest, n=6, observed=6)\n",
    "    post_honest = pm.Binomial('post_honest', p=theta_honest, n=6)\n",
    "    trace = pm.sample()"
   ]
  },
  {
   "cell_type": "code",
   "execution_count": 20,
   "metadata": {
    "collapsed": false
   },
   "outputs": [],
   "source": [
    "count = Counter(sort(trace.post_honest))"
   ]
  },
  {
   "cell_type": "code",
   "execution_count": 21,
   "metadata": {
    "collapsed": false
   },
   "outputs": [
    {
     "data": {
      "text/plain": [
       "<matplotlib.text.Text at 0x7f031c8fb160>"
      ]
     },
     "execution_count": 21,
     "metadata": {},
     "output_type": "execute_result"
    },
    {
     "data": {
      "image/png": "[encoded data removed]",
      "text/plain": [
       "<matplotlib.figure.Figure at 0x7f03280b93c8>"
      ]
     },
     "metadata": {},
     "output_type": "display_data"
    }
   ],
   "source": [
    "bar(arange(len(count)) + 1, count.values())\n",
    "title('Predicción caso honesto')\n",
    "xlabel('Cantidad de caras en 6 nuevas tiradas')\n",
    "ylabel('Cantidad de trials con k tiradas')"
   ]
  },
  {
   "cell_type": "markdown",
   "metadata": {},
   "source": [
    "Como era de esperarse, cuando el _prior_ asume una moneda honesta, el _posterior_ mantiene una moneda honesta. De esta forma, la predicción para el resultado de los próximos lanzamientos no indica que es probable tener más caras que cecas."
   ]
  },
  {
   "cell_type": "markdown",
   "metadata": {
    "collapsed": true
   },
   "source": [
    "## 4. Comparaciones entre datos\n",
    "\n",
    "Con el objetivo de analizar cuánto influyen los datos iniciales y las creencias que son asumidas en el _prior_ se pondrán a prueba dos experimentos que se diferencian en la cantidad de tiradas y resultados obtenidos."
   ]
  },
  {
   "cell_type": "code",
   "execution_count": 64,
   "metadata": {
    "collapsed": true
   },
   "outputs": [],
   "source": [
    "def uniforme_vs_honesto(cant_tiradas):\n",
    "    model_uniform = pm.Model()\n",
    "    with model_uniform:\n",
    "        theta_uniform = pm.Beta('theta_uniform', 1, 1)\n",
    "        tiradas = pm.Binomial('tiradas', p=theta_uniform, n=cant_tiradas, observed=cant_tiradas)\n",
    "        #post_uniform = pm.Binomial('post_uniform', p=theta_uniform, n=cant_tiradas)\n",
    "        trace_uniforme = pm.sample()\n",
    "    MAP_uniforme = pm.find_MAP(model=model_uniform)\n",
    "\n",
    "    model_honest = pm.Model()\n",
    "    with model_honest:\n",
    "        theta_honest = pm.Beta('theta_honest', 50, 50)\n",
    "        tiradas = pm.Binomial('tiradas', p=theta_honest, n=cant_tiradas, observed=cant_tiradas)\n",
    "        #post_honest = pm.Binomial('post_honest', p=theta_honest, n=cant_tiradas)\n",
    "        trace_honesto = pm.sample()\n",
    "    MAP_honesto = pm.find_MAP(model=model_honest)\n",
    "        \n",
    "    return trace_uniforme, MAP_uniforme, trace_honesto, MAP_honesto"
   ]
  },
  {
   "cell_type": "code",
   "execution_count": 65,
   "metadata": {
    "collapsed": false
   },
   "outputs": [
    {
     "name": "stderr",
     "output_type": "stream",
     "text": [
      "Auto-assigning NUTS sampler...\n",
      "Initializing NUTS using jitter+adapt_diag...\n",
      "100%|██████████| 1000/1000 [00:00<00:00, 1267.98it/s]\n",
      "logp = -7.0849e-06, ||grad|| = 7.6896e-06: 100%|██████████| 22/22 [00:00<00:00, 2082.29it/s]  \n",
      "Auto-assigning NUTS sampler...\n",
      "Initializing NUTS using jitter+adapt_diag...\n",
      "100%|██████████| 1000/1000 [00:00<00:00, 1262.33it/s]\n",
      "logp = -11.789, ||grad|| = 10: 100%|██████████| 6/6 [00:00<00:00, 1809.71it/s]\n",
      "Auto-assigning NUTS sampler...\n",
      "Initializing NUTS using jitter+adapt_diag...\n",
      "100%|██████████| 1000/1000 [00:00<00:00, 1197.85it/s]\n",
      "logp = -0.0011816, ||grad|| = 0.0011814: 100%|██████████| 19/19 [00:00<00:00, 1304.09it/s]  \n",
      "Auto-assigning NUTS sampler...\n",
      "Initializing NUTS using jitter+adapt_diag...\n",
      "100%|██████████| 1000/1000 [00:00<00:00, 1256.35it/s]\n",
      "logp = -0.0051492, ||grad|| = 1.5: 100%|██████████| 6/6 [00:00<00:00, 1780.52it/s]\n"
     ]
    }
   ],
   "source": [
    "trace_uniforme_20, MAP_uniforme_20, trace_honesto_20, MAP_honesto_20 = uniforme_vs_honesto(20)\n",
    "trace_uniforme_3, MAP_uniforme_3, trace_honesto_3, MAP_honesto_3 = uniforme_vs_honesto(3)"
   ]
  },
  {
   "cell_type": "code",
   "execution_count": 57,
   "metadata": {
    "collapsed": false
   },
   "outputs": [
    {
     "data": {
      "text/plain": [
       "<matplotlib.text.Text at 0x7f031c9dac88>"
      ]
     },
     "execution_count": 57,
     "metadata": {},
     "output_type": "execute_result"
    },
    {
     "data": {
      "image/png": "[encoded data removed]",
      "text/plain": [
       "<matplotlib.figure.Figure at 0x7f031dc564a8>"
      ]
     },
     "metadata": {},
     "output_type": "display_data"
    }
   ],
   "source": [
    "fig, axs = plt.subplots(1, 2, figsize=(14, 6))\n",
    "\n",
    "plt.sca(axs[0])\n",
    "bins = linspace(0, 1, 10)\n",
    "hist_20 = hist(trace_uniforme_20.theta_uniform, label='20 tiradas', color='red', bins=bins, alpha=0.5)\n",
    "hist_3 = hist(trace_uniforme_3.theta_uniform, label='3 tiradas', bins=bins, alpha=0.5)\n",
    "legend()\n",
    "title('Caso uniforme: posterior')\n",
    "xlabel(r'$p(\\theta | k = n)$')\n",
    "ylabel('frequencia')\n",
    "\n",
    "plt.sca(axs[1])\n",
    "bins = linspace(0, 1, 10)\n",
    "hist_20 = hist(trace_honesto_20.theta_honest, label='20 tiradas', color='red', bins=bins, alpha=0.5)\n",
    "hist_3 = hist(trace_honesto_3.theta_honest, label='3 tiradas', bins=bins, alpha=0.5)\n",
    "legend()\n",
    "title('Caso honesto: posterior')\n",
    "xlabel(r'$p(\\theta | k = n)$')\n",
    "ylabel('frequencia')"
   ]
  },
  {
   "cell_type": "code",
   "execution_count": 66,
   "metadata": {
    "collapsed": false
   },
   "outputs": [
    {
     "data": {
      "text/html": [
       "<div>\n",
       "<style>\n",
       "    .dataframe thead tr:only-child th {\n",
       "        text-align: right;\n",
       "    }\n",
       "\n",
       "    .dataframe thead th {\n",
       "        text-align: left;\n",
       "    }\n",
       "\n",
       "    .dataframe tbody tr th {\n",
       "        vertical-align: top;\n",
       "    }\n",
       "</style>\n",
       "<table border=\"1\" class=\"dataframe\">\n",
       "  <thead>\n",
       "    <tr style=\"text-align: right;\">\n",
       "      <th></th>\n",
       "      <th>20 tiradas</th>\n",
       "      <th>3 tiradas</th>\n",
       "    </tr>\n",
       "  </thead>\n",
       "  <tbody>\n",
       "    <tr>\n",
       "      <th>MAP</th>\n",
       "      <td>0.9999996155210419</td>\n",
       "      <td>0.999996924163579</td>\n",
       "    </tr>\n",
       "    <tr>\n",
       "      <th>mean</th>\n",
       "      <td>0.960925</td>\n",
       "      <td>0.803104</td>\n",
       "    </tr>\n",
       "  </tbody>\n",
       "</table>\n",
       "</div>"
      ],
      "text/plain": [
       "              20 tiradas          3 tiradas\n",
       "MAP   0.9999996155210419  0.999996924163579\n",
       "mean            0.960925           0.803104"
      ]
     },
     "execution_count": 66,
     "metadata": {},
     "output_type": "execute_result"
    }
   ],
   "source": [
    "df_unif = pd.DataFrame({\n",
    "        'MAP': {'3 tiradas': MAP_uniforme_3['theta_uniform'],\n",
    "                '20 tiradas': MAP_uniforme_20['theta_uniform']},\n",
    "        'mean': {'3 tiradas': trace_uniforme_3.theta_uniform.mean(),\n",
    "                 '20 tiradas': trace_uniforme_20.theta_uniform.mean()}\n",
    "    })\n",
    "df_unif.T"
   ]
  },
  {
   "cell_type": "code",
   "execution_count": 73,
   "metadata": {
    "collapsed": false
   },
   "outputs": [
    {
     "data": {
      "text/html": [
       "<div>\n",
       "<style>\n",
       "    .dataframe thead tr:only-child th {\n",
       "        text-align: right;\n",
       "    }\n",
       "\n",
       "    .dataframe thead th {\n",
       "        text-align: left;\n",
       "    }\n",
       "\n",
       "    .dataframe tbody tr th {\n",
       "        vertical-align: top;\n",
       "    }\n",
       "</style>\n",
       "<table border=\"1\" class=\"dataframe\">\n",
       "  <thead>\n",
       "    <tr style=\"text-align: right;\">\n",
       "      <th></th>\n",
       "      <th>20 tiradas</th>\n",
       "      <th>3 tiradas</th>\n",
       "    </tr>\n",
       "  </thead>\n",
       "  <tbody>\n",
       "    <tr>\n",
       "      <th>MAP</th>\n",
       "      <td>0.5847457607428355</td>\n",
       "      <td>0.5148514851428415</td>\n",
       "    </tr>\n",
       "    <tr>\n",
       "      <th>mean</th>\n",
       "      <td>0.579507</td>\n",
       "      <td>0.516895</td>\n",
       "    </tr>\n",
       "  </tbody>\n",
       "</table>\n",
       "</div>"
      ],
      "text/plain": [
       "              20 tiradas           3 tiradas\n",
       "MAP   0.5847457607428355  0.5148514851428415\n",
       "mean            0.579507            0.516895"
      ]
     },
     "execution_count": 73,
     "metadata": {},
     "output_type": "execute_result"
    }
   ],
   "source": [
    "df_honesto = pd.DataFrame({\n",
    "        'MAP': {'3 tiradas': MAP_honesto_3['theta_honest'],\n",
    "                '20 tiradas': MAP_honesto_20['theta_honest']},\n",
    "        'mean': {'3 tiradas': trace_honesto_3.theta_honest.mean(),\n",
    "                 '20 tiradas': trace_honesto_20.theta_honest.mean()}\n",
    "    })\n",
    "df_honesto.T"
   ]
  },
  {
   "cell_type": "markdown",
   "metadata": {},
   "source": [
    "El caso de 20 tiradas caras aporta más evidencia a la moneda cargada. En el caso de prior uniforme, esto se visualiza en la distribución a posteriori de $\\theta$ más concentrada cerca del 1. Asimismo la media y moda (MAP) de la distribución, están más cerca de 1. En cambio, en el caso de prior de moneda honesta, en el posterior solo notamos un leve corrimiento de la distribución hacia el 1. Esto también se observa en los resúmenes al no distanciarse de 0.5."
   ]
  },
  {
   "cell_type": "markdown",
   "metadata": {},
   "source": [
    "## 5. Experiencia previa"
   ]
  },
  {
   "cell_type": "code",
   "execution_count": 98,
   "metadata": {
    "collapsed": false
   },
   "outputs": [],
   "source": [
    "def dist_rel(alpha_prior, observed=25):\n",
    "    model_previa = pm.Model()\n",
    "    with model_previa:\n",
    "        theta = pm.Beta('theta', alpha_prior, alpha_prior)\n",
    "        tiradas = pm.Binomial('tiradas', p=theta, n=observed, observed=observed)\n",
    "        trace = pm.sample(model=model_previa, progressbar=False)\n",
    "        \n",
    "    posterior_mean = trace.theta.mean()\n",
    "    prior_mean = 0.5\n",
    "    prior_std = stats.beta.std(a=alpha_prior, b=alpha_prior)\n",
    "    return abs(posterior_mean - prior_mean) / prior_std"
   ]
  },
  {
   "cell_type": "code",
   "execution_count": 99,
   "metadata": {
    "collapsed": false
   },
   "outputs": [
    {
     "name": "stderr",
     "output_type": "stream",
     "text": [
      "Auto-assigning NUTS sampler...\n",
      "Initializing NUTS using jitter+adapt_diag...\n",
      "/home/march/anaconda2/envs/py3/lib/python3.5/site-packages/pymc3/step_methods/hmc/nuts.py:467: UserWarning: Chain 0 contains 1 diverging samples after tuning. If increasing `target_accept` does not help try to reparameterize.\n",
      "  % (self._chain_id, n_diverging))\n",
      "Auto-assigning NUTS sampler...\n",
      "Initializing NUTS using jitter+adapt_diag...\n",
      "Auto-assigning NUTS sampler...\n",
      "Initializing NUTS using jitter+adapt_diag...\n",
      "Auto-assigning NUTS sampler...\n",
      "Initializing NUTS using jitter+adapt_diag...\n",
      "Auto-assigning NUTS sampler...\n",
      "Initializing NUTS using jitter+adapt_diag...\n",
      "Auto-assigning NUTS sampler...\n",
      "Initializing NUTS using jitter+adapt_diag...\n",
      "Auto-assigning NUTS sampler...\n",
      "Initializing NUTS using jitter+adapt_diag...\n",
      "Auto-assigning NUTS sampler...\n",
      "Initializing NUTS using jitter+adapt_diag...\n",
      "Auto-assigning NUTS sampler...\n",
      "Initializing NUTS using jitter+adapt_diag...\n",
      "Auto-assigning NUTS sampler...\n",
      "Initializing NUTS using jitter+adapt_diag...\n",
      "Auto-assigning NUTS sampler...\n",
      "Initializing NUTS using jitter+adapt_diag...\n",
      "Auto-assigning NUTS sampler...\n",
      "Initializing NUTS using jitter+adapt_diag...\n",
      "Auto-assigning NUTS sampler...\n",
      "Initializing NUTS using jitter+adapt_diag...\n",
      "Auto-assigning NUTS sampler...\n",
      "Initializing NUTS using jitter+adapt_diag...\n",
      "Auto-assigning NUTS sampler...\n",
      "Initializing NUTS using jitter+adapt_diag...\n",
      "Auto-assigning NUTS sampler...\n",
      "Initializing NUTS using jitter+adapt_diag...\n",
      "Auto-assigning NUTS sampler...\n",
      "Initializing NUTS using jitter+adapt_diag...\n",
      "Auto-assigning NUTS sampler...\n",
      "Initializing NUTS using jitter+adapt_diag...\n",
      "Auto-assigning NUTS sampler...\n",
      "Initializing NUTS using jitter+adapt_diag...\n",
      "Auto-assigning NUTS sampler...\n",
      "Initializing NUTS using jitter+adapt_diag...\n",
      "Auto-assigning NUTS sampler...\n",
      "Initializing NUTS using jitter+adapt_diag...\n",
      "Auto-assigning NUTS sampler...\n",
      "Initializing NUTS using jitter+adapt_diag...\n",
      "/home/march/anaconda2/envs/py3/lib/python3.5/site-packages/pymc3/step_methods/hmc/nuts.py:451: UserWarning: The acceptance probability in chain 0 does not match the target. It is 0.890251443853, but should be close to 0.8. Try to increase the number of tuning steps.\n",
      "  % (self._chain_id, mean_accept, target_accept))\n",
      "Auto-assigning NUTS sampler...\n",
      "Initializing NUTS using jitter+adapt_diag...\n",
      "Auto-assigning NUTS sampler...\n",
      "Initializing NUTS using jitter+adapt_diag...\n",
      "Auto-assigning NUTS sampler...\n",
      "Initializing NUTS using jitter+adapt_diag...\n",
      "Auto-assigning NUTS sampler...\n",
      "Initializing NUTS using jitter+adapt_diag...\n",
      "Auto-assigning NUTS sampler...\n",
      "Initializing NUTS using jitter+adapt_diag...\n",
      "Auto-assigning NUTS sampler...\n",
      "Initializing NUTS using jitter+adapt_diag...\n",
      "Auto-assigning NUTS sampler...\n",
      "Initializing NUTS using jitter+adapt_diag...\n",
      "Auto-assigning NUTS sampler...\n",
      "Initializing NUTS using jitter+adapt_diag...\n"
     ]
    }
   ],
   "source": [
    "xs = np.linspace(1, 50, 30)\n",
    "ys = np.array([dist_rel(a) for a in xs])"
   ]
  },
  {
   "cell_type": "code",
   "execution_count": 107,
   "metadata": {
    "collapsed": false
   },
   "outputs": [
    {
     "data": {
      "text/plain": [
       "<matplotlib.legend.Legend at 0x7f02fbdc8898>"
      ]
     },
     "execution_count": 107,
     "metadata": {},
     "output_type": "execute_result"
    },
    {
     "data": {
      "image/png": "[encoded data removed]",
      "text/plain": [
       "<matplotlib.figure.Figure at 0x7f02fc8ff390>"
      ]
     },
     "metadata": {},
     "output_type": "display_data"
    }
   ],
   "source": [
    "figure(figsize=(8, 8))\n",
    "plot(xs, ys)\n",
    "plot([1, 50], [2, 2], label='Línea de desición')\n",
    "title('Distancia de la media de posterior y media prior')\n",
    "xlabel('Valores alpha y beta del beta prior')\n",
    "ylabel('Distancia de las medias en desvíos del prior')\n",
    "legend()"
   ]
  },
  {
   "cell_type": "markdown",
   "metadata": {},
   "source": [
    "Usamos como criterio para considerar que una moneda está cargada luego de $n$ tiradas si la media del posterior de $\\theta$ se diferencia en $k$ desvíos standard de la media del prior. Nuestra intuición es que consideraríamos una moneda cargada a partir de 25 tiradas donde todas son caras. El gráfico muestra cómo se distancia la media del posterior de la media del prior en desvíos standard para distintos priors del valor $\\theta$. \n",
    "\n",
    "Hacia la izquierda del gráfico tenemos como prior $\\beta(1, 1)$. En ese caso, consideramos todos los posibles valores de $\\theta$ muy probables. Hacia la derecha del gráfico tenemos como prior $\\beta(50, 50)$. En este caso consideramos que la moneda es honesta, por lo tanto es necesario observar muchas más tiradas caras para abandonar esta hipótesis.\n",
    "\n",
    "    TODO: Conclusión"
   ]
  }
 ],
 "metadata": {
  "anaconda-cloud": {},
  "kernelspec": {
   "display_name": "Python [default]",
   "language": "python",
   "name": "python3"
  },
  "language_info": {
   "codemirror_mode": {
    "name": "ipython",
    "version": 3
   },
   "file_extension": ".py",
   "mimetype": "text/x-python",
   "name": "python",
   "nbconvert_exporter": "python",
   "pygments_lexer": "ipython3",
   "version": "3.5.2"
  }
 },
 "nbformat": 4,
 "nbformat_minor": 2
}
